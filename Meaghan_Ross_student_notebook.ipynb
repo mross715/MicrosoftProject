{
 "cells": [
  {
   "cell_type": "markdown",
   "metadata": {},
   "source": [
    "## Working Notebook\n"
   ]
  },
  {
   "cell_type": "code",
   "execution_count": 1,
   "metadata": {},
   "outputs": [],
   "source": [
    "# import python libraries\n",
    "import seaborn as sns\n",
    "from matplotlib import pyplot as plt\n",
    "import numpy as np\n",
    "import pandas as pd"
   ]
  },
  {
   "cell_type": "code",
   "execution_count": 2,
   "metadata": {
    "scrolled": false
   },
   "outputs": [
    {
     "data": {
      "text/html": [
       "<div>\n",
       "<style scoped>\n",
       "    .dataframe tbody tr th:only-of-type {\n",
       "        vertical-align: middle;\n",
       "    }\n",
       "\n",
       "    .dataframe tbody tr th {\n",
       "        vertical-align: top;\n",
       "    }\n",
       "\n",
       "    .dataframe thead th {\n",
       "        text-align: right;\n",
       "    }\n",
       "</style>\n",
       "<table border=\"1\" class=\"dataframe\">\n",
       "  <thead>\n",
       "    <tr style=\"text-align: right;\">\n",
       "      <th></th>\n",
       "      <th>tconst</th>\n",
       "      <th>primary_title</th>\n",
       "      <th>original_title</th>\n",
       "      <th>start_year</th>\n",
       "      <th>runtime_minutes</th>\n",
       "      <th>genres</th>\n",
       "    </tr>\n",
       "  </thead>\n",
       "  <tbody>\n",
       "    <tr>\n",
       "      <th>0</th>\n",
       "      <td>tt0063540</td>\n",
       "      <td>Sunghursh</td>\n",
       "      <td>Sunghursh</td>\n",
       "      <td>2013</td>\n",
       "      <td>175.0</td>\n",
       "      <td>Action,Crime,Drama</td>\n",
       "    </tr>\n",
       "    <tr>\n",
       "      <th>1</th>\n",
       "      <td>tt0066787</td>\n",
       "      <td>One Day Before the Rainy Season</td>\n",
       "      <td>Ashad Ka Ek Din</td>\n",
       "      <td>2019</td>\n",
       "      <td>114.0</td>\n",
       "      <td>Biography,Drama</td>\n",
       "    </tr>\n",
       "    <tr>\n",
       "      <th>2</th>\n",
       "      <td>tt0069049</td>\n",
       "      <td>The Other Side of the Wind</td>\n",
       "      <td>The Other Side of the Wind</td>\n",
       "      <td>2018</td>\n",
       "      <td>122.0</td>\n",
       "      <td>Drama</td>\n",
       "    </tr>\n",
       "    <tr>\n",
       "      <th>3</th>\n",
       "      <td>tt0069204</td>\n",
       "      <td>Sabse Bada Sukh</td>\n",
       "      <td>Sabse Bada Sukh</td>\n",
       "      <td>2018</td>\n",
       "      <td>NaN</td>\n",
       "      <td>Comedy,Drama</td>\n",
       "    </tr>\n",
       "    <tr>\n",
       "      <th>4</th>\n",
       "      <td>tt0100275</td>\n",
       "      <td>The Wandering Soap Opera</td>\n",
       "      <td>La Telenovela Errante</td>\n",
       "      <td>2017</td>\n",
       "      <td>80.0</td>\n",
       "      <td>Comedy,Drama,Fantasy</td>\n",
       "    </tr>\n",
       "  </tbody>\n",
       "</table>\n",
       "</div>"
      ],
      "text/plain": [
       "      tconst                    primary_title              original_title  \\\n",
       "0  tt0063540                        Sunghursh                   Sunghursh   \n",
       "1  tt0066787  One Day Before the Rainy Season             Ashad Ka Ek Din   \n",
       "2  tt0069049       The Other Side of the Wind  The Other Side of the Wind   \n",
       "3  tt0069204                  Sabse Bada Sukh             Sabse Bada Sukh   \n",
       "4  tt0100275         The Wandering Soap Opera       La Telenovela Errante   \n",
       "\n",
       "   start_year  runtime_minutes                genres  \n",
       "0        2013            175.0    Action,Crime,Drama  \n",
       "1        2019            114.0       Biography,Drama  \n",
       "2        2018            122.0                 Drama  \n",
       "3        2018              NaN          Comedy,Drama  \n",
       "4        2017             80.0  Comedy,Drama,Fantasy  "
      ]
     },
     "execution_count": 2,
     "metadata": {},
     "output_type": "execute_result"
    }
   ],
   "source": [
    "# open the first data file\n",
    "title_basics = pd.read_csv('Data/imdb.title.basics.csv.gz')\n",
    "title_basics.head()"
   ]
  },
  {
   "cell_type": "code",
   "execution_count": 3,
   "metadata": {},
   "outputs": [
    {
     "data": {
      "text/html": [
       "<div>\n",
       "<style scoped>\n",
       "    .dataframe tbody tr th:only-of-type {\n",
       "        vertical-align: middle;\n",
       "    }\n",
       "\n",
       "    .dataframe tbody tr th {\n",
       "        vertical-align: top;\n",
       "    }\n",
       "\n",
       "    .dataframe thead th {\n",
       "        text-align: right;\n",
       "    }\n",
       "</style>\n",
       "<table border=\"1\" class=\"dataframe\">\n",
       "  <thead>\n",
       "    <tr style=\"text-align: right;\">\n",
       "      <th></th>\n",
       "      <th>tconst</th>\n",
       "      <th>averagerating</th>\n",
       "      <th>numvotes</th>\n",
       "    </tr>\n",
       "  </thead>\n",
       "  <tbody>\n",
       "    <tr>\n",
       "      <th>0</th>\n",
       "      <td>tt10356526</td>\n",
       "      <td>8.3</td>\n",
       "      <td>31</td>\n",
       "    </tr>\n",
       "    <tr>\n",
       "      <th>1</th>\n",
       "      <td>tt10384606</td>\n",
       "      <td>8.9</td>\n",
       "      <td>559</td>\n",
       "    </tr>\n",
       "    <tr>\n",
       "      <th>2</th>\n",
       "      <td>tt1042974</td>\n",
       "      <td>6.4</td>\n",
       "      <td>20</td>\n",
       "    </tr>\n",
       "    <tr>\n",
       "      <th>3</th>\n",
       "      <td>tt1043726</td>\n",
       "      <td>4.2</td>\n",
       "      <td>50352</td>\n",
       "    </tr>\n",
       "    <tr>\n",
       "      <th>4</th>\n",
       "      <td>tt1060240</td>\n",
       "      <td>6.5</td>\n",
       "      <td>21</td>\n",
       "    </tr>\n",
       "  </tbody>\n",
       "</table>\n",
       "</div>"
      ],
      "text/plain": [
       "       tconst  averagerating  numvotes\n",
       "0  tt10356526            8.3        31\n",
       "1  tt10384606            8.9       559\n",
       "2   tt1042974            6.4        20\n",
       "3   tt1043726            4.2     50352\n",
       "4   tt1060240            6.5        21"
      ]
     },
     "execution_count": 3,
     "metadata": {},
     "output_type": "execute_result"
    }
   ],
   "source": [
    "# open the second data file\n",
    "title_ratings = pd.read_csv('Data/imdb.title.ratings.csv.gz')\n",
    "title_ratings.head()"
   ]
  },
  {
   "cell_type": "code",
   "execution_count": 4,
   "metadata": {
    "scrolled": true
   },
   "outputs": [
    {
     "data": {
      "text/html": [
       "<div>\n",
       "<style scoped>\n",
       "    .dataframe tbody tr th:only-of-type {\n",
       "        vertical-align: middle;\n",
       "    }\n",
       "\n",
       "    .dataframe tbody tr th {\n",
       "        vertical-align: top;\n",
       "    }\n",
       "\n",
       "    .dataframe thead th {\n",
       "        text-align: right;\n",
       "    }\n",
       "</style>\n",
       "<table border=\"1\" class=\"dataframe\">\n",
       "  <thead>\n",
       "    <tr style=\"text-align: right;\">\n",
       "      <th></th>\n",
       "      <th>id</th>\n",
       "      <th>release_date</th>\n",
       "      <th>movie</th>\n",
       "      <th>production_budget</th>\n",
       "      <th>domestic_gross</th>\n",
       "      <th>worldwide_gross</th>\n",
       "    </tr>\n",
       "  </thead>\n",
       "  <tbody>\n",
       "    <tr>\n",
       "      <th>0</th>\n",
       "      <td>1</td>\n",
       "      <td>Dec 18, 2009</td>\n",
       "      <td>Avatar</td>\n",
       "      <td>$425,000,000</td>\n",
       "      <td>$760,507,625</td>\n",
       "      <td>$2,776,345,279</td>\n",
       "    </tr>\n",
       "    <tr>\n",
       "      <th>1</th>\n",
       "      <td>2</td>\n",
       "      <td>May 20, 2011</td>\n",
       "      <td>Pirates of the Caribbean: On Stranger Tides</td>\n",
       "      <td>$410,600,000</td>\n",
       "      <td>$241,063,875</td>\n",
       "      <td>$1,045,663,875</td>\n",
       "    </tr>\n",
       "    <tr>\n",
       "      <th>2</th>\n",
       "      <td>3</td>\n",
       "      <td>Jun 7, 2019</td>\n",
       "      <td>Dark Phoenix</td>\n",
       "      <td>$350,000,000</td>\n",
       "      <td>$42,762,350</td>\n",
       "      <td>$149,762,350</td>\n",
       "    </tr>\n",
       "    <tr>\n",
       "      <th>3</th>\n",
       "      <td>4</td>\n",
       "      <td>May 1, 2015</td>\n",
       "      <td>Avengers: Age of Ultron</td>\n",
       "      <td>$330,600,000</td>\n",
       "      <td>$459,005,868</td>\n",
       "      <td>$1,403,013,963</td>\n",
       "    </tr>\n",
       "    <tr>\n",
       "      <th>4</th>\n",
       "      <td>5</td>\n",
       "      <td>Dec 15, 2017</td>\n",
       "      <td>Star Wars Ep. VIII: The Last Jedi</td>\n",
       "      <td>$317,000,000</td>\n",
       "      <td>$620,181,382</td>\n",
       "      <td>$1,316,721,747</td>\n",
       "    </tr>\n",
       "  </tbody>\n",
       "</table>\n",
       "</div>"
      ],
      "text/plain": [
       "   id  release_date                                        movie  \\\n",
       "0   1  Dec 18, 2009                                       Avatar   \n",
       "1   2  May 20, 2011  Pirates of the Caribbean: On Stranger Tides   \n",
       "2   3   Jun 7, 2019                                 Dark Phoenix   \n",
       "3   4   May 1, 2015                      Avengers: Age of Ultron   \n",
       "4   5  Dec 15, 2017            Star Wars Ep. VIII: The Last Jedi   \n",
       "\n",
       "  production_budget domestic_gross worldwide_gross  \n",
       "0      $425,000,000   $760,507,625  $2,776,345,279  \n",
       "1      $410,600,000   $241,063,875  $1,045,663,875  \n",
       "2      $350,000,000    $42,762,350    $149,762,350  \n",
       "3      $330,600,000   $459,005,868  $1,403,013,963  \n",
       "4      $317,000,000   $620,181,382  $1,316,721,747  "
      ]
     },
     "execution_count": 4,
     "metadata": {},
     "output_type": "execute_result"
    }
   ],
   "source": [
    "# open the third data file\n",
    "movie_budgets = pd.read_csv('Data/tn.movie_budgets.csv.gz')\n",
    "movie_budgets.head()"
   ]
  },
  {
   "cell_type": "markdown",
   "metadata": {},
   "source": [
    "# Data Cleaning"
   ]
  },
  {
   "cell_type": "markdown",
   "metadata": {},
   "source": [
    "Clean the first data frame: title_basics"
   ]
  },
  {
   "cell_type": "code",
   "execution_count": 5,
   "metadata": {},
   "outputs": [
    {
     "data": {
      "text/html": [
       "<div>\n",
       "<style scoped>\n",
       "    .dataframe tbody tr th:only-of-type {\n",
       "        vertical-align: middle;\n",
       "    }\n",
       "\n",
       "    .dataframe tbody tr th {\n",
       "        vertical-align: top;\n",
       "    }\n",
       "\n",
       "    .dataframe thead th {\n",
       "        text-align: right;\n",
       "    }\n",
       "</style>\n",
       "<table border=\"1\" class=\"dataframe\">\n",
       "  <thead>\n",
       "    <tr style=\"text-align: right;\">\n",
       "      <th></th>\n",
       "      <th>tconst</th>\n",
       "      <th>primary_title</th>\n",
       "      <th>original_title</th>\n",
       "      <th>start_year</th>\n",
       "      <th>runtime_minutes</th>\n",
       "      <th>genres</th>\n",
       "    </tr>\n",
       "  </thead>\n",
       "  <tbody>\n",
       "    <tr>\n",
       "      <th>0</th>\n",
       "      <td>tt0063540</td>\n",
       "      <td>Sunghursh</td>\n",
       "      <td>Sunghursh</td>\n",
       "      <td>2013</td>\n",
       "      <td>175.0</td>\n",
       "      <td>Action,Crime,Drama</td>\n",
       "    </tr>\n",
       "    <tr>\n",
       "      <th>1</th>\n",
       "      <td>tt0066787</td>\n",
       "      <td>One Day Before the Rainy Season</td>\n",
       "      <td>Ashad Ka Ek Din</td>\n",
       "      <td>2019</td>\n",
       "      <td>114.0</td>\n",
       "      <td>Biography,Drama</td>\n",
       "    </tr>\n",
       "    <tr>\n",
       "      <th>2</th>\n",
       "      <td>tt0069049</td>\n",
       "      <td>The Other Side of the Wind</td>\n",
       "      <td>The Other Side of the Wind</td>\n",
       "      <td>2018</td>\n",
       "      <td>122.0</td>\n",
       "      <td>Drama</td>\n",
       "    </tr>\n",
       "    <tr>\n",
       "      <th>3</th>\n",
       "      <td>tt0069204</td>\n",
       "      <td>Sabse Bada Sukh</td>\n",
       "      <td>Sabse Bada Sukh</td>\n",
       "      <td>2018</td>\n",
       "      <td>NaN</td>\n",
       "      <td>Comedy,Drama</td>\n",
       "    </tr>\n",
       "    <tr>\n",
       "      <th>4</th>\n",
       "      <td>tt0100275</td>\n",
       "      <td>The Wandering Soap Opera</td>\n",
       "      <td>La Telenovela Errante</td>\n",
       "      <td>2017</td>\n",
       "      <td>80.0</td>\n",
       "      <td>Comedy,Drama,Fantasy</td>\n",
       "    </tr>\n",
       "  </tbody>\n",
       "</table>\n",
       "</div>"
      ],
      "text/plain": [
       "      tconst                    primary_title              original_title  \\\n",
       "0  tt0063540                        Sunghursh                   Sunghursh   \n",
       "1  tt0066787  One Day Before the Rainy Season             Ashad Ka Ek Din   \n",
       "2  tt0069049       The Other Side of the Wind  The Other Side of the Wind   \n",
       "3  tt0069204                  Sabse Bada Sukh             Sabse Bada Sukh   \n",
       "4  tt0100275         The Wandering Soap Opera       La Telenovela Errante   \n",
       "\n",
       "   start_year  runtime_minutes                genres  \n",
       "0        2013            175.0    Action,Crime,Drama  \n",
       "1        2019            114.0       Biography,Drama  \n",
       "2        2018            122.0                 Drama  \n",
       "3        2018              NaN          Comedy,Drama  \n",
       "4        2017             80.0  Comedy,Drama,Fantasy  "
      ]
     },
     "execution_count": 5,
     "metadata": {},
     "output_type": "execute_result"
    }
   ],
   "source": [
    "title_basics.head()"
   ]
  },
  {
   "cell_type": "code",
   "execution_count": 6,
   "metadata": {},
   "outputs": [],
   "source": [
    "# rename columns for future merging\n",
    "title_basics.rename(columns = {'primary_title':'movie'}, inplace = True)"
   ]
  },
  {
   "cell_type": "code",
   "execution_count": 7,
   "metadata": {},
   "outputs": [],
   "source": [
    "# drop columns not being used for analysis\n",
    "title_basics.drop(columns = [\"original_title\",\"runtime_minutes\"], inplace=True)"
   ]
  },
  {
   "cell_type": "code",
   "execution_count": 8,
   "metadata": {},
   "outputs": [
    {
     "name": "stdout",
     "output_type": "stream",
     "text": [
      "<class 'pandas.core.frame.DataFrame'>\n",
      "RangeIndex: 146144 entries, 0 to 146143\n",
      "Data columns (total 4 columns):\n",
      " #   Column      Non-Null Count   Dtype \n",
      "---  ------      --------------   ----- \n",
      " 0   tconst      146144 non-null  object\n",
      " 1   movie       146144 non-null  object\n",
      " 2   start_year  146144 non-null  int64 \n",
      " 3   genres      140736 non-null  object\n",
      "dtypes: int64(1), object(3)\n",
      "memory usage: 4.5+ MB\n"
     ]
    }
   ],
   "source": [
    "# calculate percentage of nulls in genre\n",
    "title_basics.info()"
   ]
  },
  {
   "cell_type": "code",
   "execution_count": 9,
   "metadata": {},
   "outputs": [
    {
     "data": {
      "text/plain": [
       "3.7004598204510617"
      ]
     },
     "execution_count": 9,
     "metadata": {},
     "output_type": "execute_result"
    }
   ],
   "source": [
    "title_basics['genres'].isna().sum()/146144*100"
   ]
  },
  {
   "cell_type": "code",
   "execution_count": 10,
   "metadata": {},
   "outputs": [],
   "source": [
    "# drop null values for genres\n",
    "title_basics.dropna(subset= ['genres'], inplace = True)"
   ]
  },
  {
   "cell_type": "code",
   "execution_count": 11,
   "metadata": {
    "scrolled": true
   },
   "outputs": [
    {
     "data": {
      "text/html": [
       "<div>\n",
       "<style scoped>\n",
       "    .dataframe tbody tr th:only-of-type {\n",
       "        vertical-align: middle;\n",
       "    }\n",
       "\n",
       "    .dataframe tbody tr th {\n",
       "        vertical-align: top;\n",
       "    }\n",
       "\n",
       "    .dataframe thead th {\n",
       "        text-align: right;\n",
       "    }\n",
       "</style>\n",
       "<table border=\"1\" class=\"dataframe\">\n",
       "  <thead>\n",
       "    <tr style=\"text-align: right;\">\n",
       "      <th></th>\n",
       "      <th>tconst</th>\n",
       "      <th>movie</th>\n",
       "      <th>start_year</th>\n",
       "      <th>genres</th>\n",
       "    </tr>\n",
       "  </thead>\n",
       "  <tbody>\n",
       "    <tr>\n",
       "      <th>0</th>\n",
       "      <td>tt0063540</td>\n",
       "      <td>Sunghursh</td>\n",
       "      <td>2013</td>\n",
       "      <td>Action,Crime,Drama</td>\n",
       "    </tr>\n",
       "    <tr>\n",
       "      <th>1</th>\n",
       "      <td>tt0066787</td>\n",
       "      <td>One Day Before the Rainy Season</td>\n",
       "      <td>2019</td>\n",
       "      <td>Biography,Drama</td>\n",
       "    </tr>\n",
       "    <tr>\n",
       "      <th>2</th>\n",
       "      <td>tt0069049</td>\n",
       "      <td>The Other Side of the Wind</td>\n",
       "      <td>2018</td>\n",
       "      <td>Drama</td>\n",
       "    </tr>\n",
       "    <tr>\n",
       "      <th>3</th>\n",
       "      <td>tt0069204</td>\n",
       "      <td>Sabse Bada Sukh</td>\n",
       "      <td>2018</td>\n",
       "      <td>Comedy,Drama</td>\n",
       "    </tr>\n",
       "    <tr>\n",
       "      <th>4</th>\n",
       "      <td>tt0100275</td>\n",
       "      <td>The Wandering Soap Opera</td>\n",
       "      <td>2017</td>\n",
       "      <td>Comedy,Drama,Fantasy</td>\n",
       "    </tr>\n",
       "  </tbody>\n",
       "</table>\n",
       "</div>"
      ],
      "text/plain": [
       "      tconst                            movie  start_year  \\\n",
       "0  tt0063540                        Sunghursh        2013   \n",
       "1  tt0066787  One Day Before the Rainy Season        2019   \n",
       "2  tt0069049       The Other Side of the Wind        2018   \n",
       "3  tt0069204                  Sabse Bada Sukh        2018   \n",
       "4  tt0100275         The Wandering Soap Opera        2017   \n",
       "\n",
       "                 genres  \n",
       "0    Action,Crime,Drama  \n",
       "1       Biography,Drama  \n",
       "2                 Drama  \n",
       "3          Comedy,Drama  \n",
       "4  Comedy,Drama,Fantasy  "
      ]
     },
     "execution_count": 11,
     "metadata": {},
     "output_type": "execute_result"
    }
   ],
   "source": [
    "title_basics.head()"
   ]
  },
  {
   "cell_type": "markdown",
   "metadata": {},
   "source": [
    "Clean the third data frame: movie_budgets"
   ]
  },
  {
   "cell_type": "code",
   "execution_count": 12,
   "metadata": {},
   "outputs": [
    {
     "data": {
      "text/html": [
       "<div>\n",
       "<style scoped>\n",
       "    .dataframe tbody tr th:only-of-type {\n",
       "        vertical-align: middle;\n",
       "    }\n",
       "\n",
       "    .dataframe tbody tr th {\n",
       "        vertical-align: top;\n",
       "    }\n",
       "\n",
       "    .dataframe thead th {\n",
       "        text-align: right;\n",
       "    }\n",
       "</style>\n",
       "<table border=\"1\" class=\"dataframe\">\n",
       "  <thead>\n",
       "    <tr style=\"text-align: right;\">\n",
       "      <th></th>\n",
       "      <th>id</th>\n",
       "      <th>release_date</th>\n",
       "      <th>movie</th>\n",
       "      <th>production_budget</th>\n",
       "      <th>domestic_gross</th>\n",
       "      <th>worldwide_gross</th>\n",
       "    </tr>\n",
       "  </thead>\n",
       "  <tbody>\n",
       "    <tr>\n",
       "      <th>0</th>\n",
       "      <td>1</td>\n",
       "      <td>Dec 18, 2009</td>\n",
       "      <td>Avatar</td>\n",
       "      <td>$425,000,000</td>\n",
       "      <td>$760,507,625</td>\n",
       "      <td>$2,776,345,279</td>\n",
       "    </tr>\n",
       "    <tr>\n",
       "      <th>1</th>\n",
       "      <td>2</td>\n",
       "      <td>May 20, 2011</td>\n",
       "      <td>Pirates of the Caribbean: On Stranger Tides</td>\n",
       "      <td>$410,600,000</td>\n",
       "      <td>$241,063,875</td>\n",
       "      <td>$1,045,663,875</td>\n",
       "    </tr>\n",
       "    <tr>\n",
       "      <th>2</th>\n",
       "      <td>3</td>\n",
       "      <td>Jun 7, 2019</td>\n",
       "      <td>Dark Phoenix</td>\n",
       "      <td>$350,000,000</td>\n",
       "      <td>$42,762,350</td>\n",
       "      <td>$149,762,350</td>\n",
       "    </tr>\n",
       "    <tr>\n",
       "      <th>3</th>\n",
       "      <td>4</td>\n",
       "      <td>May 1, 2015</td>\n",
       "      <td>Avengers: Age of Ultron</td>\n",
       "      <td>$330,600,000</td>\n",
       "      <td>$459,005,868</td>\n",
       "      <td>$1,403,013,963</td>\n",
       "    </tr>\n",
       "    <tr>\n",
       "      <th>4</th>\n",
       "      <td>5</td>\n",
       "      <td>Dec 15, 2017</td>\n",
       "      <td>Star Wars Ep. VIII: The Last Jedi</td>\n",
       "      <td>$317,000,000</td>\n",
       "      <td>$620,181,382</td>\n",
       "      <td>$1,316,721,747</td>\n",
       "    </tr>\n",
       "  </tbody>\n",
       "</table>\n",
       "</div>"
      ],
      "text/plain": [
       "   id  release_date                                        movie  \\\n",
       "0   1  Dec 18, 2009                                       Avatar   \n",
       "1   2  May 20, 2011  Pirates of the Caribbean: On Stranger Tides   \n",
       "2   3   Jun 7, 2019                                 Dark Phoenix   \n",
       "3   4   May 1, 2015                      Avengers: Age of Ultron   \n",
       "4   5  Dec 15, 2017            Star Wars Ep. VIII: The Last Jedi   \n",
       "\n",
       "  production_budget domestic_gross worldwide_gross  \n",
       "0      $425,000,000   $760,507,625  $2,776,345,279  \n",
       "1      $410,600,000   $241,063,875  $1,045,663,875  \n",
       "2      $350,000,000    $42,762,350    $149,762,350  \n",
       "3      $330,600,000   $459,005,868  $1,403,013,963  \n",
       "4      $317,000,000   $620,181,382  $1,316,721,747  "
      ]
     },
     "execution_count": 12,
     "metadata": {},
     "output_type": "execute_result"
    }
   ],
   "source": [
    "movie_budgets.head()"
   ]
  },
  {
   "cell_type": "code",
   "execution_count": 13,
   "metadata": {},
   "outputs": [],
   "source": [
    "# change release date to date-time\n",
    "movie_budgets['release_date'] = pd.to_datetime(movie_budgets['release_date'])"
   ]
  },
  {
   "cell_type": "code",
   "execution_count": 14,
   "metadata": {},
   "outputs": [],
   "source": [
    "# change production_budget, domestic_gross, and worldwide_budget to integers\n",
    "movie_budgets['production_budget'] = movie_budgets['production_budget'].replace('[\\$,]', '', regex=True).astype(float)\n",
    "movie_budgets['domestic_gross'] = movie_budgets['domestic_gross'].replace('[\\$,]', '', regex=True).astype(float)\n",
    "movie_budgets['worldwide_gross'] = movie_budgets['worldwide_gross'].replace('[\\$,]', '', regex=True).astype(float)"
   ]
  },
  {
   "cell_type": "code",
   "execution_count": 15,
   "metadata": {
    "scrolled": true
   },
   "outputs": [],
   "source": [
    "# drop id column\n",
    "movie_budgets.drop(columns = [\"id\"], inplace=True)"
   ]
  },
  {
   "cell_type": "code",
   "execution_count": 16,
   "metadata": {},
   "outputs": [],
   "source": [
    "# drop rows where worldwide_gross or production_budget is 0\n",
    "movie_budgets = movie_budgets[movie_budgets.worldwide_gross != 0]\n",
    "movie_budgets = movie_budgets[movie_budgets.production_budget != 0]"
   ]
  },
  {
   "cell_type": "code",
   "execution_count": 17,
   "metadata": {},
   "outputs": [],
   "source": [
    "# percentage of dropped 0s"
   ]
  },
  {
   "cell_type": "code",
   "execution_count": 18,
   "metadata": {},
   "outputs": [],
   "source": [
    "# add a profit column to movie_budgets\n",
    "movie_budgets['profit'] = movie_budgets['worldwide_gross'] - movie_budgets['production_budget']"
   ]
  },
  {
   "cell_type": "code",
   "execution_count": 19,
   "metadata": {},
   "outputs": [],
   "source": [
    "# calculate profit in millions\n",
    "movie_budgets['profit_million']=(movie_budgets['profit']/1000000)"
   ]
  },
  {
   "cell_type": "code",
   "execution_count": 20,
   "metadata": {},
   "outputs": [],
   "source": [
    "# calculate production budget in millions\n",
    "movie_budgets['production_budget_million']=(movie_budgets['production_budget']/1000000)"
   ]
  },
  {
   "cell_type": "code",
   "execution_count": 21,
   "metadata": {},
   "outputs": [],
   "source": [
    "# add a column ROI calculating the return on investment\n",
    "movie_budgets['ROI'] = (movie_budgets['profit'] / movie_budgets['production_budget']) * 100"
   ]
  },
  {
   "cell_type": "code",
   "execution_count": 22,
   "metadata": {},
   "outputs": [],
   "source": [
    "# round ROI to 2 decimal places\n",
    "movie_budgets = movie_budgets.round({'ROI': 2})"
   ]
  },
  {
   "cell_type": "code",
   "execution_count": 23,
   "metadata": {},
   "outputs": [],
   "source": [
    "# add a column for movie year\n",
    "movie_budgets['year'] = pd.DatetimeIndex(movie_budgets['release_date']).year"
   ]
  },
  {
   "cell_type": "code",
   "execution_count": 24,
   "metadata": {},
   "outputs": [
    {
     "data": {
      "text/html": [
       "<div>\n",
       "<style scoped>\n",
       "    .dataframe tbody tr th:only-of-type {\n",
       "        vertical-align: middle;\n",
       "    }\n",
       "\n",
       "    .dataframe tbody tr th {\n",
       "        vertical-align: top;\n",
       "    }\n",
       "\n",
       "    .dataframe thead th {\n",
       "        text-align: right;\n",
       "    }\n",
       "</style>\n",
       "<table border=\"1\" class=\"dataframe\">\n",
       "  <thead>\n",
       "    <tr style=\"text-align: right;\">\n",
       "      <th></th>\n",
       "      <th>release_date</th>\n",
       "      <th>movie</th>\n",
       "      <th>production_budget</th>\n",
       "      <th>domestic_gross</th>\n",
       "      <th>worldwide_gross</th>\n",
       "      <th>profit</th>\n",
       "      <th>profit_million</th>\n",
       "      <th>production_budget_million</th>\n",
       "      <th>ROI</th>\n",
       "      <th>year</th>\n",
       "    </tr>\n",
       "  </thead>\n",
       "  <tbody>\n",
       "    <tr>\n",
       "      <th>2224</th>\n",
       "      <td>2014-12-10</td>\n",
       "      <td>The Gambler</td>\n",
       "      <td>25000000.0</td>\n",
       "      <td>33680992.0</td>\n",
       "      <td>38718031.0</td>\n",
       "      <td>13718031.0</td>\n",
       "      <td>13.718031</td>\n",
       "      <td>25.0</td>\n",
       "      <td>54.87</td>\n",
       "      <td>2014</td>\n",
       "    </tr>\n",
       "    <tr>\n",
       "      <th>4749</th>\n",
       "      <td>1999-08-04</td>\n",
       "      <td>The Gambler</td>\n",
       "      <td>3000000.0</td>\n",
       "      <td>51773.0</td>\n",
       "      <td>101773.0</td>\n",
       "      <td>-2898227.0</td>\n",
       "      <td>-2.898227</td>\n",
       "      <td>3.0</td>\n",
       "      <td>-96.61</td>\n",
       "      <td>1999</td>\n",
       "    </tr>\n",
       "  </tbody>\n",
       "</table>\n",
       "</div>"
      ],
      "text/plain": [
       "     release_date        movie  production_budget  domestic_gross  \\\n",
       "2224   2014-12-10  The Gambler         25000000.0      33680992.0   \n",
       "4749   1999-08-04  The Gambler          3000000.0         51773.0   \n",
       "\n",
       "      worldwide_gross      profit  profit_million  production_budget_million  \\\n",
       "2224       38718031.0  13718031.0       13.718031                       25.0   \n",
       "4749         101773.0  -2898227.0       -2.898227                        3.0   \n",
       "\n",
       "        ROI  year  \n",
       "2224  54.87  2014  \n",
       "4749 -96.61  1999  "
      ]
     },
     "execution_count": 24,
     "metadata": {},
     "output_type": "execute_result"
    }
   ],
   "source": [
    "movie_budgets.head()\n",
    "movie_budgets.loc[movie_budgets['movie']== 'The Gambler']"
   ]
  },
  {
   "cell_type": "markdown",
   "metadata": {},
   "source": [
    "# Merging Data Tables"
   ]
  },
  {
   "cell_type": "code",
   "execution_count": 25,
   "metadata": {
    "scrolled": true
   },
   "outputs": [
    {
     "data": {
      "text/html": [
       "<div>\n",
       "<style scoped>\n",
       "    .dataframe tbody tr th:only-of-type {\n",
       "        vertical-align: middle;\n",
       "    }\n",
       "\n",
       "    .dataframe tbody tr th {\n",
       "        vertical-align: top;\n",
       "    }\n",
       "\n",
       "    .dataframe thead th {\n",
       "        text-align: right;\n",
       "    }\n",
       "</style>\n",
       "<table border=\"1\" class=\"dataframe\">\n",
       "  <thead>\n",
       "    <tr style=\"text-align: right;\">\n",
       "      <th></th>\n",
       "      <th>tconst</th>\n",
       "      <th>movie</th>\n",
       "      <th>start_year</th>\n",
       "      <th>genres</th>\n",
       "      <th>averagerating</th>\n",
       "      <th>numvotes</th>\n",
       "    </tr>\n",
       "  </thead>\n",
       "  <tbody>\n",
       "    <tr>\n",
       "      <th>11283</th>\n",
       "      <td>tt1828325</td>\n",
       "      <td>The Gambler</td>\n",
       "      <td>2015</td>\n",
       "      <td>Drama</td>\n",
       "      <td>7.0</td>\n",
       "      <td>10</td>\n",
       "    </tr>\n",
       "    <tr>\n",
       "      <th>15523</th>\n",
       "      <td>tt2039393</td>\n",
       "      <td>The Gambler</td>\n",
       "      <td>2014</td>\n",
       "      <td>Crime,Drama,Thriller</td>\n",
       "      <td>6.0</td>\n",
       "      <td>59995</td>\n",
       "    </tr>\n",
       "    <tr>\n",
       "      <th>29123</th>\n",
       "      <td>tt2843832</td>\n",
       "      <td>The Gambler</td>\n",
       "      <td>2013</td>\n",
       "      <td>Documentary</td>\n",
       "      <td>7.6</td>\n",
       "      <td>14</td>\n",
       "    </tr>\n",
       "    <tr>\n",
       "      <th>29833</th>\n",
       "      <td>tt2924336</td>\n",
       "      <td>The Gambler</td>\n",
       "      <td>2013</td>\n",
       "      <td>Drama,Thriller</td>\n",
       "      <td>7.2</td>\n",
       "      <td>1479</td>\n",
       "    </tr>\n",
       "    <tr>\n",
       "      <th>72458</th>\n",
       "      <td>tt9447594</td>\n",
       "      <td>The Gambler</td>\n",
       "      <td>2019</td>\n",
       "      <td>Action,Sci-Fi,Thriller</td>\n",
       "      <td>6.1</td>\n",
       "      <td>10</td>\n",
       "    </tr>\n",
       "  </tbody>\n",
       "</table>\n",
       "</div>"
      ],
      "text/plain": [
       "          tconst        movie  start_year                  genres  \\\n",
       "11283  tt1828325  The Gambler        2015                   Drama   \n",
       "15523  tt2039393  The Gambler        2014    Crime,Drama,Thriller   \n",
       "29123  tt2843832  The Gambler        2013             Documentary   \n",
       "29833  tt2924336  The Gambler        2013          Drama,Thriller   \n",
       "72458  tt9447594  The Gambler        2019  Action,Sci-Fi,Thriller   \n",
       "\n",
       "       averagerating  numvotes  \n",
       "11283            7.0        10  \n",
       "15523            6.0     59995  \n",
       "29123            7.6        14  \n",
       "29833            7.2      1479  \n",
       "72458            6.1        10  "
      ]
     },
     "execution_count": 25,
     "metadata": {},
     "output_type": "execute_result"
    }
   ],
   "source": [
    "# merge title_basics and title_ratings on tconst\n",
    "imdb_data = pd.merge(title_basics, title_ratings, how = 'inner', on = 'tconst')\n",
    "imdb_data.head()\n",
    "imdb_data.loc[imdb_data['movie']== 'The Gambler']"
   ]
  },
  {
   "cell_type": "code",
   "execution_count": 26,
   "metadata": {
    "scrolled": true
   },
   "outputs": [],
   "source": [
    "# merge imdb_data with movie_budgets\n",
    "mdf = pd.merge(imdb_data, movie_budgets, how = 'inner', on = 'movie')"
   ]
  },
  {
   "cell_type": "code",
   "execution_count": 27,
   "metadata": {},
   "outputs": [
    {
     "data": {
      "text/plain": [
       "(2592, 15)"
      ]
     },
     "execution_count": 27,
     "metadata": {},
     "output_type": "execute_result"
    }
   ],
   "source": [
    "mdf.shape"
   ]
  },
  {
   "cell_type": "code",
   "execution_count": 28,
   "metadata": {},
   "outputs": [],
   "source": [
    "mdf=mdf.sort_values(by='numvotes', ascending = False)"
   ]
  },
  {
   "cell_type": "code",
   "execution_count": 29,
   "metadata": {},
   "outputs": [],
   "source": [
    "mdf['same_year']= mdf['start_year']-mdf['year']"
   ]
  },
  {
   "cell_type": "code",
   "execution_count": 30,
   "metadata": {},
   "outputs": [],
   "source": [
    "mdf = mdf.loc[mdf['same_year']== 0]"
   ]
  },
  {
   "cell_type": "code",
   "execution_count": 31,
   "metadata": {},
   "outputs": [],
   "source": [
    "# drop duplicate titles\n",
    "mdf = mdf.drop_duplicates(subset='movie')"
   ]
  },
  {
   "cell_type": "code",
   "execution_count": 32,
   "metadata": {},
   "outputs": [],
   "source": [
    "# filter for movies released after 1990 \n",
    "mdf = mdf.loc[mdf['year'] >= 1990]"
   ]
  },
  {
   "cell_type": "code",
   "execution_count": 33,
   "metadata": {},
   "outputs": [],
   "source": [
    "# drop tconst, unnecessary after merge\n",
    "mdf.drop(columns = [\"tconst\"], inplace=True)"
   ]
  },
  {
   "cell_type": "code",
   "execution_count": 34,
   "metadata": {},
   "outputs": [
    {
     "data": {
      "text/plain": [
       "(1357, 15)"
      ]
     },
     "execution_count": 34,
     "metadata": {},
     "output_type": "execute_result"
    }
   ],
   "source": [
    "mdf.shape"
   ]
  },
  {
   "cell_type": "code",
   "execution_count": 35,
   "metadata": {
    "scrolled": true
   },
   "outputs": [],
   "source": [
    "mdf_combined_genres = mdf[mdf['genres'].map(mdf['genres'].value_counts() >= 17)]"
   ]
  },
  {
   "cell_type": "code",
   "execution_count": 36,
   "metadata": {
    "scrolled": true
   },
   "outputs": [
    {
     "data": {
      "text/plain": [
       "Adventure,Animation,Comedy    67\n",
       "Action,Adventure,Sci-Fi       51\n",
       "Comedy,Drama,Romance          49\n",
       "Comedy                        48\n",
       "Comedy,Drama                  42\n",
       "Drama                         40\n",
       "Comedy,Romance                40\n",
       "Action,Crime,Drama            38\n",
       "Drama,Romance                 32\n",
       "Action,Adventure,Fantasy      31\n",
       "Horror,Mystery,Thriller       29\n",
       "Action,Comedy,Crime           29\n",
       "Action,Adventure,Drama        26\n",
       "Action,Crime,Thriller         21\n",
       "Crime,Drama,Thriller          21\n",
       "Drama,Thriller                21\n",
       "Biography,Drama,History       20\n",
       "Horror,Thriller               20\n",
       "Action,Adventure,Comedy       20\n",
       "Biography,Comedy,Drama        17\n",
       "Name: genres, dtype: int64"
      ]
     },
     "execution_count": 36,
     "metadata": {},
     "output_type": "execute_result"
    }
   ],
   "source": [
    "mdf_combined_genres['genres'].value_counts()"
   ]
  },
  {
   "cell_type": "code",
   "execution_count": 37,
   "metadata": {},
   "outputs": [
    {
     "data": {
      "text/plain": [
       "0.48784082535003687"
      ]
     },
     "execution_count": 37,
     "metadata": {},
     "output_type": "execute_result"
    }
   ],
   "source": [
    "662/1357"
   ]
  },
  {
   "cell_type": "markdown",
   "metadata": {},
   "source": [
    "The top 20 combined genres, which is about 10% of the combined genres, represent less than 50% of the movies in the data. For that reason, it will be more helpful to look at the movies separated into single genres."
   ]
  },
  {
   "cell_type": "markdown",
   "metadata": {},
   "source": [
    "# separating genres"
   ]
  },
  {
   "cell_type": "code",
   "execution_count": 38,
   "metadata": {
    "scrolled": true
   },
   "outputs": [],
   "source": [
    "# separate genres into lists\n",
    "mdf[\"genres\"] = mdf[\"genres\"].apply(lambda x: x.split(\",\") if type(x) == str else x)"
   ]
  },
  {
   "cell_type": "code",
   "execution_count": 39,
   "metadata": {},
   "outputs": [
    {
     "data": {
      "text/plain": [
       "(1357, 15)"
      ]
     },
     "execution_count": 39,
     "metadata": {},
     "output_type": "execute_result"
    }
   ],
   "source": [
    "mdf.shape"
   ]
  },
  {
   "cell_type": "code",
   "execution_count": 40,
   "metadata": {},
   "outputs": [
    {
     "data": {
      "text/html": [
       "<div>\n",
       "<style scoped>\n",
       "    .dataframe tbody tr th:only-of-type {\n",
       "        vertical-align: middle;\n",
       "    }\n",
       "\n",
       "    .dataframe tbody tr th {\n",
       "        vertical-align: top;\n",
       "    }\n",
       "\n",
       "    .dataframe thead th {\n",
       "        text-align: right;\n",
       "    }\n",
       "</style>\n",
       "<table border=\"1\" class=\"dataframe\">\n",
       "  <thead>\n",
       "    <tr style=\"text-align: right;\">\n",
       "      <th></th>\n",
       "      <th>movie</th>\n",
       "      <th>start_year</th>\n",
       "      <th>genres</th>\n",
       "      <th>averagerating</th>\n",
       "      <th>numvotes</th>\n",
       "      <th>release_date</th>\n",
       "      <th>production_budget</th>\n",
       "      <th>domestic_gross</th>\n",
       "      <th>worldwide_gross</th>\n",
       "      <th>profit</th>\n",
       "      <th>profit_million</th>\n",
       "      <th>production_budget_million</th>\n",
       "      <th>ROI</th>\n",
       "      <th>year</th>\n",
       "      <th>same_year</th>\n",
       "    </tr>\n",
       "  </thead>\n",
       "  <tbody>\n",
       "    <tr>\n",
       "      <th>510</th>\n",
       "      <td>Inception</td>\n",
       "      <td>2010</td>\n",
       "      <td>[Action, Adventure, Sci-Fi]</td>\n",
       "      <td>8.8</td>\n",
       "      <td>1841066</td>\n",
       "      <td>2010-07-16</td>\n",
       "      <td>160000000.0</td>\n",
       "      <td>292576195.0</td>\n",
       "      <td>8.355246e+08</td>\n",
       "      <td>6.755246e+08</td>\n",
       "      <td>675.524642</td>\n",
       "      <td>160.0</td>\n",
       "      <td>422.20</td>\n",
       "      <td>2010</td>\n",
       "      <td>0</td>\n",
       "    </tr>\n",
       "    <tr>\n",
       "      <th>477</th>\n",
       "      <td>The Dark Knight Rises</td>\n",
       "      <td>2012</td>\n",
       "      <td>[Action, Thriller]</td>\n",
       "      <td>8.4</td>\n",
       "      <td>1387769</td>\n",
       "      <td>2012-07-20</td>\n",
       "      <td>275000000.0</td>\n",
       "      <td>448139099.0</td>\n",
       "      <td>1.084439e+09</td>\n",
       "      <td>8.094391e+08</td>\n",
       "      <td>809.439099</td>\n",
       "      <td>275.0</td>\n",
       "      <td>294.34</td>\n",
       "      <td>2012</td>\n",
       "      <td>0</td>\n",
       "    </tr>\n",
       "    <tr>\n",
       "      <th>96</th>\n",
       "      <td>Interstellar</td>\n",
       "      <td>2014</td>\n",
       "      <td>[Adventure, Drama, Sci-Fi]</td>\n",
       "      <td>8.6</td>\n",
       "      <td>1299334</td>\n",
       "      <td>2014-11-05</td>\n",
       "      <td>165000000.0</td>\n",
       "      <td>188017894.0</td>\n",
       "      <td>6.663794e+08</td>\n",
       "      <td>5.013794e+08</td>\n",
       "      <td>501.379375</td>\n",
       "      <td>165.0</td>\n",
       "      <td>303.87</td>\n",
       "      <td>2014</td>\n",
       "      <td>0</td>\n",
       "    </tr>\n",
       "    <tr>\n",
       "      <th>1296</th>\n",
       "      <td>Django Unchained</td>\n",
       "      <td>2012</td>\n",
       "      <td>[Drama, Western]</td>\n",
       "      <td>8.4</td>\n",
       "      <td>1211405</td>\n",
       "      <td>2012-12-25</td>\n",
       "      <td>100000000.0</td>\n",
       "      <td>162805434.0</td>\n",
       "      <td>4.499483e+08</td>\n",
       "      <td>3.499483e+08</td>\n",
       "      <td>349.948323</td>\n",
       "      <td>100.0</td>\n",
       "      <td>349.95</td>\n",
       "      <td>2012</td>\n",
       "      <td>0</td>\n",
       "    </tr>\n",
       "    <tr>\n",
       "      <th>110</th>\n",
       "      <td>The Avengers</td>\n",
       "      <td>2012</td>\n",
       "      <td>[Action, Adventure, Sci-Fi]</td>\n",
       "      <td>8.1</td>\n",
       "      <td>1183655</td>\n",
       "      <td>2012-05-04</td>\n",
       "      <td>225000000.0</td>\n",
       "      <td>623279547.0</td>\n",
       "      <td>1.517936e+09</td>\n",
       "      <td>1.292936e+09</td>\n",
       "      <td>1292.935897</td>\n",
       "      <td>225.0</td>\n",
       "      <td>574.64</td>\n",
       "      <td>2012</td>\n",
       "      <td>0</td>\n",
       "    </tr>\n",
       "  </tbody>\n",
       "</table>\n",
       "</div>"
      ],
      "text/plain": [
       "                      movie  start_year                       genres  \\\n",
       "510               Inception        2010  [Action, Adventure, Sci-Fi]   \n",
       "477   The Dark Knight Rises        2012           [Action, Thriller]   \n",
       "96             Interstellar        2014   [Adventure, Drama, Sci-Fi]   \n",
       "1296       Django Unchained        2012             [Drama, Western]   \n",
       "110            The Avengers        2012  [Action, Adventure, Sci-Fi]   \n",
       "\n",
       "      averagerating  numvotes release_date  production_budget  domestic_gross  \\\n",
       "510             8.8   1841066   2010-07-16        160000000.0     292576195.0   \n",
       "477             8.4   1387769   2012-07-20        275000000.0     448139099.0   \n",
       "96              8.6   1299334   2014-11-05        165000000.0     188017894.0   \n",
       "1296            8.4   1211405   2012-12-25        100000000.0     162805434.0   \n",
       "110             8.1   1183655   2012-05-04        225000000.0     623279547.0   \n",
       "\n",
       "      worldwide_gross        profit  profit_million  \\\n",
       "510      8.355246e+08  6.755246e+08      675.524642   \n",
       "477      1.084439e+09  8.094391e+08      809.439099   \n",
       "96       6.663794e+08  5.013794e+08      501.379375   \n",
       "1296     4.499483e+08  3.499483e+08      349.948323   \n",
       "110      1.517936e+09  1.292936e+09     1292.935897   \n",
       "\n",
       "      production_budget_million     ROI  year  same_year  \n",
       "510                       160.0  422.20  2010          0  \n",
       "477                       275.0  294.34  2012          0  \n",
       "96                        165.0  303.87  2014          0  \n",
       "1296                      100.0  349.95  2012          0  \n",
       "110                       225.0  574.64  2012          0  "
      ]
     },
     "execution_count": 40,
     "metadata": {},
     "output_type": "execute_result"
    }
   ],
   "source": [
    "mdf.head()"
   ]
  },
  {
   "cell_type": "code",
   "execution_count": 41,
   "metadata": {
    "scrolled": false
   },
   "outputs": [],
   "source": [
    "#explode the genres\n",
    "mdf2 = mdf.explode('genres')"
   ]
  },
  {
   "cell_type": "code",
   "execution_count": 42,
   "metadata": {
    "scrolled": true
   },
   "outputs": [
    {
     "data": {
      "text/plain": [
       "array(['Action', 'Adventure', 'Sci-Fi', 'Thriller', 'Drama', 'Western',\n",
       "       'Biography', 'Crime', 'Mystery', 'Comedy', 'Family', 'Fantasy',\n",
       "       'Animation', 'Romance', 'Music', 'History', 'Horror', 'Sport',\n",
       "       'War', 'Musical', 'Documentary'], dtype=object)"
      ]
     },
     "execution_count": 42,
     "metadata": {},
     "output_type": "execute_result"
    }
   ],
   "source": [
    "mdf2['genres'].unique()"
   ]
  },
  {
   "cell_type": "code",
   "execution_count": 43,
   "metadata": {
    "scrolled": false
   },
   "outputs": [
    {
     "data": {
      "text/plain": [
       "21"
      ]
     },
     "execution_count": 43,
     "metadata": {},
     "output_type": "execute_result"
    }
   ],
   "source": [
    "len(mdf2['genres'].unique())"
   ]
  },
  {
   "cell_type": "code",
   "execution_count": 44,
   "metadata": {
    "scrolled": true
   },
   "outputs": [
    {
     "data": {
      "text/plain": [
       "(3530, 15)"
      ]
     },
     "execution_count": 44,
     "metadata": {},
     "output_type": "execute_result"
    }
   ],
   "source": [
    "mdf2.shape"
   ]
  },
  {
   "cell_type": "code",
   "execution_count": 45,
   "metadata": {},
   "outputs": [
    {
     "data": {
      "text/html": [
       "<div>\n",
       "<style scoped>\n",
       "    .dataframe tbody tr th:only-of-type {\n",
       "        vertical-align: middle;\n",
       "    }\n",
       "\n",
       "    .dataframe tbody tr th {\n",
       "        vertical-align: top;\n",
       "    }\n",
       "\n",
       "    .dataframe thead th {\n",
       "        text-align: right;\n",
       "    }\n",
       "</style>\n",
       "<table border=\"1\" class=\"dataframe\">\n",
       "  <thead>\n",
       "    <tr style=\"text-align: right;\">\n",
       "      <th></th>\n",
       "      <th>movie</th>\n",
       "      <th>start_year</th>\n",
       "      <th>genres</th>\n",
       "      <th>averagerating</th>\n",
       "      <th>numvotes</th>\n",
       "      <th>release_date</th>\n",
       "      <th>production_budget</th>\n",
       "      <th>domestic_gross</th>\n",
       "      <th>worldwide_gross</th>\n",
       "      <th>profit</th>\n",
       "      <th>profit_million</th>\n",
       "      <th>production_budget_million</th>\n",
       "      <th>ROI</th>\n",
       "      <th>year</th>\n",
       "      <th>same_year</th>\n",
       "    </tr>\n",
       "  </thead>\n",
       "  <tbody>\n",
       "    <tr>\n",
       "      <th>1418</th>\n",
       "      <td>Destiny</td>\n",
       "      <td>2014</td>\n",
       "      <td>Romance</td>\n",
       "      <td>7.8</td>\n",
       "      <td>36</td>\n",
       "      <td>2014-12-31</td>\n",
       "      <td>750000.0</td>\n",
       "      <td>0.0</td>\n",
       "      <td>450.0</td>\n",
       "      <td>-749550.0</td>\n",
       "      <td>-0.749550</td>\n",
       "      <td>0.750</td>\n",
       "      <td>-99.94</td>\n",
       "      <td>2014</td>\n",
       "      <td>0</td>\n",
       "    </tr>\n",
       "    <tr>\n",
       "      <th>1481</th>\n",
       "      <td>The Great Wall</td>\n",
       "      <td>2017</td>\n",
       "      <td>Documentary</td>\n",
       "      <td>6.5</td>\n",
       "      <td>24</td>\n",
       "      <td>2017-02-17</td>\n",
       "      <td>150000000.0</td>\n",
       "      <td>45157105.0</td>\n",
       "      <td>334486852.0</td>\n",
       "      <td>184486852.0</td>\n",
       "      <td>184.486852</td>\n",
       "      <td>150.000</td>\n",
       "      <td>122.99</td>\n",
       "      <td>2017</td>\n",
       "      <td>0</td>\n",
       "    </tr>\n",
       "    <tr>\n",
       "      <th>2308</th>\n",
       "      <td>Emily</td>\n",
       "      <td>2017</td>\n",
       "      <td>Drama</td>\n",
       "      <td>6.8</td>\n",
       "      <td>13</td>\n",
       "      <td>2017-01-27</td>\n",
       "      <td>27000.0</td>\n",
       "      <td>3547.0</td>\n",
       "      <td>3547.0</td>\n",
       "      <td>-23453.0</td>\n",
       "      <td>-0.023453</td>\n",
       "      <td>0.027</td>\n",
       "      <td>-86.86</td>\n",
       "      <td>2017</td>\n",
       "      <td>0</td>\n",
       "    </tr>\n",
       "    <tr>\n",
       "      <th>1931</th>\n",
       "      <td>All You Need Is Love</td>\n",
       "      <td>2014</td>\n",
       "      <td>Documentary</td>\n",
       "      <td>6.8</td>\n",
       "      <td>9</td>\n",
       "      <td>2014-10-31</td>\n",
       "      <td>300000.0</td>\n",
       "      <td>0.0</td>\n",
       "      <td>3565259.0</td>\n",
       "      <td>3265259.0</td>\n",
       "      <td>3.265259</td>\n",
       "      <td>0.300</td>\n",
       "      <td>1088.42</td>\n",
       "      <td>2014</td>\n",
       "      <td>0</td>\n",
       "    </tr>\n",
       "    <tr>\n",
       "      <th>2111</th>\n",
       "      <td>Oddball</td>\n",
       "      <td>2016</td>\n",
       "      <td>Documentary</td>\n",
       "      <td>6.4</td>\n",
       "      <td>5</td>\n",
       "      <td>2016-12-06</td>\n",
       "      <td>7000000.0</td>\n",
       "      <td>0.0</td>\n",
       "      <td>10237229.0</td>\n",
       "      <td>3237229.0</td>\n",
       "      <td>3.237229</td>\n",
       "      <td>7.000</td>\n",
       "      <td>46.25</td>\n",
       "      <td>2016</td>\n",
       "      <td>0</td>\n",
       "    </tr>\n",
       "  </tbody>\n",
       "</table>\n",
       "</div>"
      ],
      "text/plain": [
       "                     movie  start_year       genres  averagerating  numvotes  \\\n",
       "1418               Destiny        2014      Romance            7.8        36   \n",
       "1481        The Great Wall        2017  Documentary            6.5        24   \n",
       "2308                 Emily        2017        Drama            6.8        13   \n",
       "1931  All You Need Is Love        2014  Documentary            6.8         9   \n",
       "2111               Oddball        2016  Documentary            6.4         5   \n",
       "\n",
       "     release_date  production_budget  domestic_gross  worldwide_gross  \\\n",
       "1418   2014-12-31           750000.0             0.0            450.0   \n",
       "1481   2017-02-17        150000000.0      45157105.0      334486852.0   \n",
       "2308   2017-01-27            27000.0          3547.0           3547.0   \n",
       "1931   2014-10-31           300000.0             0.0        3565259.0   \n",
       "2111   2016-12-06          7000000.0             0.0       10237229.0   \n",
       "\n",
       "           profit  profit_million  production_budget_million      ROI  year  \\\n",
       "1418    -749550.0       -0.749550                      0.750   -99.94  2014   \n",
       "1481  184486852.0      184.486852                    150.000   122.99  2017   \n",
       "2308     -23453.0       -0.023453                      0.027   -86.86  2017   \n",
       "1931    3265259.0        3.265259                      0.300  1088.42  2014   \n",
       "2111    3237229.0        3.237229                      7.000    46.25  2016   \n",
       "\n",
       "      same_year  \n",
       "1418          0  \n",
       "1481          0  \n",
       "2308          0  \n",
       "1931          0  \n",
       "2111          0  "
      ]
     },
     "execution_count": 45,
     "metadata": {},
     "output_type": "execute_result"
    }
   ],
   "source": [
    "mdf2.tail()"
   ]
  },
  {
   "cell_type": "code",
   "execution_count": 46,
   "metadata": {},
   "outputs": [
    {
     "data": {
      "text/plain": [
       "['Horror', 'Mystery', 'Thriller', 'Sci-Fi', 'Animation']"
      ]
     },
     "execution_count": 46,
     "metadata": {},
     "output_type": "execute_result"
    }
   ],
   "source": [
    "sorted_genres = mdf2.groupby([\"genres\"], as_index=False).mean().sort_values(by = \"ROI\", ascending=False)\n",
    "\n",
    "top5genres = list(sorted_genres['genres'].values[0:5])\n",
    "top5genres"
   ]
  },
  {
   "cell_type": "code",
   "execution_count": 47,
   "metadata": {},
   "outputs": [
    {
     "data": {
      "text/html": [
       "<div>\n",
       "<style scoped>\n",
       "    .dataframe tbody tr th:only-of-type {\n",
       "        vertical-align: middle;\n",
       "    }\n",
       "\n",
       "    .dataframe tbody tr th {\n",
       "        vertical-align: top;\n",
       "    }\n",
       "\n",
       "    .dataframe thead th {\n",
       "        text-align: right;\n",
       "    }\n",
       "</style>\n",
       "<table border=\"1\" class=\"dataframe\">\n",
       "  <thead>\n",
       "    <tr style=\"text-align: right;\">\n",
       "      <th></th>\n",
       "      <th>genres</th>\n",
       "      <th>start_year</th>\n",
       "      <th>averagerating</th>\n",
       "      <th>numvotes</th>\n",
       "      <th>production_budget</th>\n",
       "      <th>domestic_gross</th>\n",
       "      <th>worldwide_gross</th>\n",
       "      <th>profit</th>\n",
       "      <th>profit_million</th>\n",
       "      <th>production_budget_million</th>\n",
       "      <th>ROI</th>\n",
       "      <th>year</th>\n",
       "      <th>same_year</th>\n",
       "    </tr>\n",
       "  </thead>\n",
       "  <tbody>\n",
       "    <tr>\n",
       "      <th>11</th>\n",
       "      <td>Horror</td>\n",
       "      <td>2014.173333</td>\n",
       "      <td>5.698000</td>\n",
       "      <td>76789.120000</td>\n",
       "      <td>2.037690e+07</td>\n",
       "      <td>3.621057e+07</td>\n",
       "      <td>7.939828e+07</td>\n",
       "      <td>5.902138e+07</td>\n",
       "      <td>59.021379</td>\n",
       "      <td>20.376900</td>\n",
       "      <td>971.286533</td>\n",
       "      <td>2014.173333</td>\n",
       "      <td>0.0</td>\n",
       "    </tr>\n",
       "    <tr>\n",
       "      <th>14</th>\n",
       "      <td>Mystery</td>\n",
       "      <td>2014.206897</td>\n",
       "      <td>6.173276</td>\n",
       "      <td>134106.379310</td>\n",
       "      <td>2.621925e+07</td>\n",
       "      <td>4.229281e+07</td>\n",
       "      <td>9.749718e+07</td>\n",
       "      <td>7.127794e+07</td>\n",
       "      <td>71.277938</td>\n",
       "      <td>26.219247</td>\n",
       "      <td>951.790259</td>\n",
       "      <td>2014.206897</td>\n",
       "      <td>0.0</td>\n",
       "    </tr>\n",
       "    <tr>\n",
       "      <th>18</th>\n",
       "      <td>Thriller</td>\n",
       "      <td>2013.758621</td>\n",
       "      <td>6.120690</td>\n",
       "      <td>132757.047414</td>\n",
       "      <td>3.553324e+07</td>\n",
       "      <td>4.913053e+07</td>\n",
       "      <td>1.275816e+08</td>\n",
       "      <td>9.204832e+07</td>\n",
       "      <td>92.048323</td>\n",
       "      <td>35.533244</td>\n",
       "      <td>597.271983</td>\n",
       "      <td>2013.758621</td>\n",
       "      <td>0.0</td>\n",
       "    </tr>\n",
       "    <tr>\n",
       "      <th>16</th>\n",
       "      <td>Sci-Fi</td>\n",
       "      <td>2014.388889</td>\n",
       "      <td>6.565873</td>\n",
       "      <td>286807.888889</td>\n",
       "      <td>9.956806e+07</td>\n",
       "      <td>1.329984e+08</td>\n",
       "      <td>3.647116e+08</td>\n",
       "      <td>2.651435e+08</td>\n",
       "      <td>265.143504</td>\n",
       "      <td>99.568056</td>\n",
       "      <td>283.657778</td>\n",
       "      <td>2014.388889</td>\n",
       "      <td>0.0</td>\n",
       "    </tr>\n",
       "    <tr>\n",
       "      <th>2</th>\n",
       "      <td>Animation</td>\n",
       "      <td>2014.193878</td>\n",
       "      <td>6.574490</td>\n",
       "      <td>128583.132653</td>\n",
       "      <td>1.001939e+08</td>\n",
       "      <td>1.407021e+08</td>\n",
       "      <td>3.887555e+08</td>\n",
       "      <td>2.885616e+08</td>\n",
       "      <td>288.561604</td>\n",
       "      <td>100.193878</td>\n",
       "      <td>278.690204</td>\n",
       "      <td>2014.193878</td>\n",
       "      <td>0.0</td>\n",
       "    </tr>\n",
       "    <tr>\n",
       "      <th>15</th>\n",
       "      <td>Romance</td>\n",
       "      <td>2013.072626</td>\n",
       "      <td>6.338547</td>\n",
       "      <td>82429.480447</td>\n",
       "      <td>2.310958e+07</td>\n",
       "      <td>3.410309e+07</td>\n",
       "      <td>7.047518e+07</td>\n",
       "      <td>4.736560e+07</td>\n",
       "      <td>47.365597</td>\n",
       "      <td>23.109581</td>\n",
       "      <td>267.470168</td>\n",
       "      <td>2013.072626</td>\n",
       "      <td>0.0</td>\n",
       "    </tr>\n",
       "    <tr>\n",
       "      <th>12</th>\n",
       "      <td>Music</td>\n",
       "      <td>2013.723404</td>\n",
       "      <td>6.389362</td>\n",
       "      <td>69891.170213</td>\n",
       "      <td>1.812872e+07</td>\n",
       "      <td>3.564235e+07</td>\n",
       "      <td>7.776171e+07</td>\n",
       "      <td>5.963299e+07</td>\n",
       "      <td>59.632989</td>\n",
       "      <td>18.128723</td>\n",
       "      <td>261.097021</td>\n",
       "      <td>2013.723404</td>\n",
       "      <td>0.0</td>\n",
       "    </tr>\n",
       "    <tr>\n",
       "      <th>3</th>\n",
       "      <td>Biography</td>\n",
       "      <td>2014.784615</td>\n",
       "      <td>7.051538</td>\n",
       "      <td>113389.415385</td>\n",
       "      <td>2.651900e+07</td>\n",
       "      <td>4.041363e+07</td>\n",
       "      <td>8.309290e+07</td>\n",
       "      <td>5.657390e+07</td>\n",
       "      <td>56.573903</td>\n",
       "      <td>26.519000</td>\n",
       "      <td>248.377846</td>\n",
       "      <td>2014.784615</td>\n",
       "      <td>0.0</td>\n",
       "    </tr>\n",
       "    <tr>\n",
       "      <th>7</th>\n",
       "      <td>Drama</td>\n",
       "      <td>2013.860360</td>\n",
       "      <td>6.596396</td>\n",
       "      <td>106750.448949</td>\n",
       "      <td>2.838700e+07</td>\n",
       "      <td>3.581019e+07</td>\n",
       "      <td>7.877166e+07</td>\n",
       "      <td>5.038466e+07</td>\n",
       "      <td>50.384662</td>\n",
       "      <td>28.386996</td>\n",
       "      <td>238.584444</td>\n",
       "      <td>2013.860360</td>\n",
       "      <td>0.0</td>\n",
       "    </tr>\n",
       "    <tr>\n",
       "      <th>4</th>\n",
       "      <td>Comedy</td>\n",
       "      <td>2013.627083</td>\n",
       "      <td>6.240625</td>\n",
       "      <td>98136.629167</td>\n",
       "      <td>4.240746e+07</td>\n",
       "      <td>6.237079e+07</td>\n",
       "      <td>1.424374e+08</td>\n",
       "      <td>1.000299e+08</td>\n",
       "      <td>100.029917</td>\n",
       "      <td>42.407458</td>\n",
       "      <td>228.190208</td>\n",
       "      <td>2013.627083</td>\n",
       "      <td>0.0</td>\n",
       "    </tr>\n",
       "    <tr>\n",
       "      <th>9</th>\n",
       "      <td>Fantasy</td>\n",
       "      <td>2013.905172</td>\n",
       "      <td>6.128448</td>\n",
       "      <td>155112.741379</td>\n",
       "      <td>8.758922e+07</td>\n",
       "      <td>8.472140e+07</td>\n",
       "      <td>2.476530e+08</td>\n",
       "      <td>1.600638e+08</td>\n",
       "      <td>160.063750</td>\n",
       "      <td>87.589224</td>\n",
       "      <td>223.183707</td>\n",
       "      <td>2013.905172</td>\n",
       "      <td>0.0</td>\n",
       "    </tr>\n",
       "    <tr>\n",
       "      <th>1</th>\n",
       "      <td>Adventure</td>\n",
       "      <td>2014.244118</td>\n",
       "      <td>6.487059</td>\n",
       "      <td>204891.002941</td>\n",
       "      <td>1.090544e+08</td>\n",
       "      <td>1.278140e+08</td>\n",
       "      <td>3.614190e+08</td>\n",
       "      <td>2.523646e+08</td>\n",
       "      <td>252.364567</td>\n",
       "      <td>109.054412</td>\n",
       "      <td>217.242559</td>\n",
       "      <td>2014.244118</td>\n",
       "      <td>0.0</td>\n",
       "    </tr>\n",
       "    <tr>\n",
       "      <th>6</th>\n",
       "      <td>Documentary</td>\n",
       "      <td>2012.703704</td>\n",
       "      <td>6.655556</td>\n",
       "      <td>9978.370370</td>\n",
       "      <td>9.303630e+06</td>\n",
       "      <td>1.341404e+07</td>\n",
       "      <td>2.864313e+07</td>\n",
       "      <td>1.933950e+07</td>\n",
       "      <td>19.339502</td>\n",
       "      <td>9.303630</td>\n",
       "      <td>207.824444</td>\n",
       "      <td>2012.703704</td>\n",
       "      <td>0.0</td>\n",
       "    </tr>\n",
       "    <tr>\n",
       "      <th>13</th>\n",
       "      <td>Musical</td>\n",
       "      <td>2013.000000</td>\n",
       "      <td>6.171429</td>\n",
       "      <td>87704.857143</td>\n",
       "      <td>5.498571e+07</td>\n",
       "      <td>1.086679e+08</td>\n",
       "      <td>2.641159e+08</td>\n",
       "      <td>2.091302e+08</td>\n",
       "      <td>209.130224</td>\n",
       "      <td>54.985714</td>\n",
       "      <td>203.021429</td>\n",
       "      <td>2013.000000</td>\n",
       "      <td>0.0</td>\n",
       "    </tr>\n",
       "    <tr>\n",
       "      <th>8</th>\n",
       "      <td>Family</td>\n",
       "      <td>2013.400000</td>\n",
       "      <td>6.187059</td>\n",
       "      <td>84257.682353</td>\n",
       "      <td>7.303412e+07</td>\n",
       "      <td>8.647824e+07</td>\n",
       "      <td>2.135799e+08</td>\n",
       "      <td>1.405458e+08</td>\n",
       "      <td>140.545807</td>\n",
       "      <td>73.034118</td>\n",
       "      <td>177.193059</td>\n",
       "      <td>2013.400000</td>\n",
       "      <td>0.0</td>\n",
       "    </tr>\n",
       "    <tr>\n",
       "      <th>0</th>\n",
       "      <td>Action</td>\n",
       "      <td>2014.043165</td>\n",
       "      <td>6.366906</td>\n",
       "      <td>187935.441247</td>\n",
       "      <td>8.380576e+07</td>\n",
       "      <td>9.286873e+07</td>\n",
       "      <td>2.564038e+08</td>\n",
       "      <td>1.725980e+08</td>\n",
       "      <td>172.598045</td>\n",
       "      <td>83.805755</td>\n",
       "      <td>177.034604</td>\n",
       "      <td>2014.043165</td>\n",
       "      <td>0.0</td>\n",
       "    </tr>\n",
       "    <tr>\n",
       "      <th>10</th>\n",
       "      <td>History</td>\n",
       "      <td>2015.051282</td>\n",
       "      <td>6.946154</td>\n",
       "      <td>100668.974359</td>\n",
       "      <td>3.558974e+07</td>\n",
       "      <td>4.192146e+07</td>\n",
       "      <td>8.782263e+07</td>\n",
       "      <td>5.223288e+07</td>\n",
       "      <td>52.232883</td>\n",
       "      <td>35.589744</td>\n",
       "      <td>154.924615</td>\n",
       "      <td>2015.051282</td>\n",
       "      <td>0.0</td>\n",
       "    </tr>\n",
       "    <tr>\n",
       "      <th>5</th>\n",
       "      <td>Crime</td>\n",
       "      <td>2013.930876</td>\n",
       "      <td>6.417972</td>\n",
       "      <td>121316.880184</td>\n",
       "      <td>3.379041e+07</td>\n",
       "      <td>3.873408e+07</td>\n",
       "      <td>8.622434e+07</td>\n",
       "      <td>5.243393e+07</td>\n",
       "      <td>52.433930</td>\n",
       "      <td>33.790415</td>\n",
       "      <td>125.746544</td>\n",
       "      <td>2013.930876</td>\n",
       "      <td>0.0</td>\n",
       "    </tr>\n",
       "    <tr>\n",
       "      <th>17</th>\n",
       "      <td>Sport</td>\n",
       "      <td>2013.937500</td>\n",
       "      <td>6.931250</td>\n",
       "      <td>74843.875000</td>\n",
       "      <td>2.550625e+07</td>\n",
       "      <td>3.490760e+07</td>\n",
       "      <td>5.469688e+07</td>\n",
       "      <td>2.919063e+07</td>\n",
       "      <td>29.190626</td>\n",
       "      <td>25.506250</td>\n",
       "      <td>121.370312</td>\n",
       "      <td>2013.937500</td>\n",
       "      <td>0.0</td>\n",
       "    </tr>\n",
       "    <tr>\n",
       "      <th>20</th>\n",
       "      <td>Western</td>\n",
       "      <td>2012.444444</td>\n",
       "      <td>6.766667</td>\n",
       "      <td>217706.555556</td>\n",
       "      <td>6.342222e+07</td>\n",
       "      <td>5.900548e+07</td>\n",
       "      <td>1.279120e+08</td>\n",
       "      <td>6.448982e+07</td>\n",
       "      <td>64.489819</td>\n",
       "      <td>63.422222</td>\n",
       "      <td>87.547778</td>\n",
       "      <td>2012.444444</td>\n",
       "      <td>0.0</td>\n",
       "    </tr>\n",
       "    <tr>\n",
       "      <th>19</th>\n",
       "      <td>War</td>\n",
       "      <td>2013.588235</td>\n",
       "      <td>6.570588</td>\n",
       "      <td>73988.294118</td>\n",
       "      <td>2.826471e+07</td>\n",
       "      <td>2.415504e+07</td>\n",
       "      <td>5.778184e+07</td>\n",
       "      <td>2.951713e+07</td>\n",
       "      <td>29.517132</td>\n",
       "      <td>28.264706</td>\n",
       "      <td>41.110588</td>\n",
       "      <td>2013.588235</td>\n",
       "      <td>0.0</td>\n",
       "    </tr>\n",
       "  </tbody>\n",
       "</table>\n",
       "</div>"
      ],
      "text/plain": [
       "         genres   start_year  averagerating       numvotes  production_budget  \\\n",
       "11       Horror  2014.173333       5.698000   76789.120000       2.037690e+07   \n",
       "14      Mystery  2014.206897       6.173276  134106.379310       2.621925e+07   \n",
       "18     Thriller  2013.758621       6.120690  132757.047414       3.553324e+07   \n",
       "16       Sci-Fi  2014.388889       6.565873  286807.888889       9.956806e+07   \n",
       "2     Animation  2014.193878       6.574490  128583.132653       1.001939e+08   \n",
       "15      Romance  2013.072626       6.338547   82429.480447       2.310958e+07   \n",
       "12        Music  2013.723404       6.389362   69891.170213       1.812872e+07   \n",
       "3     Biography  2014.784615       7.051538  113389.415385       2.651900e+07   \n",
       "7         Drama  2013.860360       6.596396  106750.448949       2.838700e+07   \n",
       "4        Comedy  2013.627083       6.240625   98136.629167       4.240746e+07   \n",
       "9       Fantasy  2013.905172       6.128448  155112.741379       8.758922e+07   \n",
       "1     Adventure  2014.244118       6.487059  204891.002941       1.090544e+08   \n",
       "6   Documentary  2012.703704       6.655556    9978.370370       9.303630e+06   \n",
       "13      Musical  2013.000000       6.171429   87704.857143       5.498571e+07   \n",
       "8        Family  2013.400000       6.187059   84257.682353       7.303412e+07   \n",
       "0        Action  2014.043165       6.366906  187935.441247       8.380576e+07   \n",
       "10      History  2015.051282       6.946154  100668.974359       3.558974e+07   \n",
       "5         Crime  2013.930876       6.417972  121316.880184       3.379041e+07   \n",
       "17        Sport  2013.937500       6.931250   74843.875000       2.550625e+07   \n",
       "20      Western  2012.444444       6.766667  217706.555556       6.342222e+07   \n",
       "19          War  2013.588235       6.570588   73988.294118       2.826471e+07   \n",
       "\n",
       "    domestic_gross  worldwide_gross        profit  profit_million  \\\n",
       "11    3.621057e+07     7.939828e+07  5.902138e+07       59.021379   \n",
       "14    4.229281e+07     9.749718e+07  7.127794e+07       71.277938   \n",
       "18    4.913053e+07     1.275816e+08  9.204832e+07       92.048323   \n",
       "16    1.329984e+08     3.647116e+08  2.651435e+08      265.143504   \n",
       "2     1.407021e+08     3.887555e+08  2.885616e+08      288.561604   \n",
       "15    3.410309e+07     7.047518e+07  4.736560e+07       47.365597   \n",
       "12    3.564235e+07     7.776171e+07  5.963299e+07       59.632989   \n",
       "3     4.041363e+07     8.309290e+07  5.657390e+07       56.573903   \n",
       "7     3.581019e+07     7.877166e+07  5.038466e+07       50.384662   \n",
       "4     6.237079e+07     1.424374e+08  1.000299e+08      100.029917   \n",
       "9     8.472140e+07     2.476530e+08  1.600638e+08      160.063750   \n",
       "1     1.278140e+08     3.614190e+08  2.523646e+08      252.364567   \n",
       "6     1.341404e+07     2.864313e+07  1.933950e+07       19.339502   \n",
       "13    1.086679e+08     2.641159e+08  2.091302e+08      209.130224   \n",
       "8     8.647824e+07     2.135799e+08  1.405458e+08      140.545807   \n",
       "0     9.286873e+07     2.564038e+08  1.725980e+08      172.598045   \n",
       "10    4.192146e+07     8.782263e+07  5.223288e+07       52.232883   \n",
       "5     3.873408e+07     8.622434e+07  5.243393e+07       52.433930   \n",
       "17    3.490760e+07     5.469688e+07  2.919063e+07       29.190626   \n",
       "20    5.900548e+07     1.279120e+08  6.448982e+07       64.489819   \n",
       "19    2.415504e+07     5.778184e+07  2.951713e+07       29.517132   \n",
       "\n",
       "    production_budget_million         ROI         year  same_year  \n",
       "11                  20.376900  971.286533  2014.173333        0.0  \n",
       "14                  26.219247  951.790259  2014.206897        0.0  \n",
       "18                  35.533244  597.271983  2013.758621        0.0  \n",
       "16                  99.568056  283.657778  2014.388889        0.0  \n",
       "2                  100.193878  278.690204  2014.193878        0.0  \n",
       "15                  23.109581  267.470168  2013.072626        0.0  \n",
       "12                  18.128723  261.097021  2013.723404        0.0  \n",
       "3                   26.519000  248.377846  2014.784615        0.0  \n",
       "7                   28.386996  238.584444  2013.860360        0.0  \n",
       "4                   42.407458  228.190208  2013.627083        0.0  \n",
       "9                   87.589224  223.183707  2013.905172        0.0  \n",
       "1                  109.054412  217.242559  2014.244118        0.0  \n",
       "6                    9.303630  207.824444  2012.703704        0.0  \n",
       "13                  54.985714  203.021429  2013.000000        0.0  \n",
       "8                   73.034118  177.193059  2013.400000        0.0  \n",
       "0                   83.805755  177.034604  2014.043165        0.0  \n",
       "10                  35.589744  154.924615  2015.051282        0.0  \n",
       "5                   33.790415  125.746544  2013.930876        0.0  \n",
       "17                  25.506250  121.370312  2013.937500        0.0  \n",
       "20                  63.422222   87.547778  2012.444444        0.0  \n",
       "19                  28.264706   41.110588  2013.588235        0.0  "
      ]
     },
     "execution_count": 47,
     "metadata": {},
     "output_type": "execute_result"
    }
   ],
   "source": [
    "sorted_genres"
   ]
  },
  {
   "cell_type": "markdown",
   "metadata": {},
   "source": [
    "# Question 3"
   ]
  },
  {
   "cell_type": "markdown",
   "metadata": {},
   "source": [
    "How does the amount of money invested into the movie (aka the production budget) impact the return on investment?"
   ]
  },
  {
   "cell_type": "markdown",
   "metadata": {},
   "source": [
    "The relationship for all movies shown below."
   ]
  },
  {
   "cell_type": "code",
   "execution_count": 48,
   "metadata": {
    "scrolled": false
   },
   "outputs": [
    {
     "data": {
      "image/png": "[encoded data removed]",
      "text/plain": [
       "<Figure size 1152x576 with 1 Axes>"
      ]
     },
     "metadata": {
      "needs_background": "light"
     },
     "output_type": "display_data"
    }
   ],
   "source": [
    "fig, ax = plt.subplots(figsize=(16,8))\n",
    "\n",
    "ax.scatter(mdf2['production_budget_million'], mdf2['ROI'])\n",
    "ax.set_title('ROI vs. Production Budget')\n",
    "ax.set_xlabel('Production Budget (in Millions)')\n",
    "ax.set_ylabel('Return on Investment');"
   ]
  },
  {
   "cell_type": "markdown",
   "metadata": {},
   "source": [
    "The relationship between production budget and ROI representing only the top 5 genres."
   ]
  },
  {
   "cell_type": "code",
   "execution_count": 49,
   "metadata": {
    "scrolled": false
   },
   "outputs": [
    {
     "data": {
      "text/plain": [
       "['Horror', 'Mystery', 'Thriller', 'Sci-Fi', 'Animation']"
      ]
     },
     "execution_count": 49,
     "metadata": {},
     "output_type": "execute_result"
    }
   ],
   "source": [
    "top5genres"
   ]
  },
  {
   "cell_type": "code",
   "execution_count": 50,
   "metadata": {},
   "outputs": [
    {
     "data": {
      "text/html": [
       "<div>\n",
       "<style scoped>\n",
       "    .dataframe tbody tr th:only-of-type {\n",
       "        vertical-align: middle;\n",
       "    }\n",
       "\n",
       "    .dataframe tbody tr th {\n",
       "        vertical-align: top;\n",
       "    }\n",
       "\n",
       "    .dataframe thead th {\n",
       "        text-align: right;\n",
       "    }\n",
       "</style>\n",
       "<table border=\"1\" class=\"dataframe\">\n",
       "  <thead>\n",
       "    <tr style=\"text-align: right;\">\n",
       "      <th></th>\n",
       "      <th>movie</th>\n",
       "      <th>start_year</th>\n",
       "      <th>genres</th>\n",
       "      <th>averagerating</th>\n",
       "      <th>numvotes</th>\n",
       "      <th>release_date</th>\n",
       "      <th>production_budget</th>\n",
       "      <th>domestic_gross</th>\n",
       "      <th>worldwide_gross</th>\n",
       "      <th>profit</th>\n",
       "      <th>profit_million</th>\n",
       "      <th>production_budget_million</th>\n",
       "      <th>ROI</th>\n",
       "      <th>year</th>\n",
       "      <th>same_year</th>\n",
       "    </tr>\n",
       "  </thead>\n",
       "  <tbody>\n",
       "    <tr>\n",
       "      <th>510</th>\n",
       "      <td>Inception</td>\n",
       "      <td>2010</td>\n",
       "      <td>Sci-Fi</td>\n",
       "      <td>8.8</td>\n",
       "      <td>1841066</td>\n",
       "      <td>2010-07-16</td>\n",
       "      <td>160000000.0</td>\n",
       "      <td>292576195.0</td>\n",
       "      <td>8.355246e+08</td>\n",
       "      <td>6.755246e+08</td>\n",
       "      <td>675.524642</td>\n",
       "      <td>160.00</td>\n",
       "      <td>422.20</td>\n",
       "      <td>2010</td>\n",
       "      <td>0</td>\n",
       "    </tr>\n",
       "    <tr>\n",
       "      <th>477</th>\n",
       "      <td>The Dark Knight Rises</td>\n",
       "      <td>2012</td>\n",
       "      <td>Thriller</td>\n",
       "      <td>8.4</td>\n",
       "      <td>1387769</td>\n",
       "      <td>2012-07-20</td>\n",
       "      <td>275000000.0</td>\n",
       "      <td>448139099.0</td>\n",
       "      <td>1.084439e+09</td>\n",
       "      <td>8.094391e+08</td>\n",
       "      <td>809.439099</td>\n",
       "      <td>275.00</td>\n",
       "      <td>294.34</td>\n",
       "      <td>2012</td>\n",
       "      <td>0</td>\n",
       "    </tr>\n",
       "    <tr>\n",
       "      <th>96</th>\n",
       "      <td>Interstellar</td>\n",
       "      <td>2014</td>\n",
       "      <td>Sci-Fi</td>\n",
       "      <td>8.6</td>\n",
       "      <td>1299334</td>\n",
       "      <td>2014-11-05</td>\n",
       "      <td>165000000.0</td>\n",
       "      <td>188017894.0</td>\n",
       "      <td>6.663794e+08</td>\n",
       "      <td>5.013794e+08</td>\n",
       "      <td>501.379375</td>\n",
       "      <td>165.00</td>\n",
       "      <td>303.87</td>\n",
       "      <td>2014</td>\n",
       "      <td>0</td>\n",
       "    </tr>\n",
       "    <tr>\n",
       "      <th>110</th>\n",
       "      <td>The Avengers</td>\n",
       "      <td>2012</td>\n",
       "      <td>Sci-Fi</td>\n",
       "      <td>8.1</td>\n",
       "      <td>1183655</td>\n",
       "      <td>2012-05-04</td>\n",
       "      <td>225000000.0</td>\n",
       "      <td>623279547.0</td>\n",
       "      <td>1.517936e+09</td>\n",
       "      <td>1.292936e+09</td>\n",
       "      <td>1292.935897</td>\n",
       "      <td>225.00</td>\n",
       "      <td>574.64</td>\n",
       "      <td>2012</td>\n",
       "      <td>0</td>\n",
       "    </tr>\n",
       "    <tr>\n",
       "      <th>256</th>\n",
       "      <td>Shutter Island</td>\n",
       "      <td>2010</td>\n",
       "      <td>Mystery</td>\n",
       "      <td>8.1</td>\n",
       "      <td>1005960</td>\n",
       "      <td>2010-02-19</td>\n",
       "      <td>80000000.0</td>\n",
       "      <td>128012934.0</td>\n",
       "      <td>2.994618e+08</td>\n",
       "      <td>2.194618e+08</td>\n",
       "      <td>219.461782</td>\n",
       "      <td>80.00</td>\n",
       "      <td>274.33</td>\n",
       "      <td>2010</td>\n",
       "      <td>0</td>\n",
       "    </tr>\n",
       "    <tr>\n",
       "      <th>...</th>\n",
       "      <td>...</td>\n",
       "      <td>...</td>\n",
       "      <td>...</td>\n",
       "      <td>...</td>\n",
       "      <td>...</td>\n",
       "      <td>...</td>\n",
       "      <td>...</td>\n",
       "      <td>...</td>\n",
       "      <td>...</td>\n",
       "      <td>...</td>\n",
       "      <td>...</td>\n",
       "      <td>...</td>\n",
       "      <td>...</td>\n",
       "      <td>...</td>\n",
       "      <td>...</td>\n",
       "    </tr>\n",
       "    <tr>\n",
       "      <th>1749</th>\n",
       "      <td>The Word</td>\n",
       "      <td>2014</td>\n",
       "      <td>Thriller</td>\n",
       "      <td>4.9</td>\n",
       "      <td>344</td>\n",
       "      <td>2014-03-14</td>\n",
       "      <td>200000.0</td>\n",
       "      <td>3648.0</td>\n",
       "      <td>3.648000e+03</td>\n",
       "      <td>-1.963520e+05</td>\n",
       "      <td>-0.196352</td>\n",
       "      <td>0.20</td>\n",
       "      <td>-98.18</td>\n",
       "      <td>2014</td>\n",
       "      <td>0</td>\n",
       "    </tr>\n",
       "    <tr>\n",
       "      <th>350</th>\n",
       "      <td>Locker 13</td>\n",
       "      <td>2014</td>\n",
       "      <td>Thriller</td>\n",
       "      <td>4.7</td>\n",
       "      <td>290</td>\n",
       "      <td>2014-03-28</td>\n",
       "      <td>300000.0</td>\n",
       "      <td>3496.0</td>\n",
       "      <td>3.496000e+03</td>\n",
       "      <td>-2.965040e+05</td>\n",
       "      <td>-0.296504</td>\n",
       "      <td>0.30</td>\n",
       "      <td>-98.83</td>\n",
       "      <td>2014</td>\n",
       "      <td>0</td>\n",
       "    </tr>\n",
       "    <tr>\n",
       "      <th>1058</th>\n",
       "      <td>Raymond Did It</td>\n",
       "      <td>2011</td>\n",
       "      <td>Horror</td>\n",
       "      <td>3.3</td>\n",
       "      <td>211</td>\n",
       "      <td>2011-02-11</td>\n",
       "      <td>40000.0</td>\n",
       "      <td>3632.0</td>\n",
       "      <td>3.632000e+03</td>\n",
       "      <td>-3.636800e+04</td>\n",
       "      <td>-0.036368</td>\n",
       "      <td>0.04</td>\n",
       "      <td>-90.92</td>\n",
       "      <td>2011</td>\n",
       "      <td>0</td>\n",
       "    </tr>\n",
       "    <tr>\n",
       "      <th>1725</th>\n",
       "      <td>Windsor Drive</td>\n",
       "      <td>2015</td>\n",
       "      <td>Mystery</td>\n",
       "      <td>3.2</td>\n",
       "      <td>193</td>\n",
       "      <td>2015-08-28</td>\n",
       "      <td>850000.0</td>\n",
       "      <td>3256.0</td>\n",
       "      <td>3.256000e+03</td>\n",
       "      <td>-8.467440e+05</td>\n",
       "      <td>-0.846744</td>\n",
       "      <td>0.85</td>\n",
       "      <td>-99.62</td>\n",
       "      <td>2015</td>\n",
       "      <td>0</td>\n",
       "    </tr>\n",
       "    <tr>\n",
       "      <th>1725</th>\n",
       "      <td>Windsor Drive</td>\n",
       "      <td>2015</td>\n",
       "      <td>Thriller</td>\n",
       "      <td>3.2</td>\n",
       "      <td>193</td>\n",
       "      <td>2015-08-28</td>\n",
       "      <td>850000.0</td>\n",
       "      <td>3256.0</td>\n",
       "      <td>3.256000e+03</td>\n",
       "      <td>-8.467440e+05</td>\n",
       "      <td>-0.846744</td>\n",
       "      <td>0.85</td>\n",
       "      <td>-99.62</td>\n",
       "      <td>2015</td>\n",
       "      <td>0</td>\n",
       "    </tr>\n",
       "  </tbody>\n",
       "</table>\n",
       "<p>722 rows × 15 columns</p>\n",
       "</div>"
      ],
      "text/plain": [
       "                      movie  start_year    genres  averagerating  numvotes  \\\n",
       "510               Inception        2010    Sci-Fi            8.8   1841066   \n",
       "477   The Dark Knight Rises        2012  Thriller            8.4   1387769   \n",
       "96             Interstellar        2014    Sci-Fi            8.6   1299334   \n",
       "110            The Avengers        2012    Sci-Fi            8.1   1183655   \n",
       "256          Shutter Island        2010   Mystery            8.1   1005960   \n",
       "...                     ...         ...       ...            ...       ...   \n",
       "1749               The Word        2014  Thriller            4.9       344   \n",
       "350               Locker 13        2014  Thriller            4.7       290   \n",
       "1058         Raymond Did It        2011    Horror            3.3       211   \n",
       "1725          Windsor Drive        2015   Mystery            3.2       193   \n",
       "1725          Windsor Drive        2015  Thriller            3.2       193   \n",
       "\n",
       "     release_date  production_budget  domestic_gross  worldwide_gross  \\\n",
       "510    2010-07-16        160000000.0     292576195.0     8.355246e+08   \n",
       "477    2012-07-20        275000000.0     448139099.0     1.084439e+09   \n",
       "96     2014-11-05        165000000.0     188017894.0     6.663794e+08   \n",
       "110    2012-05-04        225000000.0     623279547.0     1.517936e+09   \n",
       "256    2010-02-19         80000000.0     128012934.0     2.994618e+08   \n",
       "...           ...                ...             ...              ...   \n",
       "1749   2014-03-14           200000.0          3648.0     3.648000e+03   \n",
       "350    2014-03-28           300000.0          3496.0     3.496000e+03   \n",
       "1058   2011-02-11            40000.0          3632.0     3.632000e+03   \n",
       "1725   2015-08-28           850000.0          3256.0     3.256000e+03   \n",
       "1725   2015-08-28           850000.0          3256.0     3.256000e+03   \n",
       "\n",
       "            profit  profit_million  production_budget_million     ROI  year  \\\n",
       "510   6.755246e+08      675.524642                     160.00  422.20  2010   \n",
       "477   8.094391e+08      809.439099                     275.00  294.34  2012   \n",
       "96    5.013794e+08      501.379375                     165.00  303.87  2014   \n",
       "110   1.292936e+09     1292.935897                     225.00  574.64  2012   \n",
       "256   2.194618e+08      219.461782                      80.00  274.33  2010   \n",
       "...            ...             ...                        ...     ...   ...   \n",
       "1749 -1.963520e+05       -0.196352                       0.20  -98.18  2014   \n",
       "350  -2.965040e+05       -0.296504                       0.30  -98.83  2014   \n",
       "1058 -3.636800e+04       -0.036368                       0.04  -90.92  2011   \n",
       "1725 -8.467440e+05       -0.846744                       0.85  -99.62  2015   \n",
       "1725 -8.467440e+05       -0.846744                       0.85  -99.62  2015   \n",
       "\n",
       "      same_year  \n",
       "510           0  \n",
       "477           0  \n",
       "96            0  \n",
       "110           0  \n",
       "256           0  \n",
       "...         ...  \n",
       "1749          0  \n",
       "350           0  \n",
       "1058          0  \n",
       "1725          0  \n",
       "1725          0  \n",
       "\n",
       "[722 rows x 15 columns]"
      ]
     },
     "execution_count": 50,
     "metadata": {},
     "output_type": "execute_result"
    }
   ],
   "source": [
    "boolean_series = mdf2.genres.isin(top5genres)\n",
    "filtered_top5_df = mdf2[boolean_series]\n",
    "filtered_top5_df"
   ]
  },
  {
   "cell_type": "code",
   "execution_count": 51,
   "metadata": {
    "scrolled": false
   },
   "outputs": [
    {
     "data": {
      "image/png": "[encoded data removed]",
      "text/plain": [
       "<Figure size 1080x576 with 1 Axes>"
      ]
     },
     "metadata": {
      "needs_background": "light"
     },
     "output_type": "display_data"
    }
   ],
   "source": [
    "fig, ax = plt.subplots(figsize=(15,8))\n",
    "colors = {'Mystery':'green', 'Horror':'red', 'Thriller':'blue', 'Sci-Fi':'orange', 'Animation':'purple'}\n",
    "\n",
    "\n",
    "ax.scatter(filtered_top5_df['production_budget_million'], filtered_top5_df['ROI'], c = filtered_top5_df['genres'].map(colors))\n",
    "ax.set_title('ROI vs. Production Budget')\n",
    "ax.set_xlabel('Production Budget (in Millions)')\n",
    "ax.set_ylabel('Return on Investment (%)');"
   ]
  },
  {
   "cell_type": "markdown",
   "metadata": {},
   "source": [
    "Looking at the relationship between production budget and ROI separated by individual top 5 genres."
   ]
  },
  {
   "cell_type": "code",
   "execution_count": 52,
   "metadata": {},
   "outputs": [],
   "source": [
    "genre1 = top5genres[0]\n",
    "genre2 = top5genres[1]\n",
    "genre3 = top5genres[2]\n",
    "genre4 = top5genres[3]\n",
    "genre5 = top5genres[4]"
   ]
  },
  {
   "cell_type": "code",
   "execution_count": 53,
   "metadata": {},
   "outputs": [],
   "source": [
    "boolean_series1 = (mdf2['genres'] == genre1)\n",
    "genre1_df = mdf2[boolean_series1]"
   ]
  },
  {
   "cell_type": "code",
   "execution_count": 54,
   "metadata": {},
   "outputs": [
    {
     "data": {
      "image/png": "[encoded data removed]",
      "text/plain": [
       "<Figure size 1080x576 with 1 Axes>"
      ]
     },
     "metadata": {
      "needs_background": "light"
     },
     "output_type": "display_data"
    }
   ],
   "source": [
    "fig, ax = plt.subplots(figsize=(15,8))\n",
    "\n",
    "ax.scatter(genre1_df['production_budget_million'], genre1_df['ROI'], c = 'red')\n",
    "ax.set_title('ROI vs. Production Budget for Horror Movies')\n",
    "ax.set_xlabel('Production Budget (in Millions)')\n",
    "ax.set_ylabel('Return on Investment (%)');"
   ]
  },
  {
   "cell_type": "code",
   "execution_count": 55,
   "metadata": {},
   "outputs": [],
   "source": [
    "boolean_series2 = (mdf2['genres'] == genre2)\n",
    "genre2_df = mdf2[boolean_series2]"
   ]
  },
  {
   "cell_type": "code",
   "execution_count": 56,
   "metadata": {},
   "outputs": [
    {
     "data": {
      "image/png": "[encoded data removed]",
      "text/plain": [
       "<Figure size 1080x576 with 1 Axes>"
      ]
     },
     "metadata": {
      "needs_background": "light"
     },
     "output_type": "display_data"
    }
   ],
   "source": [
    "fig, ax = plt.subplots(figsize=(15,8))\n",
    "\n",
    "ax.scatter(genre2_df['production_budget_million'], genre2_df['ROI'], c = 'green')\n",
    "ax.set_title('ROI vs. Production Budget for Mystery Movies')\n",
    "ax.set_xlabel('Production Budget (in Millions)')\n",
    "ax.set_ylabel('Return on Investment (%)');"
   ]
  },
  {
   "cell_type": "code",
   "execution_count": 57,
   "metadata": {},
   "outputs": [],
   "source": [
    "boolean_series3 = (mdf2['genres'] == genre3)\n",
    "genre3_df = mdf2[boolean_series3]"
   ]
  },
  {
   "cell_type": "code",
   "execution_count": 58,
   "metadata": {},
   "outputs": [
    {
     "data": {
      "image/png": "[encoded data removed]",
      "text/plain": [
       "<Figure size 1080x576 with 1 Axes>"
      ]
     },
     "metadata": {
      "needs_background": "light"
     },
     "output_type": "display_data"
    }
   ],
   "source": [
    "fig, ax = plt.subplots(figsize=(15,8))\n",
    "\n",
    "ax.scatter(genre3_df['production_budget_million'], genre3_df['ROI'], c = 'blue')\n",
    "ax.set_title('ROI vs. Production Budget for Thriller Movies')\n",
    "ax.set_xlabel('Production Budget (in Millions)')\n",
    "ax.set_ylabel('Return on Investment (%)');"
   ]
  },
  {
   "cell_type": "code",
   "execution_count": 59,
   "metadata": {},
   "outputs": [],
   "source": [
    "boolean_series4 = (mdf2['genres'] == genre4)\n",
    "genre4_df = mdf2[boolean_series4]"
   ]
  },
  {
   "cell_type": "code",
   "execution_count": 60,
   "metadata": {},
   "outputs": [
    {
     "data": {
      "image/png": "[encoded data removed]",
      "text/plain": [
       "<Figure size 1080x576 with 1 Axes>"
      ]
     },
     "metadata": {
      "needs_background": "light"
     },
     "output_type": "display_data"
    }
   ],
   "source": [
    "fig, ax = plt.subplots(figsize=(15,8))\n",
    "\n",
    "ax.scatter(genre4_df['production_budget_million'], genre4_df['ROI'], c = 'orange')\n",
    "ax.set_title('ROI vs. Production Budget for Sci-Fi Movies')\n",
    "ax.set_xlabel('Production Budget (in Millions)')\n",
    "ax.set_ylabel('Return on Investment (%)');"
   ]
  },
  {
   "cell_type": "code",
   "execution_count": 61,
   "metadata": {},
   "outputs": [],
   "source": [
    "boolean_series5 = (mdf2['genres'] == genre5)\n",
    "genre5_df = mdf2[boolean_series5]"
   ]
  },
  {
   "cell_type": "code",
   "execution_count": 62,
   "metadata": {},
   "outputs": [
    {
     "data": {
      "image/png": "[encoded data removed]",
      "text/plain": [
       "<Figure size 1080x576 with 1 Axes>"
      ]
     },
     "metadata": {
      "needs_background": "light"
     },
     "output_type": "display_data"
    }
   ],
   "source": [
    "fig, ax = plt.subplots(figsize=(15,8))\n",
    "\n",
    "ax.scatter(genre5_df['production_budget_million'], genre5_df['ROI'], c = 'purple')\n",
    "ax.set_title('ROI vs. Production Budget for Animation Movies')\n",
    "ax.set_xlabel('Production Budget (in Millions)')\n",
    "ax.set_ylabel('Return on Investment (%)');"
   ]
  }
 ],
 "metadata": {
  "kernelspec": {
   "display_name": "Python 3",
   "language": "python",
   "name": "python3"
  },
  "language_info": {
   "codemirror_mode": {
    "name": "ipython",
    "version": 3
   },
   "file_extension": ".py",
   "mimetype": "text/x-python",
   "name": "python",
   "nbconvert_exporter": "python",
   "pygments_lexer": "ipython3",
   "version": "3.8.5"
  }
 },
 "nbformat": 4,
 "nbformat_minor": 2
}
