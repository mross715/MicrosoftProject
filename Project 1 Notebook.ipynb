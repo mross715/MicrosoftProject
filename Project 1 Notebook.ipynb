{
 "cells": [
  {
   "cell_type": "markdown",
   "id": "00806ea3",
   "metadata": {},
   "source": [
    "## Microsoft Industry Project\n",
    "\n",
    "Microsoft has been a leader in the tech industry for many years due to its prodcut development and technological advancements. With their revenue and profits soaring throughout the years, they have decided to venture into different industries in order to diversify their investments. They have hired 4 data scientists to explore and analyze the movie industry data, and set recommendations for their first movie.\n",
    "\n",
    "### Questions to be answered\n",
    "\n",
    "1- What are the  top 5 genres with the highest ROIs\n",
    "\n",
    "2- What were the production costs for the top 5 genres with the highest ROIs\n",
    "\n",
    "3- Do release date months affect the ROI of the 5 genres"
   ]
  },
  {
   "cell_type": "markdown",
   "id": "a518ca93",
   "metadata": {},
   "source": [
    "## Importing the libraries"
   ]
  },
  {
   "cell_type": "code",
   "execution_count": 1,
   "id": "2e8a6c09",
   "metadata": {},
   "outputs": [],
   "source": [
    "# import python libraries\n",
    "import seaborn as sns\n",
    "from matplotlib import pyplot as plt\n",
    "import numpy as np\n",
    "import pandas as pd"
   ]
  },
  {
   "cell_type": "markdown",
   "id": "c2666dd9",
   "metadata": {},
   "source": [
    "## Reading the data"
   ]
  },
  {
   "cell_type": "code",
   "execution_count": 2,
   "id": "2c9548a2",
   "metadata": {},
   "outputs": [
    {
     "data": {
      "text/plain": [
       "2010"
      ]
     },
     "execution_count": 2,
     "metadata": {},
     "output_type": "execute_result"
    }
   ],
   "source": [
    "# open the first data file\n",
    "title_basics = pd.read_csv('Data/imdb.title.basics.csv.gz')\n",
    "title_basics.head()\n",
    "title_basics['start_year'].min()"
   ]
  },
  {
   "cell_type": "code",
   "execution_count": 3,
   "id": "ee485ca9",
   "metadata": {},
   "outputs": [
    {
     "data": {
      "text/html": [
       "<div>\n",
       "<style scoped>\n",
       "    .dataframe tbody tr th:only-of-type {\n",
       "        vertical-align: middle;\n",
       "    }\n",
       "\n",
       "    .dataframe tbody tr th {\n",
       "        vertical-align: top;\n",
       "    }\n",
       "\n",
       "    .dataframe thead th {\n",
       "        text-align: right;\n",
       "    }\n",
       "</style>\n",
       "<table border=\"1\" class=\"dataframe\">\n",
       "  <thead>\n",
       "    <tr style=\"text-align: right;\">\n",
       "      <th></th>\n",
       "      <th>tconst</th>\n",
       "      <th>averagerating</th>\n",
       "      <th>numvotes</th>\n",
       "    </tr>\n",
       "  </thead>\n",
       "  <tbody>\n",
       "    <tr>\n",
       "      <th>0</th>\n",
       "      <td>tt10356526</td>\n",
       "      <td>8.3</td>\n",
       "      <td>31</td>\n",
       "    </tr>\n",
       "    <tr>\n",
       "      <th>1</th>\n",
       "      <td>tt10384606</td>\n",
       "      <td>8.9</td>\n",
       "      <td>559</td>\n",
       "    </tr>\n",
       "    <tr>\n",
       "      <th>2</th>\n",
       "      <td>tt1042974</td>\n",
       "      <td>6.4</td>\n",
       "      <td>20</td>\n",
       "    </tr>\n",
       "    <tr>\n",
       "      <th>3</th>\n",
       "      <td>tt1043726</td>\n",
       "      <td>4.2</td>\n",
       "      <td>50352</td>\n",
       "    </tr>\n",
       "    <tr>\n",
       "      <th>4</th>\n",
       "      <td>tt1060240</td>\n",
       "      <td>6.5</td>\n",
       "      <td>21</td>\n",
       "    </tr>\n",
       "  </tbody>\n",
       "</table>\n",
       "</div>"
      ],
      "text/plain": [
       "       tconst  averagerating  numvotes\n",
       "0  tt10356526            8.3        31\n",
       "1  tt10384606            8.9       559\n",
       "2   tt1042974            6.4        20\n",
       "3   tt1043726            4.2     50352\n",
       "4   tt1060240            6.5        21"
      ]
     },
     "execution_count": 3,
     "metadata": {},
     "output_type": "execute_result"
    }
   ],
   "source": [
    "# open the second data file\n",
    "title_ratings = pd.read_csv('Data/imdb.title.ratings.csv.gz')\n",
    "title_ratings.head()"
   ]
  },
  {
   "cell_type": "code",
   "execution_count": 4,
   "id": "ad6e65ce",
   "metadata": {},
   "outputs": [
    {
     "data": {
      "text/html": [
       "<div>\n",
       "<style scoped>\n",
       "    .dataframe tbody tr th:only-of-type {\n",
       "        vertical-align: middle;\n",
       "    }\n",
       "\n",
       "    .dataframe tbody tr th {\n",
       "        vertical-align: top;\n",
       "    }\n",
       "\n",
       "    .dataframe thead th {\n",
       "        text-align: right;\n",
       "    }\n",
       "</style>\n",
       "<table border=\"1\" class=\"dataframe\">\n",
       "  <thead>\n",
       "    <tr style=\"text-align: right;\">\n",
       "      <th></th>\n",
       "      <th>id</th>\n",
       "      <th>release_date</th>\n",
       "      <th>movie</th>\n",
       "      <th>production_budget</th>\n",
       "      <th>domestic_gross</th>\n",
       "      <th>worldwide_gross</th>\n",
       "    </tr>\n",
       "  </thead>\n",
       "  <tbody>\n",
       "    <tr>\n",
       "      <th>0</th>\n",
       "      <td>1</td>\n",
       "      <td>Dec 18, 2009</td>\n",
       "      <td>Avatar</td>\n",
       "      <td>$425,000,000</td>\n",
       "      <td>$760,507,625</td>\n",
       "      <td>$2,776,345,279</td>\n",
       "    </tr>\n",
       "    <tr>\n",
       "      <th>1</th>\n",
       "      <td>2</td>\n",
       "      <td>May 20, 2011</td>\n",
       "      <td>Pirates of the Caribbean: On Stranger Tides</td>\n",
       "      <td>$410,600,000</td>\n",
       "      <td>$241,063,875</td>\n",
       "      <td>$1,045,663,875</td>\n",
       "    </tr>\n",
       "    <tr>\n",
       "      <th>2</th>\n",
       "      <td>3</td>\n",
       "      <td>Jun 7, 2019</td>\n",
       "      <td>Dark Phoenix</td>\n",
       "      <td>$350,000,000</td>\n",
       "      <td>$42,762,350</td>\n",
       "      <td>$149,762,350</td>\n",
       "    </tr>\n",
       "    <tr>\n",
       "      <th>3</th>\n",
       "      <td>4</td>\n",
       "      <td>May 1, 2015</td>\n",
       "      <td>Avengers: Age of Ultron</td>\n",
       "      <td>$330,600,000</td>\n",
       "      <td>$459,005,868</td>\n",
       "      <td>$1,403,013,963</td>\n",
       "    </tr>\n",
       "    <tr>\n",
       "      <th>4</th>\n",
       "      <td>5</td>\n",
       "      <td>Dec 15, 2017</td>\n",
       "      <td>Star Wars Ep. VIII: The Last Jedi</td>\n",
       "      <td>$317,000,000</td>\n",
       "      <td>$620,181,382</td>\n",
       "      <td>$1,316,721,747</td>\n",
       "    </tr>\n",
       "  </tbody>\n",
       "</table>\n",
       "</div>"
      ],
      "text/plain": [
       "   id  release_date                                        movie  \\\n",
       "0   1  Dec 18, 2009                                       Avatar   \n",
       "1   2  May 20, 2011  Pirates of the Caribbean: On Stranger Tides   \n",
       "2   3   Jun 7, 2019                                 Dark Phoenix   \n",
       "3   4   May 1, 2015                      Avengers: Age of Ultron   \n",
       "4   5  Dec 15, 2017            Star Wars Ep. VIII: The Last Jedi   \n",
       "\n",
       "  production_budget domestic_gross worldwide_gross  \n",
       "0      $425,000,000   $760,507,625  $2,776,345,279  \n",
       "1      $410,600,000   $241,063,875  $1,045,663,875  \n",
       "2      $350,000,000    $42,762,350    $149,762,350  \n",
       "3      $330,600,000   $459,005,868  $1,403,013,963  \n",
       "4      $317,000,000   $620,181,382  $1,316,721,747  "
      ]
     },
     "execution_count": 4,
     "metadata": {},
     "output_type": "execute_result"
    }
   ],
   "source": [
    "# open the third data file\n",
    "movie_budgets = pd.read_csv('Data/tn.movie_budgets.csv.gz')\n",
    "movie_budgets.head()"
   ]
  },
  {
   "cell_type": "markdown",
   "id": "0c596f02",
   "metadata": {},
   "source": [
    "## Data Preperation\n",
    "Before performing any analysis, the data has to be cleaned and merged for a proper dataset"
   ]
  },
  {
   "cell_type": "markdown",
   "id": "db1fa5e6",
   "metadata": {},
   "source": [
    "***Steps to preare data for title_basics, (-)= completed***\n",
    "1. Rename and drop columns\n",
    "2. Calculate percentage of nulls in genre and drop null values"
   ]
  },
  {
   "cell_type": "code",
   "execution_count": 5,
   "id": "78bf0e01",
   "metadata": {},
   "outputs": [
    {
     "data": {
      "text/html": [
       "<div>\n",
       "<style scoped>\n",
       "    .dataframe tbody tr th:only-of-type {\n",
       "        vertical-align: middle;\n",
       "    }\n",
       "\n",
       "    .dataframe tbody tr th {\n",
       "        vertical-align: top;\n",
       "    }\n",
       "\n",
       "    .dataframe thead th {\n",
       "        text-align: right;\n",
       "    }\n",
       "</style>\n",
       "<table border=\"1\" class=\"dataframe\">\n",
       "  <thead>\n",
       "    <tr style=\"text-align: right;\">\n",
       "      <th></th>\n",
       "      <th>tconst</th>\n",
       "      <th>primary_title</th>\n",
       "      <th>original_title</th>\n",
       "      <th>start_year</th>\n",
       "      <th>runtime_minutes</th>\n",
       "      <th>genres</th>\n",
       "    </tr>\n",
       "  </thead>\n",
       "  <tbody>\n",
       "    <tr>\n",
       "      <th>0</th>\n",
       "      <td>tt0063540</td>\n",
       "      <td>Sunghursh</td>\n",
       "      <td>Sunghursh</td>\n",
       "      <td>2013</td>\n",
       "      <td>175.0</td>\n",
       "      <td>Action,Crime,Drama</td>\n",
       "    </tr>\n",
       "    <tr>\n",
       "      <th>1</th>\n",
       "      <td>tt0066787</td>\n",
       "      <td>One Day Before the Rainy Season</td>\n",
       "      <td>Ashad Ka Ek Din</td>\n",
       "      <td>2019</td>\n",
       "      <td>114.0</td>\n",
       "      <td>Biography,Drama</td>\n",
       "    </tr>\n",
       "    <tr>\n",
       "      <th>2</th>\n",
       "      <td>tt0069049</td>\n",
       "      <td>The Other Side of the Wind</td>\n",
       "      <td>The Other Side of the Wind</td>\n",
       "      <td>2018</td>\n",
       "      <td>122.0</td>\n",
       "      <td>Drama</td>\n",
       "    </tr>\n",
       "    <tr>\n",
       "      <th>3</th>\n",
       "      <td>tt0069204</td>\n",
       "      <td>Sabse Bada Sukh</td>\n",
       "      <td>Sabse Bada Sukh</td>\n",
       "      <td>2018</td>\n",
       "      <td>NaN</td>\n",
       "      <td>Comedy,Drama</td>\n",
       "    </tr>\n",
       "    <tr>\n",
       "      <th>4</th>\n",
       "      <td>tt0100275</td>\n",
       "      <td>The Wandering Soap Opera</td>\n",
       "      <td>La Telenovela Errante</td>\n",
       "      <td>2017</td>\n",
       "      <td>80.0</td>\n",
       "      <td>Comedy,Drama,Fantasy</td>\n",
       "    </tr>\n",
       "  </tbody>\n",
       "</table>\n",
       "</div>"
      ],
      "text/plain": [
       "      tconst                    primary_title              original_title  \\\n",
       "0  tt0063540                        Sunghursh                   Sunghursh   \n",
       "1  tt0066787  One Day Before the Rainy Season             Ashad Ka Ek Din   \n",
       "2  tt0069049       The Other Side of the Wind  The Other Side of the Wind   \n",
       "3  tt0069204                  Sabse Bada Sukh             Sabse Bada Sukh   \n",
       "4  tt0100275         The Wandering Soap Opera       La Telenovela Errante   \n",
       "\n",
       "   start_year  runtime_minutes                genres  \n",
       "0        2013            175.0    Action,Crime,Drama  \n",
       "1        2019            114.0       Biography,Drama  \n",
       "2        2018            122.0                 Drama  \n",
       "3        2018              NaN          Comedy,Drama  \n",
       "4        2017             80.0  Comedy,Drama,Fantasy  "
      ]
     },
     "execution_count": 5,
     "metadata": {},
     "output_type": "execute_result"
    }
   ],
   "source": [
    "title_basics.head()"
   ]
  },
  {
   "cell_type": "code",
   "execution_count": 6,
   "id": "d5ad8439",
   "metadata": {},
   "outputs": [],
   "source": [
    "# rename columns for future merging\n",
    "title_basics.rename(columns = {'primary_title':'movie'}, inplace = True)"
   ]
  },
  {
   "cell_type": "code",
   "execution_count": 7,
   "id": "f2035891",
   "metadata": {},
   "outputs": [],
   "source": [
    "# drop columns not being used for analysis\n",
    "title_basics.drop(columns = [\"original_title\",\"runtime_minutes\"], inplace=True)"
   ]
  },
  {
   "cell_type": "markdown",
   "id": "587d4307",
   "metadata": {},
   "source": [
    "***Steps to preare data for title_basics***\n",
    "1. Rename and drop columns(-) \n",
    "2. Calculate percentage of nulls in genre and drop null values"
   ]
  },
  {
   "cell_type": "code",
   "execution_count": 8,
   "id": "f82361f8",
   "metadata": {},
   "outputs": [
    {
     "data": {
      "text/plain": [
       "3.7004598204510617"
      ]
     },
     "execution_count": 8,
     "metadata": {},
     "output_type": "execute_result"
    }
   ],
   "source": [
    "title_basics['genres'].isna().sum()/146144*100"
   ]
  },
  {
   "cell_type": "code",
   "execution_count": 9,
   "id": "95fd3cfa",
   "metadata": {},
   "outputs": [],
   "source": [
    "# drop null values for genres\n",
    "title_basics.dropna(subset= ['genres'], inplace = True)"
   ]
  },
  {
   "cell_type": "code",
   "execution_count": 10,
   "id": "c6973cf8",
   "metadata": {},
   "outputs": [
    {
     "data": {
      "text/html": [
       "<div>\n",
       "<style scoped>\n",
       "    .dataframe tbody tr th:only-of-type {\n",
       "        vertical-align: middle;\n",
       "    }\n",
       "\n",
       "    .dataframe tbody tr th {\n",
       "        vertical-align: top;\n",
       "    }\n",
       "\n",
       "    .dataframe thead th {\n",
       "        text-align: right;\n",
       "    }\n",
       "</style>\n",
       "<table border=\"1\" class=\"dataframe\">\n",
       "  <thead>\n",
       "    <tr style=\"text-align: right;\">\n",
       "      <th></th>\n",
       "      <th>tconst</th>\n",
       "      <th>movie</th>\n",
       "      <th>start_year</th>\n",
       "      <th>genres</th>\n",
       "    </tr>\n",
       "  </thead>\n",
       "  <tbody>\n",
       "    <tr>\n",
       "      <th>0</th>\n",
       "      <td>tt0063540</td>\n",
       "      <td>Sunghursh</td>\n",
       "      <td>2013</td>\n",
       "      <td>Action,Crime,Drama</td>\n",
       "    </tr>\n",
       "    <tr>\n",
       "      <th>1</th>\n",
       "      <td>tt0066787</td>\n",
       "      <td>One Day Before the Rainy Season</td>\n",
       "      <td>2019</td>\n",
       "      <td>Biography,Drama</td>\n",
       "    </tr>\n",
       "    <tr>\n",
       "      <th>2</th>\n",
       "      <td>tt0069049</td>\n",
       "      <td>The Other Side of the Wind</td>\n",
       "      <td>2018</td>\n",
       "      <td>Drama</td>\n",
       "    </tr>\n",
       "    <tr>\n",
       "      <th>3</th>\n",
       "      <td>tt0069204</td>\n",
       "      <td>Sabse Bada Sukh</td>\n",
       "      <td>2018</td>\n",
       "      <td>Comedy,Drama</td>\n",
       "    </tr>\n",
       "    <tr>\n",
       "      <th>4</th>\n",
       "      <td>tt0100275</td>\n",
       "      <td>The Wandering Soap Opera</td>\n",
       "      <td>2017</td>\n",
       "      <td>Comedy,Drama,Fantasy</td>\n",
       "    </tr>\n",
       "  </tbody>\n",
       "</table>\n",
       "</div>"
      ],
      "text/plain": [
       "      tconst                            movie  start_year  \\\n",
       "0  tt0063540                        Sunghursh        2013   \n",
       "1  tt0066787  One Day Before the Rainy Season        2019   \n",
       "2  tt0069049       The Other Side of the Wind        2018   \n",
       "3  tt0069204                  Sabse Bada Sukh        2018   \n",
       "4  tt0100275         The Wandering Soap Opera        2017   \n",
       "\n",
       "                 genres  \n",
       "0    Action,Crime,Drama  \n",
       "1       Biography,Drama  \n",
       "2                 Drama  \n",
       "3          Comedy,Drama  \n",
       "4  Comedy,Drama,Fantasy  "
      ]
     },
     "execution_count": 10,
     "metadata": {},
     "output_type": "execute_result"
    }
   ],
   "source": [
    "title_basics.head()"
   ]
  },
  {
   "cell_type": "markdown",
   "id": "351c37df",
   "metadata": {},
   "source": [
    "***Steps to prepare data for title_basics***\n",
    "1. Rename and drop columns(-) \n",
    "2. Calculate percentage of nulls in genre and drop null values(-)"
   ]
  },
  {
   "cell_type": "markdown",
   "id": "0f83ffd2",
   "metadata": {},
   "source": [
    "***"
   ]
  },
  {
   "cell_type": "markdown",
   "id": "636390ca",
   "metadata": {},
   "source": [
    "***Steps to prepare data for movie_budgets***\n",
    "1. Change column release_date to date-time\n",
    "2. Change production_budget, domestic_gross, and worldwide_budget to integers\n",
    "3. Drop id column and drop rows where worldwide_gross or production_budget == 0\n",
    "4. Add profit column & Calculate:\n",
    "    1. profit in millions\n",
    "    2. production budget in millions\n",
    "5. Add ROI column(calculates return on investment) and round to 2 decimal places\n",
    "6. Add movie year column"
   ]
  },
  {
   "cell_type": "code",
   "execution_count": 11,
   "id": "5f6514de",
   "metadata": {},
   "outputs": [],
   "source": [
    "# change release date to date-time\n",
    "movie_budgets['release_date'] = pd.to_datetime(movie_budgets['release_date'])"
   ]
  },
  {
   "cell_type": "markdown",
   "id": "75e1f352",
   "metadata": {},
   "source": [
    "***Steps to prepare data for movie_budgets***\n",
    "1. Change column release_date to date-time(-)\n",
    "2. Change production_budget, domestic_gross, and worldwide_budget to integers\n",
    "3. Drop id column and drop rows where worldwide_gross or production_budget == 0\n",
    "4. Add profit column & Calculate:\n",
    "    1. profit in millions\n",
    "    2. production budget in millions\n",
    "5. Add ROI column(calculates return on investment) and round to 2 decimal places\n",
    "6. Add movie year column"
   ]
  },
  {
   "cell_type": "code",
   "execution_count": 12,
   "id": "bfdd7a96",
   "metadata": {},
   "outputs": [],
   "source": [
    "# change production_budget, domestic_gross, and worldwide_budget to integers\n",
    "movie_budgets['production_budget'] = movie_budgets['production_budget'].replace('[\\$,]', '', regex=True).astype(float)\n",
    "movie_budgets['domestic_gross'] = movie_budgets['domestic_gross'].replace('[\\$,]', '', regex=True).astype(float)\n",
    "movie_budgets['worldwide_gross'] = movie_budgets['worldwide_gross'].replace('[\\$,]', '', regex=True).astype(float)"
   ]
  },
  {
   "cell_type": "markdown",
   "id": "0cbafd1b",
   "metadata": {},
   "source": [
    "***Steps to prepare data for movie_budgets***\n",
    "1. Change column release_date to date-time(-)\n",
    "2. Change production_budget, domestic_gross, and worldwide_budget to integers(-)\n",
    "3. Drop id column and drop rows where worldwide_gross or production_budget == 0\n",
    "4. Add profit column & Calculate:\n",
    "    1. profit in millions\n",
    "    2. production budget in millions\n",
    "5. Add ROI column(calculates return on investment) and round to 2 decimal places\n",
    "6. Add movie year column"
   ]
  },
  {
   "cell_type": "code",
   "execution_count": 13,
   "id": "b644300a",
   "metadata": {},
   "outputs": [],
   "source": [
    "# drop id column\n",
    "movie_budgets.drop(columns = [\"id\"], inplace=True)\n",
    "# drop rows where worldwide_gross or production_budget is 0\n",
    "movie_budgets = movie_budgets[movie_budgets.worldwide_gross != 0]\n",
    "movie_budgets = movie_budgets[movie_budgets.production_budget != 0]"
   ]
  },
  {
   "cell_type": "markdown",
   "id": "69e9802d",
   "metadata": {},
   "source": [
    "***Steps to prepare data for movie_budgets***\n",
    "1. Change column release_date to date-time(-)\n",
    "2. Change production_budget, domestic_gross, and worldwide_budget to integers(-)\n",
    "3. Drop id column and drop rows where worldwide_gross or production_budget == 0(-)\n",
    "4. Add profit column & Calculate:\n",
    "    1. profit in millions\n",
    "    2. production budget in millions\n",
    "5. Add ROI column(calculates return on investment) and round to 2 decimal places\n",
    "6. Add movie year column"
   ]
  },
  {
   "cell_type": "code",
   "execution_count": 14,
   "id": "bb647476",
   "metadata": {},
   "outputs": [],
   "source": [
    "# add a profit column to movie_budgets\n",
    "movie_budgets['profit'] = movie_budgets['worldwide_gross'] - movie_budgets['production_budget']\n",
    "# calculate profit in millions\n",
    "movie_budgets['profit_million']=(movie_budgets['profit']/1000000)\n",
    "# calculate production budget in millions\n",
    "movie_budgets['production_budget_million']=(movie_budgets['production_budget']/1000000)"
   ]
  },
  {
   "cell_type": "markdown",
   "id": "be2ca9ab",
   "metadata": {},
   "source": [
    "***Steps to prepare data for movie_budgets***\n",
    "1. Change column release_date to date-time(-)\n",
    "2. Change production_budget, domestic_gross, and worldwide_budget to integers(-)\n",
    "3. Drop id column and drop rows where worldwide_gross or production_budget == 0(-)\n",
    "4. Add profit column & Calculate:(-)\n",
    "    1. profit in millions\n",
    "    2. production budget in millions\n",
    "5. Add ROI column(calculates return on investment) and round to 2 decimal places\n",
    "6. Add movie year column"
   ]
  },
  {
   "cell_type": "code",
   "execution_count": 15,
   "id": "c3b89ab5",
   "metadata": {},
   "outputs": [],
   "source": [
    "# add a column ROI calculating the return on investment\n",
    "movie_budgets['ROI'] = (movie_budgets['profit'] / movie_budgets['production_budget']) * 100\n",
    "# round ROI to 2 decimal places\n",
    "movie_budgets = movie_budgets.round({'ROI': 2})"
   ]
  },
  {
   "cell_type": "markdown",
   "id": "40b3bc77",
   "metadata": {},
   "source": [
    "***Steps to prepare data for movie_budgets***\n",
    "1. Change column release_date to date-time(-)\n",
    "2. Change production_budget, domestic_gross, and worldwide_budget to integers(-)\n",
    "3. Drop id column and drop rows where worldwide_gross or production_budget == 0(-)\n",
    "4. Add profit column & Calculate:(-)\n",
    "    1. profit in millions\n",
    "    2. production budget in millions\n",
    "5. Add ROI column(calculates return on investment) and round to 2 decimal places(-)\n",
    "6. Add movie year column"
   ]
  },
  {
   "cell_type": "code",
   "execution_count": 16,
   "id": "9dcd3d2a",
   "metadata": {},
   "outputs": [],
   "source": [
    "# add a column for movie year\n",
    "movie_budgets['year'] = pd.DatetimeIndex(movie_budgets['release_date']).year"
   ]
  },
  {
   "cell_type": "markdown",
   "id": "3d6950d0",
   "metadata": {},
   "source": [
    "***Steps to prepare data for movie_budgets***\n",
    "1. Change column release_date to date-time(-)\n",
    "2. Change production_budget, domestic_gross, and worldwide_budget to integers(-)\n",
    "3. Drop id column and drop rows where worldwide_gross or production_budget == 0(-)\n",
    "4. Add profit column & Calculate:(-)\n",
    "    1. profit in millions\n",
    "    2. production budget in millions\n",
    "5. Add ROI column(calculates return on investment) and round to 2 decimal places(-)\n",
    "6. Add movie year column(-)"
   ]
  },
  {
   "cell_type": "code",
   "execution_count": 17,
   "id": "44c8fb38",
   "metadata": {},
   "outputs": [
    {
     "data": {
      "text/html": [
       "<div>\n",
       "<style scoped>\n",
       "    .dataframe tbody tr th:only-of-type {\n",
       "        vertical-align: middle;\n",
       "    }\n",
       "\n",
       "    .dataframe tbody tr th {\n",
       "        vertical-align: top;\n",
       "    }\n",
       "\n",
       "    .dataframe thead th {\n",
       "        text-align: right;\n",
       "    }\n",
       "</style>\n",
       "<table border=\"1\" class=\"dataframe\">\n",
       "  <thead>\n",
       "    <tr style=\"text-align: right;\">\n",
       "      <th></th>\n",
       "      <th>release_date</th>\n",
       "      <th>movie</th>\n",
       "      <th>production_budget</th>\n",
       "      <th>domestic_gross</th>\n",
       "      <th>worldwide_gross</th>\n",
       "      <th>profit</th>\n",
       "      <th>profit_million</th>\n",
       "      <th>production_budget_million</th>\n",
       "      <th>ROI</th>\n",
       "      <th>year</th>\n",
       "    </tr>\n",
       "  </thead>\n",
       "  <tbody>\n",
       "    <tr>\n",
       "      <th>0</th>\n",
       "      <td>2009-12-18</td>\n",
       "      <td>Avatar</td>\n",
       "      <td>425000000.0</td>\n",
       "      <td>760507625.0</td>\n",
       "      <td>2.776345e+09</td>\n",
       "      <td>2.351345e+09</td>\n",
       "      <td>2351.345279</td>\n",
       "      <td>425.0</td>\n",
       "      <td>553.26</td>\n",
       "      <td>2009</td>\n",
       "    </tr>\n",
       "    <tr>\n",
       "      <th>1</th>\n",
       "      <td>2011-05-20</td>\n",
       "      <td>Pirates of the Caribbean: On Stranger Tides</td>\n",
       "      <td>410600000.0</td>\n",
       "      <td>241063875.0</td>\n",
       "      <td>1.045664e+09</td>\n",
       "      <td>6.350639e+08</td>\n",
       "      <td>635.063875</td>\n",
       "      <td>410.6</td>\n",
       "      <td>154.67</td>\n",
       "      <td>2011</td>\n",
       "    </tr>\n",
       "    <tr>\n",
       "      <th>2</th>\n",
       "      <td>2019-06-07</td>\n",
       "      <td>Dark Phoenix</td>\n",
       "      <td>350000000.0</td>\n",
       "      <td>42762350.0</td>\n",
       "      <td>1.497624e+08</td>\n",
       "      <td>-2.002376e+08</td>\n",
       "      <td>-200.237650</td>\n",
       "      <td>350.0</td>\n",
       "      <td>-57.21</td>\n",
       "      <td>2019</td>\n",
       "    </tr>\n",
       "    <tr>\n",
       "      <th>3</th>\n",
       "      <td>2015-05-01</td>\n",
       "      <td>Avengers: Age of Ultron</td>\n",
       "      <td>330600000.0</td>\n",
       "      <td>459005868.0</td>\n",
       "      <td>1.403014e+09</td>\n",
       "      <td>1.072414e+09</td>\n",
       "      <td>1072.413963</td>\n",
       "      <td>330.6</td>\n",
       "      <td>324.38</td>\n",
       "      <td>2015</td>\n",
       "    </tr>\n",
       "    <tr>\n",
       "      <th>4</th>\n",
       "      <td>2017-12-15</td>\n",
       "      <td>Star Wars Ep. VIII: The Last Jedi</td>\n",
       "      <td>317000000.0</td>\n",
       "      <td>620181382.0</td>\n",
       "      <td>1.316722e+09</td>\n",
       "      <td>9.997217e+08</td>\n",
       "      <td>999.721747</td>\n",
       "      <td>317.0</td>\n",
       "      <td>315.37</td>\n",
       "      <td>2017</td>\n",
       "    </tr>\n",
       "  </tbody>\n",
       "</table>\n",
       "</div>"
      ],
      "text/plain": [
       "  release_date                                        movie  \\\n",
       "0   2009-12-18                                       Avatar   \n",
       "1   2011-05-20  Pirates of the Caribbean: On Stranger Tides   \n",
       "2   2019-06-07                                 Dark Phoenix   \n",
       "3   2015-05-01                      Avengers: Age of Ultron   \n",
       "4   2017-12-15            Star Wars Ep. VIII: The Last Jedi   \n",
       "\n",
       "   production_budget  domestic_gross  worldwide_gross        profit  \\\n",
       "0        425000000.0     760507625.0     2.776345e+09  2.351345e+09   \n",
       "1        410600000.0     241063875.0     1.045664e+09  6.350639e+08   \n",
       "2        350000000.0      42762350.0     1.497624e+08 -2.002376e+08   \n",
       "3        330600000.0     459005868.0     1.403014e+09  1.072414e+09   \n",
       "4        317000000.0     620181382.0     1.316722e+09  9.997217e+08   \n",
       "\n",
       "   profit_million  production_budget_million     ROI  year  \n",
       "0     2351.345279                      425.0  553.26  2009  \n",
       "1      635.063875                      410.6  154.67  2011  \n",
       "2     -200.237650                      350.0  -57.21  2019  \n",
       "3     1072.413963                      330.6  324.38  2015  \n",
       "4      999.721747                      317.0  315.37  2017  "
      ]
     },
     "execution_count": 17,
     "metadata": {},
     "output_type": "execute_result"
    }
   ],
   "source": [
    "movie_budgets.head()"
   ]
  },
  {
   "cell_type": "markdown",
   "id": "b8023d99",
   "metadata": {},
   "source": [
    "***"
   ]
  },
  {
   "cell_type": "markdown",
   "id": "eee7034e",
   "metadata": {},
   "source": [
    "## Merging Data Tables\n",
    "Description of what we are doing: 'Merge the two tables in order to get a proper dataframe' - review "
   ]
  },
  {
   "cell_type": "markdown",
   "id": "a3182ef0",
   "metadata": {},
   "source": [
    "***Steps to merge data for new dataframe: mdf, (-)= completed***\n",
    "1. Merge title_basics and title_ratings into: imdb_data\n",
    "2. Merge imdb_data and movie_budgets into: mdf"
   ]
  },
  {
   "cell_type": "code",
   "execution_count": 18,
   "id": "0190accc",
   "metadata": {},
   "outputs": [],
   "source": [
    "# merge title_basics and title_ratings on tconst\n",
    "imdb_data = pd.merge(title_basics, title_ratings, how = 'inner', on = 'tconst')"
   ]
  },
  {
   "cell_type": "code",
   "execution_count": 19,
   "id": "a894e61a",
   "metadata": {},
   "outputs": [],
   "source": [
    "# merge imdb_data with movie_budgets\n",
    "mdf = pd.merge(imdb_data, movie_budgets, how = 'inner', on = 'movie')"
   ]
  },
  {
   "cell_type": "markdown",
   "id": "af2100de",
   "metadata": {},
   "source": [
    "***Steps to merge data for new dataframe: mdf, (-)= completed***\n",
    "1. Merge title_basics and title_ratings into: imdb_data(-)\n",
    "2. Merge imdb_data and movie_budgets into: mdf(-)"
   ]
  },
  {
   "cell_type": "code",
   "execution_count": 20,
   "id": "866a745c",
   "metadata": {},
   "outputs": [
    {
     "data": {
      "text/plain": [
       "(2592, 15)"
      ]
     },
     "execution_count": 20,
     "metadata": {},
     "output_type": "execute_result"
    }
   ],
   "source": [
    "mdf.shape"
   ]
  },
  {
   "cell_type": "markdown",
   "id": "a553df3a",
   "metadata": {},
   "source": [
    "***"
   ]
  },
  {
   "cell_type": "markdown",
   "id": "5e1d79d2",
   "metadata": {},
   "source": [
    "## Preparing mdf dataframe\n",
    "The dataframe ***mdf*** needs to be cleaned, sorted and filtered in order to keep the proper values"
   ]
  },
  {
   "cell_type": "markdown",
   "id": "49cd7aa3",
   "metadata": {},
   "source": [
    "***Steps to prepare dataframe: mdf, (-)= completed***\n",
    "1. Move the movies with the most votes on imdb_data up to top\n",
    "2. Create a column same_year that is 0 if the movies have the same start year and same year from the release date column\n",
    "3. Change mdf to include movies only if same_year == 0\n",
    "4. Drop:\n",
    "    1. duplicate titles\n",
    "    2. tconst"
   ]
  },
  {
   "cell_type": "code",
   "execution_count": 21,
   "id": "84e29b7e",
   "metadata": {},
   "outputs": [],
   "source": [
    "#1\n",
    "mdf=mdf.sort_values(by='numvotes', ascending = False)"
   ]
  },
  {
   "cell_type": "markdown",
   "id": "0da4fd3a",
   "metadata": {},
   "source": [
    "***Steps to prepare dataframe: mdf, (-)= completed***\n",
    "1. Move the movies with the most votes on imdb_data up to top(-)\n",
    "2. Create a column same_year that is 0 if the movies have the same start year and same year from the release date column\n",
    "3. Change mdf to include movies only if same_year == 0\n",
    "4. Drop:\n",
    "    1. duplicate titles\n",
    "    2. tconst"
   ]
  },
  {
   "cell_type": "code",
   "execution_count": 22,
   "id": "4394bc2a",
   "metadata": {},
   "outputs": [],
   "source": [
    "#2\n",
    "mdf['same_year']= mdf['start_year']-mdf['year']"
   ]
  },
  {
   "cell_type": "code",
   "execution_count": 23,
   "id": "6f999e2c",
   "metadata": {},
   "outputs": [],
   "source": [
    "#3\n",
    "mdf = mdf.loc[mdf['same_year']== 0]"
   ]
  },
  {
   "cell_type": "markdown",
   "id": "f099419a",
   "metadata": {},
   "source": [
    "***Steps to prepare dataframe: mdf, (-)= completed***\n",
    "1. Move the movies with the most votes on imdb_data up to top(-)\n",
    "2. Create a column same_year that is 0 if the movies have the same start year and same year from the release date column(-)\n",
    "3. Change mdf to include movies only if same_year == 0(-)\n",
    "4. Drop:\n",
    "    1. duplicate titles\n",
    "    2. tconst"
   ]
  },
  {
   "cell_type": "code",
   "execution_count": 24,
   "id": "896e1969",
   "metadata": {},
   "outputs": [],
   "source": [
    "#4\n",
    "mdf = mdf.drop_duplicates(subset='movie')\n",
    "mdf.drop(columns = [\"tconst\"], inplace=True)"
   ]
  },
  {
   "cell_type": "markdown",
   "id": "6cc74e3d",
   "metadata": {},
   "source": [
    "***Steps to prepare dataframe: mdf, (-)= completed***\n",
    "1. Move the movies with the most votes on imdb_data up to top(-)\n",
    "2. Create a column same_year that is 0 if the movies have the same start year and same year from the release date column(-)\n",
    "3. Change mdf to include movies only if same_year == 0(-)\n",
    "4. Drop:(-)\n",
    "    1. duplicate titles\n",
    "    2. tconst"
   ]
  },
  {
   "cell_type": "code",
   "execution_count": 25,
   "id": "58976b2e",
   "metadata": {},
   "outputs": [
    {
     "data": {
      "text/plain": [
       "(1357, 15)"
      ]
     },
     "execution_count": 25,
     "metadata": {},
     "output_type": "execute_result"
    }
   ],
   "source": [
    "mdf.shape"
   ]
  },
  {
   "cell_type": "markdown",
   "id": "c1879115",
   "metadata": {},
   "source": [
    "***"
   ]
  },
  {
   "cell_type": "markdown",
   "id": "d580597d",
   "metadata": {},
   "source": [
    "## Checking for data rows\n",
    "The IMDB data contains movies only from 2010 on. The movie budgets table has movies ranging back to 1915, so we figured that when we merge the two tables we will be limited in the number of movies that are shared between the two tables. \n",
    "\n",
    "To make sure our merge of IMDB data with the movie budgets provided us with a good number of data, before merging we looked at the mean ROI from the movie budgets table for the years after 2010.  Then we compared it to the mean ROI after merging the two tables."
   ]
  },
  {
   "cell_type": "markdown",
   "id": "14b8b693",
   "metadata": {},
   "source": [
    "***Steps to check for number of data rows, (-)= completed***\n",
    "1. Create movie_budgets_filtered, filtering the values from movie_budgets['year'] >= 10\n",
    "2. Find the ROI mean of movie_budgets_filtered\n",
    "3. Find the ROI mean of mdf"
   ]
  },
  {
   "cell_type": "code",
   "execution_count": 26,
   "id": "6fcd6a2d",
   "metadata": {},
   "outputs": [],
   "source": [
    "#1\n",
    "movie_budgets_filtered = movie_budgets[movie_budgets['year'] >= 2010]"
   ]
  },
  {
   "cell_type": "code",
   "execution_count": 27,
   "id": "aa3b4df1",
   "metadata": {},
   "outputs": [
    {
     "data": {
      "text/plain": [
       "266.4769458896981"
      ]
     },
     "execution_count": 27,
     "metadata": {},
     "output_type": "execute_result"
    }
   ],
   "source": [
    "#2\n",
    "movie_budgets_filtered['ROI'].mean()"
   ]
  },
  {
   "cell_type": "code",
   "execution_count": 28,
   "id": "4efd910d",
   "metadata": {},
   "outputs": [
    {
     "data": {
      "text/plain": [
       "298.7207295504783"
      ]
     },
     "execution_count": 28,
     "metadata": {},
     "output_type": "execute_result"
    }
   ],
   "source": [
    "#3\n",
    "mdf['ROI'].mean()"
   ]
  },
  {
   "cell_type": "markdown",
   "id": "2d0f9a1d",
   "metadata": {},
   "source": [
    "The mean ROI for the data before merging is slightly lower than the data after merging, however they are close enough to continue working with the reduced amount of data."
   ]
  },
  {
   "cell_type": "markdown",
   "id": "0a878f89",
   "metadata": {},
   "source": [
    "## Finding how to subset mdf['genre']\n",
    "We then explored how to proceed with the gernes. First we investigated whether a subset of the  combined genres would represent enough of the movie data to look at the combined genres as individual categories."
   ]
  },
  {
   "cell_type": "code",
   "execution_count": 29,
   "id": "5eaf42d0",
   "metadata": {},
   "outputs": [
    {
     "data": {
      "text/plain": [
       "Adventure,Animation,Comedy      67\n",
       "Action,Adventure,Sci-Fi         51\n",
       "Comedy,Drama,Romance            49\n",
       "Comedy                          48\n",
       "Comedy,Drama                    42\n",
       "                                ..\n",
       "Drama,Music,Musical              1\n",
       "Adventure,Comedy,Romance         1\n",
       "Action,Comedy,Sport              1\n",
       "Adventure,Drama,History          1\n",
       "Action,Biography,Documentary     1\n",
       "Name: genres, Length: 214, dtype: int64"
      ]
     },
     "execution_count": 29,
     "metadata": {},
     "output_type": "execute_result"
    }
   ],
   "source": [
    "mdf['genres'].value_counts()"
   ]
  },
  {
   "cell_type": "markdown",
   "id": "2393471f",
   "metadata": {},
   "source": [
    "There are 214 unique genre combinations. We look at the top 20 genres (about 10% of the total genres) to see if that represented enough of the data set to proceed with the combined genres."
   ]
  },
  {
   "cell_type": "code",
   "execution_count": 34,
   "id": "ae0b25b1",
   "metadata": {},
   "outputs": [],
   "source": [
    "#ask how this code works*\n",
    "mdf_combined_genres = mdf[mdf['genres'].map(mdf['genres'].value_counts() >= 17)] "
   ]
  },
  {
   "cell_type": "code",
   "execution_count": 35,
   "id": "f2f853f3",
   "metadata": {},
   "outputs": [
    {
     "data": {
      "text/plain": [
       "Adventure,Animation,Comedy    67\n",
       "Action,Adventure,Sci-Fi       51\n",
       "Comedy,Drama,Romance          49\n",
       "Comedy                        48\n",
       "Comedy,Drama                  42\n",
       "Drama                         40\n",
       "Comedy,Romance                40\n",
       "Action,Crime,Drama            38\n",
       "Drama,Romance                 32\n",
       "Action,Adventure,Fantasy      31\n",
       "Action,Comedy,Crime           29\n",
       "Horror,Mystery,Thriller       29\n",
       "Action,Adventure,Drama        26\n",
       "Drama,Thriller                21\n",
       "Crime,Drama,Thriller          21\n",
       "Action,Crime,Thriller         21\n",
       "Biography,Drama,History       20\n",
       "Action,Adventure,Comedy       20\n",
       "Horror,Thriller               20\n",
       "Biography,Comedy,Drama        17\n",
       "Name: genres, dtype: int64"
      ]
     },
     "execution_count": 35,
     "metadata": {},
     "output_type": "execute_result"
    }
   ],
   "source": [
    "mdf_combined_genres['genres'].value_counts()"
   ]
  },
  {
   "cell_type": "code",
   "execution_count": null,
   "id": "69b6b966",
   "metadata": {},
   "outputs": [],
   "source": [
    "mdf_combined_genres['genres'].value_counts().sum()"
   ]
  },
  {
   "cell_type": "code",
   "execution_count": null,
   "id": "16813c43",
   "metadata": {},
   "outputs": [],
   "source": [
    "662/1357"
   ]
  },
  {
   "cell_type": "markdown",
   "id": "334ae05f",
   "metadata": {},
   "source": [
    "The top 20 combined genres, which is about 10% of the combined genres, represent less than 50% of the movies in the data. For that reason, it will be more helpful to look at the movies separated into single genres."
   ]
  },
  {
   "cell_type": "markdown",
   "id": "1915f7e3",
   "metadata": {},
   "source": [
    "## Seperating mdf['genre'] \n",
    "Each genre is seperated into its own value in order to compare the averages of the ROI. This will allow us to view the genres with the highest average ROI."
   ]
  },
  {
   "cell_type": "markdown",
   "id": "3baa6d54",
   "metadata": {},
   "source": [
    "***Steps to seperating genres, (-)= completed***\n",
    "1. Seperate genres column values into lists\n",
    "2. Create a new dataframe mdf2 to filter each genre within a movie\n",
    "3. Remove 'The Gallows' movie: is an outlier\n",
    "4. Create sorted_genres2 dataframe which is grouped by the unique genres"
   ]
  },
  {
   "cell_type": "code",
   "execution_count": 37,
   "id": "1e60ad50",
   "metadata": {},
   "outputs": [],
   "source": [
    "#1\n",
    "mdf[\"genres\"] = mdf[\"genres\"].apply(lambda x: x.split(\",\") if type(x) == str else x)"
   ]
  },
  {
   "cell_type": "code",
   "execution_count": 38,
   "id": "f8e7ec4d",
   "metadata": {},
   "outputs": [
    {
     "data": {
      "text/plain": [
       "(1357, 15)"
      ]
     },
     "execution_count": 38,
     "metadata": {},
     "output_type": "execute_result"
    }
   ],
   "source": [
    "mdf.shape"
   ]
  },
  {
   "cell_type": "code",
   "execution_count": 39,
   "id": "9d2c2b76",
   "metadata": {},
   "outputs": [
    {
     "data": {
      "text/html": [
       "<div>\n",
       "<style scoped>\n",
       "    .dataframe tbody tr th:only-of-type {\n",
       "        vertical-align: middle;\n",
       "    }\n",
       "\n",
       "    .dataframe tbody tr th {\n",
       "        vertical-align: top;\n",
       "    }\n",
       "\n",
       "    .dataframe thead th {\n",
       "        text-align: right;\n",
       "    }\n",
       "</style>\n",
       "<table border=\"1\" class=\"dataframe\">\n",
       "  <thead>\n",
       "    <tr style=\"text-align: right;\">\n",
       "      <th></th>\n",
       "      <th>movie</th>\n",
       "      <th>start_year</th>\n",
       "      <th>genres</th>\n",
       "      <th>averagerating</th>\n",
       "      <th>numvotes</th>\n",
       "      <th>release_date</th>\n",
       "      <th>production_budget</th>\n",
       "      <th>domestic_gross</th>\n",
       "      <th>worldwide_gross</th>\n",
       "      <th>profit</th>\n",
       "      <th>profit_million</th>\n",
       "      <th>production_budget_million</th>\n",
       "      <th>ROI</th>\n",
       "      <th>year</th>\n",
       "      <th>same_year</th>\n",
       "    </tr>\n",
       "  </thead>\n",
       "  <tbody>\n",
       "    <tr>\n",
       "      <th>510</th>\n",
       "      <td>Inception</td>\n",
       "      <td>2010</td>\n",
       "      <td>[Action, Adventure, Sci-Fi]</td>\n",
       "      <td>8.8</td>\n",
       "      <td>1841066</td>\n",
       "      <td>2010-07-16</td>\n",
       "      <td>160000000.0</td>\n",
       "      <td>292576195.0</td>\n",
       "      <td>8.355246e+08</td>\n",
       "      <td>6.755246e+08</td>\n",
       "      <td>675.524642</td>\n",
       "      <td>160.0</td>\n",
       "      <td>422.20</td>\n",
       "      <td>2010</td>\n",
       "      <td>0</td>\n",
       "    </tr>\n",
       "    <tr>\n",
       "      <th>477</th>\n",
       "      <td>The Dark Knight Rises</td>\n",
       "      <td>2012</td>\n",
       "      <td>[Action, Thriller]</td>\n",
       "      <td>8.4</td>\n",
       "      <td>1387769</td>\n",
       "      <td>2012-07-20</td>\n",
       "      <td>275000000.0</td>\n",
       "      <td>448139099.0</td>\n",
       "      <td>1.084439e+09</td>\n",
       "      <td>8.094391e+08</td>\n",
       "      <td>809.439099</td>\n",
       "      <td>275.0</td>\n",
       "      <td>294.34</td>\n",
       "      <td>2012</td>\n",
       "      <td>0</td>\n",
       "    </tr>\n",
       "    <tr>\n",
       "      <th>96</th>\n",
       "      <td>Interstellar</td>\n",
       "      <td>2014</td>\n",
       "      <td>[Adventure, Drama, Sci-Fi]</td>\n",
       "      <td>8.6</td>\n",
       "      <td>1299334</td>\n",
       "      <td>2014-11-05</td>\n",
       "      <td>165000000.0</td>\n",
       "      <td>188017894.0</td>\n",
       "      <td>6.663794e+08</td>\n",
       "      <td>5.013794e+08</td>\n",
       "      <td>501.379375</td>\n",
       "      <td>165.0</td>\n",
       "      <td>303.87</td>\n",
       "      <td>2014</td>\n",
       "      <td>0</td>\n",
       "    </tr>\n",
       "    <tr>\n",
       "      <th>1296</th>\n",
       "      <td>Django Unchained</td>\n",
       "      <td>2012</td>\n",
       "      <td>[Drama, Western]</td>\n",
       "      <td>8.4</td>\n",
       "      <td>1211405</td>\n",
       "      <td>2012-12-25</td>\n",
       "      <td>100000000.0</td>\n",
       "      <td>162805434.0</td>\n",
       "      <td>4.499483e+08</td>\n",
       "      <td>3.499483e+08</td>\n",
       "      <td>349.948323</td>\n",
       "      <td>100.0</td>\n",
       "      <td>349.95</td>\n",
       "      <td>2012</td>\n",
       "      <td>0</td>\n",
       "    </tr>\n",
       "    <tr>\n",
       "      <th>110</th>\n",
       "      <td>The Avengers</td>\n",
       "      <td>2012</td>\n",
       "      <td>[Action, Adventure, Sci-Fi]</td>\n",
       "      <td>8.1</td>\n",
       "      <td>1183655</td>\n",
       "      <td>2012-05-04</td>\n",
       "      <td>225000000.0</td>\n",
       "      <td>623279547.0</td>\n",
       "      <td>1.517936e+09</td>\n",
       "      <td>1.292936e+09</td>\n",
       "      <td>1292.935897</td>\n",
       "      <td>225.0</td>\n",
       "      <td>574.64</td>\n",
       "      <td>2012</td>\n",
       "      <td>0</td>\n",
       "    </tr>\n",
       "  </tbody>\n",
       "</table>\n",
       "</div>"
      ],
      "text/plain": [
       "                      movie  start_year                       genres  \\\n",
       "510               Inception        2010  [Action, Adventure, Sci-Fi]   \n",
       "477   The Dark Knight Rises        2012           [Action, Thriller]   \n",
       "96             Interstellar        2014   [Adventure, Drama, Sci-Fi]   \n",
       "1296       Django Unchained        2012             [Drama, Western]   \n",
       "110            The Avengers        2012  [Action, Adventure, Sci-Fi]   \n",
       "\n",
       "      averagerating  numvotes release_date  production_budget  domestic_gross  \\\n",
       "510             8.8   1841066   2010-07-16        160000000.0     292576195.0   \n",
       "477             8.4   1387769   2012-07-20        275000000.0     448139099.0   \n",
       "96              8.6   1299334   2014-11-05        165000000.0     188017894.0   \n",
       "1296            8.4   1211405   2012-12-25        100000000.0     162805434.0   \n",
       "110             8.1   1183655   2012-05-04        225000000.0     623279547.0   \n",
       "\n",
       "      worldwide_gross        profit  profit_million  \\\n",
       "510      8.355246e+08  6.755246e+08      675.524642   \n",
       "477      1.084439e+09  8.094391e+08      809.439099   \n",
       "96       6.663794e+08  5.013794e+08      501.379375   \n",
       "1296     4.499483e+08  3.499483e+08      349.948323   \n",
       "110      1.517936e+09  1.292936e+09     1292.935897   \n",
       "\n",
       "      production_budget_million     ROI  year  same_year  \n",
       "510                       160.0  422.20  2010          0  \n",
       "477                       275.0  294.34  2012          0  \n",
       "96                        165.0  303.87  2014          0  \n",
       "1296                      100.0  349.95  2012          0  \n",
       "110                       225.0  574.64  2012          0  "
      ]
     },
     "execution_count": 39,
     "metadata": {},
     "output_type": "execute_result"
    }
   ],
   "source": [
    "mdf.head()"
   ]
  },
  {
   "cell_type": "code",
   "execution_count": 42,
   "id": "bcae7072",
   "metadata": {},
   "outputs": [],
   "source": [
    "#2\n",
    "mdf2 = mdf.explode('genres')"
   ]
  },
  {
   "cell_type": "code",
   "execution_count": 43,
   "id": "f6d6f4db",
   "metadata": {},
   "outputs": [
    {
     "data": {
      "text/plain": [
       "array(['Action', 'Adventure', 'Sci-Fi', 'Thriller', 'Drama', 'Western',\n",
       "       'Biography', 'Crime', 'Mystery', 'Comedy', 'Family', 'Fantasy',\n",
       "       'Animation', 'Romance', 'Music', 'History', 'Horror', 'Sport',\n",
       "       'War', 'Musical', 'Documentary'], dtype=object)"
      ]
     },
     "execution_count": 43,
     "metadata": {},
     "output_type": "execute_result"
    }
   ],
   "source": [
    "mdf2['genres'].unique()"
   ]
  },
  {
   "cell_type": "code",
   "execution_count": 44,
   "id": "cf347b62",
   "metadata": {},
   "outputs": [
    {
     "data": {
      "text/plain": [
       "21"
      ]
     },
     "execution_count": 44,
     "metadata": {},
     "output_type": "execute_result"
    }
   ],
   "source": [
    "len(mdf2['genres'].unique())"
   ]
  },
  {
   "cell_type": "code",
   "execution_count": 45,
   "id": "e505655d",
   "metadata": {},
   "outputs": [],
   "source": [
    "#3\n",
    "no_gallows = mdf2.drop(index = 1722).sort_values(by=\"ROI\",ascending = False)"
   ]
  },
  {
   "cell_type": "code",
   "execution_count": 46,
   "id": "7a3d2808",
   "metadata": {},
   "outputs": [
    {
     "data": {
      "text/plain": [
       "['Horror', 'Mystery', 'Thriller', 'Sci-Fi', 'Animation']"
      ]
     },
     "execution_count": 46,
     "metadata": {},
     "output_type": "execute_result"
    }
   ],
   "source": [
    "#4\n",
    "sorted_genres2 = no_gallows.groupby([\"genres\"], as_index=False).mean().sort_values(by = \"ROI\", ascending=False)\n",
    "\n",
    "top5genres_v2 = list(sorted_genres2['genres'].values[0:5])\n",
    "top5genres_v2"
   ]
  },
  {
   "cell_type": "code",
   "execution_count": 47,
   "id": "6b2bc39c",
   "metadata": {},
   "outputs": [
    {
     "data": {
      "text/html": [
       "<div>\n",
       "<style scoped>\n",
       "    .dataframe tbody tr th:only-of-type {\n",
       "        vertical-align: middle;\n",
       "    }\n",
       "\n",
       "    .dataframe tbody tr th {\n",
       "        vertical-align: top;\n",
       "    }\n",
       "\n",
       "    .dataframe thead th {\n",
       "        text-align: right;\n",
       "    }\n",
       "</style>\n",
       "<table border=\"1\" class=\"dataframe\">\n",
       "  <thead>\n",
       "    <tr style=\"text-align: right;\">\n",
       "      <th></th>\n",
       "      <th>genres</th>\n",
       "      <th>start_year</th>\n",
       "      <th>averagerating</th>\n",
       "      <th>numvotes</th>\n",
       "      <th>production_budget</th>\n",
       "      <th>domestic_gross</th>\n",
       "      <th>worldwide_gross</th>\n",
       "      <th>profit</th>\n",
       "      <th>profit_million</th>\n",
       "      <th>production_budget_million</th>\n",
       "      <th>ROI</th>\n",
       "      <th>year</th>\n",
       "      <th>same_year</th>\n",
       "    </tr>\n",
       "  </thead>\n",
       "  <tbody>\n",
       "    <tr>\n",
       "      <th>11</th>\n",
       "      <td>Horror</td>\n",
       "      <td>2014.167785</td>\n",
       "      <td>5.708054</td>\n",
       "      <td>77185.268456</td>\n",
       "      <td>2.051299e+07</td>\n",
       "      <td>3.630081e+07</td>\n",
       "      <td>7.965158e+07</td>\n",
       "      <td>5.913859e+07</td>\n",
       "      <td>59.138593</td>\n",
       "      <td>20.512987</td>\n",
       "      <td>698.902752</td>\n",
       "      <td>2014.167785</td>\n",
       "      <td>0.0</td>\n",
       "    </tr>\n",
       "    <tr>\n",
       "      <th>14</th>\n",
       "      <td>Mystery</td>\n",
       "      <td>2014.200000</td>\n",
       "      <td>6.190435</td>\n",
       "      <td>135118.060870</td>\n",
       "      <td>2.644637e+07</td>\n",
       "      <td>4.246262e+07</td>\n",
       "      <td>9.798276e+07</td>\n",
       "      <td>7.153639e+07</td>\n",
       "      <td>71.536385</td>\n",
       "      <td>26.446371</td>\n",
       "      <td>598.706087</td>\n",
       "      <td>2014.200000</td>\n",
       "      <td>0.0</td>\n",
       "    </tr>\n",
       "    <tr>\n",
       "      <th>18</th>\n",
       "      <td>Thriller</td>\n",
       "      <td>2013.753247</td>\n",
       "      <td>6.129004</td>\n",
       "      <td>133254.857143</td>\n",
       "      <td>3.568663e+07</td>\n",
       "      <td>4.924466e+07</td>\n",
       "      <td>1.279535e+08</td>\n",
       "      <td>9.226690e+07</td>\n",
       "      <td>92.266902</td>\n",
       "      <td>35.686635</td>\n",
       "      <td>419.959437</td>\n",
       "      <td>2013.753247</td>\n",
       "      <td>0.0</td>\n",
       "    </tr>\n",
       "    <tr>\n",
       "      <th>16</th>\n",
       "      <td>Sci-Fi</td>\n",
       "      <td>2014.388889</td>\n",
       "      <td>6.565873</td>\n",
       "      <td>286807.888889</td>\n",
       "      <td>9.956806e+07</td>\n",
       "      <td>1.329984e+08</td>\n",
       "      <td>3.647116e+08</td>\n",
       "      <td>2.651435e+08</td>\n",
       "      <td>265.143504</td>\n",
       "      <td>99.568056</td>\n",
       "      <td>283.657778</td>\n",
       "      <td>2014.388889</td>\n",
       "      <td>0.0</td>\n",
       "    </tr>\n",
       "    <tr>\n",
       "      <th>2</th>\n",
       "      <td>Animation</td>\n",
       "      <td>2014.193878</td>\n",
       "      <td>6.574490</td>\n",
       "      <td>128583.132653</td>\n",
       "      <td>1.001939e+08</td>\n",
       "      <td>1.407021e+08</td>\n",
       "      <td>3.887555e+08</td>\n",
       "      <td>2.885616e+08</td>\n",
       "      <td>288.561604</td>\n",
       "      <td>100.193878</td>\n",
       "      <td>278.690204</td>\n",
       "      <td>2014.193878</td>\n",
       "      <td>0.0</td>\n",
       "    </tr>\n",
       "    <tr>\n",
       "      <th>15</th>\n",
       "      <td>Romance</td>\n",
       "      <td>2013.072626</td>\n",
       "      <td>6.338547</td>\n",
       "      <td>82429.480447</td>\n",
       "      <td>2.310958e+07</td>\n",
       "      <td>3.410309e+07</td>\n",
       "      <td>7.047518e+07</td>\n",
       "      <td>4.736560e+07</td>\n",
       "      <td>47.365597</td>\n",
       "      <td>23.109581</td>\n",
       "      <td>267.470168</td>\n",
       "      <td>2013.072626</td>\n",
       "      <td>0.0</td>\n",
       "    </tr>\n",
       "    <tr>\n",
       "      <th>12</th>\n",
       "      <td>Music</td>\n",
       "      <td>2013.723404</td>\n",
       "      <td>6.389362</td>\n",
       "      <td>69891.170213</td>\n",
       "      <td>1.812872e+07</td>\n",
       "      <td>3.564235e+07</td>\n",
       "      <td>7.776171e+07</td>\n",
       "      <td>5.963299e+07</td>\n",
       "      <td>59.632989</td>\n",
       "      <td>18.128723</td>\n",
       "      <td>261.097021</td>\n",
       "      <td>2013.723404</td>\n",
       "      <td>0.0</td>\n",
       "    </tr>\n",
       "    <tr>\n",
       "      <th>3</th>\n",
       "      <td>Biography</td>\n",
       "      <td>2014.784615</td>\n",
       "      <td>7.051538</td>\n",
       "      <td>113389.415385</td>\n",
       "      <td>2.651900e+07</td>\n",
       "      <td>4.041363e+07</td>\n",
       "      <td>8.309290e+07</td>\n",
       "      <td>5.657390e+07</td>\n",
       "      <td>56.573903</td>\n",
       "      <td>26.519000</td>\n",
       "      <td>248.377846</td>\n",
       "      <td>2014.784615</td>\n",
       "      <td>0.0</td>\n",
       "    </tr>\n",
       "    <tr>\n",
       "      <th>7</th>\n",
       "      <td>Drama</td>\n",
       "      <td>2013.860360</td>\n",
       "      <td>6.596396</td>\n",
       "      <td>106750.448949</td>\n",
       "      <td>2.838700e+07</td>\n",
       "      <td>3.581019e+07</td>\n",
       "      <td>7.877166e+07</td>\n",
       "      <td>5.038466e+07</td>\n",
       "      <td>50.384662</td>\n",
       "      <td>28.386996</td>\n",
       "      <td>238.584444</td>\n",
       "      <td>2013.860360</td>\n",
       "      <td>0.0</td>\n",
       "    </tr>\n",
       "    <tr>\n",
       "      <th>4</th>\n",
       "      <td>Comedy</td>\n",
       "      <td>2013.627083</td>\n",
       "      <td>6.240625</td>\n",
       "      <td>98136.629167</td>\n",
       "      <td>4.240746e+07</td>\n",
       "      <td>6.237079e+07</td>\n",
       "      <td>1.424374e+08</td>\n",
       "      <td>1.000299e+08</td>\n",
       "      <td>100.029917</td>\n",
       "      <td>42.407458</td>\n",
       "      <td>228.190208</td>\n",
       "      <td>2013.627083</td>\n",
       "      <td>0.0</td>\n",
       "    </tr>\n",
       "    <tr>\n",
       "      <th>9</th>\n",
       "      <td>Fantasy</td>\n",
       "      <td>2013.905172</td>\n",
       "      <td>6.128448</td>\n",
       "      <td>155112.741379</td>\n",
       "      <td>8.758922e+07</td>\n",
       "      <td>8.472140e+07</td>\n",
       "      <td>2.476530e+08</td>\n",
       "      <td>1.600638e+08</td>\n",
       "      <td>160.063750</td>\n",
       "      <td>87.589224</td>\n",
       "      <td>223.183707</td>\n",
       "      <td>2013.905172</td>\n",
       "      <td>0.0</td>\n",
       "    </tr>\n",
       "    <tr>\n",
       "      <th>1</th>\n",
       "      <td>Adventure</td>\n",
       "      <td>2014.244118</td>\n",
       "      <td>6.487059</td>\n",
       "      <td>204891.002941</td>\n",
       "      <td>1.090544e+08</td>\n",
       "      <td>1.278140e+08</td>\n",
       "      <td>3.614190e+08</td>\n",
       "      <td>2.523646e+08</td>\n",
       "      <td>252.364567</td>\n",
       "      <td>109.054412</td>\n",
       "      <td>217.242559</td>\n",
       "      <td>2014.244118</td>\n",
       "      <td>0.0</td>\n",
       "    </tr>\n",
       "    <tr>\n",
       "      <th>6</th>\n",
       "      <td>Documentary</td>\n",
       "      <td>2012.703704</td>\n",
       "      <td>6.655556</td>\n",
       "      <td>9978.370370</td>\n",
       "      <td>9.303630e+06</td>\n",
       "      <td>1.341404e+07</td>\n",
       "      <td>2.864313e+07</td>\n",
       "      <td>1.933950e+07</td>\n",
       "      <td>19.339502</td>\n",
       "      <td>9.303630</td>\n",
       "      <td>207.824444</td>\n",
       "      <td>2012.703704</td>\n",
       "      <td>0.0</td>\n",
       "    </tr>\n",
       "    <tr>\n",
       "      <th>13</th>\n",
       "      <td>Musical</td>\n",
       "      <td>2013.000000</td>\n",
       "      <td>6.171429</td>\n",
       "      <td>87704.857143</td>\n",
       "      <td>5.498571e+07</td>\n",
       "      <td>1.086679e+08</td>\n",
       "      <td>2.641159e+08</td>\n",
       "      <td>2.091302e+08</td>\n",
       "      <td>209.130224</td>\n",
       "      <td>54.985714</td>\n",
       "      <td>203.021429</td>\n",
       "      <td>2013.000000</td>\n",
       "      <td>0.0</td>\n",
       "    </tr>\n",
       "    <tr>\n",
       "      <th>8</th>\n",
       "      <td>Family</td>\n",
       "      <td>2013.400000</td>\n",
       "      <td>6.187059</td>\n",
       "      <td>84257.682353</td>\n",
       "      <td>7.303412e+07</td>\n",
       "      <td>8.647824e+07</td>\n",
       "      <td>2.135799e+08</td>\n",
       "      <td>1.405458e+08</td>\n",
       "      <td>140.545807</td>\n",
       "      <td>73.034118</td>\n",
       "      <td>177.193059</td>\n",
       "      <td>2013.400000</td>\n",
       "      <td>0.0</td>\n",
       "    </tr>\n",
       "    <tr>\n",
       "      <th>0</th>\n",
       "      <td>Action</td>\n",
       "      <td>2014.043165</td>\n",
       "      <td>6.366906</td>\n",
       "      <td>187935.441247</td>\n",
       "      <td>8.380576e+07</td>\n",
       "      <td>9.286873e+07</td>\n",
       "      <td>2.564038e+08</td>\n",
       "      <td>1.725980e+08</td>\n",
       "      <td>172.598045</td>\n",
       "      <td>83.805755</td>\n",
       "      <td>177.034604</td>\n",
       "      <td>2014.043165</td>\n",
       "      <td>0.0</td>\n",
       "    </tr>\n",
       "    <tr>\n",
       "      <th>10</th>\n",
       "      <td>History</td>\n",
       "      <td>2015.051282</td>\n",
       "      <td>6.946154</td>\n",
       "      <td>100668.974359</td>\n",
       "      <td>3.558974e+07</td>\n",
       "      <td>4.192146e+07</td>\n",
       "      <td>8.782263e+07</td>\n",
       "      <td>5.223288e+07</td>\n",
       "      <td>52.232883</td>\n",
       "      <td>35.589744</td>\n",
       "      <td>154.924615</td>\n",
       "      <td>2015.051282</td>\n",
       "      <td>0.0</td>\n",
       "    </tr>\n",
       "    <tr>\n",
       "      <th>5</th>\n",
       "      <td>Crime</td>\n",
       "      <td>2013.930876</td>\n",
       "      <td>6.417972</td>\n",
       "      <td>121316.880184</td>\n",
       "      <td>3.379041e+07</td>\n",
       "      <td>3.873408e+07</td>\n",
       "      <td>8.622434e+07</td>\n",
       "      <td>5.243393e+07</td>\n",
       "      <td>52.433930</td>\n",
       "      <td>33.790415</td>\n",
       "      <td>125.746544</td>\n",
       "      <td>2013.930876</td>\n",
       "      <td>0.0</td>\n",
       "    </tr>\n",
       "    <tr>\n",
       "      <th>17</th>\n",
       "      <td>Sport</td>\n",
       "      <td>2013.937500</td>\n",
       "      <td>6.931250</td>\n",
       "      <td>74843.875000</td>\n",
       "      <td>2.550625e+07</td>\n",
       "      <td>3.490760e+07</td>\n",
       "      <td>5.469688e+07</td>\n",
       "      <td>2.919063e+07</td>\n",
       "      <td>29.190626</td>\n",
       "      <td>25.506250</td>\n",
       "      <td>121.370312</td>\n",
       "      <td>2013.937500</td>\n",
       "      <td>0.0</td>\n",
       "    </tr>\n",
       "    <tr>\n",
       "      <th>20</th>\n",
       "      <td>Western</td>\n",
       "      <td>2012.444444</td>\n",
       "      <td>6.766667</td>\n",
       "      <td>217706.555556</td>\n",
       "      <td>6.342222e+07</td>\n",
       "      <td>5.900548e+07</td>\n",
       "      <td>1.279120e+08</td>\n",
       "      <td>6.448982e+07</td>\n",
       "      <td>64.489819</td>\n",
       "      <td>63.422222</td>\n",
       "      <td>87.547778</td>\n",
       "      <td>2012.444444</td>\n",
       "      <td>0.0</td>\n",
       "    </tr>\n",
       "    <tr>\n",
       "      <th>19</th>\n",
       "      <td>War</td>\n",
       "      <td>2013.588235</td>\n",
       "      <td>6.570588</td>\n",
       "      <td>73988.294118</td>\n",
       "      <td>2.826471e+07</td>\n",
       "      <td>2.415504e+07</td>\n",
       "      <td>5.778184e+07</td>\n",
       "      <td>2.951713e+07</td>\n",
       "      <td>29.517132</td>\n",
       "      <td>28.264706</td>\n",
       "      <td>41.110588</td>\n",
       "      <td>2013.588235</td>\n",
       "      <td>0.0</td>\n",
       "    </tr>\n",
       "  </tbody>\n",
       "</table>\n",
       "</div>"
      ],
      "text/plain": [
       "         genres   start_year  averagerating       numvotes  production_budget  \\\n",
       "11       Horror  2014.167785       5.708054   77185.268456       2.051299e+07   \n",
       "14      Mystery  2014.200000       6.190435  135118.060870       2.644637e+07   \n",
       "18     Thriller  2013.753247       6.129004  133254.857143       3.568663e+07   \n",
       "16       Sci-Fi  2014.388889       6.565873  286807.888889       9.956806e+07   \n",
       "2     Animation  2014.193878       6.574490  128583.132653       1.001939e+08   \n",
       "15      Romance  2013.072626       6.338547   82429.480447       2.310958e+07   \n",
       "12        Music  2013.723404       6.389362   69891.170213       1.812872e+07   \n",
       "3     Biography  2014.784615       7.051538  113389.415385       2.651900e+07   \n",
       "7         Drama  2013.860360       6.596396  106750.448949       2.838700e+07   \n",
       "4        Comedy  2013.627083       6.240625   98136.629167       4.240746e+07   \n",
       "9       Fantasy  2013.905172       6.128448  155112.741379       8.758922e+07   \n",
       "1     Adventure  2014.244118       6.487059  204891.002941       1.090544e+08   \n",
       "6   Documentary  2012.703704       6.655556    9978.370370       9.303630e+06   \n",
       "13      Musical  2013.000000       6.171429   87704.857143       5.498571e+07   \n",
       "8        Family  2013.400000       6.187059   84257.682353       7.303412e+07   \n",
       "0        Action  2014.043165       6.366906  187935.441247       8.380576e+07   \n",
       "10      History  2015.051282       6.946154  100668.974359       3.558974e+07   \n",
       "5         Crime  2013.930876       6.417972  121316.880184       3.379041e+07   \n",
       "17        Sport  2013.937500       6.931250   74843.875000       2.550625e+07   \n",
       "20      Western  2012.444444       6.766667  217706.555556       6.342222e+07   \n",
       "19          War  2013.588235       6.570588   73988.294118       2.826471e+07   \n",
       "\n",
       "    domestic_gross  worldwide_gross        profit  profit_million  \\\n",
       "11    3.630081e+07     7.965158e+07  5.913859e+07       59.138593   \n",
       "14    4.246262e+07     9.798276e+07  7.153639e+07       71.536385   \n",
       "18    4.924466e+07     1.279535e+08  9.226690e+07       92.266902   \n",
       "16    1.329984e+08     3.647116e+08  2.651435e+08      265.143504   \n",
       "2     1.407021e+08     3.887555e+08  2.885616e+08      288.561604   \n",
       "15    3.410309e+07     7.047518e+07  4.736560e+07       47.365597   \n",
       "12    3.564235e+07     7.776171e+07  5.963299e+07       59.632989   \n",
       "3     4.041363e+07     8.309290e+07  5.657390e+07       56.573903   \n",
       "7     3.581019e+07     7.877166e+07  5.038466e+07       50.384662   \n",
       "4     6.237079e+07     1.424374e+08  1.000299e+08      100.029917   \n",
       "9     8.472140e+07     2.476530e+08  1.600638e+08      160.063750   \n",
       "1     1.278140e+08     3.614190e+08  2.523646e+08      252.364567   \n",
       "6     1.341404e+07     2.864313e+07  1.933950e+07       19.339502   \n",
       "13    1.086679e+08     2.641159e+08  2.091302e+08      209.130224   \n",
       "8     8.647824e+07     2.135799e+08  1.405458e+08      140.545807   \n",
       "0     9.286873e+07     2.564038e+08  1.725980e+08      172.598045   \n",
       "10    4.192146e+07     8.782263e+07  5.223288e+07       52.232883   \n",
       "5     3.873408e+07     8.622434e+07  5.243393e+07       52.433930   \n",
       "17    3.490760e+07     5.469688e+07  2.919063e+07       29.190626   \n",
       "20    5.900548e+07     1.279120e+08  6.448982e+07       64.489819   \n",
       "19    2.415504e+07     5.778184e+07  2.951713e+07       29.517132   \n",
       "\n",
       "    production_budget_million         ROI         year  same_year  \n",
       "11                  20.512987  698.902752  2014.167785        0.0  \n",
       "14                  26.446371  598.706087  2014.200000        0.0  \n",
       "18                  35.686635  419.959437  2013.753247        0.0  \n",
       "16                  99.568056  283.657778  2014.388889        0.0  \n",
       "2                  100.193878  278.690204  2014.193878        0.0  \n",
       "15                  23.109581  267.470168  2013.072626        0.0  \n",
       "12                  18.128723  261.097021  2013.723404        0.0  \n",
       "3                   26.519000  248.377846  2014.784615        0.0  \n",
       "7                   28.386996  238.584444  2013.860360        0.0  \n",
       "4                   42.407458  228.190208  2013.627083        0.0  \n",
       "9                   87.589224  223.183707  2013.905172        0.0  \n",
       "1                  109.054412  217.242559  2014.244118        0.0  \n",
       "6                    9.303630  207.824444  2012.703704        0.0  \n",
       "13                  54.985714  203.021429  2013.000000        0.0  \n",
       "8                   73.034118  177.193059  2013.400000        0.0  \n",
       "0                   83.805755  177.034604  2014.043165        0.0  \n",
       "10                  35.589744  154.924615  2015.051282        0.0  \n",
       "5                   33.790415  125.746544  2013.930876        0.0  \n",
       "17                  25.506250  121.370312  2013.937500        0.0  \n",
       "20                  63.422222   87.547778  2012.444444        0.0  \n",
       "19                  28.264706   41.110588  2013.588235        0.0  "
      ]
     },
     "execution_count": 47,
     "metadata": {},
     "output_type": "execute_result"
    }
   ],
   "source": [
    "sorted_genres2"
   ]
  },
  {
   "cell_type": "code",
   "execution_count": null,
   "id": "ac2fa76e",
   "metadata": {},
   "outputs": [],
   "source": []
  },
  {
   "cell_type": "code",
   "execution_count": null,
   "id": "dbaa65c0",
   "metadata": {},
   "outputs": [],
   "source": []
  },
  {
   "cell_type": "code",
   "execution_count": null,
   "id": "00f3206f",
   "metadata": {},
   "outputs": [],
   "source": []
  },
  {
   "cell_type": "code",
   "execution_count": null,
   "id": "daba9ec3",
   "metadata": {},
   "outputs": [],
   "source": []
  }
 ],
 "metadata": {
  "interpreter": {
   "hash": "fa1ffea8375f1a7678a677898fedbf0220e6d55ec242dfe6a3eb2d0aac3741bb"
  },
  "kernelspec": {
   "display_name": "Python 3",
   "language": "python",
   "name": "python3"
  },
  "language_info": {
   "codemirror_mode": {
    "name": "ipython",
    "version": 3
   },
   "file_extension": ".py",
   "mimetype": "text/x-python",
   "name": "python",
   "nbconvert_exporter": "python",
   "pygments_lexer": "ipython3",
   "version": "3.8.10"
  }
 },
 "nbformat": 4,
 "nbformat_minor": 5
}
