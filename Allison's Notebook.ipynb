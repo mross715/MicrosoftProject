{
 "cells": [
  {
   "cell_type": "code",
   "execution_count": 152,
   "id": "b1173132",
   "metadata": {},
   "outputs": [],
   "source": [
    "import seaborn as sns\n",
    "from matplotlib import pyplot as plt\n",
    "import numpy as np\n",
    "import pandas as pd\n",
    "%matplotlib inline"
   ]
  },
  {
   "cell_type": "code",
   "execution_count": 153,
   "id": "cfceefd2",
   "metadata": {},
   "outputs": [],
   "source": [
    "title_basics = pd.read_csv('./Data/imdb.title.basics.csv.gz')\n",
    "title_ratings = pd.read_csv(\"./Data/imdb.title.ratings.csv.gz\")\n",
    "movie_budgets = pd.read_csv('./Data/tn.movie_budgets.csv.gz')"
   ]
  },
  {
   "cell_type": "code",
   "execution_count": 154,
   "id": "1734e657",
   "metadata": {},
   "outputs": [],
   "source": [
    "title_basics.rename(columns = {'primary_title':'movie'}, inplace = True)\n",
    "title_basics.drop(columns = [\"original_title\",\"runtime_minutes\"], inplace=True)"
   ]
  },
  {
   "cell_type": "code",
   "execution_count": 155,
   "id": "3d3acdfe",
   "metadata": {},
   "outputs": [
    {
     "data": {
      "text/plain": [
       "3.7004598204510617"
      ]
     },
     "execution_count": 155,
     "metadata": {},
     "output_type": "execute_result"
    }
   ],
   "source": [
    "title_basics['genres'].isna().sum()/146144*100"
   ]
  },
  {
   "cell_type": "code",
   "execution_count": 156,
   "id": "fe702f35",
   "metadata": {},
   "outputs": [],
   "source": [
    "title_basics.dropna(subset= ['genres'], inplace = True)"
   ]
  },
  {
   "cell_type": "code",
   "execution_count": 157,
   "id": "234fe100",
   "metadata": {},
   "outputs": [],
   "source": [
    "#movie_budgets['release_date'] = pd.to_datetime(movie_budgets['release_date'])"
   ]
  },
  {
   "cell_type": "code",
   "execution_count": 158,
   "id": "4e202408",
   "metadata": {},
   "outputs": [],
   "source": [
    "movie_budgets[\"release_year\"]= [x[7:] for x in movie_budgets[\"release_date\"]]\n",
    "movie_budgets[\"release_month\"]= [x[:4] for x in movie_budgets[\"release_date\"]]\n",
    "\n",
    "#for the purpose of graphing, edited each month with numeric values in the beginning \n",
    "movie_budgets[\"release_month\"] = movie_budgets[\"release_month\"].str.replace(\"Jan\", \"01 Jan\")\n",
    "movie_budgets[\"release_month\"] = movie_budgets[\"release_month\"].str.replace(\"Feb\", \"02 Feb\")\n",
    "movie_budgets[\"release_month\"] = movie_budgets[\"release_month\"].str.replace(\"Mar\", \"03 Mar\")\n",
    "movie_budgets[\"release_month\"] = movie_budgets[\"release_month\"].str.replace(\"Apr\", \"04 Apr\")\n",
    "movie_budgets[\"release_month\"] = movie_budgets[\"release_month\"].str.replace(\"May\", \"05 May\")\n",
    "movie_budgets[\"release_month\"] = movie_budgets[\"release_month\"].str.replace(\"Jun\", \"06 Jun\")\n",
    "movie_budgets[\"release_month\"] = movie_budgets[\"release_month\"].str.replace(\"Jul\", \"07 Jul\")\n",
    "movie_budgets[\"release_month\"] = movie_budgets[\"release_month\"].str.replace(\"Aug\", \"08 Aug\")\n",
    "movie_budgets[\"release_month\"] = movie_budgets[\"release_month\"].str.replace(\"Sep\", \"09 Sep\")\n",
    "movie_budgets[\"release_month\"] = movie_budgets[\"release_month\"].str.replace(\"Oct\", \"10 Oct\")\n",
    "movie_budgets[\"release_month\"] = movie_budgets[\"release_month\"].str.replace(\"Nov\", \"11 Nov\")\n",
    "movie_budgets[\"release_month\"] = movie_budgets[\"release_month\"].str.replace(\"Dec\", \"12 Dec\")"
   ]
  },
  {
   "cell_type": "code",
   "execution_count": 159,
   "id": "c07b8e94",
   "metadata": {},
   "outputs": [],
   "source": [
    "# change production_budget, domestic_gross, and worldwide_budget to integers\n",
    "movie_budgets['production_budget'] = movie_budgets['production_budget'].replace('[\\$,]', '', regex=True).astype(float)\n",
    "movie_budgets['domestic_gross'] = movie_budgets['domestic_gross'].replace('[\\$,]', '', regex=True).astype(float)\n",
    "movie_budgets['worldwide_gross'] = movie_budgets['worldwide_gross'].replace('[\\$,]', '', regex=True).astype(float)"
   ]
  },
  {
   "cell_type": "code",
   "execution_count": 160,
   "id": "d5656e1c",
   "metadata": {},
   "outputs": [],
   "source": [
    "movie_budgets.drop(columns = [\"id\"], inplace=True)\n",
    "# drop rows where worldwide_gross or production_budget is 0\n",
    "movie_budgets = movie_budgets[movie_budgets.worldwide_gross != 0]\n",
    "movie_budgets = movie_budgets[movie_budgets.production_budget != 0]"
   ]
  },
  {
   "cell_type": "code",
   "execution_count": 161,
   "id": "7ce239ab",
   "metadata": {},
   "outputs": [],
   "source": [
    "movie_budgets['profit'] = movie_budgets['worldwide_gross'] - movie_budgets['production_budget']\n",
    "movie_budgets['profit_million']=(movie_budgets['profit']/1000000)\n",
    "movie_budgets['production_budget_million']=(movie_budgets['production_budget']/1000000)\n",
    "movie_budgets['ROI'] = (movie_budgets['profit'] / movie_budgets['production_budget']) * 100\n",
    "movie_budgets = movie_budgets.round({'ROI': 2})\n",
    "movie_budgets['year'] = pd.DatetimeIndex(movie_budgets['release_date']).year"
   ]
  },
  {
   "cell_type": "code",
   "execution_count": 162,
   "id": "c327302b",
   "metadata": {},
   "outputs": [
    {
     "data": {
      "text/html": [
       "<div>\n",
       "<style scoped>\n",
       "    .dataframe tbody tr th:only-of-type {\n",
       "        vertical-align: middle;\n",
       "    }\n",
       "\n",
       "    .dataframe tbody tr th {\n",
       "        vertical-align: top;\n",
       "    }\n",
       "\n",
       "    .dataframe thead th {\n",
       "        text-align: right;\n",
       "    }\n",
       "</style>\n",
       "<table border=\"1\" class=\"dataframe\">\n",
       "  <thead>\n",
       "    <tr style=\"text-align: right;\">\n",
       "      <th></th>\n",
       "      <th>release_date</th>\n",
       "      <th>movie</th>\n",
       "      <th>production_budget</th>\n",
       "      <th>domestic_gross</th>\n",
       "      <th>worldwide_gross</th>\n",
       "      <th>release_year</th>\n",
       "      <th>release_month</th>\n",
       "      <th>profit</th>\n",
       "      <th>profit_million</th>\n",
       "      <th>production_budget_million</th>\n",
       "      <th>ROI</th>\n",
       "      <th>year</th>\n",
       "    </tr>\n",
       "  </thead>\n",
       "  <tbody>\n",
       "    <tr>\n",
       "      <th>2224</th>\n",
       "      <td>Dec 10, 2014</td>\n",
       "      <td>The Gambler</td>\n",
       "      <td>25000000.0</td>\n",
       "      <td>33680992.0</td>\n",
       "      <td>38718031.0</td>\n",
       "      <td>2014</td>\n",
       "      <td>12 Dec</td>\n",
       "      <td>13718031.0</td>\n",
       "      <td>13.718031</td>\n",
       "      <td>25.0</td>\n",
       "      <td>54.87</td>\n",
       "      <td>2014</td>\n",
       "    </tr>\n",
       "    <tr>\n",
       "      <th>4749</th>\n",
       "      <td>Aug 4, 1999</td>\n",
       "      <td>The Gambler</td>\n",
       "      <td>3000000.0</td>\n",
       "      <td>51773.0</td>\n",
       "      <td>101773.0</td>\n",
       "      <td>1999</td>\n",
       "      <td>08 Aug</td>\n",
       "      <td>-2898227.0</td>\n",
       "      <td>-2.898227</td>\n",
       "      <td>3.0</td>\n",
       "      <td>-96.61</td>\n",
       "      <td>1999</td>\n",
       "    </tr>\n",
       "  </tbody>\n",
       "</table>\n",
       "</div>"
      ],
      "text/plain": [
       "      release_date        movie  production_budget  domestic_gross  \\\n",
       "2224  Dec 10, 2014  The Gambler         25000000.0      33680992.0   \n",
       "4749   Aug 4, 1999  The Gambler          3000000.0         51773.0   \n",
       "\n",
       "      worldwide_gross release_year release_month      profit  profit_million  \\\n",
       "2224       38718031.0         2014       12 Dec   13718031.0       13.718031   \n",
       "4749         101773.0         1999       08 Aug   -2898227.0       -2.898227   \n",
       "\n",
       "      production_budget_million    ROI  year  \n",
       "2224                       25.0  54.87  2014  \n",
       "4749                        3.0 -96.61  1999  "
      ]
     },
     "execution_count": 162,
     "metadata": {},
     "output_type": "execute_result"
    }
   ],
   "source": [
    "movie_budgets.loc[movie_budgets['movie']== 'The Gambler']"
   ]
  },
  {
   "cell_type": "markdown",
   "id": "b0e135cd",
   "metadata": {},
   "source": [
    "# Merge Data Tables "
   ]
  },
  {
   "cell_type": "code",
   "execution_count": 163,
   "id": "6c09275c",
   "metadata": {},
   "outputs": [
    {
     "data": {
      "text/html": [
       "<div>\n",
       "<style scoped>\n",
       "    .dataframe tbody tr th:only-of-type {\n",
       "        vertical-align: middle;\n",
       "    }\n",
       "\n",
       "    .dataframe tbody tr th {\n",
       "        vertical-align: top;\n",
       "    }\n",
       "\n",
       "    .dataframe thead th {\n",
       "        text-align: right;\n",
       "    }\n",
       "</style>\n",
       "<table border=\"1\" class=\"dataframe\">\n",
       "  <thead>\n",
       "    <tr style=\"text-align: right;\">\n",
       "      <th></th>\n",
       "      <th>tconst</th>\n",
       "      <th>movie</th>\n",
       "      <th>start_year</th>\n",
       "      <th>genres</th>\n",
       "      <th>averagerating</th>\n",
       "      <th>numvotes</th>\n",
       "    </tr>\n",
       "  </thead>\n",
       "  <tbody>\n",
       "    <tr>\n",
       "      <th>0</th>\n",
       "      <td>tt0063540</td>\n",
       "      <td>Sunghursh</td>\n",
       "      <td>2013</td>\n",
       "      <td>Action,Crime,Drama</td>\n",
       "      <td>7.0</td>\n",
       "      <td>77</td>\n",
       "    </tr>\n",
       "    <tr>\n",
       "      <th>1</th>\n",
       "      <td>tt0066787</td>\n",
       "      <td>One Day Before the Rainy Season</td>\n",
       "      <td>2019</td>\n",
       "      <td>Biography,Drama</td>\n",
       "      <td>7.2</td>\n",
       "      <td>43</td>\n",
       "    </tr>\n",
       "    <tr>\n",
       "      <th>2</th>\n",
       "      <td>tt0069049</td>\n",
       "      <td>The Other Side of the Wind</td>\n",
       "      <td>2018</td>\n",
       "      <td>Drama</td>\n",
       "      <td>6.9</td>\n",
       "      <td>4517</td>\n",
       "    </tr>\n",
       "    <tr>\n",
       "      <th>3</th>\n",
       "      <td>tt0069204</td>\n",
       "      <td>Sabse Bada Sukh</td>\n",
       "      <td>2018</td>\n",
       "      <td>Comedy,Drama</td>\n",
       "      <td>6.1</td>\n",
       "      <td>13</td>\n",
       "    </tr>\n",
       "    <tr>\n",
       "      <th>4</th>\n",
       "      <td>tt0100275</td>\n",
       "      <td>The Wandering Soap Opera</td>\n",
       "      <td>2017</td>\n",
       "      <td>Comedy,Drama,Fantasy</td>\n",
       "      <td>6.5</td>\n",
       "      <td>119</td>\n",
       "    </tr>\n",
       "    <tr>\n",
       "      <th>...</th>\n",
       "      <td>...</td>\n",
       "      <td>...</td>\n",
       "      <td>...</td>\n",
       "      <td>...</td>\n",
       "      <td>...</td>\n",
       "      <td>...</td>\n",
       "    </tr>\n",
       "    <tr>\n",
       "      <th>73047</th>\n",
       "      <td>tt9913056</td>\n",
       "      <td>Swarm Season</td>\n",
       "      <td>2019</td>\n",
       "      <td>Documentary</td>\n",
       "      <td>6.2</td>\n",
       "      <td>5</td>\n",
       "    </tr>\n",
       "    <tr>\n",
       "      <th>73048</th>\n",
       "      <td>tt9913084</td>\n",
       "      <td>Diabolik sono io</td>\n",
       "      <td>2019</td>\n",
       "      <td>Documentary</td>\n",
       "      <td>6.2</td>\n",
       "      <td>6</td>\n",
       "    </tr>\n",
       "    <tr>\n",
       "      <th>73049</th>\n",
       "      <td>tt9914286</td>\n",
       "      <td>Sokagin Çocuklari</td>\n",
       "      <td>2019</td>\n",
       "      <td>Drama,Family</td>\n",
       "      <td>8.7</td>\n",
       "      <td>136</td>\n",
       "    </tr>\n",
       "    <tr>\n",
       "      <th>73050</th>\n",
       "      <td>tt9914642</td>\n",
       "      <td>Albatross</td>\n",
       "      <td>2017</td>\n",
       "      <td>Documentary</td>\n",
       "      <td>8.5</td>\n",
       "      <td>8</td>\n",
       "    </tr>\n",
       "    <tr>\n",
       "      <th>73051</th>\n",
       "      <td>tt9916160</td>\n",
       "      <td>Drømmeland</td>\n",
       "      <td>2019</td>\n",
       "      <td>Documentary</td>\n",
       "      <td>6.5</td>\n",
       "      <td>11</td>\n",
       "    </tr>\n",
       "  </tbody>\n",
       "</table>\n",
       "<p>73052 rows × 6 columns</p>\n",
       "</div>"
      ],
      "text/plain": [
       "          tconst                            movie  start_year  \\\n",
       "0      tt0063540                        Sunghursh        2013   \n",
       "1      tt0066787  One Day Before the Rainy Season        2019   \n",
       "2      tt0069049       The Other Side of the Wind        2018   \n",
       "3      tt0069204                  Sabse Bada Sukh        2018   \n",
       "4      tt0100275         The Wandering Soap Opera        2017   \n",
       "...          ...                              ...         ...   \n",
       "73047  tt9913056                     Swarm Season        2019   \n",
       "73048  tt9913084                 Diabolik sono io        2019   \n",
       "73049  tt9914286                Sokagin Çocuklari        2019   \n",
       "73050  tt9914642                        Albatross        2017   \n",
       "73051  tt9916160                       Drømmeland        2019   \n",
       "\n",
       "                     genres  averagerating  numvotes  \n",
       "0        Action,Crime,Drama            7.0        77  \n",
       "1           Biography,Drama            7.2        43  \n",
       "2                     Drama            6.9      4517  \n",
       "3              Comedy,Drama            6.1        13  \n",
       "4      Comedy,Drama,Fantasy            6.5       119  \n",
       "...                     ...            ...       ...  \n",
       "73047           Documentary            6.2         5  \n",
       "73048           Documentary            6.2         6  \n",
       "73049          Drama,Family            8.7       136  \n",
       "73050           Documentary            8.5         8  \n",
       "73051           Documentary            6.5        11  \n",
       "\n",
       "[73052 rows x 6 columns]"
      ]
     },
     "execution_count": 163,
     "metadata": {},
     "output_type": "execute_result"
    }
   ],
   "source": [
    "imdb_data = pd.merge(title_basics, title_ratings, how = 'inner', on = 'tconst')\n",
    "imdb_data\n",
    "#imdb_data.loc[imdb_data['movie']== 'The Gambler']"
   ]
  },
  {
   "cell_type": "code",
   "execution_count": 164,
   "id": "54526850",
   "metadata": {},
   "outputs": [
    {
     "data": {
      "text/html": [
       "<div>\n",
       "<style scoped>\n",
       "    .dataframe tbody tr th:only-of-type {\n",
       "        vertical-align: middle;\n",
       "    }\n",
       "\n",
       "    .dataframe tbody tr th {\n",
       "        vertical-align: top;\n",
       "    }\n",
       "\n",
       "    .dataframe thead th {\n",
       "        text-align: right;\n",
       "    }\n",
       "</style>\n",
       "<table border=\"1\" class=\"dataframe\">\n",
       "  <thead>\n",
       "    <tr style=\"text-align: right;\">\n",
       "      <th></th>\n",
       "      <th>tconst</th>\n",
       "      <th>movie</th>\n",
       "      <th>start_year</th>\n",
       "      <th>genres</th>\n",
       "      <th>averagerating</th>\n",
       "      <th>numvotes</th>\n",
       "      <th>release_date</th>\n",
       "      <th>production_budget</th>\n",
       "      <th>domestic_gross</th>\n",
       "      <th>worldwide_gross</th>\n",
       "      <th>release_year</th>\n",
       "      <th>release_month</th>\n",
       "      <th>profit</th>\n",
       "      <th>profit_million</th>\n",
       "      <th>production_budget_million</th>\n",
       "      <th>ROI</th>\n",
       "      <th>year</th>\n",
       "    </tr>\n",
       "  </thead>\n",
       "  <tbody>\n",
       "    <tr>\n",
       "      <th>1242</th>\n",
       "      <td>tt1828325</td>\n",
       "      <td>The Gambler</td>\n",
       "      <td>2015</td>\n",
       "      <td>Drama</td>\n",
       "      <td>7.0</td>\n",
       "      <td>10</td>\n",
       "      <td>Dec 10, 2014</td>\n",
       "      <td>25000000.0</td>\n",
       "      <td>33680992.0</td>\n",
       "      <td>38718031.0</td>\n",
       "      <td>2014</td>\n",
       "      <td>12 Dec</td>\n",
       "      <td>13718031.0</td>\n",
       "      <td>13.718031</td>\n",
       "      <td>25.0</td>\n",
       "      <td>54.87</td>\n",
       "      <td>2014</td>\n",
       "    </tr>\n",
       "    <tr>\n",
       "      <th>1243</th>\n",
       "      <td>tt1828325</td>\n",
       "      <td>The Gambler</td>\n",
       "      <td>2015</td>\n",
       "      <td>Drama</td>\n",
       "      <td>7.0</td>\n",
       "      <td>10</td>\n",
       "      <td>Aug 4, 1999</td>\n",
       "      <td>3000000.0</td>\n",
       "      <td>51773.0</td>\n",
       "      <td>101773.0</td>\n",
       "      <td>1999</td>\n",
       "      <td>08 Aug</td>\n",
       "      <td>-2898227.0</td>\n",
       "      <td>-2.898227</td>\n",
       "      <td>3.0</td>\n",
       "      <td>-96.61</td>\n",
       "      <td>1999</td>\n",
       "    </tr>\n",
       "    <tr>\n",
       "      <th>1244</th>\n",
       "      <td>tt2039393</td>\n",
       "      <td>The Gambler</td>\n",
       "      <td>2014</td>\n",
       "      <td>Crime,Drama,Thriller</td>\n",
       "      <td>6.0</td>\n",
       "      <td>59995</td>\n",
       "      <td>Dec 10, 2014</td>\n",
       "      <td>25000000.0</td>\n",
       "      <td>33680992.0</td>\n",
       "      <td>38718031.0</td>\n",
       "      <td>2014</td>\n",
       "      <td>12 Dec</td>\n",
       "      <td>13718031.0</td>\n",
       "      <td>13.718031</td>\n",
       "      <td>25.0</td>\n",
       "      <td>54.87</td>\n",
       "      <td>2014</td>\n",
       "    </tr>\n",
       "    <tr>\n",
       "      <th>1245</th>\n",
       "      <td>tt2039393</td>\n",
       "      <td>The Gambler</td>\n",
       "      <td>2014</td>\n",
       "      <td>Crime,Drama,Thriller</td>\n",
       "      <td>6.0</td>\n",
       "      <td>59995</td>\n",
       "      <td>Aug 4, 1999</td>\n",
       "      <td>3000000.0</td>\n",
       "      <td>51773.0</td>\n",
       "      <td>101773.0</td>\n",
       "      <td>1999</td>\n",
       "      <td>08 Aug</td>\n",
       "      <td>-2898227.0</td>\n",
       "      <td>-2.898227</td>\n",
       "      <td>3.0</td>\n",
       "      <td>-96.61</td>\n",
       "      <td>1999</td>\n",
       "    </tr>\n",
       "    <tr>\n",
       "      <th>1246</th>\n",
       "      <td>tt2843832</td>\n",
       "      <td>The Gambler</td>\n",
       "      <td>2013</td>\n",
       "      <td>Documentary</td>\n",
       "      <td>7.6</td>\n",
       "      <td>14</td>\n",
       "      <td>Dec 10, 2014</td>\n",
       "      <td>25000000.0</td>\n",
       "      <td>33680992.0</td>\n",
       "      <td>38718031.0</td>\n",
       "      <td>2014</td>\n",
       "      <td>12 Dec</td>\n",
       "      <td>13718031.0</td>\n",
       "      <td>13.718031</td>\n",
       "      <td>25.0</td>\n",
       "      <td>54.87</td>\n",
       "      <td>2014</td>\n",
       "    </tr>\n",
       "    <tr>\n",
       "      <th>1247</th>\n",
       "      <td>tt2843832</td>\n",
       "      <td>The Gambler</td>\n",
       "      <td>2013</td>\n",
       "      <td>Documentary</td>\n",
       "      <td>7.6</td>\n",
       "      <td>14</td>\n",
       "      <td>Aug 4, 1999</td>\n",
       "      <td>3000000.0</td>\n",
       "      <td>51773.0</td>\n",
       "      <td>101773.0</td>\n",
       "      <td>1999</td>\n",
       "      <td>08 Aug</td>\n",
       "      <td>-2898227.0</td>\n",
       "      <td>-2.898227</td>\n",
       "      <td>3.0</td>\n",
       "      <td>-96.61</td>\n",
       "      <td>1999</td>\n",
       "    </tr>\n",
       "    <tr>\n",
       "      <th>1248</th>\n",
       "      <td>tt2924336</td>\n",
       "      <td>The Gambler</td>\n",
       "      <td>2013</td>\n",
       "      <td>Drama,Thriller</td>\n",
       "      <td>7.2</td>\n",
       "      <td>1479</td>\n",
       "      <td>Dec 10, 2014</td>\n",
       "      <td>25000000.0</td>\n",
       "      <td>33680992.0</td>\n",
       "      <td>38718031.0</td>\n",
       "      <td>2014</td>\n",
       "      <td>12 Dec</td>\n",
       "      <td>13718031.0</td>\n",
       "      <td>13.718031</td>\n",
       "      <td>25.0</td>\n",
       "      <td>54.87</td>\n",
       "      <td>2014</td>\n",
       "    </tr>\n",
       "    <tr>\n",
       "      <th>1249</th>\n",
       "      <td>tt2924336</td>\n",
       "      <td>The Gambler</td>\n",
       "      <td>2013</td>\n",
       "      <td>Drama,Thriller</td>\n",
       "      <td>7.2</td>\n",
       "      <td>1479</td>\n",
       "      <td>Aug 4, 1999</td>\n",
       "      <td>3000000.0</td>\n",
       "      <td>51773.0</td>\n",
       "      <td>101773.0</td>\n",
       "      <td>1999</td>\n",
       "      <td>08 Aug</td>\n",
       "      <td>-2898227.0</td>\n",
       "      <td>-2.898227</td>\n",
       "      <td>3.0</td>\n",
       "      <td>-96.61</td>\n",
       "      <td>1999</td>\n",
       "    </tr>\n",
       "    <tr>\n",
       "      <th>1250</th>\n",
       "      <td>tt9447594</td>\n",
       "      <td>The Gambler</td>\n",
       "      <td>2019</td>\n",
       "      <td>Action,Sci-Fi,Thriller</td>\n",
       "      <td>6.1</td>\n",
       "      <td>10</td>\n",
       "      <td>Dec 10, 2014</td>\n",
       "      <td>25000000.0</td>\n",
       "      <td>33680992.0</td>\n",
       "      <td>38718031.0</td>\n",
       "      <td>2014</td>\n",
       "      <td>12 Dec</td>\n",
       "      <td>13718031.0</td>\n",
       "      <td>13.718031</td>\n",
       "      <td>25.0</td>\n",
       "      <td>54.87</td>\n",
       "      <td>2014</td>\n",
       "    </tr>\n",
       "    <tr>\n",
       "      <th>1251</th>\n",
       "      <td>tt9447594</td>\n",
       "      <td>The Gambler</td>\n",
       "      <td>2019</td>\n",
       "      <td>Action,Sci-Fi,Thriller</td>\n",
       "      <td>6.1</td>\n",
       "      <td>10</td>\n",
       "      <td>Aug 4, 1999</td>\n",
       "      <td>3000000.0</td>\n",
       "      <td>51773.0</td>\n",
       "      <td>101773.0</td>\n",
       "      <td>1999</td>\n",
       "      <td>08 Aug</td>\n",
       "      <td>-2898227.0</td>\n",
       "      <td>-2.898227</td>\n",
       "      <td>3.0</td>\n",
       "      <td>-96.61</td>\n",
       "      <td>1999</td>\n",
       "    </tr>\n",
       "  </tbody>\n",
       "</table>\n",
       "</div>"
      ],
      "text/plain": [
       "         tconst        movie  start_year                  genres  \\\n",
       "1242  tt1828325  The Gambler        2015                   Drama   \n",
       "1243  tt1828325  The Gambler        2015                   Drama   \n",
       "1244  tt2039393  The Gambler        2014    Crime,Drama,Thriller   \n",
       "1245  tt2039393  The Gambler        2014    Crime,Drama,Thriller   \n",
       "1246  tt2843832  The Gambler        2013             Documentary   \n",
       "1247  tt2843832  The Gambler        2013             Documentary   \n",
       "1248  tt2924336  The Gambler        2013          Drama,Thriller   \n",
       "1249  tt2924336  The Gambler        2013          Drama,Thriller   \n",
       "1250  tt9447594  The Gambler        2019  Action,Sci-Fi,Thriller   \n",
       "1251  tt9447594  The Gambler        2019  Action,Sci-Fi,Thriller   \n",
       "\n",
       "      averagerating  numvotes  release_date  production_budget  \\\n",
       "1242            7.0        10  Dec 10, 2014         25000000.0   \n",
       "1243            7.0        10   Aug 4, 1999          3000000.0   \n",
       "1244            6.0     59995  Dec 10, 2014         25000000.0   \n",
       "1245            6.0     59995   Aug 4, 1999          3000000.0   \n",
       "1246            7.6        14  Dec 10, 2014         25000000.0   \n",
       "1247            7.6        14   Aug 4, 1999          3000000.0   \n",
       "1248            7.2      1479  Dec 10, 2014         25000000.0   \n",
       "1249            7.2      1479   Aug 4, 1999          3000000.0   \n",
       "1250            6.1        10  Dec 10, 2014         25000000.0   \n",
       "1251            6.1        10   Aug 4, 1999          3000000.0   \n",
       "\n",
       "      domestic_gross  worldwide_gross release_year release_month      profit  \\\n",
       "1242      33680992.0       38718031.0         2014       12 Dec   13718031.0   \n",
       "1243         51773.0         101773.0         1999       08 Aug   -2898227.0   \n",
       "1244      33680992.0       38718031.0         2014       12 Dec   13718031.0   \n",
       "1245         51773.0         101773.0         1999       08 Aug   -2898227.0   \n",
       "1246      33680992.0       38718031.0         2014       12 Dec   13718031.0   \n",
       "1247         51773.0         101773.0         1999       08 Aug   -2898227.0   \n",
       "1248      33680992.0       38718031.0         2014       12 Dec   13718031.0   \n",
       "1249         51773.0         101773.0         1999       08 Aug   -2898227.0   \n",
       "1250      33680992.0       38718031.0         2014       12 Dec   13718031.0   \n",
       "1251         51773.0         101773.0         1999       08 Aug   -2898227.0   \n",
       "\n",
       "      profit_million  production_budget_million    ROI  year  \n",
       "1242       13.718031                       25.0  54.87  2014  \n",
       "1243       -2.898227                        3.0 -96.61  1999  \n",
       "1244       13.718031                       25.0  54.87  2014  \n",
       "1245       -2.898227                        3.0 -96.61  1999  \n",
       "1246       13.718031                       25.0  54.87  2014  \n",
       "1247       -2.898227                        3.0 -96.61  1999  \n",
       "1248       13.718031                       25.0  54.87  2014  \n",
       "1249       -2.898227                        3.0 -96.61  1999  \n",
       "1250       13.718031                       25.0  54.87  2014  \n",
       "1251       -2.898227                        3.0 -96.61  1999  "
      ]
     },
     "execution_count": 164,
     "metadata": {},
     "output_type": "execute_result"
    }
   ],
   "source": [
    "mdf = pd.merge(imdb_data, movie_budgets, how = 'inner', on = 'movie')\n",
    "mdf\n",
    "mdf.loc[mdf['movie']== 'The Gambler']"
   ]
  },
  {
   "cell_type": "code",
   "execution_count": 165,
   "id": "a564db87",
   "metadata": {},
   "outputs": [],
   "source": [
    "mdf=mdf.sort_values(by='numvotes', ascending = False)\n",
    "#mdf.loc[mdf['movie']== 'The Gambler']"
   ]
  },
  {
   "cell_type": "code",
   "execution_count": 166,
   "id": "f942193a",
   "metadata": {},
   "outputs": [],
   "source": [
    "mdf['same_year']= mdf['start_year']-mdf['year']\n",
    "mdf = mdf.loc[mdf['same_year']== 0]\n",
    "#mdf.loc[mdf['movie']== 'The Gambler']"
   ]
  },
  {
   "cell_type": "code",
   "execution_count": 167,
   "id": "dd44cdc2",
   "metadata": {},
   "outputs": [],
   "source": [
    "mdf = mdf.drop_duplicates(subset='movie')\n",
    "mdf.drop(columns = [\"tconst\"], inplace=True)"
   ]
  },
  {
   "cell_type": "code",
   "execution_count": 168,
   "id": "1e796adb",
   "metadata": {},
   "outputs": [],
   "source": [
    "mdf[\"genres\"] = mdf[\"genres\"].apply(lambda x: x.split(\",\") if type(x) == str else x)"
   ]
  },
  {
   "cell_type": "code",
   "execution_count": 169,
   "id": "8539d099",
   "metadata": {},
   "outputs": [],
   "source": [
    "# filter for movies released after 1990 \n",
    "mdf = mdf.loc[mdf['year'] >= 1990]"
   ]
  },
  {
   "cell_type": "code",
   "execution_count": 170,
   "id": "b8251ec0",
   "metadata": {},
   "outputs": [],
   "source": [
    "mdf2 = mdf.explode('genres')\n",
    "mean_ROI_by_month = mdf2.groupby(\"release_month\").mean()"
   ]
  },
  {
   "cell_type": "code",
   "execution_count": 171,
   "id": "7c4c1b81",
   "metadata": {},
   "outputs": [
    {
     "data": {
      "text/html": [
       "<div>\n",
       "<style scoped>\n",
       "    .dataframe tbody tr th:only-of-type {\n",
       "        vertical-align: middle;\n",
       "    }\n",
       "\n",
       "    .dataframe tbody tr th {\n",
       "        vertical-align: top;\n",
       "    }\n",
       "\n",
       "    .dataframe thead th {\n",
       "        text-align: right;\n",
       "    }\n",
       "</style>\n",
       "<table border=\"1\" class=\"dataframe\">\n",
       "  <thead>\n",
       "    <tr style=\"text-align: right;\">\n",
       "      <th></th>\n",
       "      <th>movie</th>\n",
       "      <th>start_year</th>\n",
       "      <th>genres</th>\n",
       "      <th>averagerating</th>\n",
       "      <th>numvotes</th>\n",
       "      <th>release_date</th>\n",
       "      <th>production_budget</th>\n",
       "      <th>domestic_gross</th>\n",
       "      <th>worldwide_gross</th>\n",
       "      <th>release_year</th>\n",
       "      <th>release_month</th>\n",
       "      <th>profit</th>\n",
       "      <th>profit_million</th>\n",
       "      <th>production_budget_million</th>\n",
       "      <th>ROI</th>\n",
       "      <th>year</th>\n",
       "      <th>same_year</th>\n",
       "    </tr>\n",
       "  </thead>\n",
       "  <tbody>\n",
       "    <tr>\n",
       "      <th>510</th>\n",
       "      <td>Inception</td>\n",
       "      <td>2010</td>\n",
       "      <td>Action</td>\n",
       "      <td>8.8</td>\n",
       "      <td>1841066</td>\n",
       "      <td>Jul 16, 2010</td>\n",
       "      <td>160000000.0</td>\n",
       "      <td>292576195.0</td>\n",
       "      <td>8.355246e+08</td>\n",
       "      <td>2010</td>\n",
       "      <td>07 Jul</td>\n",
       "      <td>675524642.0</td>\n",
       "      <td>675.524642</td>\n",
       "      <td>160.000</td>\n",
       "      <td>422.20</td>\n",
       "      <td>2010</td>\n",
       "      <td>0</td>\n",
       "    </tr>\n",
       "    <tr>\n",
       "      <th>510</th>\n",
       "      <td>Inception</td>\n",
       "      <td>2010</td>\n",
       "      <td>Adventure</td>\n",
       "      <td>8.8</td>\n",
       "      <td>1841066</td>\n",
       "      <td>Jul 16, 2010</td>\n",
       "      <td>160000000.0</td>\n",
       "      <td>292576195.0</td>\n",
       "      <td>8.355246e+08</td>\n",
       "      <td>2010</td>\n",
       "      <td>07 Jul</td>\n",
       "      <td>675524642.0</td>\n",
       "      <td>675.524642</td>\n",
       "      <td>160.000</td>\n",
       "      <td>422.20</td>\n",
       "      <td>2010</td>\n",
       "      <td>0</td>\n",
       "    </tr>\n",
       "    <tr>\n",
       "      <th>510</th>\n",
       "      <td>Inception</td>\n",
       "      <td>2010</td>\n",
       "      <td>Sci-Fi</td>\n",
       "      <td>8.8</td>\n",
       "      <td>1841066</td>\n",
       "      <td>Jul 16, 2010</td>\n",
       "      <td>160000000.0</td>\n",
       "      <td>292576195.0</td>\n",
       "      <td>8.355246e+08</td>\n",
       "      <td>2010</td>\n",
       "      <td>07 Jul</td>\n",
       "      <td>675524642.0</td>\n",
       "      <td>675.524642</td>\n",
       "      <td>160.000</td>\n",
       "      <td>422.20</td>\n",
       "      <td>2010</td>\n",
       "      <td>0</td>\n",
       "    </tr>\n",
       "    <tr>\n",
       "      <th>477</th>\n",
       "      <td>The Dark Knight Rises</td>\n",
       "      <td>2012</td>\n",
       "      <td>Action</td>\n",
       "      <td>8.4</td>\n",
       "      <td>1387769</td>\n",
       "      <td>Jul 20, 2012</td>\n",
       "      <td>275000000.0</td>\n",
       "      <td>448139099.0</td>\n",
       "      <td>1.084439e+09</td>\n",
       "      <td>2012</td>\n",
       "      <td>07 Jul</td>\n",
       "      <td>809439099.0</td>\n",
       "      <td>809.439099</td>\n",
       "      <td>275.000</td>\n",
       "      <td>294.34</td>\n",
       "      <td>2012</td>\n",
       "      <td>0</td>\n",
       "    </tr>\n",
       "    <tr>\n",
       "      <th>477</th>\n",
       "      <td>The Dark Knight Rises</td>\n",
       "      <td>2012</td>\n",
       "      <td>Thriller</td>\n",
       "      <td>8.4</td>\n",
       "      <td>1387769</td>\n",
       "      <td>Jul 20, 2012</td>\n",
       "      <td>275000000.0</td>\n",
       "      <td>448139099.0</td>\n",
       "      <td>1.084439e+09</td>\n",
       "      <td>2012</td>\n",
       "      <td>07 Jul</td>\n",
       "      <td>809439099.0</td>\n",
       "      <td>809.439099</td>\n",
       "      <td>275.000</td>\n",
       "      <td>294.34</td>\n",
       "      <td>2012</td>\n",
       "      <td>0</td>\n",
       "    </tr>\n",
       "    <tr>\n",
       "      <th>...</th>\n",
       "      <td>...</td>\n",
       "      <td>...</td>\n",
       "      <td>...</td>\n",
       "      <td>...</td>\n",
       "      <td>...</td>\n",
       "      <td>...</td>\n",
       "      <td>...</td>\n",
       "      <td>...</td>\n",
       "      <td>...</td>\n",
       "      <td>...</td>\n",
       "      <td>...</td>\n",
       "      <td>...</td>\n",
       "      <td>...</td>\n",
       "      <td>...</td>\n",
       "      <td>...</td>\n",
       "      <td>...</td>\n",
       "      <td>...</td>\n",
       "    </tr>\n",
       "    <tr>\n",
       "      <th>1418</th>\n",
       "      <td>Destiny</td>\n",
       "      <td>2014</td>\n",
       "      <td>Romance</td>\n",
       "      <td>7.8</td>\n",
       "      <td>36</td>\n",
       "      <td>Dec 31, 2014</td>\n",
       "      <td>750000.0</td>\n",
       "      <td>0.0</td>\n",
       "      <td>4.500000e+02</td>\n",
       "      <td>2014</td>\n",
       "      <td>12 Dec</td>\n",
       "      <td>-749550.0</td>\n",
       "      <td>-0.749550</td>\n",
       "      <td>0.750</td>\n",
       "      <td>-99.94</td>\n",
       "      <td>2014</td>\n",
       "      <td>0</td>\n",
       "    </tr>\n",
       "    <tr>\n",
       "      <th>1481</th>\n",
       "      <td>The Great Wall</td>\n",
       "      <td>2017</td>\n",
       "      <td>Documentary</td>\n",
       "      <td>6.5</td>\n",
       "      <td>24</td>\n",
       "      <td>Feb 17, 2017</td>\n",
       "      <td>150000000.0</td>\n",
       "      <td>45157105.0</td>\n",
       "      <td>3.344869e+08</td>\n",
       "      <td>2017</td>\n",
       "      <td>02 Feb</td>\n",
       "      <td>184486852.0</td>\n",
       "      <td>184.486852</td>\n",
       "      <td>150.000</td>\n",
       "      <td>122.99</td>\n",
       "      <td>2017</td>\n",
       "      <td>0</td>\n",
       "    </tr>\n",
       "    <tr>\n",
       "      <th>2308</th>\n",
       "      <td>Emily</td>\n",
       "      <td>2017</td>\n",
       "      <td>Drama</td>\n",
       "      <td>6.8</td>\n",
       "      <td>13</td>\n",
       "      <td>Jan 27, 2017</td>\n",
       "      <td>27000.0</td>\n",
       "      <td>3547.0</td>\n",
       "      <td>3.547000e+03</td>\n",
       "      <td>2017</td>\n",
       "      <td>01 Jan</td>\n",
       "      <td>-23453.0</td>\n",
       "      <td>-0.023453</td>\n",
       "      <td>0.027</td>\n",
       "      <td>-86.86</td>\n",
       "      <td>2017</td>\n",
       "      <td>0</td>\n",
       "    </tr>\n",
       "    <tr>\n",
       "      <th>1931</th>\n",
       "      <td>All You Need Is Love</td>\n",
       "      <td>2014</td>\n",
       "      <td>Documentary</td>\n",
       "      <td>6.8</td>\n",
       "      <td>9</td>\n",
       "      <td>Oct 31, 2014</td>\n",
       "      <td>300000.0</td>\n",
       "      <td>0.0</td>\n",
       "      <td>3.565259e+06</td>\n",
       "      <td>2014</td>\n",
       "      <td>10 Oct</td>\n",
       "      <td>3265259.0</td>\n",
       "      <td>3.265259</td>\n",
       "      <td>0.300</td>\n",
       "      <td>1088.42</td>\n",
       "      <td>2014</td>\n",
       "      <td>0</td>\n",
       "    </tr>\n",
       "    <tr>\n",
       "      <th>2111</th>\n",
       "      <td>Oddball</td>\n",
       "      <td>2016</td>\n",
       "      <td>Documentary</td>\n",
       "      <td>6.4</td>\n",
       "      <td>5</td>\n",
       "      <td>Dec 6, 2016</td>\n",
       "      <td>7000000.0</td>\n",
       "      <td>0.0</td>\n",
       "      <td>1.023723e+07</td>\n",
       "      <td>2016</td>\n",
       "      <td>12 Dec</td>\n",
       "      <td>3237229.0</td>\n",
       "      <td>3.237229</td>\n",
       "      <td>7.000</td>\n",
       "      <td>46.25</td>\n",
       "      <td>2016</td>\n",
       "      <td>0</td>\n",
       "    </tr>\n",
       "  </tbody>\n",
       "</table>\n",
       "<p>3530 rows × 17 columns</p>\n",
       "</div>"
      ],
      "text/plain": [
       "                      movie  start_year       genres  averagerating  numvotes  \\\n",
       "510               Inception        2010       Action            8.8   1841066   \n",
       "510               Inception        2010    Adventure            8.8   1841066   \n",
       "510               Inception        2010       Sci-Fi            8.8   1841066   \n",
       "477   The Dark Knight Rises        2012       Action            8.4   1387769   \n",
       "477   The Dark Knight Rises        2012     Thriller            8.4   1387769   \n",
       "...                     ...         ...          ...            ...       ...   \n",
       "1418                Destiny        2014      Romance            7.8        36   \n",
       "1481         The Great Wall        2017  Documentary            6.5        24   \n",
       "2308                  Emily        2017        Drama            6.8        13   \n",
       "1931   All You Need Is Love        2014  Documentary            6.8         9   \n",
       "2111                Oddball        2016  Documentary            6.4         5   \n",
       "\n",
       "      release_date  production_budget  domestic_gross  worldwide_gross  \\\n",
       "510   Jul 16, 2010        160000000.0     292576195.0     8.355246e+08   \n",
       "510   Jul 16, 2010        160000000.0     292576195.0     8.355246e+08   \n",
       "510   Jul 16, 2010        160000000.0     292576195.0     8.355246e+08   \n",
       "477   Jul 20, 2012        275000000.0     448139099.0     1.084439e+09   \n",
       "477   Jul 20, 2012        275000000.0     448139099.0     1.084439e+09   \n",
       "...            ...                ...             ...              ...   \n",
       "1418  Dec 31, 2014           750000.0             0.0     4.500000e+02   \n",
       "1481  Feb 17, 2017        150000000.0      45157105.0     3.344869e+08   \n",
       "2308  Jan 27, 2017            27000.0          3547.0     3.547000e+03   \n",
       "1931  Oct 31, 2014           300000.0             0.0     3.565259e+06   \n",
       "2111   Dec 6, 2016          7000000.0             0.0     1.023723e+07   \n",
       "\n",
       "     release_year release_month       profit  profit_million  \\\n",
       "510          2010       07 Jul   675524642.0      675.524642   \n",
       "510          2010       07 Jul   675524642.0      675.524642   \n",
       "510          2010       07 Jul   675524642.0      675.524642   \n",
       "477          2012       07 Jul   809439099.0      809.439099   \n",
       "477          2012       07 Jul   809439099.0      809.439099   \n",
       "...           ...           ...          ...             ...   \n",
       "1418         2014       12 Dec     -749550.0       -0.749550   \n",
       "1481         2017       02 Feb   184486852.0      184.486852   \n",
       "2308         2017       01 Jan      -23453.0       -0.023453   \n",
       "1931         2014       10 Oct     3265259.0        3.265259   \n",
       "2111         2016       12 Dec     3237229.0        3.237229   \n",
       "\n",
       "      production_budget_million      ROI  year  same_year  \n",
       "510                     160.000   422.20  2010          0  \n",
       "510                     160.000   422.20  2010          0  \n",
       "510                     160.000   422.20  2010          0  \n",
       "477                     275.000   294.34  2012          0  \n",
       "477                     275.000   294.34  2012          0  \n",
       "...                         ...      ...   ...        ...  \n",
       "1418                      0.750   -99.94  2014          0  \n",
       "1481                    150.000   122.99  2017          0  \n",
       "2308                      0.027   -86.86  2017          0  \n",
       "1931                      0.300  1088.42  2014          0  \n",
       "2111                      7.000    46.25  2016          0  \n",
       "\n",
       "[3530 rows x 17 columns]"
      ]
     },
     "execution_count": 171,
     "metadata": {},
     "output_type": "execute_result"
    }
   ],
   "source": [
    "mdf2['genres'].unique()\n",
    "mdf2"
   ]
  },
  {
   "cell_type": "code",
   "execution_count": 172,
   "id": "d5cbbfcc",
   "metadata": {},
   "outputs": [
    {
     "data": {
      "text/plain": [
       "['Horror', 'Mystery', 'Thriller', 'Sci-Fi', 'Animation']"
      ]
     },
     "execution_count": 172,
     "metadata": {},
     "output_type": "execute_result"
    }
   ],
   "source": [
    "sorted_genres = mdf2.groupby([\"genres\"], as_index=False).mean().sort_values(by = \"ROI\", ascending=False)\n",
    "\n",
    "top5genres = list(sorted_genres['genres'].values[0:5])\n",
    "top5genres"
   ]
  },
  {
   "cell_type": "code",
   "execution_count": 173,
   "id": "8bd1d8a7",
   "metadata": {},
   "outputs": [
    {
     "data": {
      "text/plain": [
       "(21, 13)"
      ]
     },
     "execution_count": 173,
     "metadata": {},
     "output_type": "execute_result"
    }
   ],
   "source": [
    "sorted_genres.shape"
   ]
  },
  {
   "cell_type": "code",
   "execution_count": 174,
   "id": "10e0a41c",
   "metadata": {},
   "outputs": [
    {
     "data": {
      "image/png": "[encoded data removed]",
      "text/plain": [
       "<Figure size 720x360 with 1 Axes>"
      ]
     },
     "metadata": {
      "needs_background": "light"
     },
     "output_type": "display_data"
    }
   ],
   "source": [
    "height = mean_ROI_by_month['ROI']\n",
    "x = range(12)\n",
    "labels = mean_ROI_by_month.index\n",
    "\n",
    "fig, ax = plt.subplots(figsize=(10, 5))\n",
    "\n",
    "ax.bar(x, height, tick_label=labels, color = \"green\")\n",
    "\n",
    "ax.set_title(\"Mean ROI by Month (1990-2020)\")\n",
    "ax.set_ylabel(\"Mean Return on Investment ($)\")\n",
    "ax.set_xlabel(\"Month\");"
   ]
  },
  {
   "cell_type": "code",
   "execution_count": 175,
   "id": "ec278a5e",
   "metadata": {},
   "outputs": [],
   "source": [
    "mdf2_Horror = mdf2[mdf2[\"genres\"]== \"Horror\"]\n",
    "mdf2_Mystery = mdf2[mdf2[\"genres\"]== \"Mystery\"]\n",
    "mdf2_Thriller = mdf2[mdf2[\"genres\"]== \"Thriller\"]\n",
    "mdf2_Sci_Fi = mdf2[mdf2[\"genres\"]== \"Music\"]\n",
    "mdf2_Animation = mdf2[mdf2[\"genres\"]== \"Sci-Fi\"]"
   ]
  },
  {
   "cell_type": "code",
   "execution_count": 176,
   "id": "1827b4d8",
   "metadata": {},
   "outputs": [
    {
     "data": {
      "image/png": "[encoded data removed]",
      "text/plain": [
       "<Figure size 720x432 with 1 Axes>"
      ]
     },
     "metadata": {
      "needs_background": "light"
     },
     "output_type": "display_data"
    }
   ],
   "source": [
    "mdf2_Horror_Grouped = mdf2_Horror.groupby([\"release_month\"], as_index=False).mean()\n",
    "mdf2_Horror_Grouped = mdf2_Horror_Grouped.set_index(\"release_month\")\n",
    "\n",
    "height = mdf2_Horror_Grouped['ROI']\n",
    "x = range(12)\n",
    "labels = mdf2_Horror_Grouped.index\n",
    "\n",
    "fig, ax = plt.subplots(figsize=(10, 6))\n",
    "\n",
    "ax.bar(x, height, tick_label=labels, color = \"green\")\n",
    "\n",
    "ax.set_title(\"Mean ROI By Month for Horror Movies (1990-2020)\")\n",
    "ax.set_ylabel(\"Mean Return on Investment ($)\")\n",
    "ax.set_xlabel(\"Month\");"
   ]
  },
  {
   "cell_type": "code",
   "execution_count": 177,
   "id": "b4c194aa",
   "metadata": {},
   "outputs": [
    {
     "data": {
      "text/plain": [
       "(6, 12)"
      ]
     },
     "execution_count": 177,
     "metadata": {},
     "output_type": "execute_result"
    }
   ],
   "source": [
    "mdf2_Horror_WeekName.shape"
   ]
  },
  {
   "cell_type": "code",
   "execution_count": 178,
   "id": "bbaf8ff2",
   "metadata": {},
   "outputs": [
    {
     "name": "stderr",
     "output_type": "stream",
     "text": [
      "<ipython-input-178-91ea08009c9b>:1: SettingWithCopyWarning: \n",
      "A value is trying to be set on a copy of a slice from a DataFrame.\n",
      "Try using .loc[row_indexer,col_indexer] = value instead\n",
      "\n",
      "See the caveats in the documentation: https://pandas.pydata.org/pandas-docs/stable/user_guide/indexing.html#returning-a-view-versus-a-copy\n",
      "  mdf2_Horror['converted'] = pd.to_datetime(pd.Series(mdf2_Horror[\"release_date\"]))\n",
      "<ipython-input-178-91ea08009c9b>:2: SettingWithCopyWarning: \n",
      "A value is trying to be set on a copy of a slice from a DataFrame.\n",
      "Try using .loc[row_indexer,col_indexer] = value instead\n",
      "\n",
      "See the caveats in the documentation: https://pandas.pydata.org/pandas-docs/stable/user_guide/indexing.html#returning-a-view-versus-a-copy\n",
      "  mdf2_Horror[\"day of the week\"] = mdf2_Horror[\"converted\"].dt.day_name()\n"
     ]
    },
    {
     "data": {
      "image/png": "[encoded data removed]",
      "text/plain": [
       "<Figure size 936x432 with 1 Axes>"
      ]
     },
     "metadata": {
      "needs_background": "light"
     },
     "output_type": "display_data"
    }
   ],
   "source": [
    "mdf2_Horror['converted'] = pd.to_datetime(pd.Series(mdf2_Horror[\"release_date\"]))\n",
    "mdf2_Horror[\"day of the week\"] = mdf2_Horror[\"converted\"].dt.day_name()\n",
    "mdf2_Horror_WeekName = mdf2_Horror.groupby(\"day of the week\").sum()\n",
    "mdf2_Horror_WeekName = mdf2_Horror_WeekName.sort_values(\"ROI\", ascending=False)\n",
    "\n",
    "height = mdf2_Horror_WeekName['ROI']\n",
    "x = range(6)\n",
    "labels = mdf2_Horror_WeekName.index\n",
    "\n",
    "fig, ax = plt.subplots(figsize=(13, 6))\n",
    "\n",
    "ax.bar(x, height, tick_label=labels, color = \"green\")\n",
    "\n",
    "ax.set_title(\"Mean ROI by Day of the Week Release Date for Horror Movies (1990-2020)\")\n",
    "ax.set_ylabel(\"Mean ROI ($)\")\n",
    "ax.set_xlabel(\"Day of the Week\");\n"
   ]
  },
  {
   "cell_type": "code",
   "execution_count": 179,
   "id": "68259ccb",
   "metadata": {},
   "outputs": [
    {
     "data": {
      "image/png": "[encoded data removed]",
      "text/plain": [
       "<Figure size 720x432 with 1 Axes>"
      ]
     },
     "metadata": {
      "needs_background": "light"
     },
     "output_type": "display_data"
    }
   ],
   "source": [
    "mdf2_Mystery_Grouped = mdf2_Mystery.groupby([\"release_month\"], as_index=False).mean()\n",
    "mdf2_Mystery_Grouped = mdf2_Mystery_Grouped.set_index(\"release_month\")\n",
    "\n",
    "height = mdf2_Mystery_Grouped['ROI']\n",
    "x = range(12)\n",
    "labels = mdf2_Mystery_Grouped.index\n",
    "\n",
    "fig, ax = plt.subplots(figsize=(10, 6))\n",
    "\n",
    "ax.bar(x, height, tick_label=labels, color = \"green\")\n",
    "\n",
    "ax.set_title(\"Mean ROI By Month for Mystery Movies (1990-2020)\")\n",
    "ax.set_ylabel(\"Mean Return on Investment ($)\")\n",
    "ax.set_xlabel(\"Month\");"
   ]
  },
  {
   "cell_type": "code",
   "execution_count": 180,
   "id": "98f07dd4",
   "metadata": {},
   "outputs": [
    {
     "name": "stderr",
     "output_type": "stream",
     "text": [
      "<ipython-input-180-ef49efad3faa>:1: SettingWithCopyWarning: \n",
      "A value is trying to be set on a copy of a slice from a DataFrame.\n",
      "Try using .loc[row_indexer,col_indexer] = value instead\n",
      "\n",
      "See the caveats in the documentation: https://pandas.pydata.org/pandas-docs/stable/user_guide/indexing.html#returning-a-view-versus-a-copy\n",
      "  mdf2_Mystery['converted'] = pd.to_datetime(pd.Series(mdf2_Mystery[\"release_date\"]))\n",
      "<ipython-input-180-ef49efad3faa>:2: SettingWithCopyWarning: \n",
      "A value is trying to be set on a copy of a slice from a DataFrame.\n",
      "Try using .loc[row_indexer,col_indexer] = value instead\n",
      "\n",
      "See the caveats in the documentation: https://pandas.pydata.org/pandas-docs/stable/user_guide/indexing.html#returning-a-view-versus-a-copy\n",
      "  mdf2_Mystery[\"day of the week\"] = mdf2_Mystery[\"converted\"].dt.day_name()\n"
     ]
    },
    {
     "data": {
      "image/png": "[encoded data removed]",
      "text/plain": [
       "<Figure size 936x432 with 1 Axes>"
      ]
     },
     "metadata": {
      "needs_background": "light"
     },
     "output_type": "display_data"
    }
   ],
   "source": [
    "mdf2_Mystery['converted'] = pd.to_datetime(pd.Series(mdf2_Mystery[\"release_date\"]))\n",
    "mdf2_Mystery[\"day of the week\"] = mdf2_Mystery[\"converted\"].dt.day_name()\n",
    "mdf2_Mystery_WeekName = mdf2_Mystery.groupby(\"day of the week\").sum()\n",
    "mdf2_Mystery_WeekName = mdf2_Mystery_WeekName.sort_values(\"ROI\", ascending=False)\n",
    "\n",
    "height = mdf2_Mystery_WeekName['ROI']\n",
    "x = range(5)\n",
    "labels = mdf2_Mystery_WeekName.index\n",
    "\n",
    "fig, ax = plt.subplots(figsize=(13, 6))\n",
    "\n",
    "ax.bar(x, height, tick_label=labels, color = \"green\")\n",
    "\n",
    "ax.set_title(\"Mean ROI by Day of the Week Release Date for Mystery Movies (1990-2020)\")\n",
    "ax.set_ylabel(\"Mean ROI ($)\")\n",
    "ax.set_xlabel(\"Day of the Week\");"
   ]
  },
  {
   "cell_type": "code",
   "execution_count": 181,
   "id": "11592c29",
   "metadata": {},
   "outputs": [
    {
     "data": {
      "image/png": "[encoded data removed]",
      "text/plain": [
       "<Figure size 720x432 with 1 Axes>"
      ]
     },
     "metadata": {
      "needs_background": "light"
     },
     "output_type": "display_data"
    }
   ],
   "source": [
    "mdf2_Thriller_Grouped = mdf2_Thriller.groupby([\"release_month\"], as_index=False).mean()\n",
    "mdf2_Thriller_Grouped = mdf2_Thriller_Grouped.set_index(\"release_month\")\n",
    "\n",
    "height = mdf2_Thriller_Grouped['ROI']\n",
    "x = range(12)\n",
    "labels = mdf2_Thriller_Grouped.index\n",
    "\n",
    "fig, ax = plt.subplots(figsize=(10, 6))\n",
    "\n",
    "ax.bar(x, height, tick_label=labels, color = \"green\")\n",
    "\n",
    "ax.set_title(\"Mean ROI By Month for Thriller Movies (1990-2020)\")\n",
    "ax.set_ylabel(\"Mean Return on Investment ($)\")\n",
    "ax.set_xlabel(\"Month\");"
   ]
  },
  {
   "cell_type": "code",
   "execution_count": 182,
   "id": "89e9c7c9",
   "metadata": {},
   "outputs": [
    {
     "name": "stderr",
     "output_type": "stream",
     "text": [
      "<ipython-input-182-4a2ff00af3ef>:1: SettingWithCopyWarning: \n",
      "A value is trying to be set on a copy of a slice from a DataFrame.\n",
      "Try using .loc[row_indexer,col_indexer] = value instead\n",
      "\n",
      "See the caveats in the documentation: https://pandas.pydata.org/pandas-docs/stable/user_guide/indexing.html#returning-a-view-versus-a-copy\n",
      "  mdf2_Thriller['converted'] = pd.to_datetime(pd.Series(mdf2_Thriller[\"release_date\"]))\n",
      "<ipython-input-182-4a2ff00af3ef>:2: SettingWithCopyWarning: \n",
      "A value is trying to be set on a copy of a slice from a DataFrame.\n",
      "Try using .loc[row_indexer,col_indexer] = value instead\n",
      "\n",
      "See the caveats in the documentation: https://pandas.pydata.org/pandas-docs/stable/user_guide/indexing.html#returning-a-view-versus-a-copy\n",
      "  mdf2_Thriller[\"day of the week\"] = mdf2_Thriller[\"converted\"].dt.day_name()\n"
     ]
    },
    {
     "data": {
      "image/png": "[encoded data removed]",
      "text/plain": [
       "<Figure size 936x432 with 1 Axes>"
      ]
     },
     "metadata": {
      "needs_background": "light"
     },
     "output_type": "display_data"
    }
   ],
   "source": [
    "mdf2_Thriller['converted'] = pd.to_datetime(pd.Series(mdf2_Thriller[\"release_date\"]))\n",
    "mdf2_Thriller[\"day of the week\"] = mdf2_Thriller[\"converted\"].dt.day_name()\n",
    "mdf2_Thriller_WeekName = mdf2_Thriller.groupby(\"day of the week\").sum()\n",
    "mdf2_Thriller_WeekName = mdf2_Thriller_WeekName.sort_values(\"ROI\", ascending=False)\n",
    "\n",
    "height = mdf2_Thriller_WeekName['ROI']\n",
    "x = range(4)\n",
    "labels = mdf2_Thriller_WeekName.index\n",
    "\n",
    "fig, ax = plt.subplots(figsize=(13, 6))\n",
    "\n",
    "ax.bar(x, height, tick_label=labels, color = \"green\")\n",
    "\n",
    "ax.set_title(\"Mean ROI by Day of the Week Release Date for Thriller Movies (1990-2020)\")\n",
    "ax.set_ylabel(\"Mean ROI ($)\")\n",
    "ax.set_xlabel(\"Day of the Week\");"
   ]
  },
  {
   "cell_type": "code",
   "execution_count": 188,
   "id": "11d3b360",
   "metadata": {},
   "outputs": [
    {
     "data": {
      "image/png": "[encoded data removed]",
      "text/plain": [
       "<Figure size 720x432 with 1 Axes>"
      ]
     },
     "metadata": {
      "needs_background": "light"
     },
     "output_type": "display_data"
    }
   ],
   "source": [
    "mdf2_Sci_Fi_Grouped = mdf2_Sci_Fi.groupby([\"release_month\"], as_index=False).mean()\n",
    "mdf2_Sci_Fi_Grouped = mdf2_Sci_Fi_Grouped.set_index(\"release_month\")\n",
    "\n",
    "height = mdf2_Sci_Fi_Grouped['ROI']\n",
    "x = range(11)\n",
    "labels = mdf2_Sci_Fi_Grouped.index\n",
    "\n",
    "fig, ax = plt.subplots(figsize=(10, 6))\n",
    "\n",
    "ax.bar(x, height, tick_label=labels, color = \"green\")\n",
    "\n",
    "ax.set_title(\"Mean ROI By Month for Sci-Fi Movies (1990-2020)\")\n",
    "ax.set_ylabel(\"Mean Return on Investment ($)\")\n",
    "ax.set_xlabel(\"Month\");"
   ]
  },
  {
   "cell_type": "code",
   "execution_count": 184,
   "id": "395296f7",
   "metadata": {},
   "outputs": [
    {
     "name": "stderr",
     "output_type": "stream",
     "text": [
      "<ipython-input-184-ed987ca97447>:1: SettingWithCopyWarning: \n",
      "A value is trying to be set on a copy of a slice from a DataFrame.\n",
      "Try using .loc[row_indexer,col_indexer] = value instead\n",
      "\n",
      "See the caveats in the documentation: https://pandas.pydata.org/pandas-docs/stable/user_guide/indexing.html#returning-a-view-versus-a-copy\n",
      "  mdf2_Sci_Fi['converted'] = pd.to_datetime(pd.Series(mdf2_Sci_Fi[\"release_date\"]))\n",
      "<ipython-input-184-ed987ca97447>:2: SettingWithCopyWarning: \n",
      "A value is trying to be set on a copy of a slice from a DataFrame.\n",
      "Try using .loc[row_indexer,col_indexer] = value instead\n",
      "\n",
      "See the caveats in the documentation: https://pandas.pydata.org/pandas-docs/stable/user_guide/indexing.html#returning-a-view-versus-a-copy\n",
      "  mdf2_Sci_Fi[\"day of the week\"] = mdf2_Sci_Fi[\"converted\"].dt.day_name()\n"
     ]
    },
    {
     "data": {
      "image/png": "[encoded data removed]",
      "text/plain": [
       "<Figure size 936x432 with 1 Axes>"
      ]
     },
     "metadata": {
      "needs_background": "light"
     },
     "output_type": "display_data"
    }
   ],
   "source": [
    "mdf2_Sci_Fi['converted'] = pd.to_datetime(pd.Series(mdf2_Sci_Fi[\"release_date\"]))\n",
    "mdf2_Sci_Fi[\"day of the week\"] = mdf2_Sci_Fi[\"converted\"].dt.day_name()\n",
    "mdf2_Sci_Fi_WeekName = mdf2_Sci_Fi.groupby(\"day of the week\").sum()\n",
    "mdf2_Sci_Fi_WeekName = mdf2_Sci_Fi_WeekName.sort_values(\"ROI\", ascending=False)\n",
    "\n",
    "height = mdf2_Sci_Fi_WeekName['ROI']\n",
    "x = range(3)\n",
    "labels = mdf2_Sci_Fi_WeekName.index\n",
    "\n",
    "fig, ax = plt.subplots(figsize=(13, 6))\n",
    "\n",
    "ax.bar(x, height, tick_label=labels, color = \"green\")\n",
    "\n",
    "ax.set_title(\"Mean ROI by Day of the Week Release Date for Sci-Fi Movies (1990-2020)\")\n",
    "ax.set_ylabel(\"Mean ROI ($)\")\n",
    "ax.set_xlabel(\"Day of the Week\");"
   ]
  },
  {
   "cell_type": "code",
   "execution_count": 185,
   "id": "f7308e3c",
   "metadata": {},
   "outputs": [
    {
     "data": {
      "image/png": "[encoded data removed]",
      "text/plain": [
       "<Figure size 720x432 with 1 Axes>"
      ]
     },
     "metadata": {
      "needs_background": "light"
     },
     "output_type": "display_data"
    }
   ],
   "source": [
    "mdf2_Animation_Grouped = mdf2_Animation.groupby([\"release_month\"], as_index=False).mean()\n",
    "mdf2_Animation_Grouped = mdf2_Animation_Grouped.set_index(\"release_month\")\n",
    "\n",
    "height = mdf2_Animation_Grouped['ROI']\n",
    "x = range(12)\n",
    "labels = mdf2_Animation_Grouped.index\n",
    "\n",
    "fig, ax = plt.subplots(figsize=(10, 6))\n",
    "\n",
    "ax.bar(x, height, tick_label=labels, color = \"green\")\n",
    "\n",
    "ax.set_title(\"Mean ROI By Month for Animation Movies (1990-2020)\")\n",
    "ax.set_ylabel(\"Mean Return on Investment ($)\")\n",
    "ax.set_xlabel(\"Month\");"
   ]
  },
  {
   "cell_type": "code",
   "execution_count": 189,
   "id": "f3cf5371",
   "metadata": {},
   "outputs": [
    {
     "name": "stderr",
     "output_type": "stream",
     "text": [
      "<ipython-input-189-7d93ea704267>:1: SettingWithCopyWarning: \n",
      "A value is trying to be set on a copy of a slice from a DataFrame.\n",
      "Try using .loc[row_indexer,col_indexer] = value instead\n",
      "\n",
      "See the caveats in the documentation: https://pandas.pydata.org/pandas-docs/stable/user_guide/indexing.html#returning-a-view-versus-a-copy\n",
      "  mdf2_Animation['converted'] = pd.to_datetime(pd.Series(mdf2_Animation[\"release_date\"]))\n",
      "<ipython-input-189-7d93ea704267>:2: SettingWithCopyWarning: \n",
      "A value is trying to be set on a copy of a slice from a DataFrame.\n",
      "Try using .loc[row_indexer,col_indexer] = value instead\n",
      "\n",
      "See the caveats in the documentation: https://pandas.pydata.org/pandas-docs/stable/user_guide/indexing.html#returning-a-view-versus-a-copy\n",
      "  mdf2_Animation[\"day of the week\"] = mdf2_Animation[\"converted\"].dt.day_name()\n"
     ]
    },
    {
     "data": {
      "image/png": "[encoded data removed]",
      "text/plain": [
       "<Figure size 936x432 with 1 Axes>"
      ]
     },
     "metadata": {
      "needs_background": "light"
     },
     "output_type": "display_data"
    }
   ],
   "source": [
    "mdf2_Animation['converted'] = pd.to_datetime(pd.Series(mdf2_Animation[\"release_date\"]))\n",
    "mdf2_Animation[\"day of the week\"] = mdf2_Animation[\"converted\"].dt.day_name()\n",
    "mdf2_Animation_WeekName = mdf2_Animation.groupby(\"day of the week\").sum()\n",
    "mdf2_Animation_WeekName = mdf2_Animation_WeekName.sort_values(\"ROI\", ascending=False)\n",
    "\n",
    "height = mdf2_Animation_WeekName['ROI']\n",
    "x = range(4)\n",
    "labels = mdf2_Animation_WeekName.index\n",
    "\n",
    "fig, ax = plt.subplots(figsize=(13, 6))\n",
    "\n",
    "ax.bar(x, height, tick_label=labels, color = \"green\")\n",
    "\n",
    "ax.set_title(\"Mean ROI by Day of the Week Release Date for Animation Movies (1990-2020)\")\n",
    "ax.set_ylabel(\"Mean ROI ($)\")\n",
    "ax.set_xlabel(\"Day of the Week\");"
   ]
  },
  {
   "cell_type": "code",
   "execution_count": null,
   "id": "667ca87f",
   "metadata": {},
   "outputs": [],
   "source": []
  },
  {
   "cell_type": "code",
   "execution_count": null,
   "id": "d30d9dc7",
   "metadata": {},
   "outputs": [],
   "source": []
  },
  {
   "cell_type": "code",
   "execution_count": null,
   "id": "0883c89f",
   "metadata": {},
   "outputs": [],
   "source": []
  },
  {
   "cell_type": "code",
   "execution_count": null,
   "id": "84a145cf",
   "metadata": {},
   "outputs": [],
   "source": []
  },
  {
   "cell_type": "code",
   "execution_count": null,
   "id": "a1614708",
   "metadata": {},
   "outputs": [],
   "source": []
  },
  {
   "cell_type": "code",
   "execution_count": null,
   "id": "e30d9968",
   "metadata": {},
   "outputs": [],
   "source": []
  },
  {
   "cell_type": "code",
   "execution_count": null,
   "id": "8d2e707c",
   "metadata": {},
   "outputs": [],
   "source": []
  },
  {
   "cell_type": "code",
   "execution_count": null,
   "id": "2c735127",
   "metadata": {},
   "outputs": [],
   "source": []
  },
  {
   "cell_type": "code",
   "execution_count": null,
   "id": "be1199f5",
   "metadata": {},
   "outputs": [],
   "source": []
  },
  {
   "cell_type": "code",
   "execution_count": null,
   "id": "87e6c256",
   "metadata": {},
   "outputs": [],
   "source": []
  },
  {
   "cell_type": "markdown",
   "id": "ddf2293b",
   "metadata": {},
   "source": [
    "# old codes--ignore again"
   ]
  },
  {
   "cell_type": "code",
   "execution_count": 187,
   "id": "30a4fd52",
   "metadata": {},
   "outputs": [
    {
     "ename": "KeyError",
     "evalue": "\"['runtime_minutes'] not found in axis\"",
     "output_type": "error",
     "traceback": [
      "\u001b[0;31m---------------------------------------------------------------------------\u001b[0m",
      "\u001b[0;31mKeyError\u001b[0m                                  Traceback (most recent call last)",
      "\u001b[0;32m<ipython-input-187-b6f76e1e4443>\u001b[0m in \u001b[0;36m<module>\u001b[0;34m\u001b[0m\n\u001b[0;32m----> 1\u001b[0;31m \u001b[0mimdb_data\u001b[0m \u001b[0;34m=\u001b[0m \u001b[0mimdb_data\u001b[0m\u001b[0;34m.\u001b[0m\u001b[0mdrop\u001b[0m\u001b[0;34m(\u001b[0m\u001b[0mcolumns\u001b[0m\u001b[0;34m=\u001b[0m\u001b[0;34m'runtime_minutes'\u001b[0m\u001b[0;34m)\u001b[0m\u001b[0;34m\u001b[0m\u001b[0;34m\u001b[0m\u001b[0m\n\u001b[0m",
      "\u001b[0;32m/opt/anaconda3/lib/python3.8/site-packages/pandas/core/frame.py\u001b[0m in \u001b[0;36mdrop\u001b[0;34m(self, labels, axis, index, columns, level, inplace, errors)\u001b[0m\n\u001b[1;32m   4306\u001b[0m                 \u001b[0mweight\u001b[0m  \u001b[0;36m1.0\u001b[0m     \u001b[0;36m0.8\u001b[0m\u001b[0;34m\u001b[0m\u001b[0;34m\u001b[0m\u001b[0m\n\u001b[1;32m   4307\u001b[0m         \"\"\"\n\u001b[0;32m-> 4308\u001b[0;31m         return super().drop(\n\u001b[0m\u001b[1;32m   4309\u001b[0m             \u001b[0mlabels\u001b[0m\u001b[0;34m=\u001b[0m\u001b[0mlabels\u001b[0m\u001b[0;34m,\u001b[0m\u001b[0;34m\u001b[0m\u001b[0;34m\u001b[0m\u001b[0m\n\u001b[1;32m   4310\u001b[0m             \u001b[0maxis\u001b[0m\u001b[0;34m=\u001b[0m\u001b[0maxis\u001b[0m\u001b[0;34m,\u001b[0m\u001b[0;34m\u001b[0m\u001b[0;34m\u001b[0m\u001b[0m\n",
      "\u001b[0;32m/opt/anaconda3/lib/python3.8/site-packages/pandas/core/generic.py\u001b[0m in \u001b[0;36mdrop\u001b[0;34m(self, labels, axis, index, columns, level, inplace, errors)\u001b[0m\n\u001b[1;32m   4151\u001b[0m         \u001b[0;32mfor\u001b[0m \u001b[0maxis\u001b[0m\u001b[0;34m,\u001b[0m \u001b[0mlabels\u001b[0m \u001b[0;32min\u001b[0m \u001b[0maxes\u001b[0m\u001b[0;34m.\u001b[0m\u001b[0mitems\u001b[0m\u001b[0;34m(\u001b[0m\u001b[0;34m)\u001b[0m\u001b[0;34m:\u001b[0m\u001b[0;34m\u001b[0m\u001b[0;34m\u001b[0m\u001b[0m\n\u001b[1;32m   4152\u001b[0m             \u001b[0;32mif\u001b[0m \u001b[0mlabels\u001b[0m \u001b[0;32mis\u001b[0m \u001b[0;32mnot\u001b[0m \u001b[0;32mNone\u001b[0m\u001b[0;34m:\u001b[0m\u001b[0;34m\u001b[0m\u001b[0;34m\u001b[0m\u001b[0m\n\u001b[0;32m-> 4153\u001b[0;31m                 \u001b[0mobj\u001b[0m \u001b[0;34m=\u001b[0m \u001b[0mobj\u001b[0m\u001b[0;34m.\u001b[0m\u001b[0m_drop_axis\u001b[0m\u001b[0;34m(\u001b[0m\u001b[0mlabels\u001b[0m\u001b[0;34m,\u001b[0m \u001b[0maxis\u001b[0m\u001b[0;34m,\u001b[0m \u001b[0mlevel\u001b[0m\u001b[0;34m=\u001b[0m\u001b[0mlevel\u001b[0m\u001b[0;34m,\u001b[0m \u001b[0merrors\u001b[0m\u001b[0;34m=\u001b[0m\u001b[0merrors\u001b[0m\u001b[0;34m)\u001b[0m\u001b[0;34m\u001b[0m\u001b[0;34m\u001b[0m\u001b[0m\n\u001b[0m\u001b[1;32m   4154\u001b[0m \u001b[0;34m\u001b[0m\u001b[0m\n\u001b[1;32m   4155\u001b[0m         \u001b[0;32mif\u001b[0m \u001b[0minplace\u001b[0m\u001b[0;34m:\u001b[0m\u001b[0;34m\u001b[0m\u001b[0;34m\u001b[0m\u001b[0m\n",
      "\u001b[0;32m/opt/anaconda3/lib/python3.8/site-packages/pandas/core/generic.py\u001b[0m in \u001b[0;36m_drop_axis\u001b[0;34m(self, labels, axis, level, errors)\u001b[0m\n\u001b[1;32m   4186\u001b[0m                 \u001b[0mnew_axis\u001b[0m \u001b[0;34m=\u001b[0m \u001b[0maxis\u001b[0m\u001b[0;34m.\u001b[0m\u001b[0mdrop\u001b[0m\u001b[0;34m(\u001b[0m\u001b[0mlabels\u001b[0m\u001b[0;34m,\u001b[0m \u001b[0mlevel\u001b[0m\u001b[0;34m=\u001b[0m\u001b[0mlevel\u001b[0m\u001b[0;34m,\u001b[0m \u001b[0merrors\u001b[0m\u001b[0;34m=\u001b[0m\u001b[0merrors\u001b[0m\u001b[0;34m)\u001b[0m\u001b[0;34m\u001b[0m\u001b[0;34m\u001b[0m\u001b[0m\n\u001b[1;32m   4187\u001b[0m             \u001b[0;32melse\u001b[0m\u001b[0;34m:\u001b[0m\u001b[0;34m\u001b[0m\u001b[0;34m\u001b[0m\u001b[0m\n\u001b[0;32m-> 4188\u001b[0;31m                 \u001b[0mnew_axis\u001b[0m \u001b[0;34m=\u001b[0m \u001b[0maxis\u001b[0m\u001b[0;34m.\u001b[0m\u001b[0mdrop\u001b[0m\u001b[0;34m(\u001b[0m\u001b[0mlabels\u001b[0m\u001b[0;34m,\u001b[0m \u001b[0merrors\u001b[0m\u001b[0;34m=\u001b[0m\u001b[0merrors\u001b[0m\u001b[0;34m)\u001b[0m\u001b[0;34m\u001b[0m\u001b[0;34m\u001b[0m\u001b[0m\n\u001b[0m\u001b[1;32m   4189\u001b[0m             \u001b[0mresult\u001b[0m \u001b[0;34m=\u001b[0m \u001b[0mself\u001b[0m\u001b[0;34m.\u001b[0m\u001b[0mreindex\u001b[0m\u001b[0;34m(\u001b[0m\u001b[0;34m**\u001b[0m\u001b[0;34m{\u001b[0m\u001b[0maxis_name\u001b[0m\u001b[0;34m:\u001b[0m \u001b[0mnew_axis\u001b[0m\u001b[0;34m}\u001b[0m\u001b[0;34m)\u001b[0m\u001b[0;34m\u001b[0m\u001b[0;34m\u001b[0m\u001b[0m\n\u001b[1;32m   4190\u001b[0m \u001b[0;34m\u001b[0m\u001b[0m\n",
      "\u001b[0;32m/opt/anaconda3/lib/python3.8/site-packages/pandas/core/indexes/base.py\u001b[0m in \u001b[0;36mdrop\u001b[0;34m(self, labels, errors)\u001b[0m\n\u001b[1;32m   5589\u001b[0m         \u001b[0;32mif\u001b[0m \u001b[0mmask\u001b[0m\u001b[0;34m.\u001b[0m\u001b[0many\u001b[0m\u001b[0;34m(\u001b[0m\u001b[0;34m)\u001b[0m\u001b[0;34m:\u001b[0m\u001b[0;34m\u001b[0m\u001b[0;34m\u001b[0m\u001b[0m\n\u001b[1;32m   5590\u001b[0m             \u001b[0;32mif\u001b[0m \u001b[0merrors\u001b[0m \u001b[0;34m!=\u001b[0m \u001b[0;34m\"ignore\"\u001b[0m\u001b[0;34m:\u001b[0m\u001b[0;34m\u001b[0m\u001b[0;34m\u001b[0m\u001b[0m\n\u001b[0;32m-> 5591\u001b[0;31m                 \u001b[0;32mraise\u001b[0m \u001b[0mKeyError\u001b[0m\u001b[0;34m(\u001b[0m\u001b[0;34mf\"{labels[mask]} not found in axis\"\u001b[0m\u001b[0;34m)\u001b[0m\u001b[0;34m\u001b[0m\u001b[0;34m\u001b[0m\u001b[0m\n\u001b[0m\u001b[1;32m   5592\u001b[0m             \u001b[0mindexer\u001b[0m \u001b[0;34m=\u001b[0m \u001b[0mindexer\u001b[0m\u001b[0;34m[\u001b[0m\u001b[0;34m~\u001b[0m\u001b[0mmask\u001b[0m\u001b[0;34m]\u001b[0m\u001b[0;34m\u001b[0m\u001b[0;34m\u001b[0m\u001b[0m\n\u001b[1;32m   5593\u001b[0m         \u001b[0;32mreturn\u001b[0m \u001b[0mself\u001b[0m\u001b[0;34m.\u001b[0m\u001b[0mdelete\u001b[0m\u001b[0;34m(\u001b[0m\u001b[0mindexer\u001b[0m\u001b[0;34m)\u001b[0m\u001b[0;34m\u001b[0m\u001b[0;34m\u001b[0m\u001b[0m\n",
      "\u001b[0;31mKeyError\u001b[0m: \"['runtime_minutes'] not found in axis\""
     ]
    }
   ],
   "source": [
    "imdb_data = imdb_data.drop(columns='runtime_minutes')"
   ]
  },
  {
   "cell_type": "code",
   "execution_count": null,
   "id": "1eec65ee",
   "metadata": {},
   "outputs": [],
   "source": [
    "imdb_data = imdb_data.dropna(subset=['genres'])"
   ]
  },
  {
   "cell_type": "code",
   "execution_count": null,
   "id": "e25fbfa2",
   "metadata": {},
   "outputs": [],
   "source": [
    "imdb_data = imdb_data.rename(columns={'primary_title': 'movie'})"
   ]
  },
  {
   "cell_type": "code",
   "execution_count": null,
   "id": "4cccb179",
   "metadata": {},
   "outputs": [],
   "source": [
    "mdf = pd.merge(imdb_data, movie_budgets, on=['movie'], how='inner')"
   ]
  },
  {
   "cell_type": "code",
   "execution_count": null,
   "id": "b49cf22a",
   "metadata": {},
   "outputs": [],
   "source": [
    "mdf = mdf.drop_duplicates(subset=['movie'])"
   ]
  },
  {
   "cell_type": "code",
   "execution_count": null,
   "id": "cf95aa3c",
   "metadata": {},
   "outputs": [],
   "source": [
    "mdf2 = mdf.copy()\n",
    "mdf2['production_budget'] = mdf2['production_budget'].map(lambda x: x.lstrip('$'))\n",
    "mdf2['domestic_gross'] = mdf2['domestic_gross'].map(lambda x: x.lstrip('$'))\n",
    "mdf2['worldwide_gross'] = mdf2['worldwide_gross'].map(lambda x: x.lstrip('$'))"
   ]
  },
  {
   "cell_type": "code",
   "execution_count": null,
   "id": "b53730b2",
   "metadata": {},
   "outputs": [],
   "source": [
    "mdf2['production_budget']=mdf2['production_budget'].str.replace(',','')\n",
    "mdf2['domestic_gross']=mdf2['domestic_gross'].str.replace(',','')\n",
    "mdf2['worldwide_gross']=mdf2['worldwide_gross'].str.replace(',','')"
   ]
  },
  {
   "cell_type": "code",
   "execution_count": null,
   "id": "1e2993a2",
   "metadata": {},
   "outputs": [],
   "source": [
    "mdf2 = mdf2.astype({'production_budget': 'int64'})\n",
    "mdf2 = mdf2.astype({'domestic_gross': 'int64'})\n",
    "mdf2 = mdf2.astype({'worldwide_gross': 'int64'})"
   ]
  },
  {
   "cell_type": "code",
   "execution_count": null,
   "id": "d5786023",
   "metadata": {},
   "outputs": [],
   "source": [
    "mdf2 = mdf2[mdf2.worldwide_gross != 0]\n",
    "mdf2 = mdf2[mdf2.domestic_gross != 0]"
   ]
  },
  {
   "cell_type": "code",
   "execution_count": null,
   "id": "149b6eb3",
   "metadata": {},
   "outputs": [],
   "source": [
    "mdf2['profit'] = mdf2['worldwide_gross'] - mdf2['production_budget']\n",
    "mdf2['ROI'] = (mdf2['profit'] / mdf2['production_budget']) * 100\n",
    "mdf2 = mdf2.round({'ROI': 2})"
   ]
  },
  {
   "cell_type": "code",
   "execution_count": null,
   "id": "354dd35b",
   "metadata": {},
   "outputs": [],
   "source": [
    "mdf2[\"release_year\"]= [x[7:] for x in mdf2[\"release_date\"]]\n",
    "mdf2[\"release_month\"]= [x[:4] for x in mdf2[\"release_date\"]]"
   ]
  },
  {
   "cell_type": "code",
   "execution_count": null,
   "id": "b6e7befd",
   "metadata": {},
   "outputs": [],
   "source": [
    "#for the purpose of graphing, edited each month with numeric values in the beginning \n",
    "mdf2[\"release_month\"] = mdf2[\"release_month\"].str.replace(\"Jan\", \"01 Jan\")\n",
    "mdf2[\"release_month\"] = mdf2[\"release_month\"].str.replace(\"Feb\", \"02 Feb\")\n",
    "mdf2[\"release_month\"] = mdf2[\"release_month\"].str.replace(\"Mar\", \"03 Mar\")\n",
    "mdf2[\"release_month\"] = mdf2[\"release_month\"].str.replace(\"Apr\", \"04 Apr\")\n",
    "mdf2[\"release_month\"] = mdf2[\"release_month\"].str.replace(\"May\", \"05 May\")\n",
    "mdf2[\"release_month\"] = mdf2[\"release_month\"].str.replace(\"Jun\", \"06 Jun\")\n",
    "mdf2[\"release_month\"] = mdf2[\"release_month\"].str.replace(\"Jul\", \"07 Jul\")\n",
    "mdf2[\"release_month\"] = mdf2[\"release_month\"].str.replace(\"Aug\", \"08 Aug\")\n",
    "mdf2[\"release_month\"] = mdf2[\"release_month\"].str.replace(\"Sep\", \"09 Sep\")\n",
    "mdf2[\"release_month\"] = mdf2[\"release_month\"].str.replace(\"Oct\", \"10 Oct\")\n",
    "mdf2[\"release_month\"] = mdf2[\"release_month\"].str.replace(\"Nov\", \"11 Nov\")\n",
    "mdf2[\"release_month\"] = mdf2[\"release_month\"].str.replace(\"Dec\", \"12 Dec\")"
   ]
  },
  {
   "cell_type": "code",
   "execution_count": null,
   "id": "ef23eb23",
   "metadata": {},
   "outputs": [],
   "source": [
    "mdf2=mdf2.loc[mdf2['release_year'] >= '1990']"
   ]
  },
  {
   "cell_type": "code",
   "execution_count": null,
   "id": "4161e96e",
   "metadata": {},
   "outputs": [],
   "source": [
    "mdf2"
   ]
  },
  {
   "cell_type": "code",
   "execution_count": null,
   "id": "32e96d1a",
   "metadata": {},
   "outputs": [],
   "source": []
  },
  {
   "cell_type": "code",
   "execution_count": null,
   "id": "a3d1e7a2",
   "metadata": {},
   "outputs": [],
   "source": []
  },
  {
   "cell_type": "code",
   "execution_count": null,
   "id": "64f0f93b",
   "metadata": {},
   "outputs": [],
   "source": []
  },
  {
   "cell_type": "code",
   "execution_count": null,
   "id": "de70d6d5",
   "metadata": {},
   "outputs": [],
   "source": []
  },
  {
   "cell_type": "code",
   "execution_count": null,
   "id": "6e2dafea",
   "metadata": {},
   "outputs": [],
   "source": []
  },
  {
   "cell_type": "code",
   "execution_count": null,
   "id": "6af133af",
   "metadata": {},
   "outputs": [],
   "source": [
    "gf = mdf2[['movie', 'genres', 'production_budget', 'domestic_gross', 'worldwide_gross', 'profit', 'ROI', \"release_month\", 'release_year', \"release_date\"]]"
   ]
  },
  {
   "cell_type": "code",
   "execution_count": null,
   "id": "09676ffc",
   "metadata": {},
   "outputs": [],
   "source": [
    "gf['genres'] = gf['genres'].str.split(',')"
   ]
  },
  {
   "cell_type": "code",
   "execution_count": null,
   "id": "3443c7d2",
   "metadata": {},
   "outputs": [],
   "source": [
    "gf = gf.explode('genres')\n",
    "gf"
   ]
  },
  {
   "cell_type": "code",
   "execution_count": null,
   "id": "4a85a4d0",
   "metadata": {},
   "outputs": [],
   "source": []
  },
  {
   "cell_type": "code",
   "execution_count": null,
   "id": "e9824305",
   "metadata": {},
   "outputs": [],
   "source": [
    "new_gf1 = gf[['movie', 'genres','ROI', \"profit\", 'release_year', \"release_month\", \"release_date\"]]\n",
    "mean_ROI_by_month = new_gf1.groupby(\"release_month\").mean()\n",
    "mean_ROI_by_month "
   ]
  },
  {
   "cell_type": "code",
   "execution_count": null,
   "id": "952b2906",
   "metadata": {},
   "outputs": [],
   "source": [
    "new_gf1_Horror = new_gf1[new_gf1[\"genres\"]== \"Horror\"]\n",
    "new_gf1_Mystery = new_gf1[new_gf1[\"genres\"]== \"Mystery\"]\n",
    "new_gf1_Thriller = new_gf1[new_gf1[\"genres\"]== \"Thriller\"]\n",
    "new_gf1_Music = new_gf1[new_gf1[\"genres\"]== \"Music\"]\n",
    "new_gf1_Sci_Fi = new_gf1[new_gf1[\"genres\"]== \"Sci-Fi\"]"
   ]
  },
  {
   "cell_type": "code",
   "execution_count": null,
   "id": "88282df6",
   "metadata": {},
   "outputs": [],
   "source": [
    "new_gf2 = new_gf1.groupby([\"genres\"], as_index=False).mean()\n",
    "new_gf2 = new_gf2.sort_values(by = \"ROI\", ascending=False)\n",
    "new_gf2"
   ]
  },
  {
   "cell_type": "code",
   "execution_count": null,
   "id": "f06a3283",
   "metadata": {},
   "outputs": [],
   "source": [
    "height = mean_ROI_by_month['ROI']\n",
    "x = range(12)\n",
    "labels = mean_ROI_by_month .index\n",
    "\n",
    "fig, ax = plt.subplots(figsize=(10, 5))\n",
    "\n",
    "ax.bar(x, height, tick_label=labels, color = \"green\")\n",
    "\n",
    "ax.set_title(\"Mean ROI by Month (1990-2020)\")\n",
    "ax.set_ylabel(\"Mean Return on Investment ($)\")\n",
    "ax.set_xlabel(\"Month\");"
   ]
  },
  {
   "cell_type": "code",
   "execution_count": null,
   "id": "aa91df32",
   "metadata": {},
   "outputs": [],
   "source": [
    "new_gf1_Horror_Grouped = new_gf1_Horror.groupby([\"release_month\"], as_index=False).mean()\n",
    "new_gf1_Horror_Grouped = new_gf1_Horror_Grouped.set_index(\"release_month\")\n",
    "\n",
    "height = new_gf1_Horror_Grouped['ROI']\n",
    "x = range(12)\n",
    "labels = new_gf1_Horror_Grouped.index\n",
    "\n",
    "fig, ax = plt.subplots(figsize=(10, 6))\n",
    "\n",
    "ax.bar(x, height, tick_label=labels, color = \"green\")\n",
    "\n",
    "ax.set_title(\"Mean ROI By Month for Horror Movies (1990-2020)\")\n",
    "ax.set_ylabel(\"Mean Return on Investment ($)\")\n",
    "ax.set_xlabel(\"Month\");"
   ]
  },
  {
   "cell_type": "code",
   "execution_count": null,
   "id": "100769b1",
   "metadata": {},
   "outputs": [],
   "source": [
    "new_gf1_Horror['converted'] = pd.to_datetime(pd.Series(new_gf1_Horror[\"release_date\"]))\n",
    "new_gf1_Horror[\"day of the week\"] = new_gf1_Horror[\"converted\"].dt.day_name()\n",
    "new_gf1_Horror_WeekName = new_gf1_Horror.groupby(\"day of the week\").sum()\n",
    "new_gf1_Horror_WeekName = new_gf1_Horror_WeekName.sort_values(\"ROI\", ascending=False)\n",
    "\n",
    "height = new_gf1_Horror_WeekName['ROI']\n",
    "x = range(4)\n",
    "labels = new_gf1_Horror_WeekName.index\n",
    "\n",
    "fig, ax = plt.subplots(figsize=(13, 6))\n",
    "\n",
    "ax.bar(x, height, tick_label=labels, color = \"green\")\n",
    "\n",
    "ax.set_title(\"Mean ROI by Day of the Week Release Date for Horror Movies (1990-2020)\")\n",
    "ax.set_ylabel(\"Mean ROI ($)\")\n",
    "ax.set_xlabel(\"Day of the Week\");"
   ]
  },
  {
   "cell_type": "code",
   "execution_count": null,
   "id": "df61247f",
   "metadata": {},
   "outputs": [],
   "source": [
    "new_gf1_Mystery_Grouped = new_gf1_Mystery.groupby([\"release_month\"], as_index=False).mean()\n",
    "new_gf1_Mystery_Grouped = new_gf1_Mystery_Grouped.set_index(\"release_month\")\n",
    "\n",
    "height = new_gf1_Mystery_Grouped['ROI']\n",
    "x = range(11)\n",
    "labels = new_gf1_Mystery_Grouped.index\n",
    "\n",
    "fig, ax = plt.subplots(figsize=(10, 6))\n",
    "\n",
    "ax.bar(x, height, tick_label=labels, color = \"green\")\n",
    "\n",
    "ax.set_title(\"Mean ROI By Month for Mystery Movies (1990-2020)\")\n",
    "ax.set_ylabel(\"Mean Return on Investment ($)\")\n",
    "ax.set_xlabel(\"Month\");"
   ]
  },
  {
   "cell_type": "code",
   "execution_count": null,
   "id": "2d983e2f",
   "metadata": {},
   "outputs": [],
   "source": [
    "new_gf1_Mystery['converted'] = pd.to_datetime(pd.Series(new_gf1_Mystery[\"release_date\"]))\n",
    "new_gf1_Mystery[\"day of the week\"] = new_gf1_Mystery[\"converted\"].dt.day_name()\n",
    "new_gf1_Mystery_WeekName = new_gf1_Mystery.groupby(\"day of the week\").sum()\n",
    "new_gf1_Mystery_WeekName = new_gf1_Mystery_WeekName.sort_values(\"ROI\", ascending=False)\n",
    "\n",
    "height = new_gf1_Mystery_WeekName['ROI']\n",
    "x = range(3)\n",
    "labels = new_gf1_Mystery_WeekName.index\n",
    "\n",
    "fig, ax = plt.subplots(figsize=(13, 6))\n",
    "\n",
    "ax.bar(x, height, tick_label=labels, color = \"green\")\n",
    "\n",
    "ax.set_title(\"Mean ROI by Day of the Week Release Date for Mystery Movies (1990-2020)\")\n",
    "ax.set_ylabel(\"Mean ROI ($)\")\n",
    "ax.set_xlabel(\"Day of the Week\");"
   ]
  },
  {
   "cell_type": "code",
   "execution_count": null,
   "id": "ed675786",
   "metadata": {},
   "outputs": [],
   "source": [
    "new_gf1_Thriller_Grouped = new_gf1_Thriller.groupby([\"release_month\"], as_index=False).mean()\n",
    "new_gf1_Thriller_Grouped = new_gf1_Thriller_Grouped.set_index(\"release_month\")\n",
    "\n",
    "height = new_gf1_Thriller_Grouped['ROI']\n",
    "x = range(12)\n",
    "labels = new_gf1_Thriller_Grouped.index\n",
    "\n",
    "fig, ax = plt.subplots(figsize=(10, 6))\n",
    "\n",
    "ax.bar(x, height, tick_label=labels, color = \"green\")\n",
    "\n",
    "ax.set_title(\"Mean ROI By Month for Thriller Movies (1990-2020)\")\n",
    "ax.set_ylabel(\"Mean Return on Investment ($)\")\n",
    "ax.set_xlabel(\"Month\");"
   ]
  },
  {
   "cell_type": "code",
   "execution_count": null,
   "id": "acf107c0",
   "metadata": {},
   "outputs": [],
   "source": [
    "new_gf1_Thriller['converted'] = pd.to_datetime(pd.Series(new_gf1_Thriller[\"release_date\"]))\n",
    "new_gf1_Thriller[\"day of the week\"] = new_gf1_Thriller[\"converted\"].dt.day_name()\n",
    "new_gf1_Thriller_WeekName = new_gf1_Thriller.groupby(\"day of the week\").sum()\n",
    "new_gf1_Thriller_WeekName = new_gf1_Thriller_WeekName.sort_values(\"ROI\", ascending=False)\n",
    "\n",
    "height = new_gf1_Thriller_WeekName['ROI']\n",
    "x = range(3)\n",
    "labels = new_gf1_Thriller_WeekName.index\n",
    "\n",
    "fig, ax = plt.subplots(figsize=(13, 6))\n",
    "\n",
    "ax.bar(x, height, tick_label=labels, color = \"green\")\n",
    "\n",
    "ax.set_title(\"Mean ROI by Day of the Week Release Date for Thriller Movies (1990-2020)\")\n",
    "ax.set_ylabel(\"Mean ROI ($)\")\n",
    "ax.set_xlabel(\"Day of the Week\");"
   ]
  },
  {
   "cell_type": "code",
   "execution_count": null,
   "id": "7e706ee5",
   "metadata": {},
   "outputs": [],
   "source": [
    "new_gf1_Music_Grouped = new_gf1_Music.groupby([\"release_month\"], as_index=False).mean()\n",
    "new_gf1_Music_Grouped = new_gf1_Music_Grouped.set_index(\"release_month\")\n",
    "\n",
    "height = new_gf1_Music_Grouped['ROI']\n",
    "x = range(7)\n",
    "labels = new_gf1_Music_Grouped.index\n",
    "\n",
    "fig, ax = plt.subplots(figsize=(10, 6))\n",
    "\n",
    "ax.bar(x, height, tick_label=labels, color = \"green\")\n",
    "\n",
    "ax.set_title(\"Mean ROI By Month for Music Movies (1990-2020)\")\n",
    "ax.set_ylabel(\"Mean Return on Investment ($)\")\n",
    "ax.set_xlabel(\"Month\");"
   ]
  },
  {
   "cell_type": "code",
   "execution_count": null,
   "id": "e7d0124c",
   "metadata": {},
   "outputs": [],
   "source": [
    "new_gf1_Music['converted'] = pd.to_datetime(pd.Series(new_gf1_Music[\"release_date\"]))\n",
    "new_gf1_Music[\"day of the week\"] = new_gf1_Music[\"converted\"].dt.day_name()\n",
    "new_gf1_Music_WeekName = new_gf1_Music.groupby(\"day of the week\").sum()\n",
    "new_gf1_Music_WeekName = new_gf1_Music_WeekName.sort_values(\"ROI\", ascending=False)\n",
    "\n",
    "height = new_gf1_Music_WeekName['ROI']\n",
    "x = range(3)\n",
    "labels = new_gf1_Music_WeekName.index\n",
    "\n",
    "fig, ax = plt.subplots(figsize=(13, 6))\n",
    "\n",
    "ax.bar(x, height, tick_label=labels, color = \"green\")\n",
    "\n",
    "ax.set_title(\"Mean ROI by Day of the Week Release Date for Music Movies (1990-2020)\")\n",
    "ax.set_ylabel(\"Mean ROI ($)\")\n",
    "ax.set_xlabel(\"Day of the Week\");"
   ]
  },
  {
   "cell_type": "code",
   "execution_count": null,
   "id": "348c211e",
   "metadata": {},
   "outputs": [],
   "source": [
    "new_gf1_Sci_Fi_Grouped = new_gf1_Sci_Fi.groupby([\"release_month\"], as_index=False).mean()\n",
    "new_gf1_Sci_Fi_Grouped = new_gf1_Sci_Fi_Grouped.set_index(\"release_month\")\n",
    "\n",
    "height = new_gf1_Sci_Fi_Grouped['ROI']\n",
    "x = range(11)\n",
    "labels = new_gf1_Sci_Fi_Grouped.index\n",
    "\n",
    "fig, ax = plt.subplots(figsize=(10, 6))\n",
    "\n",
    "ax.bar(x, height, tick_label=labels, color = \"green\")\n",
    "\n",
    "ax.set_title(\"Mean ROI By Month for Sci-Fi Movies (1990-2020)\")\n",
    "ax.set_ylabel(\"Mean Return on Investment ($)\")\n",
    "ax.set_xlabel(\"Month\");"
   ]
  },
  {
   "cell_type": "code",
   "execution_count": null,
   "id": "fb9b87c1",
   "metadata": {},
   "outputs": [],
   "source": [
    "new_gf1_Sci_Fi['converted'] = pd.to_datetime(pd.Series(new_gf1_Sci_Fi[\"release_date\"]))\n",
    "new_gf1_Sci_Fi[\"day of the week\"] = new_gf1_Sci_Fi[\"converted\"].dt.day_name()\n",
    "new_gf1_Sci_Fi_WeekName = new_gf1_Sci_Fi.groupby(\"day of the week\").sum()\n",
    "new_gf1_Sci_Fi_WeekName = new_gf1_Sci_Fi_WeekName.sort_values(\"ROI\", ascending=False)\n",
    "\n",
    "height = new_gf1_Sci_Fi_WeekName['ROI']\n",
    "x = range(3)\n",
    "labels = new_gf1_Sci_Fi_WeekName.index\n",
    "\n",
    "fig, ax = plt.subplots(figsize=(13, 6))\n",
    "\n",
    "ax.bar(x, height, tick_label=labels, color = \"green\")\n",
    "\n",
    "ax.set_title(\"Mean ROI by Day of the Week Release Date for Sci_Fi Movies (1990-2020)\")\n",
    "ax.set_ylabel(\"Mean ROI ($)\")\n",
    "ax.set_xlabel(\"Day of the Week\");"
   ]
  },
  {
   "cell_type": "markdown",
   "id": "e827c5e7",
   "metadata": {},
   "source": [
    "# old codes--ignore"
   ]
  },
  {
   "cell_type": "code",
   "execution_count": null,
   "id": "bf6904e4",
   "metadata": {},
   "outputs": [],
   "source": [
    "data1['production_budget'] = [row.replace('$','') for row in data1['production_budget']]\n",
    "data1['production_budget'] = [row.replace(',','') for row in data1['production_budget']]\n",
    "\n",
    "data1['domestic_gross'] = [row.replace('$','') for row in data1['domestic_gross']]\n",
    "data1['domestic_gross'] = [row.replace(',','') for row in data1['domestic_gross']]\n",
    "\n",
    "data1['worldwide_gross'] = [row.replace('$','') for row in data1['worldwide_gross']]\n",
    "data1['worldwide_gross'] = [row.replace(',','') for row in data1['worldwide_gross']]\n",
    "\n",
    "\n",
    "\n",
    "\n",
    "data1['domestic_gross'] = [int(row) for row in data1['domestic_gross']]\n",
    "data1['production_budget'] = [int(row) for row in data1['production_budget']]\n",
    "data1['worldwide_gross'] = [int(row) for row in data1['worldwide_gross']]\n",
    "\n",
    "data1['revenue'] = data1['domestic_gross']- data1['production_budget']"
   ]
  },
  {
   "cell_type": "code",
   "execution_count": null,
   "id": "531d8892",
   "metadata": {},
   "outputs": [],
   "source": [
    "#for the purpose of graphing, edited each month with numeric values in the beginning \n",
    "data1[\"release_month\"] = data1[\"release_month\"].str.replace(\"Jan\", \"01 Jan\")\n",
    "data1[\"release_month\"] = data1[\"release_month\"].str.replace(\"Feb\", \"02 Feb\")\n",
    "data1[\"release_month\"] = data1[\"release_month\"].str.replace(\"Mar\", \"03 Mar\")\n",
    "data1[\"release_month\"] = data1[\"release_month\"].str.replace(\"Apr\", \"04 Apr\")\n",
    "data1[\"release_month\"] = data1[\"release_month\"].str.replace(\"May\", \"05 May\")\n",
    "data1[\"release_month\"] = data1[\"release_month\"].str.replace(\"Jun\", \"06 Jun\")\n",
    "data1[\"release_month\"] = data1[\"release_month\"].str.replace(\"Jul\", \"07 Jul\")\n",
    "data1[\"release_month\"] = data1[\"release_month\"].str.replace(\"Aug\", \"08 Aug\")\n",
    "data1[\"release_month\"] = data1[\"release_month\"].str.replace(\"Sep\", \"09 Sep\")\n",
    "data1[\"release_month\"] = data1[\"release_month\"].str.replace(\"Oct\", \"10 Oct\")\n",
    "data1[\"release_month\"] = data1[\"release_month\"].str.replace(\"Nov\", \"11 Nov\")\n",
    "data1[\"release_month\"] = data1[\"release_month\"].str.replace(\"Dec\", \"12 Dec\")\n",
    "data1.shape"
   ]
  },
  {
   "cell_type": "code",
   "execution_count": null,
   "id": "11c79d94",
   "metadata": {},
   "outputs": [],
   "source": [
    "data1 = data1[data1.worldwide_gross != 0]\n",
    "data1.shape"
   ]
  },
  {
   "cell_type": "code",
   "execution_count": null,
   "id": "0b5a17ee",
   "metadata": {},
   "outputs": [],
   "source": [
    "#data1 = data1[data1.domestic_gross != 0]\n",
    "#data1.shape"
   ]
  },
  {
   "cell_type": "code",
   "execution_count": null,
   "id": "2e29617c",
   "metadata": {},
   "outputs": [],
   "source": [
    "#data1 = data1[data1.production_budget != 0]\n",
    "#data1.shape"
   ]
  },
  {
   "cell_type": "code",
   "execution_count": null,
   "id": "dea2d037",
   "metadata": {},
   "outputs": [],
   "source": [
    "data1 = data1[data1.release_year != 2020]\n",
    "data1\n",
    "#data1[\"release_year\"].unique()"
   ]
  },
  {
   "cell_type": "code",
   "execution_count": null,
   "id": "fabc582d",
   "metadata": {},
   "outputs": [],
   "source": [
    "#group the dataset by month for the entire dataset\n",
    "grouped_by_month = data1.groupby([\"release_month\"]).sum()\n",
    "grouped_by_month"
   ]
  },
  {
   "cell_type": "code",
   "execution_count": null,
   "id": "9ed63d06",
   "metadata": {},
   "outputs": [],
   "source": [
    "grouped_by_year = data1.groupby([\"release_year\"]).sum()\n",
    "grouped_by_year.shape"
   ]
  },
  {
   "cell_type": "code",
   "execution_count": null,
   "id": "90fd0e02",
   "metadata": {},
   "outputs": [],
   "source": [
    "height = grouped_by_year['revenue']\n",
    "x = range(159)\n",
    "labels = grouped_by_year.index\n",
    "\n",
    "fig, ax = plt.subplots(figsize=(15, 8))\n",
    "\n",
    "ax.bar(x, height, tick_label=labels, color = \"green\")\n",
    "\n",
    "ax.set_title(\"Revenue by Year (1915-2020)\")\n",
    "ax.set_ylabel(\"Revenue ($)\")\n",
    "ax.set_xlabel(\"Year\");"
   ]
  },
  {
   "cell_type": "code",
   "execution_count": null,
   "id": "5ce543fe",
   "metadata": {
    "scrolled": true
   },
   "outputs": [],
   "source": [
    "#an overview of revenue by month from 1915-2020\n",
    "\n",
    "height = grouped_by_month['revenue']\n",
    "x = range(12)\n",
    "labels = grouped_by_month.index\n",
    "\n",
    "fig, ax = plt.subplots(figsize=(10, 5))\n",
    "\n",
    "ax.bar(x, height, tick_label=labels, color = \"green\")\n",
    "\n",
    "ax.set_title(\"Revenue by Month (1915-2020)\")\n",
    "ax.set_ylabel(\"Revenue ($)\")\n",
    "ax.set_xlabel(\"Month\");"
   ]
  },
  {
   "cell_type": "code",
   "execution_count": null,
   "id": "fdc16935",
   "metadata": {},
   "outputs": [],
   "source": [
    "data1_2019 = data1[data1[\"release_year\"] == \"2019\"]\n",
    "data1_2019 = data1_2019.drop(\"id\", axis=1)\n",
    "data1_2019 = data1_2019.groupby(\"release_month\").sum()\n",
    "data1_2019.shape\n",
    "#data1_2019[\"release_month\"].unique()\n",
    "#data1_2019.set_index(\"release_month\")\n",
    "#data1_2019.groupby(\"release_month\").sum()"
   ]
  },
  {
   "cell_type": "code",
   "execution_count": null,
   "id": "4b73135d",
   "metadata": {},
   "outputs": [],
   "source": [
    "height = data1_2019['revenue']\n",
    "x = range(5)\n",
    "labels = data1_2019.index\n",
    "\n",
    "fig, ax = plt.subplots(figsize=(13, 6))\n",
    "\n",
    "ax.bar(x, height, tick_label=labels, color = \"green\")\n",
    "\n",
    "ax.set_title(\"Revenue by Month (2019)\")\n",
    "ax.set_ylabel(\"Revenue ($)\")\n",
    "ax.set_xlabel(\"Month\");"
   ]
  },
  {
   "cell_type": "code",
   "execution_count": null,
   "id": "00429baa",
   "metadata": {},
   "outputs": [],
   "source": [
    "data1_2018 = data1[data1[\"release_year\"] == \"2018\"]\n",
    "data1_2018 = data1_2018.drop(\"id\", axis=1)\n",
    "data1_2018 = data1_2018.groupby(\"release_month\").sum()\n",
    "data1_2018\n",
    "#data1_2018[\"release_month\"].unique()\n",
    "#data1_2018.set_index(\"release_month\")\n",
    "#data1_2018.groupby(\"release_month\").sum()"
   ]
  },
  {
   "cell_type": "code",
   "execution_count": null,
   "id": "3ff50530",
   "metadata": {},
   "outputs": [],
   "source": [
    "height = data1_2018['revenue']\n",
    "x = range(12)\n",
    "labels = data1_2018.index\n",
    "\n",
    "fig, ax = plt.subplots(figsize=(13, 6))\n",
    "\n",
    "ax.bar(x, height, tick_label=labels, color = \"green\")\n",
    "\n",
    "ax.set_title(\"Revenue by Month (2018)\")\n",
    "ax.set_ylabel(\"Revenue ($)\")\n",
    "ax.set_xlabel(\"Month\");"
   ]
  },
  {
   "cell_type": "code",
   "execution_count": null,
   "id": "5efc0241",
   "metadata": {},
   "outputs": [],
   "source": [
    "data1_2017 = data1[data1[\"release_year\"] == \"2017\"]\n",
    "data1_2017 = data1_2017.drop(\"id\", axis=1)\n",
    "data1_2017 = data1_2017.groupby(\"release_month\").sum()\n",
    "data1_2017\n",
    "#data1_2017[\"release_month\"].unique()\n",
    "#data1_2017.set_index(\"release_month\")\n",
    "#data1_2017.groupby(\"release_month\").sum()"
   ]
  },
  {
   "cell_type": "code",
   "execution_count": null,
   "id": "c7061cdb",
   "metadata": {},
   "outputs": [],
   "source": [
    "height = data1_2017['revenue']\n",
    "x = range(12)\n",
    "labels = data1_2017.index\n",
    "\n",
    "fig, ax = plt.subplots(figsize=(13, 6))\n",
    "\n",
    "ax.bar(x, height, tick_label=labels, color = \"green\")\n",
    "\n",
    "ax.set_title(\"Revenue by Month (2017)\")\n",
    "ax.set_ylabel(\"Revenue ($)\")\n",
    "ax.set_xlabel(\"Month\");"
   ]
  },
  {
   "cell_type": "code",
   "execution_count": null,
   "id": "623f40bf",
   "metadata": {},
   "outputs": [],
   "source": [
    "for x in data1[\"release_month\"]:\n",
    "    if x == \"Dec\":\n",
    "        data1[\"release_month_new\"] == \"12 Dec\""
   ]
  },
  {
   "cell_type": "code",
   "execution_count": null,
   "id": "0a1f6e42",
   "metadata": {},
   "outputs": [],
   "source": [
    "for x in data1[\"release_month_new\"]:\n",
    "    if x == \"Jan\":\n",
    "        data1[\"release_month_new\"][x] == \"01 Jan\"\n",
    "    elif x == \"Feb\":\n",
    "        return \"02 Feb\"\n",
    "    elif x == \"Mar\":\n",
    "        return \"03 Mar\"\n",
    "    elif x == \"Apr\":\n",
    "        return \"04 Apr\"\n",
    "    elif x == \"May\":\n",
    "        return \"05 May\"\n",
    "    elif x == \"Jun\":\n",
    "        return \"06 Jun\"\n",
    "    elif x == \"Jul\":\n",
    "        return \"07 Jul\"\n",
    "    elif x == \"Aug\":\n",
    "        return \"08 Aug\"\n",
    "    elif x == \"Sep\":\n",
    "        return \"09 Sep\"\n",
    "    elif x == \"Oct\":\n",
    "        return \"10 Oct\"\n",
    "    elif x == \"Nov\":\n",
    "        return \"11 Nov\"\n",
    "    elif x == \"Dec\":\n",
    "        return \"12 Dec\""
   ]
  }
 ],
 "metadata": {
  "kernelspec": {
   "display_name": "Python 3",
   "language": "python",
   "name": "python3"
  },
  "language_info": {
   "codemirror_mode": {
    "name": "ipython",
    "version": 3
   },
   "file_extension": ".py",
   "mimetype": "text/x-python",
   "name": "python",
   "nbconvert_exporter": "python",
   "pygments_lexer": "ipython3",
   "version": "3.8.8"
  }
 },
 "nbformat": 4,
 "nbformat_minor": 5
}
