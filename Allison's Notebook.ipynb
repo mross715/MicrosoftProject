{
 "cells": [
  {
   "cell_type": "code",
   "execution_count": 40,
   "id": "b1173132",
   "metadata": {},
   "outputs": [],
   "source": [
    "import pandas as pd \n",
    "import numpy as np\n",
    "import matplotlib.pyplot as plt\n",
    "%matplotlib inline"
   ]
  },
  {
   "cell_type": "code",
   "execution_count": 41,
   "id": "84a92129",
   "metadata": {},
   "outputs": [],
   "source": [
    "#pd.options.display.max_rows = 6000\n",
    "#pd.options.display.max_columns = 6000"
   ]
  },
  {
   "cell_type": "code",
   "execution_count": 42,
   "id": "cfceefd2",
   "metadata": {},
   "outputs": [],
   "source": [
    "#data1 = pd.read_csv(\"./Data/tn.movie_budgets.csv.gz\")\n",
    "#data1.info()\n",
    "title_basics = pd.read_csv('./Data/imdb.title.basics.csv.gz')\n",
    "title_ratings = pd.read_csv(\"./Data/imdb.title.ratings.csv.gz\")\n",
    "movie_budgets = pd.read_csv('./Data/tn.movie_budgets.csv.gz')"
   ]
  },
  {
   "cell_type": "code",
   "execution_count": 43,
   "id": "6c09275c",
   "metadata": {},
   "outputs": [
    {
     "data": {
      "text/html": [
       "<div>\n",
       "<style scoped>\n",
       "    .dataframe tbody tr th:only-of-type {\n",
       "        vertical-align: middle;\n",
       "    }\n",
       "\n",
       "    .dataframe tbody tr th {\n",
       "        vertical-align: top;\n",
       "    }\n",
       "\n",
       "    .dataframe thead th {\n",
       "        text-align: right;\n",
       "    }\n",
       "</style>\n",
       "<table border=\"1\" class=\"dataframe\">\n",
       "  <thead>\n",
       "    <tr style=\"text-align: right;\">\n",
       "      <th></th>\n",
       "      <th>tconst</th>\n",
       "      <th>primary_title</th>\n",
       "      <th>original_title</th>\n",
       "      <th>start_year</th>\n",
       "      <th>runtime_minutes</th>\n",
       "      <th>genres</th>\n",
       "      <th>averagerating</th>\n",
       "      <th>numvotes</th>\n",
       "    </tr>\n",
       "  </thead>\n",
       "  <tbody>\n",
       "    <tr>\n",
       "      <th>0</th>\n",
       "      <td>tt0063540</td>\n",
       "      <td>Sunghursh</td>\n",
       "      <td>Sunghursh</td>\n",
       "      <td>2013</td>\n",
       "      <td>175.0</td>\n",
       "      <td>Action,Crime,Drama</td>\n",
       "      <td>7.0</td>\n",
       "      <td>77</td>\n",
       "    </tr>\n",
       "    <tr>\n",
       "      <th>1</th>\n",
       "      <td>tt0066787</td>\n",
       "      <td>One Day Before the Rainy Season</td>\n",
       "      <td>Ashad Ka Ek Din</td>\n",
       "      <td>2019</td>\n",
       "      <td>114.0</td>\n",
       "      <td>Biography,Drama</td>\n",
       "      <td>7.2</td>\n",
       "      <td>43</td>\n",
       "    </tr>\n",
       "    <tr>\n",
       "      <th>2</th>\n",
       "      <td>tt0069049</td>\n",
       "      <td>The Other Side of the Wind</td>\n",
       "      <td>The Other Side of the Wind</td>\n",
       "      <td>2018</td>\n",
       "      <td>122.0</td>\n",
       "      <td>Drama</td>\n",
       "      <td>6.9</td>\n",
       "      <td>4517</td>\n",
       "    </tr>\n",
       "    <tr>\n",
       "      <th>3</th>\n",
       "      <td>tt0069204</td>\n",
       "      <td>Sabse Bada Sukh</td>\n",
       "      <td>Sabse Bada Sukh</td>\n",
       "      <td>2018</td>\n",
       "      <td>NaN</td>\n",
       "      <td>Comedy,Drama</td>\n",
       "      <td>6.1</td>\n",
       "      <td>13</td>\n",
       "    </tr>\n",
       "    <tr>\n",
       "      <th>4</th>\n",
       "      <td>tt0100275</td>\n",
       "      <td>The Wandering Soap Opera</td>\n",
       "      <td>La Telenovela Errante</td>\n",
       "      <td>2017</td>\n",
       "      <td>80.0</td>\n",
       "      <td>Comedy,Drama,Fantasy</td>\n",
       "      <td>6.5</td>\n",
       "      <td>119</td>\n",
       "    </tr>\n",
       "  </tbody>\n",
       "</table>\n",
       "</div>"
      ],
      "text/plain": [
       "      tconst                    primary_title              original_title  \\\n",
       "0  tt0063540                        Sunghursh                   Sunghursh   \n",
       "1  tt0066787  One Day Before the Rainy Season             Ashad Ka Ek Din   \n",
       "2  tt0069049       The Other Side of the Wind  The Other Side of the Wind   \n",
       "3  tt0069204                  Sabse Bada Sukh             Sabse Bada Sukh   \n",
       "4  tt0100275         The Wandering Soap Opera       La Telenovela Errante   \n",
       "\n",
       "   start_year  runtime_minutes                genres  averagerating  numvotes  \n",
       "0        2013            175.0    Action,Crime,Drama            7.0        77  \n",
       "1        2019            114.0       Biography,Drama            7.2        43  \n",
       "2        2018            122.0                 Drama            6.9      4517  \n",
       "3        2018              NaN          Comedy,Drama            6.1        13  \n",
       "4        2017             80.0  Comedy,Drama,Fantasy            6.5       119  "
      ]
     },
     "execution_count": 43,
     "metadata": {},
     "output_type": "execute_result"
    }
   ],
   "source": [
    "imdb_data = pd.merge(title_basics, title_ratings, how = 'inner', on = 'tconst')\n",
    "imdb_data.head()"
   ]
  },
  {
   "cell_type": "code",
   "execution_count": 44,
   "id": "30a4fd52",
   "metadata": {},
   "outputs": [],
   "source": [
    "imdb_data = imdb_data.drop(columns='runtime_minutes')"
   ]
  },
  {
   "cell_type": "code",
   "execution_count": 45,
   "id": "1eec65ee",
   "metadata": {},
   "outputs": [],
   "source": [
    "imdb_data = imdb_data.dropna(subset=['genres'])"
   ]
  },
  {
   "cell_type": "code",
   "execution_count": 46,
   "id": "e25fbfa2",
   "metadata": {},
   "outputs": [],
   "source": [
    "imdb_data = imdb_data.rename(columns={'primary_title': 'movie'})"
   ]
  },
  {
   "cell_type": "code",
   "execution_count": 47,
   "id": "4cccb179",
   "metadata": {},
   "outputs": [],
   "source": [
    "mdf = pd.merge(imdb_data, movie_budgets, on=['movie'], how='inner')"
   ]
  },
  {
   "cell_type": "code",
   "execution_count": 48,
   "id": "b49cf22a",
   "metadata": {},
   "outputs": [],
   "source": [
    "mdf = mdf.drop_duplicates(subset=['movie'])"
   ]
  },
  {
   "cell_type": "code",
   "execution_count": 49,
   "id": "cf95aa3c",
   "metadata": {},
   "outputs": [],
   "source": [
    "mdf2 = mdf.copy()\n",
    "mdf2['production_budget'] = mdf2['production_budget'].map(lambda x: x.lstrip('$'))\n",
    "mdf2['domestic_gross'] = mdf2['domestic_gross'].map(lambda x: x.lstrip('$'))\n",
    "mdf2['worldwide_gross'] = mdf2['worldwide_gross'].map(lambda x: x.lstrip('$'))"
   ]
  },
  {
   "cell_type": "code",
   "execution_count": 50,
   "id": "b53730b2",
   "metadata": {},
   "outputs": [],
   "source": [
    "mdf2['production_budget']=mdf2['production_budget'].str.replace(',','')\n",
    "mdf2['domestic_gross']=mdf2['domestic_gross'].str.replace(',','')\n",
    "mdf2['worldwide_gross']=mdf2['worldwide_gross'].str.replace(',','')"
   ]
  },
  {
   "cell_type": "code",
   "execution_count": 51,
   "id": "1e2993a2",
   "metadata": {},
   "outputs": [],
   "source": [
    "mdf2 = mdf2.astype({'production_budget': 'int64'})\n",
    "mdf2 = mdf2.astype({'domestic_gross': 'int64'})\n",
    "mdf2 = mdf2.astype({'worldwide_gross': 'int64'})"
   ]
  },
  {
   "cell_type": "code",
   "execution_count": 52,
   "id": "d5786023",
   "metadata": {},
   "outputs": [],
   "source": [
    "mdf2 = mdf2[mdf2.worldwide_gross != 0]\n",
    "mdf2 = mdf2[mdf2.domestic_gross != 0]"
   ]
  },
  {
   "cell_type": "code",
   "execution_count": 53,
   "id": "149b6eb3",
   "metadata": {},
   "outputs": [],
   "source": [
    "mdf2['profit'] = mdf2['worldwide_gross'] - mdf2['production_budget']\n",
    "mdf2['ROI'] = (mdf2['profit'] / mdf2['production_budget']) * 100\n",
    "mdf2 = mdf2.round({'ROI': 2})"
   ]
  },
  {
   "cell_type": "code",
   "execution_count": 54,
   "id": "354dd35b",
   "metadata": {},
   "outputs": [],
   "source": [
    "mdf2[\"release_year\"]= [x[7:] for x in mdf2[\"release_date\"]]\n",
    "mdf2[\"release_month\"]= [x[:4] for x in mdf2[\"release_date\"]]"
   ]
  },
  {
   "cell_type": "code",
   "execution_count": 55,
   "id": "b6e7befd",
   "metadata": {},
   "outputs": [],
   "source": [
    "#for the purpose of graphing, edited each month with numeric values in the beginning \n",
    "mdf2[\"release_month\"] = mdf2[\"release_month\"].str.replace(\"Jan\", \"01 Jan\")\n",
    "mdf2[\"release_month\"] = mdf2[\"release_month\"].str.replace(\"Feb\", \"02 Feb\")\n",
    "mdf2[\"release_month\"] = mdf2[\"release_month\"].str.replace(\"Mar\", \"03 Mar\")\n",
    "mdf2[\"release_month\"] = mdf2[\"release_month\"].str.replace(\"Apr\", \"04 Apr\")\n",
    "mdf2[\"release_month\"] = mdf2[\"release_month\"].str.replace(\"May\", \"05 May\")\n",
    "mdf2[\"release_month\"] = mdf2[\"release_month\"].str.replace(\"Jun\", \"06 Jun\")\n",
    "mdf2[\"release_month\"] = mdf2[\"release_month\"].str.replace(\"Jul\", \"07 Jul\")\n",
    "mdf2[\"release_month\"] = mdf2[\"release_month\"].str.replace(\"Aug\", \"08 Aug\")\n",
    "mdf2[\"release_month\"] = mdf2[\"release_month\"].str.replace(\"Sep\", \"09 Sep\")\n",
    "mdf2[\"release_month\"] = mdf2[\"release_month\"].str.replace(\"Oct\", \"10 Oct\")\n",
    "mdf2[\"release_month\"] = mdf2[\"release_month\"].str.replace(\"Nov\", \"11 Nov\")\n",
    "mdf2[\"release_month\"] = mdf2[\"release_month\"].str.replace(\"Dec\", \"12 Dec\")"
   ]
  },
  {
   "cell_type": "code",
   "execution_count": 56,
   "id": "ef23eb23",
   "metadata": {},
   "outputs": [],
   "source": [
    "mdf2=mdf2.loc[mdf2['release_year'] >= '1990']"
   ]
  },
  {
   "cell_type": "code",
   "execution_count": 57,
   "id": "6af133af",
   "metadata": {},
   "outputs": [],
   "source": [
    "gf = mdf2[['movie', 'genres', 'production_budget', 'domestic_gross', 'worldwide_gross', 'profit', 'ROI', \"release_month\", 'release_year', \"release_date\"]]"
   ]
  },
  {
   "cell_type": "code",
   "execution_count": 58,
   "id": "09676ffc",
   "metadata": {},
   "outputs": [
    {
     "name": "stderr",
     "output_type": "stream",
     "text": [
      "<ipython-input-58-970854c872a4>:1: SettingWithCopyWarning: \n",
      "A value is trying to be set on a copy of a slice from a DataFrame.\n",
      "Try using .loc[row_indexer,col_indexer] = value instead\n",
      "\n",
      "See the caveats in the documentation: https://pandas.pydata.org/pandas-docs/stable/user_guide/indexing.html#returning-a-view-versus-a-copy\n",
      "  gf['genres'] = gf['genres'].str.split(',')\n"
     ]
    }
   ],
   "source": [
    "gf['genres'] = gf['genres'].str.split(',')"
   ]
  },
  {
   "cell_type": "code",
   "execution_count": 59,
   "id": "4a85a4d0",
   "metadata": {},
   "outputs": [
    {
     "data": {
      "text/html": [
       "<div>\n",
       "<style scoped>\n",
       "    .dataframe tbody tr th:only-of-type {\n",
       "        vertical-align: middle;\n",
       "    }\n",
       "\n",
       "    .dataframe tbody tr th {\n",
       "        vertical-align: top;\n",
       "    }\n",
       "\n",
       "    .dataframe thead th {\n",
       "        text-align: right;\n",
       "    }\n",
       "</style>\n",
       "<table border=\"1\" class=\"dataframe\">\n",
       "  <thead>\n",
       "    <tr style=\"text-align: right;\">\n",
       "      <th></th>\n",
       "      <th>movie</th>\n",
       "      <th>genres</th>\n",
       "      <th>production_budget</th>\n",
       "      <th>domestic_gross</th>\n",
       "      <th>worldwide_gross</th>\n",
       "      <th>profit</th>\n",
       "      <th>ROI</th>\n",
       "      <th>release_month</th>\n",
       "      <th>release_year</th>\n",
       "      <th>release_date</th>\n",
       "    </tr>\n",
       "  </thead>\n",
       "  <tbody>\n",
       "    <tr>\n",
       "      <th>11</th>\n",
       "      <td>John Carter</td>\n",
       "      <td>Action</td>\n",
       "      <td>275000000</td>\n",
       "      <td>73058679</td>\n",
       "      <td>282778100</td>\n",
       "      <td>7778100</td>\n",
       "      <td>2.83</td>\n",
       "      <td>03 Mar</td>\n",
       "      <td>2012</td>\n",
       "      <td>Mar 9, 2012</td>\n",
       "    </tr>\n",
       "    <tr>\n",
       "      <th>11</th>\n",
       "      <td>John Carter</td>\n",
       "      <td>Adventure</td>\n",
       "      <td>275000000</td>\n",
       "      <td>73058679</td>\n",
       "      <td>282778100</td>\n",
       "      <td>7778100</td>\n",
       "      <td>2.83</td>\n",
       "      <td>03 Mar</td>\n",
       "      <td>2012</td>\n",
       "      <td>Mar 9, 2012</td>\n",
       "    </tr>\n",
       "    <tr>\n",
       "      <th>11</th>\n",
       "      <td>John Carter</td>\n",
       "      <td>Sci-Fi</td>\n",
       "      <td>275000000</td>\n",
       "      <td>73058679</td>\n",
       "      <td>282778100</td>\n",
       "      <td>7778100</td>\n",
       "      <td>2.83</td>\n",
       "      <td>03 Mar</td>\n",
       "      <td>2012</td>\n",
       "      <td>Mar 9, 2012</td>\n",
       "    </tr>\n",
       "    <tr>\n",
       "      <th>16</th>\n",
       "      <td>Real Steel</td>\n",
       "      <td>Action</td>\n",
       "      <td>110000000</td>\n",
       "      <td>85463309</td>\n",
       "      <td>263880341</td>\n",
       "      <td>153880341</td>\n",
       "      <td>139.89</td>\n",
       "      <td>10 Oct</td>\n",
       "      <td>2011</td>\n",
       "      <td>Oct 7, 2011</td>\n",
       "    </tr>\n",
       "    <tr>\n",
       "      <th>16</th>\n",
       "      <td>Real Steel</td>\n",
       "      <td>Drama</td>\n",
       "      <td>110000000</td>\n",
       "      <td>85463309</td>\n",
       "      <td>263880341</td>\n",
       "      <td>153880341</td>\n",
       "      <td>139.89</td>\n",
       "      <td>10 Oct</td>\n",
       "      <td>2011</td>\n",
       "      <td>Oct 7, 2011</td>\n",
       "    </tr>\n",
       "    <tr>\n",
       "      <th>...</th>\n",
       "      <td>...</td>\n",
       "      <td>...</td>\n",
       "      <td>...</td>\n",
       "      <td>...</td>\n",
       "      <td>...</td>\n",
       "      <td>...</td>\n",
       "      <td>...</td>\n",
       "      <td>...</td>\n",
       "      <td>...</td>\n",
       "      <td>...</td>\n",
       "    </tr>\n",
       "    <tr>\n",
       "      <th>2845</th>\n",
       "      <td>Hereditary</td>\n",
       "      <td>Drama</td>\n",
       "      <td>10000000</td>\n",
       "      <td>44069456</td>\n",
       "      <td>70133905</td>\n",
       "      <td>60133905</td>\n",
       "      <td>601.34</td>\n",
       "      <td>06 Jun</td>\n",
       "      <td>2018</td>\n",
       "      <td>Jun 8, 2018</td>\n",
       "    </tr>\n",
       "    <tr>\n",
       "      <th>2845</th>\n",
       "      <td>Hereditary</td>\n",
       "      <td>Horror</td>\n",
       "      <td>10000000</td>\n",
       "      <td>44069456</td>\n",
       "      <td>70133905</td>\n",
       "      <td>60133905</td>\n",
       "      <td>601.34</td>\n",
       "      <td>06 Jun</td>\n",
       "      <td>2018</td>\n",
       "      <td>Jun 8, 2018</td>\n",
       "    </tr>\n",
       "    <tr>\n",
       "      <th>2845</th>\n",
       "      <td>Hereditary</td>\n",
       "      <td>Mystery</td>\n",
       "      <td>10000000</td>\n",
       "      <td>44069456</td>\n",
       "      <td>70133905</td>\n",
       "      <td>60133905</td>\n",
       "      <td>601.34</td>\n",
       "      <td>06 Jun</td>\n",
       "      <td>2018</td>\n",
       "      <td>Jun 8, 2018</td>\n",
       "    </tr>\n",
       "    <tr>\n",
       "      <th>2852</th>\n",
       "      <td>Serendipity</td>\n",
       "      <td>Drama</td>\n",
       "      <td>28000000</td>\n",
       "      <td>50255310</td>\n",
       "      <td>77477297</td>\n",
       "      <td>49477297</td>\n",
       "      <td>176.70</td>\n",
       "      <td>10 Oct</td>\n",
       "      <td>2001</td>\n",
       "      <td>Oct 5, 2001</td>\n",
       "    </tr>\n",
       "    <tr>\n",
       "      <th>2864</th>\n",
       "      <td>Push</td>\n",
       "      <td>Documentary</td>\n",
       "      <td>38000000</td>\n",
       "      <td>31811527</td>\n",
       "      <td>49678401</td>\n",
       "      <td>11678401</td>\n",
       "      <td>30.73</td>\n",
       "      <td>02 Feb</td>\n",
       "      <td>2009</td>\n",
       "      <td>Feb 6, 2009</td>\n",
       "    </tr>\n",
       "  </tbody>\n",
       "</table>\n",
       "<p>1171 rows × 10 columns</p>\n",
       "</div>"
      ],
      "text/plain": [
       "            movie       genres  production_budget  domestic_gross  \\\n",
       "11    John Carter       Action          275000000        73058679   \n",
       "11    John Carter    Adventure          275000000        73058679   \n",
       "11    John Carter       Sci-Fi          275000000        73058679   \n",
       "16     Real Steel       Action          110000000        85463309   \n",
       "16     Real Steel        Drama          110000000        85463309   \n",
       "...           ...          ...                ...             ...   \n",
       "2845   Hereditary        Drama           10000000        44069456   \n",
       "2845   Hereditary       Horror           10000000        44069456   \n",
       "2845   Hereditary      Mystery           10000000        44069456   \n",
       "2852  Serendipity        Drama           28000000        50255310   \n",
       "2864         Push  Documentary           38000000        31811527   \n",
       "\n",
       "      worldwide_gross     profit     ROI release_month release_year  \\\n",
       "11          282778100    7778100    2.83       03 Mar          2012   \n",
       "11          282778100    7778100    2.83       03 Mar          2012   \n",
       "11          282778100    7778100    2.83       03 Mar          2012   \n",
       "16          263880341  153880341  139.89       10 Oct          2011   \n",
       "16          263880341  153880341  139.89       10 Oct          2011   \n",
       "...               ...        ...     ...           ...          ...   \n",
       "2845         70133905   60133905  601.34       06 Jun          2018   \n",
       "2845         70133905   60133905  601.34       06 Jun          2018   \n",
       "2845         70133905   60133905  601.34       06 Jun          2018   \n",
       "2852         77477297   49477297  176.70       10 Oct          2001   \n",
       "2864         49678401   11678401   30.73       02 Feb          2009   \n",
       "\n",
       "     release_date  \n",
       "11    Mar 9, 2012  \n",
       "11    Mar 9, 2012  \n",
       "11    Mar 9, 2012  \n",
       "16    Oct 7, 2011  \n",
       "16    Oct 7, 2011  \n",
       "...           ...  \n",
       "2845  Jun 8, 2018  \n",
       "2845  Jun 8, 2018  \n",
       "2845  Jun 8, 2018  \n",
       "2852  Oct 5, 2001  \n",
       "2864  Feb 6, 2009  \n",
       "\n",
       "[1171 rows x 10 columns]"
      ]
     },
     "execution_count": 59,
     "metadata": {},
     "output_type": "execute_result"
    }
   ],
   "source": [
    "gf = gf.explode('genres')\n",
    "gf"
   ]
  },
  {
   "cell_type": "code",
   "execution_count": 60,
   "id": "e9824305",
   "metadata": {},
   "outputs": [
    {
     "data": {
      "text/html": [
       "<div>\n",
       "<style scoped>\n",
       "    .dataframe tbody tr th:only-of-type {\n",
       "        vertical-align: middle;\n",
       "    }\n",
       "\n",
       "    .dataframe tbody tr th {\n",
       "        vertical-align: top;\n",
       "    }\n",
       "\n",
       "    .dataframe thead th {\n",
       "        text-align: right;\n",
       "    }\n",
       "</style>\n",
       "<table border=\"1\" class=\"dataframe\">\n",
       "  <thead>\n",
       "    <tr style=\"text-align: right;\">\n",
       "      <th></th>\n",
       "      <th>ROI</th>\n",
       "      <th>profit</th>\n",
       "    </tr>\n",
       "    <tr>\n",
       "      <th>release_month</th>\n",
       "      <th></th>\n",
       "      <th></th>\n",
       "    </tr>\n",
       "  </thead>\n",
       "  <tbody>\n",
       "    <tr>\n",
       "      <th>01 Jan</th>\n",
       "      <td>789.917778</td>\n",
       "      <td>6.311481e+07</td>\n",
       "    </tr>\n",
       "    <tr>\n",
       "      <th>02 Feb</th>\n",
       "      <td>203.011897</td>\n",
       "      <td>5.668419e+07</td>\n",
       "    </tr>\n",
       "    <tr>\n",
       "      <th>03 Mar</th>\n",
       "      <td>163.690577</td>\n",
       "      <td>1.282468e+08</td>\n",
       "    </tr>\n",
       "    <tr>\n",
       "      <th>04 Apr</th>\n",
       "      <td>325.500165</td>\n",
       "      <td>9.187122e+07</td>\n",
       "    </tr>\n",
       "    <tr>\n",
       "      <th>05 May</th>\n",
       "      <td>176.869518</td>\n",
       "      <td>2.218598e+08</td>\n",
       "    </tr>\n",
       "    <tr>\n",
       "      <th>06 Jun</th>\n",
       "      <td>225.226283</td>\n",
       "      <td>7.950890e+07</td>\n",
       "    </tr>\n",
       "    <tr>\n",
       "      <th>07 Jul</th>\n",
       "      <td>460.432500</td>\n",
       "      <td>1.695145e+08</td>\n",
       "    </tr>\n",
       "    <tr>\n",
       "      <th>08 Aug</th>\n",
       "      <td>187.404316</td>\n",
       "      <td>1.092791e+08</td>\n",
       "    </tr>\n",
       "    <tr>\n",
       "      <th>09 Sep</th>\n",
       "      <td>154.835233</td>\n",
       "      <td>3.376799e+07</td>\n",
       "    </tr>\n",
       "    <tr>\n",
       "      <th>10 Oct</th>\n",
       "      <td>234.434087</td>\n",
       "      <td>9.330648e+07</td>\n",
       "    </tr>\n",
       "    <tr>\n",
       "      <th>11 Nov</th>\n",
       "      <td>228.551667</td>\n",
       "      <td>1.710710e+08</td>\n",
       "    </tr>\n",
       "    <tr>\n",
       "      <th>12 Dec</th>\n",
       "      <td>256.133250</td>\n",
       "      <td>4.284211e+07</td>\n",
       "    </tr>\n",
       "  </tbody>\n",
       "</table>\n",
       "</div>"
      ],
      "text/plain": [
       "                      ROI        profit\n",
       "release_month                          \n",
       "01 Jan         789.917778  6.311481e+07\n",
       "02 Feb         203.011897  5.668419e+07\n",
       "03 Mar         163.690577  1.282468e+08\n",
       "04 Apr         325.500165  9.187122e+07\n",
       "05 May         176.869518  2.218598e+08\n",
       "06 Jun         225.226283  7.950890e+07\n",
       "07 Jul         460.432500  1.695145e+08\n",
       "08 Aug         187.404316  1.092791e+08\n",
       "09 Sep         154.835233  3.376799e+07\n",
       "10 Oct         234.434087  9.330648e+07\n",
       "11 Nov         228.551667  1.710710e+08\n",
       "12 Dec         256.133250  4.284211e+07"
      ]
     },
     "execution_count": 60,
     "metadata": {},
     "output_type": "execute_result"
    }
   ],
   "source": [
    "new_gf1 = gf[['movie', 'genres','ROI', \"profit\", 'release_year', \"release_month\", \"release_date\"]]\n",
    "mean_ROI_by_month = new_gf1.groupby(\"release_month\").mean()\n",
    "mean_ROI_by_month "
   ]
  },
  {
   "cell_type": "code",
   "execution_count": 61,
   "id": "952b2906",
   "metadata": {},
   "outputs": [],
   "source": [
    "new_gf1_Horror = new_gf1[new_gf1[\"genres\"]== \"Horror\"]\n",
    "new_gf1_Mystery = new_gf1[new_gf1[\"genres\"]== \"Mystery\"]\n",
    "new_gf1_Thriller = new_gf1[new_gf1[\"genres\"]== \"Thriller\"]\n",
    "new_gf1_Music = new_gf1[new_gf1[\"genres\"]== \"Music\"]\n",
    "new_gf1_Sci_Fi = new_gf1[new_gf1[\"genres\"]== \"Sci-Fi\"]"
   ]
  },
  {
   "cell_type": "code",
   "execution_count": 62,
   "id": "88282df6",
   "metadata": {},
   "outputs": [
    {
     "data": {
      "text/html": [
       "<div>\n",
       "<style scoped>\n",
       "    .dataframe tbody tr th:only-of-type {\n",
       "        vertical-align: middle;\n",
       "    }\n",
       "\n",
       "    .dataframe tbody tr th {\n",
       "        vertical-align: top;\n",
       "    }\n",
       "\n",
       "    .dataframe thead th {\n",
       "        text-align: right;\n",
       "    }\n",
       "</style>\n",
       "<table border=\"1\" class=\"dataframe\">\n",
       "  <thead>\n",
       "    <tr style=\"text-align: right;\">\n",
       "      <th></th>\n",
       "      <th>genres</th>\n",
       "      <th>ROI</th>\n",
       "      <th>profit</th>\n",
       "    </tr>\n",
       "  </thead>\n",
       "  <tbody>\n",
       "    <tr>\n",
       "      <th>11</th>\n",
       "      <td>Horror</td>\n",
       "      <td>663.497931</td>\n",
       "      <td>4.344439e+07</td>\n",
       "    </tr>\n",
       "    <tr>\n",
       "      <th>14</th>\n",
       "      <td>Mystery</td>\n",
       "      <td>519.269706</td>\n",
       "      <td>4.830093e+07</td>\n",
       "    </tr>\n",
       "    <tr>\n",
       "      <th>19</th>\n",
       "      <td>Thriller</td>\n",
       "      <td>406.547284</td>\n",
       "      <td>1.070304e+08</td>\n",
       "    </tr>\n",
       "    <tr>\n",
       "      <th>12</th>\n",
       "      <td>Music</td>\n",
       "      <td>403.540000</td>\n",
       "      <td>1.136261e+08</td>\n",
       "    </tr>\n",
       "    <tr>\n",
       "      <th>17</th>\n",
       "      <td>Sci-Fi</td>\n",
       "      <td>317.530500</td>\n",
       "      <td>3.048415e+08</td>\n",
       "    </tr>\n",
       "    <tr>\n",
       "      <th>15</th>\n",
       "      <td>News</td>\n",
       "      <td>289.420000</td>\n",
       "      <td>3.473058e+07</td>\n",
       "    </tr>\n",
       "    <tr>\n",
       "      <th>6</th>\n",
       "      <td>Documentary</td>\n",
       "      <td>287.279200</td>\n",
       "      <td>4.106267e+07</td>\n",
       "    </tr>\n",
       "    <tr>\n",
       "      <th>2</th>\n",
       "      <td>Animation</td>\n",
       "      <td>284.208519</td>\n",
       "      <td>2.507086e+08</td>\n",
       "    </tr>\n",
       "    <tr>\n",
       "      <th>9</th>\n",
       "      <td>Fantasy</td>\n",
       "      <td>253.367045</td>\n",
       "      <td>1.255589e+08</td>\n",
       "    </tr>\n",
       "    <tr>\n",
       "      <th>16</th>\n",
       "      <td>Romance</td>\n",
       "      <td>244.556000</td>\n",
       "      <td>3.725398e+07</td>\n",
       "    </tr>\n",
       "    <tr>\n",
       "      <th>1</th>\n",
       "      <td>Adventure</td>\n",
       "      <td>216.019623</td>\n",
       "      <td>2.448249e+08</td>\n",
       "    </tr>\n",
       "    <tr>\n",
       "      <th>3</th>\n",
       "      <td>Biography</td>\n",
       "      <td>213.802051</td>\n",
       "      <td>5.434235e+07</td>\n",
       "    </tr>\n",
       "    <tr>\n",
       "      <th>4</th>\n",
       "      <td>Comedy</td>\n",
       "      <td>212.298491</td>\n",
       "      <td>8.740767e+07</td>\n",
       "    </tr>\n",
       "    <tr>\n",
       "      <th>0</th>\n",
       "      <td>Action</td>\n",
       "      <td>201.238519</td>\n",
       "      <td>2.070401e+08</td>\n",
       "    </tr>\n",
       "    <tr>\n",
       "      <th>7</th>\n",
       "      <td>Drama</td>\n",
       "      <td>200.382099</td>\n",
       "      <td>4.775554e+07</td>\n",
       "    </tr>\n",
       "    <tr>\n",
       "      <th>8</th>\n",
       "      <td>Family</td>\n",
       "      <td>148.262308</td>\n",
       "      <td>1.307623e+08</td>\n",
       "    </tr>\n",
       "    <tr>\n",
       "      <th>5</th>\n",
       "      <td>Crime</td>\n",
       "      <td>131.860862</td>\n",
       "      <td>5.163447e+07</td>\n",
       "    </tr>\n",
       "    <tr>\n",
       "      <th>20</th>\n",
       "      <td>War</td>\n",
       "      <td>119.795714</td>\n",
       "      <td>5.031619e+07</td>\n",
       "    </tr>\n",
       "    <tr>\n",
       "      <th>13</th>\n",
       "      <td>Musical</td>\n",
       "      <td>112.160000</td>\n",
       "      <td>9.416154e+06</td>\n",
       "    </tr>\n",
       "    <tr>\n",
       "      <th>10</th>\n",
       "      <td>History</td>\n",
       "      <td>57.301429</td>\n",
       "      <td>2.159261e+07</td>\n",
       "    </tr>\n",
       "    <tr>\n",
       "      <th>18</th>\n",
       "      <td>Sport</td>\n",
       "      <td>-13.165000</td>\n",
       "      <td>6.631639e+06</td>\n",
       "    </tr>\n",
       "    <tr>\n",
       "      <th>21</th>\n",
       "      <td>Western</td>\n",
       "      <td>-52.406000</td>\n",
       "      <td>-1.082733e+07</td>\n",
       "    </tr>\n",
       "  </tbody>\n",
       "</table>\n",
       "</div>"
      ],
      "text/plain": [
       "         genres         ROI        profit\n",
       "11       Horror  663.497931  4.344439e+07\n",
       "14      Mystery  519.269706  4.830093e+07\n",
       "19     Thriller  406.547284  1.070304e+08\n",
       "12        Music  403.540000  1.136261e+08\n",
       "17       Sci-Fi  317.530500  3.048415e+08\n",
       "15         News  289.420000  3.473058e+07\n",
       "6   Documentary  287.279200  4.106267e+07\n",
       "2     Animation  284.208519  2.507086e+08\n",
       "9       Fantasy  253.367045  1.255589e+08\n",
       "16      Romance  244.556000  3.725398e+07\n",
       "1     Adventure  216.019623  2.448249e+08\n",
       "3     Biography  213.802051  5.434235e+07\n",
       "4        Comedy  212.298491  8.740767e+07\n",
       "0        Action  201.238519  2.070401e+08\n",
       "7         Drama  200.382099  4.775554e+07\n",
       "8        Family  148.262308  1.307623e+08\n",
       "5         Crime  131.860862  5.163447e+07\n",
       "20          War  119.795714  5.031619e+07\n",
       "13      Musical  112.160000  9.416154e+06\n",
       "10      History   57.301429  2.159261e+07\n",
       "18        Sport  -13.165000  6.631639e+06\n",
       "21      Western  -52.406000 -1.082733e+07"
      ]
     },
     "execution_count": 62,
     "metadata": {},
     "output_type": "execute_result"
    }
   ],
   "source": [
    "new_gf2 = new_gf1.groupby([\"genres\"], as_index=False).mean()\n",
    "new_gf2 = new_gf2.sort_values(by = \"ROI\", ascending=False)\n",
    "new_gf2"
   ]
  },
  {
   "cell_type": "code",
   "execution_count": 63,
   "id": "f06a3283",
   "metadata": {},
   "outputs": [
    {
     "data": {
      "image/png": "[encoded data removed]",
      "text/plain": [
       "<Figure size 720x360 with 1 Axes>"
      ]
     },
     "metadata": {
      "needs_background": "light"
     },
     "output_type": "display_data"
    }
   ],
   "source": [
    "height = mean_ROI_by_month['ROI']\n",
    "x = range(12)\n",
    "labels = mean_ROI_by_month .index\n",
    "\n",
    "fig, ax = plt.subplots(figsize=(10, 5))\n",
    "\n",
    "ax.bar(x, height, tick_label=labels, color = \"green\")\n",
    "\n",
    "ax.set_title(\"Mean ROI by Month (1990-2020)\")\n",
    "ax.set_ylabel(\"Mean Return on Investment ($)\")\n",
    "ax.set_xlabel(\"Month\");"
   ]
  },
  {
   "cell_type": "code",
   "execution_count": 64,
   "id": "aa91df32",
   "metadata": {},
   "outputs": [
    {
     "data": {
      "image/png": "[encoded data removed]",
      "text/plain": [
       "<Figure size 720x432 with 1 Axes>"
      ]
     },
     "metadata": {
      "needs_background": "light"
     },
     "output_type": "display_data"
    }
   ],
   "source": [
    "new_gf1_Horror_Grouped = new_gf1_Horror.groupby([\"release_month\"], as_index=False).mean()\n",
    "new_gf1_Horror_Grouped = new_gf1_Horror_Grouped.set_index(\"release_month\")\n",
    "\n",
    "height = new_gf1_Horror_Grouped['ROI']\n",
    "x = range(12)\n",
    "labels = new_gf1_Horror_Grouped.index\n",
    "\n",
    "fig, ax = plt.subplots(figsize=(10, 6))\n",
    "\n",
    "ax.bar(x, height, tick_label=labels, color = \"green\")\n",
    "\n",
    "ax.set_title(\"Mean ROI By Month for Horror Movies (1990-2020)\")\n",
    "ax.set_ylabel(\"Mean Return on Investment ($)\")\n",
    "ax.set_xlabel(\"Month\");"
   ]
  },
  {
   "cell_type": "code",
   "execution_count": 66,
   "id": "100769b1",
   "metadata": {},
   "outputs": [
    {
     "name": "stderr",
     "output_type": "stream",
     "text": [
      "<ipython-input-66-c806da833e7f>:1: SettingWithCopyWarning: \n",
      "A value is trying to be set on a copy of a slice from a DataFrame.\n",
      "Try using .loc[row_indexer,col_indexer] = value instead\n",
      "\n",
      "See the caveats in the documentation: https://pandas.pydata.org/pandas-docs/stable/user_guide/indexing.html#returning-a-view-versus-a-copy\n",
      "  new_gf1_Horror['converted'] = pd.to_datetime(pd.Series(new_gf1_Horror[\"release_date\"]))\n",
      "<ipython-input-66-c806da833e7f>:2: SettingWithCopyWarning: \n",
      "A value is trying to be set on a copy of a slice from a DataFrame.\n",
      "Try using .loc[row_indexer,col_indexer] = value instead\n",
      "\n",
      "See the caveats in the documentation: https://pandas.pydata.org/pandas-docs/stable/user_guide/indexing.html#returning-a-view-versus-a-copy\n",
      "  new_gf1_Horror[\"day of the week\"] = new_gf1_Horror[\"converted\"].dt.day_name()\n"
     ]
    },
    {
     "data": {
      "image/png": "[encoded data removed]",
      "text/plain": [
       "<Figure size 936x432 with 1 Axes>"
      ]
     },
     "metadata": {
      "needs_background": "light"
     },
     "output_type": "display_data"
    }
   ],
   "source": [
    "new_gf1_Horror['converted'] = pd.to_datetime(pd.Series(new_gf1_Horror[\"release_date\"]))\n",
    "new_gf1_Horror[\"day of the week\"] = new_gf1_Horror[\"converted\"].dt.day_name()\n",
    "new_gf1_Horror_WeekName = new_gf1_Horror.groupby(\"day of the week\").sum()\n",
    "new_gf1_Horror_WeekName = new_gf1_Horror_WeekName.sort_values(\"ROI\", ascending=False)\n",
    "\n",
    "height = new_gf1_Horror_WeekName['ROI']\n",
    "x = range(4)\n",
    "labels = new_gf1_Horror_WeekName.index\n",
    "\n",
    "fig, ax = plt.subplots(figsize=(13, 6))\n",
    "\n",
    "ax.bar(x, height, tick_label=labels, color = \"green\")\n",
    "\n",
    "ax.set_title(\"Mean ROI by Day of the Week Release Date for Horror Movies (1990-2020)\")\n",
    "ax.set_ylabel(\"Mean ROI ($)\")\n",
    "ax.set_xlabel(\"Day of the Week\");"
   ]
  },
  {
   "cell_type": "code",
   "execution_count": 72,
   "id": "df61247f",
   "metadata": {},
   "outputs": [
    {
     "data": {
      "image/png": "[encoded data removed]",
      "text/plain": [
       "<Figure size 720x432 with 1 Axes>"
      ]
     },
     "metadata": {
      "needs_background": "light"
     },
     "output_type": "display_data"
    }
   ],
   "source": [
    "new_gf1_Mystery_Grouped = new_gf1_Mystery.groupby([\"release_month\"], as_index=False).mean()\n",
    "new_gf1_Mystery_Grouped = new_gf1_Mystery_Grouped.set_index(\"release_month\")\n",
    "\n",
    "height = new_gf1_Mystery_Grouped['ROI']\n",
    "x = range(11)\n",
    "labels = new_gf1_Mystery_Grouped.index\n",
    "\n",
    "fig, ax = plt.subplots(figsize=(10, 6))\n",
    "\n",
    "ax.bar(x, height, tick_label=labels, color = \"green\")\n",
    "\n",
    "ax.set_title(\"Mean ROI By Month for Mystery Movies (1990-2020)\")\n",
    "ax.set_ylabel(\"Mean Return on Investment ($)\")\n",
    "ax.set_xlabel(\"Month\");"
   ]
  },
  {
   "cell_type": "code",
   "execution_count": 100,
   "id": "2d983e2f",
   "metadata": {},
   "outputs": [
    {
     "name": "stderr",
     "output_type": "stream",
     "text": [
      "<ipython-input-100-8fd560e9f78b>:1: SettingWithCopyWarning: \n",
      "A value is trying to be set on a copy of a slice from a DataFrame.\n",
      "Try using .loc[row_indexer,col_indexer] = value instead\n",
      "\n",
      "See the caveats in the documentation: https://pandas.pydata.org/pandas-docs/stable/user_guide/indexing.html#returning-a-view-versus-a-copy\n",
      "  new_gf1_Mystery['converted'] = pd.to_datetime(pd.Series(new_gf1_Mystery[\"release_date\"]))\n",
      "<ipython-input-100-8fd560e9f78b>:2: SettingWithCopyWarning: \n",
      "A value is trying to be set on a copy of a slice from a DataFrame.\n",
      "Try using .loc[row_indexer,col_indexer] = value instead\n",
      "\n",
      "See the caveats in the documentation: https://pandas.pydata.org/pandas-docs/stable/user_guide/indexing.html#returning-a-view-versus-a-copy\n",
      "  new_gf1_Mystery[\"day of the week\"] = new_gf1_Mystery[\"converted\"].dt.day_name()\n"
     ]
    },
    {
     "data": {
      "image/png": "[encoded data removed]",
      "text/plain": [
       "<Figure size 936x432 with 1 Axes>"
      ]
     },
     "metadata": {
      "needs_background": "light"
     },
     "output_type": "display_data"
    }
   ],
   "source": [
    "new_gf1_Mystery['converted'] = pd.to_datetime(pd.Series(new_gf1_Mystery[\"release_date\"]))\n",
    "new_gf1_Mystery[\"day of the week\"] = new_gf1_Mystery[\"converted\"].dt.day_name()\n",
    "new_gf1_Mystery_WeekName = new_gf1_Mystery.groupby(\"day of the week\").sum()\n",
    "new_gf1_Mystery_WeekName = new_gf1_Mystery_WeekName.sort_values(\"ROI\", ascending=False)\n",
    "\n",
    "height = new_gf1_Mystery_WeekName['ROI']\n",
    "x = range(3)\n",
    "labels = new_gf1_Mystery_WeekName.index\n",
    "\n",
    "fig, ax = plt.subplots(figsize=(13, 6))\n",
    "\n",
    "ax.bar(x, height, tick_label=labels, color = \"green\")\n",
    "\n",
    "ax.set_title(\"Mean ROI by Day of the Week Release Date for Mystery Movies (1990-2020)\")\n",
    "ax.set_ylabel(\"Mean ROI ($)\")\n",
    "ax.set_xlabel(\"Day of the Week\");"
   ]
  },
  {
   "cell_type": "code",
   "execution_count": 97,
   "id": "ed675786",
   "metadata": {},
   "outputs": [
    {
     "data": {
      "image/png": "[encoded data removed]",
      "text/plain": [
       "<Figure size 720x432 with 1 Axes>"
      ]
     },
     "metadata": {
      "needs_background": "light"
     },
     "output_type": "display_data"
    }
   ],
   "source": [
    "new_gf1_Thriller_Grouped = new_gf1_Thriller.groupby([\"release_month\"], as_index=False).mean()\n",
    "new_gf1_Thriller_Grouped = new_gf1_Thriller_Grouped.set_index(\"release_month\")\n",
    "\n",
    "height = new_gf1_Thriller_Grouped['ROI']\n",
    "x = range(12)\n",
    "labels = new_gf1_Thriller_Grouped.index\n",
    "\n",
    "fig, ax = plt.subplots(figsize=(10, 6))\n",
    "\n",
    "ax.bar(x, height, tick_label=labels, color = \"green\")\n",
    "\n",
    "ax.set_title(\"Mean ROI By Month for Thriller Movies (1990-2020)\")\n",
    "ax.set_ylabel(\"Mean Return on Investment ($)\")\n",
    "ax.set_xlabel(\"Month\");"
   ]
  },
  {
   "cell_type": "code",
   "execution_count": 82,
   "id": "acf107c0",
   "metadata": {},
   "outputs": [
    {
     "name": "stderr",
     "output_type": "stream",
     "text": [
      "<ipython-input-82-3ae4ec0b3486>:1: SettingWithCopyWarning: \n",
      "A value is trying to be set on a copy of a slice from a DataFrame.\n",
      "Try using .loc[row_indexer,col_indexer] = value instead\n",
      "\n",
      "See the caveats in the documentation: https://pandas.pydata.org/pandas-docs/stable/user_guide/indexing.html#returning-a-view-versus-a-copy\n",
      "  new_gf1_Thriller['converted'] = pd.to_datetime(pd.Series(new_gf1_Thriller[\"release_date\"]))\n",
      "<ipython-input-82-3ae4ec0b3486>:2: SettingWithCopyWarning: \n",
      "A value is trying to be set on a copy of a slice from a DataFrame.\n",
      "Try using .loc[row_indexer,col_indexer] = value instead\n",
      "\n",
      "See the caveats in the documentation: https://pandas.pydata.org/pandas-docs/stable/user_guide/indexing.html#returning-a-view-versus-a-copy\n",
      "  new_gf1_Thriller[\"day of the week\"] = new_gf1_Thriller[\"converted\"].dt.day_name()\n"
     ]
    },
    {
     "data": {
      "image/png": "[encoded data removed]",
      "text/plain": [
       "<Figure size 936x432 with 1 Axes>"
      ]
     },
     "metadata": {
      "needs_background": "light"
     },
     "output_type": "display_data"
    }
   ],
   "source": [
    "new_gf1_Thriller['converted'] = pd.to_datetime(pd.Series(new_gf1_Thriller[\"release_date\"]))\n",
    "new_gf1_Thriller[\"day of the week\"] = new_gf1_Thriller[\"converted\"].dt.day_name()\n",
    "new_gf1_Thriller_WeekName = new_gf1_Thriller.groupby(\"day of the week\").sum()\n",
    "new_gf1_Thriller_WeekName = new_gf1_Thriller_WeekName.sort_values(\"ROI\", ascending=False)\n",
    "\n",
    "height = new_gf1_Thriller_WeekName['ROI']\n",
    "x = range(3)\n",
    "labels = new_gf1_Thriller_WeekName.index\n",
    "\n",
    "fig, ax = plt.subplots(figsize=(13, 6))\n",
    "\n",
    "ax.bar(x, height, tick_label=labels, color = \"green\")\n",
    "\n",
    "ax.set_title(\"Mean ROI by Day of the Week Release Date for Thriller Movies (1990-2020)\")\n",
    "ax.set_ylabel(\"Mean ROI ($)\")\n",
    "ax.set_xlabel(\"Day of the Week\");"
   ]
  },
  {
   "cell_type": "code",
   "execution_count": 95,
   "id": "7e706ee5",
   "metadata": {},
   "outputs": [
    {
     "data": {
      "image/png": "[encoded data removed]",
      "text/plain": [
       "<Figure size 720x432 with 1 Axes>"
      ]
     },
     "metadata": {
      "needs_background": "light"
     },
     "output_type": "display_data"
    }
   ],
   "source": [
    "new_gf1_Music_Grouped = new_gf1_Music.groupby([\"release_month\"], as_index=False).mean()\n",
    "new_gf1_Music_Grouped = new_gf1_Music_Grouped.set_index(\"release_month\")\n",
    "\n",
    "height = new_gf1_Music_Grouped['ROI']\n",
    "x = range(7)\n",
    "labels = new_gf1_Music_Grouped.index\n",
    "\n",
    "fig, ax = plt.subplots(figsize=(10, 6))\n",
    "\n",
    "ax.bar(x, height, tick_label=labels, color = \"green\")\n",
    "\n",
    "ax.set_title(\"Mean ROI By Month for Music Movies (1990-2020)\")\n",
    "ax.set_ylabel(\"Mean Return on Investment ($)\")\n",
    "ax.set_xlabel(\"Month\");"
   ]
  },
  {
   "cell_type": "code",
   "execution_count": 86,
   "id": "e7d0124c",
   "metadata": {},
   "outputs": [
    {
     "name": "stderr",
     "output_type": "stream",
     "text": [
      "<ipython-input-86-b23c28f3aff9>:1: SettingWithCopyWarning: \n",
      "A value is trying to be set on a copy of a slice from a DataFrame.\n",
      "Try using .loc[row_indexer,col_indexer] = value instead\n",
      "\n",
      "See the caveats in the documentation: https://pandas.pydata.org/pandas-docs/stable/user_guide/indexing.html#returning-a-view-versus-a-copy\n",
      "  new_gf1_Music['converted'] = pd.to_datetime(pd.Series(new_gf1_Music[\"release_date\"]))\n",
      "<ipython-input-86-b23c28f3aff9>:2: SettingWithCopyWarning: \n",
      "A value is trying to be set on a copy of a slice from a DataFrame.\n",
      "Try using .loc[row_indexer,col_indexer] = value instead\n",
      "\n",
      "See the caveats in the documentation: https://pandas.pydata.org/pandas-docs/stable/user_guide/indexing.html#returning-a-view-versus-a-copy\n",
      "  new_gf1_Music[\"day of the week\"] = new_gf1_Music[\"converted\"].dt.day_name()\n"
     ]
    },
    {
     "data": {
      "image/png": "[encoded data removed]",
      "text/plain": [
       "<Figure size 936x432 with 1 Axes>"
      ]
     },
     "metadata": {
      "needs_background": "light"
     },
     "output_type": "display_data"
    }
   ],
   "source": [
    "new_gf1_Music['converted'] = pd.to_datetime(pd.Series(new_gf1_Music[\"release_date\"]))\n",
    "new_gf1_Music[\"day of the week\"] = new_gf1_Music[\"converted\"].dt.day_name()\n",
    "new_gf1_Music_WeekName = new_gf1_Music.groupby(\"day of the week\").sum()\n",
    "new_gf1_Music_WeekName = new_gf1_Music_WeekName.sort_values(\"ROI\", ascending=False)\n",
    "\n",
    "height = new_gf1_Music_WeekName['ROI']\n",
    "x = range(3)\n",
    "labels = new_gf1_Music_WeekName.index\n",
    "\n",
    "fig, ax = plt.subplots(figsize=(13, 6))\n",
    "\n",
    "ax.bar(x, height, tick_label=labels, color = \"green\")\n",
    "\n",
    "ax.set_title(\"Mean ROI by Day of the Week Release Date for Music Movies (1990-2020)\")\n",
    "ax.set_ylabel(\"Mean ROI ($)\")\n",
    "ax.set_xlabel(\"Day of the Week\");"
   ]
  },
  {
   "cell_type": "code",
   "execution_count": 93,
   "id": "348c211e",
   "metadata": {},
   "outputs": [
    {
     "data": {
      "image/png": "[encoded data removed]",
      "text/plain": [
       "<Figure size 720x432 with 1 Axes>"
      ]
     },
     "metadata": {
      "needs_background": "light"
     },
     "output_type": "display_data"
    }
   ],
   "source": [
    "new_gf1_Sci_Fi_Grouped = new_gf1_Sci_Fi.groupby([\"release_month\"], as_index=False).mean()\n",
    "new_gf1_Sci_Fi_Grouped = new_gf1_Sci_Fi_Grouped.set_index(\"release_month\")\n",
    "\n",
    "height = new_gf1_Sci_Fi_Grouped['ROI']\n",
    "x = range(11)\n",
    "labels = new_gf1_Sci_Fi_Grouped.index\n",
    "\n",
    "fig, ax = plt.subplots(figsize=(10, 6))\n",
    "\n",
    "ax.bar(x, height, tick_label=labels, color = \"green\")\n",
    "\n",
    "ax.set_title(\"Mean ROI By Month for Sci-Fi Movies (1990-2020)\")\n",
    "ax.set_ylabel(\"Mean Return on Investment ($)\")\n",
    "ax.set_xlabel(\"Month\");"
   ]
  },
  {
   "cell_type": "code",
   "execution_count": 88,
   "id": "fb9b87c1",
   "metadata": {},
   "outputs": [
    {
     "name": "stderr",
     "output_type": "stream",
     "text": [
      "<ipython-input-88-c67617faacd6>:1: SettingWithCopyWarning: \n",
      "A value is trying to be set on a copy of a slice from a DataFrame.\n",
      "Try using .loc[row_indexer,col_indexer] = value instead\n",
      "\n",
      "See the caveats in the documentation: https://pandas.pydata.org/pandas-docs/stable/user_guide/indexing.html#returning-a-view-versus-a-copy\n",
      "  new_gf1_Sci_Fi['converted'] = pd.to_datetime(pd.Series(new_gf1_Sci_Fi[\"release_date\"]))\n",
      "<ipython-input-88-c67617faacd6>:2: SettingWithCopyWarning: \n",
      "A value is trying to be set on a copy of a slice from a DataFrame.\n",
      "Try using .loc[row_indexer,col_indexer] = value instead\n",
      "\n",
      "See the caveats in the documentation: https://pandas.pydata.org/pandas-docs/stable/user_guide/indexing.html#returning-a-view-versus-a-copy\n",
      "  new_gf1_Sci_Fi[\"day of the week\"] = new_gf1_Sci_Fi[\"converted\"].dt.day_name()\n"
     ]
    },
    {
     "data": {
      "image/png": "[encoded data removed]",
      "text/plain": [
       "<Figure size 936x432 with 1 Axes>"
      ]
     },
     "metadata": {
      "needs_background": "light"
     },
     "output_type": "display_data"
    }
   ],
   "source": [
    "new_gf1_Sci_Fi['converted'] = pd.to_datetime(pd.Series(new_gf1_Sci_Fi[\"release_date\"]))\n",
    "new_gf1_Sci_Fi[\"day of the week\"] = new_gf1_Sci_Fi[\"converted\"].dt.day_name()\n",
    "new_gf1_Sci_Fi_WeekName = new_gf1_Sci_Fi.groupby(\"day of the week\").sum()\n",
    "new_gf1_Sci_Fi_WeekName = new_gf1_Sci_Fi_WeekName.sort_values(\"ROI\", ascending=False)\n",
    "\n",
    "height = new_gf1_Sci_Fi_WeekName['ROI']\n",
    "x = range(3)\n",
    "labels = new_gf1_Sci_Fi_WeekName.index\n",
    "\n",
    "fig, ax = plt.subplots(figsize=(13, 6))\n",
    "\n",
    "ax.bar(x, height, tick_label=labels, color = \"green\")\n",
    "\n",
    "ax.set_title(\"Mean ROI by Day of the Week Release Date for Sci_Fi Movies (1990-2020)\")\n",
    "ax.set_ylabel(\"Mean ROI ($)\")\n",
    "ax.set_xlabel(\"Day of the Week\");"
   ]
  },
  {
   "cell_type": "markdown",
   "id": "e827c5e7",
   "metadata": {},
   "source": [
    "# old codes--ignore"
   ]
  },
  {
   "cell_type": "code",
   "execution_count": null,
   "id": "bf6904e4",
   "metadata": {},
   "outputs": [],
   "source": [
    "data1['production_budget'] = [row.replace('$','') for row in data1['production_budget']]\n",
    "data1['production_budget'] = [row.replace(',','') for row in data1['production_budget']]\n",
    "\n",
    "data1['domestic_gross'] = [row.replace('$','') for row in data1['domestic_gross']]\n",
    "data1['domestic_gross'] = [row.replace(',','') for row in data1['domestic_gross']]\n",
    "\n",
    "data1['worldwide_gross'] = [row.replace('$','') for row in data1['worldwide_gross']]\n",
    "data1['worldwide_gross'] = [row.replace(',','') for row in data1['worldwide_gross']]\n",
    "\n",
    "\n",
    "\n",
    "\n",
    "data1['domestic_gross'] = [int(row) for row in data1['domestic_gross']]\n",
    "data1['production_budget'] = [int(row) for row in data1['production_budget']]\n",
    "data1['worldwide_gross'] = [int(row) for row in data1['worldwide_gross']]\n",
    "\n",
    "data1['revenue'] = data1['domestic_gross']- data1['production_budget']"
   ]
  },
  {
   "cell_type": "code",
   "execution_count": null,
   "id": "531d8892",
   "metadata": {},
   "outputs": [],
   "source": [
    "#for the purpose of graphing, edited each month with numeric values in the beginning \n",
    "data1[\"release_month\"] = data1[\"release_month\"].str.replace(\"Jan\", \"01 Jan\")\n",
    "data1[\"release_month\"] = data1[\"release_month\"].str.replace(\"Feb\", \"02 Feb\")\n",
    "data1[\"release_month\"] = data1[\"release_month\"].str.replace(\"Mar\", \"03 Mar\")\n",
    "data1[\"release_month\"] = data1[\"release_month\"].str.replace(\"Apr\", \"04 Apr\")\n",
    "data1[\"release_month\"] = data1[\"release_month\"].str.replace(\"May\", \"05 May\")\n",
    "data1[\"release_month\"] = data1[\"release_month\"].str.replace(\"Jun\", \"06 Jun\")\n",
    "data1[\"release_month\"] = data1[\"release_month\"].str.replace(\"Jul\", \"07 Jul\")\n",
    "data1[\"release_month\"] = data1[\"release_month\"].str.replace(\"Aug\", \"08 Aug\")\n",
    "data1[\"release_month\"] = data1[\"release_month\"].str.replace(\"Sep\", \"09 Sep\")\n",
    "data1[\"release_month\"] = data1[\"release_month\"].str.replace(\"Oct\", \"10 Oct\")\n",
    "data1[\"release_month\"] = data1[\"release_month\"].str.replace(\"Nov\", \"11 Nov\")\n",
    "data1[\"release_month\"] = data1[\"release_month\"].str.replace(\"Dec\", \"12 Dec\")\n",
    "data1.shape"
   ]
  },
  {
   "cell_type": "code",
   "execution_count": null,
   "id": "11c79d94",
   "metadata": {},
   "outputs": [],
   "source": [
    "data1 = data1[data1.worldwide_gross != 0]\n",
    "data1.shape"
   ]
  },
  {
   "cell_type": "code",
   "execution_count": null,
   "id": "0b5a17ee",
   "metadata": {},
   "outputs": [],
   "source": [
    "#data1 = data1[data1.domestic_gross != 0]\n",
    "#data1.shape"
   ]
  },
  {
   "cell_type": "code",
   "execution_count": null,
   "id": "2e29617c",
   "metadata": {},
   "outputs": [],
   "source": [
    "#data1 = data1[data1.production_budget != 0]\n",
    "#data1.shape"
   ]
  },
  {
   "cell_type": "code",
   "execution_count": null,
   "id": "dea2d037",
   "metadata": {},
   "outputs": [],
   "source": [
    "data1 = data1[data1.release_year != 2020]\n",
    "data1\n",
    "#data1[\"release_year\"].unique()"
   ]
  },
  {
   "cell_type": "code",
   "execution_count": null,
   "id": "fabc582d",
   "metadata": {},
   "outputs": [],
   "source": [
    "#group the dataset by month for the entire dataset\n",
    "grouped_by_month = data1.groupby([\"release_month\"]).sum()\n",
    "grouped_by_month"
   ]
  },
  {
   "cell_type": "code",
   "execution_count": null,
   "id": "9ed63d06",
   "metadata": {},
   "outputs": [],
   "source": [
    "grouped_by_year = data1.groupby([\"release_year\"]).sum()\n",
    "grouped_by_year.shape"
   ]
  },
  {
   "cell_type": "code",
   "execution_count": null,
   "id": "90fd0e02",
   "metadata": {},
   "outputs": [],
   "source": [
    "height = grouped_by_year['revenue']\n",
    "x = range(159)\n",
    "labels = grouped_by_year.index\n",
    "\n",
    "fig, ax = plt.subplots(figsize=(15, 8))\n",
    "\n",
    "ax.bar(x, height, tick_label=labels, color = \"green\")\n",
    "\n",
    "ax.set_title(\"Revenue by Year (1915-2020)\")\n",
    "ax.set_ylabel(\"Revenue ($)\")\n",
    "ax.set_xlabel(\"Year\");"
   ]
  },
  {
   "cell_type": "code",
   "execution_count": null,
   "id": "5ce543fe",
   "metadata": {
    "scrolled": true
   },
   "outputs": [],
   "source": [
    "#an overview of revenue by month from 1915-2020\n",
    "\n",
    "height = grouped_by_month['revenue']\n",
    "x = range(12)\n",
    "labels = grouped_by_month.index\n",
    "\n",
    "fig, ax = plt.subplots(figsize=(10, 5))\n",
    "\n",
    "ax.bar(x, height, tick_label=labels, color = \"green\")\n",
    "\n",
    "ax.set_title(\"Revenue by Month (1915-2020)\")\n",
    "ax.set_ylabel(\"Revenue ($)\")\n",
    "ax.set_xlabel(\"Month\");"
   ]
  },
  {
   "cell_type": "code",
   "execution_count": null,
   "id": "fdc16935",
   "metadata": {},
   "outputs": [],
   "source": [
    "data1_2019 = data1[data1[\"release_year\"] == \"2019\"]\n",
    "data1_2019 = data1_2019.drop(\"id\", axis=1)\n",
    "data1_2019 = data1_2019.groupby(\"release_month\").sum()\n",
    "data1_2019.shape\n",
    "#data1_2019[\"release_month\"].unique()\n",
    "#data1_2019.set_index(\"release_month\")\n",
    "#data1_2019.groupby(\"release_month\").sum()"
   ]
  },
  {
   "cell_type": "code",
   "execution_count": null,
   "id": "4b73135d",
   "metadata": {},
   "outputs": [],
   "source": [
    "height = data1_2019['revenue']\n",
    "x = range(5)\n",
    "labels = data1_2019.index\n",
    "\n",
    "fig, ax = plt.subplots(figsize=(13, 6))\n",
    "\n",
    "ax.bar(x, height, tick_label=labels, color = \"green\")\n",
    "\n",
    "ax.set_title(\"Revenue by Month (2019)\")\n",
    "ax.set_ylabel(\"Revenue ($)\")\n",
    "ax.set_xlabel(\"Month\");"
   ]
  },
  {
   "cell_type": "code",
   "execution_count": null,
   "id": "00429baa",
   "metadata": {},
   "outputs": [],
   "source": [
    "data1_2018 = data1[data1[\"release_year\"] == \"2018\"]\n",
    "data1_2018 = data1_2018.drop(\"id\", axis=1)\n",
    "data1_2018 = data1_2018.groupby(\"release_month\").sum()\n",
    "data1_2018\n",
    "#data1_2018[\"release_month\"].unique()\n",
    "#data1_2018.set_index(\"release_month\")\n",
    "#data1_2018.groupby(\"release_month\").sum()"
   ]
  },
  {
   "cell_type": "code",
   "execution_count": null,
   "id": "3ff50530",
   "metadata": {},
   "outputs": [],
   "source": [
    "height = data1_2018['revenue']\n",
    "x = range(12)\n",
    "labels = data1_2018.index\n",
    "\n",
    "fig, ax = plt.subplots(figsize=(13, 6))\n",
    "\n",
    "ax.bar(x, height, tick_label=labels, color = \"green\")\n",
    "\n",
    "ax.set_title(\"Revenue by Month (2018)\")\n",
    "ax.set_ylabel(\"Revenue ($)\")\n",
    "ax.set_xlabel(\"Month\");"
   ]
  },
  {
   "cell_type": "code",
   "execution_count": null,
   "id": "5efc0241",
   "metadata": {},
   "outputs": [],
   "source": [
    "data1_2017 = data1[data1[\"release_year\"] == \"2017\"]\n",
    "data1_2017 = data1_2017.drop(\"id\", axis=1)\n",
    "data1_2017 = data1_2017.groupby(\"release_month\").sum()\n",
    "data1_2017\n",
    "#data1_2017[\"release_month\"].unique()\n",
    "#data1_2017.set_index(\"release_month\")\n",
    "#data1_2017.groupby(\"release_month\").sum()"
   ]
  },
  {
   "cell_type": "code",
   "execution_count": null,
   "id": "c7061cdb",
   "metadata": {},
   "outputs": [],
   "source": [
    "height = data1_2017['revenue']\n",
    "x = range(12)\n",
    "labels = data1_2017.index\n",
    "\n",
    "fig, ax = plt.subplots(figsize=(13, 6))\n",
    "\n",
    "ax.bar(x, height, tick_label=labels, color = \"green\")\n",
    "\n",
    "ax.set_title(\"Revenue by Month (2017)\")\n",
    "ax.set_ylabel(\"Revenue ($)\")\n",
    "ax.set_xlabel(\"Month\");"
   ]
  },
  {
   "cell_type": "code",
   "execution_count": null,
   "id": "623f40bf",
   "metadata": {},
   "outputs": [],
   "source": [
    "for x in data1[\"release_month\"]:\n",
    "    if x == \"Dec\":\n",
    "        data1[\"release_month_new\"] == \"12 Dec\""
   ]
  },
  {
   "cell_type": "code",
   "execution_count": null,
   "id": "0a1f6e42",
   "metadata": {},
   "outputs": [],
   "source": [
    "for x in data1[\"release_month_new\"]:\n",
    "    if x == \"Jan\":\n",
    "        data1[\"release_month_new\"][x] == \"01 Jan\"\n",
    "    elif x == \"Feb\":\n",
    "        return \"02 Feb\"\n",
    "    elif x == \"Mar\":\n",
    "        return \"03 Mar\"\n",
    "    elif x == \"Apr\":\n",
    "        return \"04 Apr\"\n",
    "    elif x == \"May\":\n",
    "        return \"05 May\"\n",
    "    elif x == \"Jun\":\n",
    "        return \"06 Jun\"\n",
    "    elif x == \"Jul\":\n",
    "        return \"07 Jul\"\n",
    "    elif x == \"Aug\":\n",
    "        return \"08 Aug\"\n",
    "    elif x == \"Sep\":\n",
    "        return \"09 Sep\"\n",
    "    elif x == \"Oct\":\n",
    "        return \"10 Oct\"\n",
    "    elif x == \"Nov\":\n",
    "        return \"11 Nov\"\n",
    "    elif x == \"Dec\":\n",
    "        return \"12 Dec\""
   ]
  }
 ],
 "metadata": {
  "kernelspec": {
   "display_name": "Python 3",
   "language": "python",
   "name": "python3"
  },
  "language_info": {
   "codemirror_mode": {
    "name": "ipython",
    "version": 3
   },
   "file_extension": ".py",
   "mimetype": "text/x-python",
   "name": "python",
   "nbconvert_exporter": "python",
   "pygments_lexer": "ipython3",
   "version": "3.8.8"
  }
 },
 "nbformat": 4,
 "nbformat_minor": 5
}
