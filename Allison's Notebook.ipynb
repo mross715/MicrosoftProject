{
 "cells": [
  {
   "cell_type": "code",
   "execution_count": 2,
   "id": "b1173132",
   "metadata": {},
   "outputs": [],
   "source": [
    "import pandas as pd \n",
    "import numpy as np\n",
    "import matplotlib.pyplot as plt\n",
    "%matplotlib inline"
   ]
  },
  {
   "cell_type": "code",
   "execution_count": 3,
   "id": "84a92129",
   "metadata": {},
   "outputs": [],
   "source": [
    "#pd.options.display.max_rows = 6000\n",
    "#pd.options.display.max_columns = 6000"
   ]
  },
  {
   "cell_type": "code",
   "execution_count": 4,
   "id": "cfceefd2",
   "metadata": {},
   "outputs": [],
   "source": [
    "#data1 = pd.read_csv(\"./Data/tn.movie_budgets.csv.gz\")\n",
    "#data1.info()\n",
    "title_basics = pd.read_csv('./Data/imdb.title.basics.csv.gz')\n",
    "title_ratings = pd.read_csv(\"./Data/imdb.title.ratings.csv.gz\")\n",
    "movie_budgets = pd.read_csv('./Data/tn.movie_budgets.csv.gz')"
   ]
  },
  {
   "cell_type": "code",
   "execution_count": 5,
   "id": "6c09275c",
   "metadata": {},
   "outputs": [
    {
     "data": {
      "text/html": [
       "<div>\n",
       "<style scoped>\n",
       "    .dataframe tbody tr th:only-of-type {\n",
       "        vertical-align: middle;\n",
       "    }\n",
       "\n",
       "    .dataframe tbody tr th {\n",
       "        vertical-align: top;\n",
       "    }\n",
       "\n",
       "    .dataframe thead th {\n",
       "        text-align: right;\n",
       "    }\n",
       "</style>\n",
       "<table border=\"1\" class=\"dataframe\">\n",
       "  <thead>\n",
       "    <tr style=\"text-align: right;\">\n",
       "      <th></th>\n",
       "      <th>tconst</th>\n",
       "      <th>primary_title</th>\n",
       "      <th>original_title</th>\n",
       "      <th>start_year</th>\n",
       "      <th>runtime_minutes</th>\n",
       "      <th>genres</th>\n",
       "      <th>averagerating</th>\n",
       "      <th>numvotes</th>\n",
       "    </tr>\n",
       "  </thead>\n",
       "  <tbody>\n",
       "    <tr>\n",
       "      <th>0</th>\n",
       "      <td>tt0063540</td>\n",
       "      <td>Sunghursh</td>\n",
       "      <td>Sunghursh</td>\n",
       "      <td>2013</td>\n",
       "      <td>175.0</td>\n",
       "      <td>Action,Crime,Drama</td>\n",
       "      <td>7.0</td>\n",
       "      <td>77</td>\n",
       "    </tr>\n",
       "    <tr>\n",
       "      <th>1</th>\n",
       "      <td>tt0066787</td>\n",
       "      <td>One Day Before the Rainy Season</td>\n",
       "      <td>Ashad Ka Ek Din</td>\n",
       "      <td>2019</td>\n",
       "      <td>114.0</td>\n",
       "      <td>Biography,Drama</td>\n",
       "      <td>7.2</td>\n",
       "      <td>43</td>\n",
       "    </tr>\n",
       "    <tr>\n",
       "      <th>2</th>\n",
       "      <td>tt0069049</td>\n",
       "      <td>The Other Side of the Wind</td>\n",
       "      <td>The Other Side of the Wind</td>\n",
       "      <td>2018</td>\n",
       "      <td>122.0</td>\n",
       "      <td>Drama</td>\n",
       "      <td>6.9</td>\n",
       "      <td>4517</td>\n",
       "    </tr>\n",
       "    <tr>\n",
       "      <th>3</th>\n",
       "      <td>tt0069204</td>\n",
       "      <td>Sabse Bada Sukh</td>\n",
       "      <td>Sabse Bada Sukh</td>\n",
       "      <td>2018</td>\n",
       "      <td>NaN</td>\n",
       "      <td>Comedy,Drama</td>\n",
       "      <td>6.1</td>\n",
       "      <td>13</td>\n",
       "    </tr>\n",
       "    <tr>\n",
       "      <th>4</th>\n",
       "      <td>tt0100275</td>\n",
       "      <td>The Wandering Soap Opera</td>\n",
       "      <td>La Telenovela Errante</td>\n",
       "      <td>2017</td>\n",
       "      <td>80.0</td>\n",
       "      <td>Comedy,Drama,Fantasy</td>\n",
       "      <td>6.5</td>\n",
       "      <td>119</td>\n",
       "    </tr>\n",
       "  </tbody>\n",
       "</table>\n",
       "</div>"
      ],
      "text/plain": [
       "      tconst                    primary_title              original_title  \\\n",
       "0  tt0063540                        Sunghursh                   Sunghursh   \n",
       "1  tt0066787  One Day Before the Rainy Season             Ashad Ka Ek Din   \n",
       "2  tt0069049       The Other Side of the Wind  The Other Side of the Wind   \n",
       "3  tt0069204                  Sabse Bada Sukh             Sabse Bada Sukh   \n",
       "4  tt0100275         The Wandering Soap Opera       La Telenovela Errante   \n",
       "\n",
       "   start_year  runtime_minutes                genres  averagerating  numvotes  \n",
       "0        2013            175.0    Action,Crime,Drama            7.0        77  \n",
       "1        2019            114.0       Biography,Drama            7.2        43  \n",
       "2        2018            122.0                 Drama            6.9      4517  \n",
       "3        2018              NaN          Comedy,Drama            6.1        13  \n",
       "4        2017             80.0  Comedy,Drama,Fantasy            6.5       119  "
      ]
     },
     "execution_count": 5,
     "metadata": {},
     "output_type": "execute_result"
    }
   ],
   "source": [
    "imdb_data = pd.merge(title_basics, title_ratings, how = 'inner', on = 'tconst')\n",
    "imdb_data.head()"
   ]
  },
  {
   "cell_type": "code",
   "execution_count": 6,
   "id": "30a4fd52",
   "metadata": {},
   "outputs": [],
   "source": [
    "imdb_data = imdb_data.drop(columns='runtime_minutes')"
   ]
  },
  {
   "cell_type": "code",
   "execution_count": 7,
   "id": "1eec65ee",
   "metadata": {},
   "outputs": [],
   "source": [
    "imdb_data = imdb_data.dropna(subset=['genres'])"
   ]
  },
  {
   "cell_type": "code",
   "execution_count": 8,
   "id": "e25fbfa2",
   "metadata": {},
   "outputs": [],
   "source": [
    "imdb_data = imdb_data.rename(columns={'primary_title': 'movie'})"
   ]
  },
  {
   "cell_type": "code",
   "execution_count": 9,
   "id": "4cccb179",
   "metadata": {},
   "outputs": [],
   "source": [
    "mdf = pd.merge(imdb_data, movie_budgets, on=['movie'], how='inner')"
   ]
  },
  {
   "cell_type": "code",
   "execution_count": 10,
   "id": "b49cf22a",
   "metadata": {},
   "outputs": [],
   "source": [
    "mdf = mdf.drop_duplicates(subset=['movie'])"
   ]
  },
  {
   "cell_type": "code",
   "execution_count": 11,
   "id": "cf95aa3c",
   "metadata": {},
   "outputs": [],
   "source": [
    "mdf2 = mdf.copy()\n",
    "mdf2['production_budget'] = mdf2['production_budget'].map(lambda x: x.lstrip('$'))\n",
    "mdf2['domestic_gross'] = mdf2['domestic_gross'].map(lambda x: x.lstrip('$'))\n",
    "mdf2['worldwide_gross'] = mdf2['worldwide_gross'].map(lambda x: x.lstrip('$'))"
   ]
  },
  {
   "cell_type": "code",
   "execution_count": 12,
   "id": "b53730b2",
   "metadata": {},
   "outputs": [],
   "source": [
    "mdf2['production_budget']=mdf2['production_budget'].str.replace(',','')\n",
    "mdf2['domestic_gross']=mdf2['domestic_gross'].str.replace(',','')\n",
    "mdf2['worldwide_gross']=mdf2['worldwide_gross'].str.replace(',','')"
   ]
  },
  {
   "cell_type": "code",
   "execution_count": 13,
   "id": "1e2993a2",
   "metadata": {},
   "outputs": [],
   "source": [
    "mdf2 = mdf2.astype({'production_budget': 'int64'})\n",
    "mdf2 = mdf2.astype({'domestic_gross': 'int64'})\n",
    "mdf2 = mdf2.astype({'worldwide_gross': 'int64'})"
   ]
  },
  {
   "cell_type": "code",
   "execution_count": 14,
   "id": "d5786023",
   "metadata": {},
   "outputs": [],
   "source": [
    "mdf2 = mdf2[mdf2.worldwide_gross != 0]\n",
    "mdf2 = mdf2[mdf2.domestic_gross != 0]"
   ]
  },
  {
   "cell_type": "code",
   "execution_count": 15,
   "id": "149b6eb3",
   "metadata": {},
   "outputs": [],
   "source": [
    "mdf2['profit'] = mdf2['worldwide_gross'] - mdf2['production_budget']\n",
    "mdf2['ROI'] = (mdf2['profit'] / mdf2['production_budget']) * 100\n",
    "mdf2 = mdf2.round({'ROI': 2})"
   ]
  },
  {
   "cell_type": "code",
   "execution_count": 16,
   "id": "354dd35b",
   "metadata": {},
   "outputs": [],
   "source": [
    "mdf2[\"release_year\"]= [x[7:] for x in mdf2[\"release_date\"]]\n",
    "mdf2[\"release_month\"]= [x[:4] for x in mdf2[\"release_date\"]]"
   ]
  },
  {
   "cell_type": "code",
   "execution_count": 17,
   "id": "b6e7befd",
   "metadata": {},
   "outputs": [],
   "source": [
    "#for the purpose of graphing, edited each month with numeric values in the beginning \n",
    "mdf2[\"release_month\"] = mdf2[\"release_month\"].str.replace(\"Jan\", \"01 Jan\")\n",
    "mdf2[\"release_month\"] = mdf2[\"release_month\"].str.replace(\"Feb\", \"02 Feb\")\n",
    "mdf2[\"release_month\"] = mdf2[\"release_month\"].str.replace(\"Mar\", \"03 Mar\")\n",
    "mdf2[\"release_month\"] = mdf2[\"release_month\"].str.replace(\"Apr\", \"04 Apr\")\n",
    "mdf2[\"release_month\"] = mdf2[\"release_month\"].str.replace(\"May\", \"05 May\")\n",
    "mdf2[\"release_month\"] = mdf2[\"release_month\"].str.replace(\"Jun\", \"06 Jun\")\n",
    "mdf2[\"release_month\"] = mdf2[\"release_month\"].str.replace(\"Jul\", \"07 Jul\")\n",
    "mdf2[\"release_month\"] = mdf2[\"release_month\"].str.replace(\"Aug\", \"08 Aug\")\n",
    "mdf2[\"release_month\"] = mdf2[\"release_month\"].str.replace(\"Sep\", \"09 Sep\")\n",
    "mdf2[\"release_month\"] = mdf2[\"release_month\"].str.replace(\"Oct\", \"10 Oct\")\n",
    "mdf2[\"release_month\"] = mdf2[\"release_month\"].str.replace(\"Nov\", \"11 Nov\")\n",
    "mdf2[\"release_month\"] = mdf2[\"release_month\"].str.replace(\"Dec\", \"12 Dec\")"
   ]
  },
  {
   "cell_type": "code",
   "execution_count": 18,
   "id": "ef23eb23",
   "metadata": {},
   "outputs": [],
   "source": [
    "mdf2=mdf2.loc[mdf2['release_year'] >= '1990']"
   ]
  },
  {
   "cell_type": "code",
   "execution_count": 19,
   "id": "6af133af",
   "metadata": {},
   "outputs": [],
   "source": [
    "gf = mdf2[['movie', 'genres', 'production_budget', 'domestic_gross', 'worldwide_gross', 'profit', 'ROI', \"release_month\", 'release_year', \"release_date\"]]"
   ]
  },
  {
   "cell_type": "code",
   "execution_count": 20,
   "id": "09676ffc",
   "metadata": {},
   "outputs": [
    {
     "name": "stderr",
     "output_type": "stream",
     "text": [
      "<ipython-input-20-970854c872a4>:1: SettingWithCopyWarning: \n",
      "A value is trying to be set on a copy of a slice from a DataFrame.\n",
      "Try using .loc[row_indexer,col_indexer] = value instead\n",
      "\n",
      "See the caveats in the documentation: https://pandas.pydata.org/pandas-docs/stable/user_guide/indexing.html#returning-a-view-versus-a-copy\n",
      "  gf['genres'] = gf['genres'].str.split(',')\n"
     ]
    }
   ],
   "source": [
    "gf['genres'] = gf['genres'].str.split(',')"
   ]
  },
  {
   "cell_type": "code",
   "execution_count": 21,
   "id": "4a85a4d0",
   "metadata": {},
   "outputs": [],
   "source": [
    "gf = gf.explode('genres')"
   ]
  },
  {
   "cell_type": "code",
   "execution_count": 22,
   "id": "e9824305",
   "metadata": {},
   "outputs": [
    {
     "data": {
      "text/html": [
       "<div>\n",
       "<style scoped>\n",
       "    .dataframe tbody tr th:only-of-type {\n",
       "        vertical-align: middle;\n",
       "    }\n",
       "\n",
       "    .dataframe tbody tr th {\n",
       "        vertical-align: top;\n",
       "    }\n",
       "\n",
       "    .dataframe thead th {\n",
       "        text-align: right;\n",
       "    }\n",
       "</style>\n",
       "<table border=\"1\" class=\"dataframe\">\n",
       "  <thead>\n",
       "    <tr style=\"text-align: right;\">\n",
       "      <th></th>\n",
       "      <th>ROI</th>\n",
       "      <th>profit</th>\n",
       "    </tr>\n",
       "    <tr>\n",
       "      <th>release_month</th>\n",
       "      <th></th>\n",
       "      <th></th>\n",
       "    </tr>\n",
       "  </thead>\n",
       "  <tbody>\n",
       "    <tr>\n",
       "      <th>01 Jan</th>\n",
       "      <td>789.917778</td>\n",
       "      <td>6.311481e+07</td>\n",
       "    </tr>\n",
       "    <tr>\n",
       "      <th>02 Feb</th>\n",
       "      <td>203.011897</td>\n",
       "      <td>5.668419e+07</td>\n",
       "    </tr>\n",
       "    <tr>\n",
       "      <th>03 Mar</th>\n",
       "      <td>163.690577</td>\n",
       "      <td>1.282468e+08</td>\n",
       "    </tr>\n",
       "    <tr>\n",
       "      <th>04 Apr</th>\n",
       "      <td>325.500165</td>\n",
       "      <td>9.187122e+07</td>\n",
       "    </tr>\n",
       "    <tr>\n",
       "      <th>05 May</th>\n",
       "      <td>176.869518</td>\n",
       "      <td>2.218598e+08</td>\n",
       "    </tr>\n",
       "    <tr>\n",
       "      <th>06 Jun</th>\n",
       "      <td>225.226283</td>\n",
       "      <td>7.950890e+07</td>\n",
       "    </tr>\n",
       "    <tr>\n",
       "      <th>07 Jul</th>\n",
       "      <td>460.432500</td>\n",
       "      <td>1.695145e+08</td>\n",
       "    </tr>\n",
       "    <tr>\n",
       "      <th>08 Aug</th>\n",
       "      <td>187.404316</td>\n",
       "      <td>1.092791e+08</td>\n",
       "    </tr>\n",
       "    <tr>\n",
       "      <th>09 Sep</th>\n",
       "      <td>154.835233</td>\n",
       "      <td>3.376799e+07</td>\n",
       "    </tr>\n",
       "    <tr>\n",
       "      <th>10 Oct</th>\n",
       "      <td>234.434087</td>\n",
       "      <td>9.330648e+07</td>\n",
       "    </tr>\n",
       "    <tr>\n",
       "      <th>11 Nov</th>\n",
       "      <td>228.551667</td>\n",
       "      <td>1.710710e+08</td>\n",
       "    </tr>\n",
       "    <tr>\n",
       "      <th>12 Dec</th>\n",
       "      <td>256.133250</td>\n",
       "      <td>4.284211e+07</td>\n",
       "    </tr>\n",
       "  </tbody>\n",
       "</table>\n",
       "</div>"
      ],
      "text/plain": [
       "                      ROI        profit\n",
       "release_month                          \n",
       "01 Jan         789.917778  6.311481e+07\n",
       "02 Feb         203.011897  5.668419e+07\n",
       "03 Mar         163.690577  1.282468e+08\n",
       "04 Apr         325.500165  9.187122e+07\n",
       "05 May         176.869518  2.218598e+08\n",
       "06 Jun         225.226283  7.950890e+07\n",
       "07 Jul         460.432500  1.695145e+08\n",
       "08 Aug         187.404316  1.092791e+08\n",
       "09 Sep         154.835233  3.376799e+07\n",
       "10 Oct         234.434087  9.330648e+07\n",
       "11 Nov         228.551667  1.710710e+08\n",
       "12 Dec         256.133250  4.284211e+07"
      ]
     },
     "execution_count": 22,
     "metadata": {},
     "output_type": "execute_result"
    }
   ],
   "source": [
    "new_gf1 = gf[['movie', 'genres','ROI', \"profit\", 'release_year', \"release_month\", \"release_date\"]]\n",
    "mean_ROI_by_month = new_gf1.groupby(\"release_month\").mean()\n",
    "mean_ROI_by_month "
   ]
  },
  {
   "cell_type": "code",
   "execution_count": 23,
   "id": "952b2906",
   "metadata": {},
   "outputs": [],
   "source": [
    "new_gf1_Action = new_gf1[new_gf1[\"genres\"]== \"Action\"]\n",
    "new_gf1_Adventure = new_gf1[new_gf1[\"genres\"]== \"Adventure\"]\n",
    "new_gf1_Animation = new_gf1[new_gf1[\"genres\"]== \"Animation\"]\n",
    "new_gf1_Biography = new_gf1[new_gf1[\"genres\"]== \"Biography\"]\n",
    "new_gf1_Comedy = new_gf1[new_gf1[\"genres\"]== \"Comedy\"]"
   ]
  },
  {
   "cell_type": "code",
   "execution_count": 24,
   "id": "88282df6",
   "metadata": {},
   "outputs": [
    {
     "data": {
      "text/html": [
       "<div>\n",
       "<style scoped>\n",
       "    .dataframe tbody tr th:only-of-type {\n",
       "        vertical-align: middle;\n",
       "    }\n",
       "\n",
       "    .dataframe tbody tr th {\n",
       "        vertical-align: top;\n",
       "    }\n",
       "\n",
       "    .dataframe thead th {\n",
       "        text-align: right;\n",
       "    }\n",
       "</style>\n",
       "<table border=\"1\" class=\"dataframe\">\n",
       "  <thead>\n",
       "    <tr style=\"text-align: right;\">\n",
       "      <th></th>\n",
       "      <th>genres</th>\n",
       "      <th>ROI</th>\n",
       "      <th>profit</th>\n",
       "    </tr>\n",
       "  </thead>\n",
       "  <tbody>\n",
       "    <tr>\n",
       "      <th>0</th>\n",
       "      <td>Action</td>\n",
       "      <td>201.238519</td>\n",
       "      <td>2.070401e+08</td>\n",
       "    </tr>\n",
       "    <tr>\n",
       "      <th>1</th>\n",
       "      <td>Adventure</td>\n",
       "      <td>216.019623</td>\n",
       "      <td>2.448249e+08</td>\n",
       "    </tr>\n",
       "    <tr>\n",
       "      <th>2</th>\n",
       "      <td>Animation</td>\n",
       "      <td>284.208519</td>\n",
       "      <td>2.507086e+08</td>\n",
       "    </tr>\n",
       "    <tr>\n",
       "      <th>3</th>\n",
       "      <td>Biography</td>\n",
       "      <td>213.802051</td>\n",
       "      <td>5.434235e+07</td>\n",
       "    </tr>\n",
       "    <tr>\n",
       "      <th>4</th>\n",
       "      <td>Comedy</td>\n",
       "      <td>212.298491</td>\n",
       "      <td>8.740767e+07</td>\n",
       "    </tr>\n",
       "    <tr>\n",
       "      <th>5</th>\n",
       "      <td>Crime</td>\n",
       "      <td>131.860862</td>\n",
       "      <td>5.163447e+07</td>\n",
       "    </tr>\n",
       "    <tr>\n",
       "      <th>6</th>\n",
       "      <td>Documentary</td>\n",
       "      <td>287.279200</td>\n",
       "      <td>4.106267e+07</td>\n",
       "    </tr>\n",
       "    <tr>\n",
       "      <th>7</th>\n",
       "      <td>Drama</td>\n",
       "      <td>200.382099</td>\n",
       "      <td>4.775554e+07</td>\n",
       "    </tr>\n",
       "    <tr>\n",
       "      <th>8</th>\n",
       "      <td>Family</td>\n",
       "      <td>148.262308</td>\n",
       "      <td>1.307623e+08</td>\n",
       "    </tr>\n",
       "    <tr>\n",
       "      <th>9</th>\n",
       "      <td>Fantasy</td>\n",
       "      <td>253.367045</td>\n",
       "      <td>1.255589e+08</td>\n",
       "    </tr>\n",
       "    <tr>\n",
       "      <th>10</th>\n",
       "      <td>History</td>\n",
       "      <td>57.301429</td>\n",
       "      <td>2.159261e+07</td>\n",
       "    </tr>\n",
       "    <tr>\n",
       "      <th>11</th>\n",
       "      <td>Horror</td>\n",
       "      <td>663.497931</td>\n",
       "      <td>4.344439e+07</td>\n",
       "    </tr>\n",
       "    <tr>\n",
       "      <th>12</th>\n",
       "      <td>Music</td>\n",
       "      <td>403.540000</td>\n",
       "      <td>1.136261e+08</td>\n",
       "    </tr>\n",
       "    <tr>\n",
       "      <th>13</th>\n",
       "      <td>Musical</td>\n",
       "      <td>112.160000</td>\n",
       "      <td>9.416154e+06</td>\n",
       "    </tr>\n",
       "    <tr>\n",
       "      <th>14</th>\n",
       "      <td>Mystery</td>\n",
       "      <td>519.269706</td>\n",
       "      <td>4.830093e+07</td>\n",
       "    </tr>\n",
       "    <tr>\n",
       "      <th>15</th>\n",
       "      <td>News</td>\n",
       "      <td>289.420000</td>\n",
       "      <td>3.473058e+07</td>\n",
       "    </tr>\n",
       "    <tr>\n",
       "      <th>16</th>\n",
       "      <td>Romance</td>\n",
       "      <td>244.556000</td>\n",
       "      <td>3.725398e+07</td>\n",
       "    </tr>\n",
       "    <tr>\n",
       "      <th>17</th>\n",
       "      <td>Sci-Fi</td>\n",
       "      <td>317.530500</td>\n",
       "      <td>3.048415e+08</td>\n",
       "    </tr>\n",
       "    <tr>\n",
       "      <th>18</th>\n",
       "      <td>Sport</td>\n",
       "      <td>-13.165000</td>\n",
       "      <td>6.631639e+06</td>\n",
       "    </tr>\n",
       "    <tr>\n",
       "      <th>19</th>\n",
       "      <td>Thriller</td>\n",
       "      <td>406.547284</td>\n",
       "      <td>1.070304e+08</td>\n",
       "    </tr>\n",
       "    <tr>\n",
       "      <th>20</th>\n",
       "      <td>War</td>\n",
       "      <td>119.795714</td>\n",
       "      <td>5.031619e+07</td>\n",
       "    </tr>\n",
       "    <tr>\n",
       "      <th>21</th>\n",
       "      <td>Western</td>\n",
       "      <td>-52.406000</td>\n",
       "      <td>-1.082733e+07</td>\n",
       "    </tr>\n",
       "  </tbody>\n",
       "</table>\n",
       "</div>"
      ],
      "text/plain": [
       "         genres         ROI        profit\n",
       "0        Action  201.238519  2.070401e+08\n",
       "1     Adventure  216.019623  2.448249e+08\n",
       "2     Animation  284.208519  2.507086e+08\n",
       "3     Biography  213.802051  5.434235e+07\n",
       "4        Comedy  212.298491  8.740767e+07\n",
       "5         Crime  131.860862  5.163447e+07\n",
       "6   Documentary  287.279200  4.106267e+07\n",
       "7         Drama  200.382099  4.775554e+07\n",
       "8        Family  148.262308  1.307623e+08\n",
       "9       Fantasy  253.367045  1.255589e+08\n",
       "10      History   57.301429  2.159261e+07\n",
       "11       Horror  663.497931  4.344439e+07\n",
       "12        Music  403.540000  1.136261e+08\n",
       "13      Musical  112.160000  9.416154e+06\n",
       "14      Mystery  519.269706  4.830093e+07\n",
       "15         News  289.420000  3.473058e+07\n",
       "16      Romance  244.556000  3.725398e+07\n",
       "17       Sci-Fi  317.530500  3.048415e+08\n",
       "18        Sport  -13.165000  6.631639e+06\n",
       "19     Thriller  406.547284  1.070304e+08\n",
       "20          War  119.795714  5.031619e+07\n",
       "21      Western  -52.406000 -1.082733e+07"
      ]
     },
     "execution_count": 24,
     "metadata": {},
     "output_type": "execute_result"
    }
   ],
   "source": [
    "new_gf2 = new_gf1.groupby([\"genres\"], as_index=False).mean()\n",
    "new_gf2.sort_values(by = \"ROI\", ascending=False)\n",
    "new_gf2"
   ]
  },
  {
   "cell_type": "code",
   "execution_count": 32,
   "id": "f06a3283",
   "metadata": {},
   "outputs": [
    {
     "data": {
      "image/png": "[encoded data removed]",
      "text/plain": [
       "<Figure size 720x360 with 1 Axes>"
      ]
     },
     "metadata": {
      "needs_background": "light"
     },
     "output_type": "display_data"
    }
   ],
   "source": [
    "height = mean_ROI_by_month['ROI']\n",
    "x = range(12)\n",
    "labels = mean_ROI_by_month .index\n",
    "\n",
    "fig, ax = plt.subplots(figsize=(10, 5))\n",
    "\n",
    "ax.bar(x, height, tick_label=labels, color = \"green\")\n",
    "\n",
    "ax.set_title(\"Mean ROI by Month (1990-2020)\")\n",
    "ax.set_ylabel(\"Mean Return on Investment ($)\")\n",
    "ax.set_xlabel(\"Month\");"
   ]
  },
  {
   "cell_type": "code",
   "execution_count": 26,
   "id": "aa91df32",
   "metadata": {},
   "outputs": [
    {
     "data": {
      "image/png": "[encoded data removed]",
      "text/plain": [
       "<Figure size 720x432 with 1 Axes>"
      ]
     },
     "metadata": {
      "needs_background": "light"
     },
     "output_type": "display_data"
    }
   ],
   "source": [
    "new_gf1_Action_Grouped = new_gf1_Action.groupby([\"release_month\"], as_index=False).mean()\n",
    "new_gf1_Action_Grouped = new_gf1_Action_Grouped.set_index(\"release_month\")\n",
    "\n",
    "height = new_gf1_Action_Grouped['ROI']\n",
    "x = range(12)\n",
    "labels = new_gf1_Action_Grouped.index\n",
    "\n",
    "fig, ax = plt.subplots(figsize=(10, 6))\n",
    "\n",
    "ax.bar(x, height, tick_label=labels, color = \"green\")\n",
    "\n",
    "ax.set_title(\"Mean ROI By Month for Action Movies (1990-2020)\")\n",
    "ax.set_ylabel(\"Mean Return on Investment ($)\")\n",
    "ax.set_xlabel(\"Month\");"
   ]
  },
  {
   "cell_type": "code",
   "execution_count": 38,
   "id": "1379ea19",
   "metadata": {},
   "outputs": [
    {
     "data": {
      "text/plain": [
       "11         Friday\n",
       "16         Friday\n",
       "24         Friday\n",
       "26         Friday\n",
       "39         Friday\n",
       "          ...    \n",
       "2748       Friday\n",
       "2769    Wednesday\n",
       "2805       Friday\n",
       "2808       Friday\n",
       "2817       Friday\n",
       "Name: day of the week, Length: 108, dtype: object"
      ]
     },
     "execution_count": 38,
     "metadata": {},
     "output_type": "execute_result"
    }
   ],
   "source": [
    "new_gf1_Action[\"day of the week\"]"
   ]
  },
  {
   "cell_type": "code",
   "execution_count": 51,
   "id": "100769b1",
   "metadata": {},
   "outputs": [
    {
     "name": "stderr",
     "output_type": "stream",
     "text": [
      "<ipython-input-51-196fe1a130f9>:1: SettingWithCopyWarning: \n",
      "A value is trying to be set on a copy of a slice from a DataFrame.\n",
      "Try using .loc[row_indexer,col_indexer] = value instead\n",
      "\n",
      "See the caveats in the documentation: https://pandas.pydata.org/pandas-docs/stable/user_guide/indexing.html#returning-a-view-versus-a-copy\n",
      "  new_gf1_Action['converted'] = pd.to_datetime(pd.Series(new_gf1_Action[\"release_date\"]))\n",
      "<ipython-input-51-196fe1a130f9>:2: SettingWithCopyWarning: \n",
      "A value is trying to be set on a copy of a slice from a DataFrame.\n",
      "Try using .loc[row_indexer,col_indexer] = value instead\n",
      "\n",
      "See the caveats in the documentation: https://pandas.pydata.org/pandas-docs/stable/user_guide/indexing.html#returning-a-view-versus-a-copy\n",
      "  new_gf1_Action[\"day of the week\"] = new_gf1_Action[\"converted\"].dt.day_name()\n"
     ]
    },
    {
     "data": {
      "image/png": "[encoded data removed]",
      "text/plain": [
       "<Figure size 936x432 with 1 Axes>"
      ]
     },
     "metadata": {
      "needs_background": "light"
     },
     "output_type": "display_data"
    }
   ],
   "source": [
    "new_gf1_Action['converted'] = pd.to_datetime(pd.Series(new_gf1_Action[\"release_date\"]))\n",
    "new_gf1_Action[\"day of the week\"] = new_gf1_Action[\"converted\"].dt.day_name()\n",
    "new_gf1_Action_WeekName = new_gf1_Action.groupby(\"day of the week\").sum()\n",
    "new_gf1_Action_WeekName = new_gf1_Action_WeekName.sort_values(\"ROI\", ascending=False)\n",
    "\n",
    "height = new_gf1_Action_WeekName['ROI']\n",
    "x = range(4)\n",
    "labels = new_gf1_Action_WeekName.index\n",
    "\n",
    "fig, ax = plt.subplots(figsize=(13, 6))\n",
    "\n",
    "ax.bar(x, height, tick_label=labels, color = \"green\")\n",
    "\n",
    "ax.set_title(\"Mean ROI by Day of the Week Release Date for Action Movies (1990-2020)\")\n",
    "ax.set_ylabel(\"Mean ROI ($)\")\n",
    "ax.set_xlabel(\"Day of the Week\");"
   ]
  },
  {
   "cell_type": "code",
   "execution_count": 27,
   "id": "df61247f",
   "metadata": {},
   "outputs": [
    {
     "data": {
      "image/png": "[encoded data removed]",
      "text/plain": [
       "<Figure size 720x432 with 1 Axes>"
      ]
     },
     "metadata": {
      "needs_background": "light"
     },
     "output_type": "display_data"
    }
   ],
   "source": [
    "new_gf1_Adventure_Grouped = new_gf1_Adventure.groupby([\"release_month\"], as_index=False).mean()\n",
    "new_gf1_Adventure_Grouped = new_gf1_Adventure_Grouped.set_index(\"release_month\")\n",
    "\n",
    "height = new_gf1_Adventure_Grouped['ROI']\n",
    "x = range(12)\n",
    "labels = new_gf1_Adventure_Grouped.index\n",
    "\n",
    "fig, ax = plt.subplots(figsize=(10, 6))\n",
    "\n",
    "ax.bar(x, height, tick_label=labels, color = \"green\")\n",
    "\n",
    "ax.set_title(\"Mean ROI By Month for Adventure Movies (1990-2020)\")\n",
    "ax.set_ylabel(\"Mean Return on Investment ($)\")\n",
    "ax.set_xlabel(\"Month\");"
   ]
  },
  {
   "cell_type": "code",
   "execution_count": 50,
   "id": "2d983e2f",
   "metadata": {},
   "outputs": [
    {
     "name": "stderr",
     "output_type": "stream",
     "text": [
      "<ipython-input-50-025352c5a0d3>:1: SettingWithCopyWarning: \n",
      "A value is trying to be set on a copy of a slice from a DataFrame.\n",
      "Try using .loc[row_indexer,col_indexer] = value instead\n",
      "\n",
      "See the caveats in the documentation: https://pandas.pydata.org/pandas-docs/stable/user_guide/indexing.html#returning-a-view-versus-a-copy\n",
      "  new_gf1_Adventure['converted'] = pd.to_datetime(pd.Series(new_gf1_Adventure[\"release_date\"]))\n",
      "<ipython-input-50-025352c5a0d3>:2: SettingWithCopyWarning: \n",
      "A value is trying to be set on a copy of a slice from a DataFrame.\n",
      "Try using .loc[row_indexer,col_indexer] = value instead\n",
      "\n",
      "See the caveats in the documentation: https://pandas.pydata.org/pandas-docs/stable/user_guide/indexing.html#returning-a-view-versus-a-copy\n",
      "  new_gf1_Adventure[\"day of the week\"] = new_gf1_Adventure[\"converted\"].dt.day_name()\n"
     ]
    },
    {
     "data": {
      "image/png": "[encoded data removed]",
      "text/plain": [
       "<Figure size 936x432 with 1 Axes>"
      ]
     },
     "metadata": {
      "needs_background": "light"
     },
     "output_type": "display_data"
    }
   ],
   "source": [
    "new_gf1_Adventure['converted'] = pd.to_datetime(pd.Series(new_gf1_Adventure[\"release_date\"]))\n",
    "new_gf1_Adventure[\"day of the week\"] = new_gf1_Adventure[\"converted\"].dt.day_name()\n",
    "new_gf1_Adventure_WeekName = new_gf1_Adventure.groupby(\"day of the week\").sum()\n",
    "new_gf1_Adventure_WeekName = new_gf1_Adventure_WeekName.sort_values(\"ROI\", ascending=False)\n",
    "\n",
    "height = new_gf1_Adventure_WeekName['ROI']\n",
    "x = range(4)\n",
    "labels = new_gf1_Adventure_WeekName.index\n",
    "\n",
    "fig, ax = plt.subplots(figsize=(13, 6))\n",
    "\n",
    "ax.bar(x, height, tick_label=labels, color = \"green\")\n",
    "\n",
    "ax.set_title(\"Mean ROI by Day of the Week Release Date for Adventure Movies (1990-2020)\")\n",
    "ax.set_ylabel(\"Mean ROI ($)\")\n",
    "ax.set_xlabel(\"Day of the Week\");"
   ]
  },
  {
   "cell_type": "code",
   "execution_count": 28,
   "id": "ed675786",
   "metadata": {},
   "outputs": [
    {
     "data": {
      "image/png": "[encoded data removed]",
      "text/plain": [
       "<Figure size 720x432 with 1 Axes>"
      ]
     },
     "metadata": {
      "needs_background": "light"
     },
     "output_type": "display_data"
    }
   ],
   "source": [
    "new_gf1_Animation_Grouped = new_gf1_Animation.groupby([\"release_month\"], as_index=False).mean()\n",
    "new_gf1_Animation_Grouped = new_gf1_Animation_Grouped.set_index(\"release_month\")\n",
    "\n",
    "height = new_gf1_Animation_Grouped['ROI']\n",
    "x = range(11)\n",
    "labels = new_gf1_Animation_Grouped.index\n",
    "\n",
    "fig, ax = plt.subplots(figsize=(10, 6))\n",
    "\n",
    "ax.bar(x, height, tick_label=labels, color = \"green\")\n",
    "\n",
    "ax.set_title(\"Mean ROI By Month for Animation Movies (1990-2020)\")\n",
    "ax.set_ylabel(\"Mean Return on Investment ($)\")\n",
    "ax.set_xlabel(\"Month\");"
   ]
  },
  {
   "cell_type": "code",
   "execution_count": 57,
   "id": "acf107c0",
   "metadata": {},
   "outputs": [
    {
     "name": "stderr",
     "output_type": "stream",
     "text": [
      "<ipython-input-57-adefb5913154>:1: SettingWithCopyWarning: \n",
      "A value is trying to be set on a copy of a slice from a DataFrame.\n",
      "Try using .loc[row_indexer,col_indexer] = value instead\n",
      "\n",
      "See the caveats in the documentation: https://pandas.pydata.org/pandas-docs/stable/user_guide/indexing.html#returning-a-view-versus-a-copy\n",
      "  new_gf1_Animation['converted'] = pd.to_datetime(pd.Series(new_gf1_Animation[\"release_date\"]))\n",
      "<ipython-input-57-adefb5913154>:2: SettingWithCopyWarning: \n",
      "A value is trying to be set on a copy of a slice from a DataFrame.\n",
      "Try using .loc[row_indexer,col_indexer] = value instead\n",
      "\n",
      "See the caveats in the documentation: https://pandas.pydata.org/pandas-docs/stable/user_guide/indexing.html#returning-a-view-versus-a-copy\n",
      "  new_gf1_Animation[\"day of the week\"] = new_gf1_Animation[\"converted\"].dt.day_name()\n"
     ]
    },
    {
     "data": {
      "image/png": "[encoded data removed]",
      "text/plain": [
       "<Figure size 936x432 with 1 Axes>"
      ]
     },
     "metadata": {
      "needs_background": "light"
     },
     "output_type": "display_data"
    }
   ],
   "source": [
    "new_gf1_Animation['converted'] = pd.to_datetime(pd.Series(new_gf1_Animation[\"release_date\"]))\n",
    "new_gf1_Animation[\"day of the week\"] = new_gf1_Animation[\"converted\"].dt.day_name()\n",
    "new_gf1_Animation_WeekName = new_gf1_Animation.groupby(\"day of the week\").sum()\n",
    "new_gf1_Animation_WeekName = new_gf1_Animation_WeekName.sort_values(\"ROI\", ascending=False)\n",
    "\n",
    "height = new_gf1_Animation_WeekName['ROI']\n",
    "x = range(2)\n",
    "labels = new_gf1_Animation_WeekName.index\n",
    "\n",
    "fig, ax = plt.subplots(figsize=(13, 6))\n",
    "\n",
    "ax.bar(x, height, tick_label=labels, color = \"green\")\n",
    "\n",
    "ax.set_title(\"Mean ROI by Day of the Week Release Date for Animation Movies (1990-2020)\")\n",
    "ax.set_ylabel(\"Mean ROI ($)\")\n",
    "ax.set_xlabel(\"Day of the Week\");"
   ]
  },
  {
   "cell_type": "code",
   "execution_count": 55,
   "id": "7e706ee5",
   "metadata": {},
   "outputs": [
    {
     "data": {
      "image/png": "[encoded data removed]",
      "text/plain": [
       "<Figure size 720x432 with 1 Axes>"
      ]
     },
     "metadata": {
      "needs_background": "light"
     },
     "output_type": "display_data"
    }
   ],
   "source": [
    "new_gf1_Biography_Grouped = new_gf1_Biography.groupby([\"release_month\"], as_index=False).mean()\n",
    "new_gf1_Biography_Grouped = new_gf1_Biography_Grouped.set_index(\"release_month\")\n",
    "\n",
    "height = new_gf1_Biography_Grouped['ROI']\n",
    "x = range(11)\n",
    "labels = new_gf1_Biography_Grouped.index\n",
    "\n",
    "fig, ax = plt.subplots(figsize=(10, 6))\n",
    "\n",
    "ax.bar(x, height, tick_label=labels, color = \"green\")\n",
    "\n",
    "ax.set_title(\"Mean ROI By Month for Biography Movies (1990-2020)\")\n",
    "ax.set_ylabel(\"Mean Return on Investment ($)\")\n",
    "ax.set_xlabel(\"Month\");"
   ]
  },
  {
   "cell_type": "code",
   "execution_count": 58,
   "id": "e7d0124c",
   "metadata": {},
   "outputs": [
    {
     "name": "stderr",
     "output_type": "stream",
     "text": [
      "<ipython-input-58-e4346fde1d1f>:1: SettingWithCopyWarning: \n",
      "A value is trying to be set on a copy of a slice from a DataFrame.\n",
      "Try using .loc[row_indexer,col_indexer] = value instead\n",
      "\n",
      "See the caveats in the documentation: https://pandas.pydata.org/pandas-docs/stable/user_guide/indexing.html#returning-a-view-versus-a-copy\n",
      "  new_gf1_Biography['converted'] = pd.to_datetime(pd.Series(new_gf1_Biography[\"release_date\"]))\n",
      "<ipython-input-58-e4346fde1d1f>:2: SettingWithCopyWarning: \n",
      "A value is trying to be set on a copy of a slice from a DataFrame.\n",
      "Try using .loc[row_indexer,col_indexer] = value instead\n",
      "\n",
      "See the caveats in the documentation: https://pandas.pydata.org/pandas-docs/stable/user_guide/indexing.html#returning-a-view-versus-a-copy\n",
      "  new_gf1_Biography[\"day of the week\"] = new_gf1_Biography[\"converted\"].dt.day_name()\n"
     ]
    },
    {
     "data": {
      "image/png": "[encoded data removed]",
      "text/plain": [
       "<Figure size 936x432 with 1 Axes>"
      ]
     },
     "metadata": {
      "needs_background": "light"
     },
     "output_type": "display_data"
    }
   ],
   "source": [
    "new_gf1_Biography['converted'] = pd.to_datetime(pd.Series(new_gf1_Biography[\"release_date\"]))\n",
    "new_gf1_Biography[\"day of the week\"] = new_gf1_Biography[\"converted\"].dt.day_name()\n",
    "new_gf1_Biography_WeekName = new_gf1_Biography.groupby(\"day of the week\").sum()\n",
    "new_gf1_Biography_WeekName = new_gf1_Biography_WeekName.sort_values(\"ROI\", ascending=False)\n",
    "\n",
    "height = new_gf1_Biography_WeekName['ROI']\n",
    "x = range(2)\n",
    "labels = new_gf1_Biography_WeekName.index\n",
    "\n",
    "fig, ax = plt.subplots(figsize=(13, 6))\n",
    "\n",
    "ax.bar(x, height, tick_label=labels, color = \"green\")\n",
    "\n",
    "ax.set_title(\"Mean ROI by Day of the Week Release Date for Biography Movies (1990-2020)\")\n",
    "ax.set_ylabel(\"Mean ROI ($)\")\n",
    "ax.set_xlabel(\"Day of the Week\");"
   ]
  },
  {
   "cell_type": "code",
   "execution_count": 30,
   "id": "348c211e",
   "metadata": {},
   "outputs": [
    {
     "data": {
      "image/png": "[encoded data removed]",
      "text/plain": [
       "<Figure size 720x432 with 1 Axes>"
      ]
     },
     "metadata": {
      "needs_background": "light"
     },
     "output_type": "display_data"
    }
   ],
   "source": [
    "new_gf1_Comedy_Grouped = new_gf1_Comedy.groupby([\"release_month\"], as_index=False).mean()\n",
    "new_gf1_Comedy_Grouped = new_gf1_Comedy_Grouped.set_index(\"release_month\")\n",
    "\n",
    "height = new_gf1_Comedy_Grouped['ROI']\n",
    "x = range(12)\n",
    "labels = new_gf1_Comedy_Grouped.index\n",
    "\n",
    "fig, ax = plt.subplots(figsize=(10, 6))\n",
    "\n",
    "ax.bar(x, height, tick_label=labels, color = \"green\")\n",
    "\n",
    "ax.set_title(\"Mean ROI By Month for Comedy Movies (1990-2020)\")\n",
    "ax.set_ylabel(\"Mean Return on Investment ($)\")\n",
    "ax.set_xlabel(\"Month\");"
   ]
  },
  {
   "cell_type": "code",
   "execution_count": 62,
   "id": "fb9b87c1",
   "metadata": {},
   "outputs": [
    {
     "name": "stderr",
     "output_type": "stream",
     "text": [
      "<ipython-input-62-a0ed83cfb98d>:1: SettingWithCopyWarning: \n",
      "A value is trying to be set on a copy of a slice from a DataFrame.\n",
      "Try using .loc[row_indexer,col_indexer] = value instead\n",
      "\n",
      "See the caveats in the documentation: https://pandas.pydata.org/pandas-docs/stable/user_guide/indexing.html#returning-a-view-versus-a-copy\n",
      "  new_gf1_Comedy['converted'] = pd.to_datetime(pd.Series(new_gf1_Comedy[\"release_date\"]))\n",
      "<ipython-input-62-a0ed83cfb98d>:2: SettingWithCopyWarning: \n",
      "A value is trying to be set on a copy of a slice from a DataFrame.\n",
      "Try using .loc[row_indexer,col_indexer] = value instead\n",
      "\n",
      "See the caveats in the documentation: https://pandas.pydata.org/pandas-docs/stable/user_guide/indexing.html#returning-a-view-versus-a-copy\n",
      "  new_gf1_Comedy[\"day of the week\"] = new_gf1_Comedy[\"converted\"].dt.day_name()\n"
     ]
    },
    {
     "data": {
      "image/png": "[encoded data removed]",
      "text/plain": [
       "<Figure size 936x432 with 1 Axes>"
      ]
     },
     "metadata": {
      "needs_background": "light"
     },
     "output_type": "display_data"
    }
   ],
   "source": [
    "new_gf1_Comedy['converted'] = pd.to_datetime(pd.Series(new_gf1_Comedy[\"release_date\"]))\n",
    "new_gf1_Comedy[\"day of the week\"] = new_gf1_Comedy[\"converted\"].dt.day_name()\n",
    "new_gf1_Comedy_WeekName = new_gf1_Comedy.groupby(\"day of the week\").sum()\n",
    "new_gf1_Comedy_WeekName = new_gf1_Comedy_WeekName.sort_values(\"ROI\", ascending=False)\n",
    "\n",
    "height = new_gf1_Comedy_WeekName['ROI']\n",
    "x = range(3)\n",
    "labels = new_gf1_Comedy_WeekName.index\n",
    "\n",
    "fig, ax = plt.subplots(figsize=(13, 6))\n",
    "\n",
    "ax.bar(x, height, tick_label=labels, color = \"green\")\n",
    "\n",
    "ax.set_title(\"Mean ROI by Day of the Week Release Date for Biography Movies (1990-2020)\")\n",
    "ax.set_ylabel(\"Mean ROI ($)\")\n",
    "ax.set_xlabel(\"Day of the Week\");"
   ]
  },
  {
   "cell_type": "markdown",
   "id": "e827c5e7",
   "metadata": {},
   "source": [
    "# old codes--ignore"
   ]
  },
  {
   "cell_type": "code",
   "execution_count": 31,
   "id": "bf6904e4",
   "metadata": {},
   "outputs": [
    {
     "ename": "NameError",
     "evalue": "name 'data1' is not defined",
     "output_type": "error",
     "traceback": [
      "\u001b[0;31m---------------------------------------------------------------------------\u001b[0m",
      "\u001b[0;31mNameError\u001b[0m                                 Traceback (most recent call last)",
      "\u001b[0;32m<ipython-input-31-39252f9633a3>\u001b[0m in \u001b[0;36m<module>\u001b[0;34m\u001b[0m\n\u001b[0;32m----> 1\u001b[0;31m \u001b[0mdata1\u001b[0m\u001b[0;34m[\u001b[0m\u001b[0;34m'production_budget'\u001b[0m\u001b[0;34m]\u001b[0m \u001b[0;34m=\u001b[0m \u001b[0;34m[\u001b[0m\u001b[0mrow\u001b[0m\u001b[0;34m.\u001b[0m\u001b[0mreplace\u001b[0m\u001b[0;34m(\u001b[0m\u001b[0;34m'$'\u001b[0m\u001b[0;34m,\u001b[0m\u001b[0;34m''\u001b[0m\u001b[0;34m)\u001b[0m \u001b[0;32mfor\u001b[0m \u001b[0mrow\u001b[0m \u001b[0;32min\u001b[0m \u001b[0mdata1\u001b[0m\u001b[0;34m[\u001b[0m\u001b[0;34m'production_budget'\u001b[0m\u001b[0;34m]\u001b[0m\u001b[0;34m]\u001b[0m\u001b[0;34m\u001b[0m\u001b[0;34m\u001b[0m\u001b[0m\n\u001b[0m\u001b[1;32m      2\u001b[0m \u001b[0mdata1\u001b[0m\u001b[0;34m[\u001b[0m\u001b[0;34m'production_budget'\u001b[0m\u001b[0;34m]\u001b[0m \u001b[0;34m=\u001b[0m \u001b[0;34m[\u001b[0m\u001b[0mrow\u001b[0m\u001b[0;34m.\u001b[0m\u001b[0mreplace\u001b[0m\u001b[0;34m(\u001b[0m\u001b[0;34m','\u001b[0m\u001b[0;34m,\u001b[0m\u001b[0;34m''\u001b[0m\u001b[0;34m)\u001b[0m \u001b[0;32mfor\u001b[0m \u001b[0mrow\u001b[0m \u001b[0;32min\u001b[0m \u001b[0mdata1\u001b[0m\u001b[0;34m[\u001b[0m\u001b[0;34m'production_budget'\u001b[0m\u001b[0;34m]\u001b[0m\u001b[0;34m]\u001b[0m\u001b[0;34m\u001b[0m\u001b[0;34m\u001b[0m\u001b[0m\n\u001b[1;32m      3\u001b[0m \u001b[0;34m\u001b[0m\u001b[0m\n\u001b[1;32m      4\u001b[0m \u001b[0mdata1\u001b[0m\u001b[0;34m[\u001b[0m\u001b[0;34m'domestic_gross'\u001b[0m\u001b[0;34m]\u001b[0m \u001b[0;34m=\u001b[0m \u001b[0;34m[\u001b[0m\u001b[0mrow\u001b[0m\u001b[0;34m.\u001b[0m\u001b[0mreplace\u001b[0m\u001b[0;34m(\u001b[0m\u001b[0;34m'$'\u001b[0m\u001b[0;34m,\u001b[0m\u001b[0;34m''\u001b[0m\u001b[0;34m)\u001b[0m \u001b[0;32mfor\u001b[0m \u001b[0mrow\u001b[0m \u001b[0;32min\u001b[0m \u001b[0mdata1\u001b[0m\u001b[0;34m[\u001b[0m\u001b[0;34m'domestic_gross'\u001b[0m\u001b[0;34m]\u001b[0m\u001b[0;34m]\u001b[0m\u001b[0;34m\u001b[0m\u001b[0;34m\u001b[0m\u001b[0m\n\u001b[1;32m      5\u001b[0m \u001b[0mdata1\u001b[0m\u001b[0;34m[\u001b[0m\u001b[0;34m'domestic_gross'\u001b[0m\u001b[0;34m]\u001b[0m \u001b[0;34m=\u001b[0m \u001b[0;34m[\u001b[0m\u001b[0mrow\u001b[0m\u001b[0;34m.\u001b[0m\u001b[0mreplace\u001b[0m\u001b[0;34m(\u001b[0m\u001b[0;34m','\u001b[0m\u001b[0;34m,\u001b[0m\u001b[0;34m''\u001b[0m\u001b[0;34m)\u001b[0m \u001b[0;32mfor\u001b[0m \u001b[0mrow\u001b[0m \u001b[0;32min\u001b[0m \u001b[0mdata1\u001b[0m\u001b[0;34m[\u001b[0m\u001b[0;34m'domestic_gross'\u001b[0m\u001b[0;34m]\u001b[0m\u001b[0;34m]\u001b[0m\u001b[0;34m\u001b[0m\u001b[0;34m\u001b[0m\u001b[0m\n",
      "\u001b[0;31mNameError\u001b[0m: name 'data1' is not defined"
     ]
    }
   ],
   "source": [
    "data1['production_budget'] = [row.replace('$','') for row in data1['production_budget']]\n",
    "data1['production_budget'] = [row.replace(',','') for row in data1['production_budget']]\n",
    "\n",
    "data1['domestic_gross'] = [row.replace('$','') for row in data1['domestic_gross']]\n",
    "data1['domestic_gross'] = [row.replace(',','') for row in data1['domestic_gross']]\n",
    "\n",
    "data1['worldwide_gross'] = [row.replace('$','') for row in data1['worldwide_gross']]\n",
    "data1['worldwide_gross'] = [row.replace(',','') for row in data1['worldwide_gross']]\n",
    "\n",
    "\n",
    "\n",
    "\n",
    "data1['domestic_gross'] = [int(row) for row in data1['domestic_gross']]\n",
    "data1['production_budget'] = [int(row) for row in data1['production_budget']]\n",
    "data1['worldwide_gross'] = [int(row) for row in data1['worldwide_gross']]\n",
    "\n",
    "data1['revenue'] = data1['domestic_gross']- data1['production_budget']"
   ]
  },
  {
   "cell_type": "code",
   "execution_count": null,
   "id": "531d8892",
   "metadata": {},
   "outputs": [],
   "source": [
    "#for the purpose of graphing, edited each month with numeric values in the beginning \n",
    "data1[\"release_month\"] = data1[\"release_month\"].str.replace(\"Jan\", \"01 Jan\")\n",
    "data1[\"release_month\"] = data1[\"release_month\"].str.replace(\"Feb\", \"02 Feb\")\n",
    "data1[\"release_month\"] = data1[\"release_month\"].str.replace(\"Mar\", \"03 Mar\")\n",
    "data1[\"release_month\"] = data1[\"release_month\"].str.replace(\"Apr\", \"04 Apr\")\n",
    "data1[\"release_month\"] = data1[\"release_month\"].str.replace(\"May\", \"05 May\")\n",
    "data1[\"release_month\"] = data1[\"release_month\"].str.replace(\"Jun\", \"06 Jun\")\n",
    "data1[\"release_month\"] = data1[\"release_month\"].str.replace(\"Jul\", \"07 Jul\")\n",
    "data1[\"release_month\"] = data1[\"release_month\"].str.replace(\"Aug\", \"08 Aug\")\n",
    "data1[\"release_month\"] = data1[\"release_month\"].str.replace(\"Sep\", \"09 Sep\")\n",
    "data1[\"release_month\"] = data1[\"release_month\"].str.replace(\"Oct\", \"10 Oct\")\n",
    "data1[\"release_month\"] = data1[\"release_month\"].str.replace(\"Nov\", \"11 Nov\")\n",
    "data1[\"release_month\"] = data1[\"release_month\"].str.replace(\"Dec\", \"12 Dec\")\n",
    "data1.shape"
   ]
  },
  {
   "cell_type": "code",
   "execution_count": null,
   "id": "11c79d94",
   "metadata": {},
   "outputs": [],
   "source": [
    "data1 = data1[data1.worldwide_gross != 0]\n",
    "data1.shape"
   ]
  },
  {
   "cell_type": "code",
   "execution_count": null,
   "id": "0b5a17ee",
   "metadata": {},
   "outputs": [],
   "source": [
    "#data1 = data1[data1.domestic_gross != 0]\n",
    "#data1.shape"
   ]
  },
  {
   "cell_type": "code",
   "execution_count": null,
   "id": "2e29617c",
   "metadata": {},
   "outputs": [],
   "source": [
    "#data1 = data1[data1.production_budget != 0]\n",
    "#data1.shape"
   ]
  },
  {
   "cell_type": "code",
   "execution_count": null,
   "id": "dea2d037",
   "metadata": {},
   "outputs": [],
   "source": [
    "data1 = data1[data1.release_year != 2020]\n",
    "data1\n",
    "#data1[\"release_year\"].unique()"
   ]
  },
  {
   "cell_type": "code",
   "execution_count": null,
   "id": "fabc582d",
   "metadata": {},
   "outputs": [],
   "source": [
    "#group the dataset by month for the entire dataset\n",
    "grouped_by_month = data1.groupby([\"release_month\"]).sum()\n",
    "grouped_by_month"
   ]
  },
  {
   "cell_type": "code",
   "execution_count": null,
   "id": "9ed63d06",
   "metadata": {},
   "outputs": [],
   "source": [
    "grouped_by_year = data1.groupby([\"release_year\"]).sum()\n",
    "grouped_by_year.shape"
   ]
  },
  {
   "cell_type": "code",
   "execution_count": null,
   "id": "90fd0e02",
   "metadata": {},
   "outputs": [],
   "source": [
    "height = grouped_by_year['revenue']\n",
    "x = range(159)\n",
    "labels = grouped_by_year.index\n",
    "\n",
    "fig, ax = plt.subplots(figsize=(15, 8))\n",
    "\n",
    "ax.bar(x, height, tick_label=labels, color = \"green\")\n",
    "\n",
    "ax.set_title(\"Revenue by Year (1915-2020)\")\n",
    "ax.set_ylabel(\"Revenue ($)\")\n",
    "ax.set_xlabel(\"Year\");"
   ]
  },
  {
   "cell_type": "code",
   "execution_count": null,
   "id": "5ce543fe",
   "metadata": {
    "scrolled": true
   },
   "outputs": [],
   "source": [
    "#an overview of revenue by month from 1915-2020\n",
    "\n",
    "height = grouped_by_month['revenue']\n",
    "x = range(12)\n",
    "labels = grouped_by_month.index\n",
    "\n",
    "fig, ax = plt.subplots(figsize=(10, 5))\n",
    "\n",
    "ax.bar(x, height, tick_label=labels, color = \"green\")\n",
    "\n",
    "ax.set_title(\"Revenue by Month (1915-2020)\")\n",
    "ax.set_ylabel(\"Revenue ($)\")\n",
    "ax.set_xlabel(\"Month\");"
   ]
  },
  {
   "cell_type": "code",
   "execution_count": null,
   "id": "fdc16935",
   "metadata": {},
   "outputs": [],
   "source": [
    "data1_2019 = data1[data1[\"release_year\"] == \"2019\"]\n",
    "data1_2019 = data1_2019.drop(\"id\", axis=1)\n",
    "data1_2019 = data1_2019.groupby(\"release_month\").sum()\n",
    "data1_2019.shape\n",
    "#data1_2019[\"release_month\"].unique()\n",
    "#data1_2019.set_index(\"release_month\")\n",
    "#data1_2019.groupby(\"release_month\").sum()"
   ]
  },
  {
   "cell_type": "code",
   "execution_count": null,
   "id": "4b73135d",
   "metadata": {},
   "outputs": [],
   "source": [
    "height = data1_2019['revenue']\n",
    "x = range(5)\n",
    "labels = data1_2019.index\n",
    "\n",
    "fig, ax = plt.subplots(figsize=(13, 6))\n",
    "\n",
    "ax.bar(x, height, tick_label=labels, color = \"green\")\n",
    "\n",
    "ax.set_title(\"Revenue by Month (2019)\")\n",
    "ax.set_ylabel(\"Revenue ($)\")\n",
    "ax.set_xlabel(\"Month\");"
   ]
  },
  {
   "cell_type": "code",
   "execution_count": null,
   "id": "00429baa",
   "metadata": {},
   "outputs": [],
   "source": [
    "data1_2018 = data1[data1[\"release_year\"] == \"2018\"]\n",
    "data1_2018 = data1_2018.drop(\"id\", axis=1)\n",
    "data1_2018 = data1_2018.groupby(\"release_month\").sum()\n",
    "data1_2018\n",
    "#data1_2018[\"release_month\"].unique()\n",
    "#data1_2018.set_index(\"release_month\")\n",
    "#data1_2018.groupby(\"release_month\").sum()"
   ]
  },
  {
   "cell_type": "code",
   "execution_count": null,
   "id": "3ff50530",
   "metadata": {},
   "outputs": [],
   "source": [
    "height = data1_2018['revenue']\n",
    "x = range(12)\n",
    "labels = data1_2018.index\n",
    "\n",
    "fig, ax = plt.subplots(figsize=(13, 6))\n",
    "\n",
    "ax.bar(x, height, tick_label=labels, color = \"green\")\n",
    "\n",
    "ax.set_title(\"Revenue by Month (2018)\")\n",
    "ax.set_ylabel(\"Revenue ($)\")\n",
    "ax.set_xlabel(\"Month\");"
   ]
  },
  {
   "cell_type": "code",
   "execution_count": null,
   "id": "5efc0241",
   "metadata": {},
   "outputs": [],
   "source": [
    "data1_2017 = data1[data1[\"release_year\"] == \"2017\"]\n",
    "data1_2017 = data1_2017.drop(\"id\", axis=1)\n",
    "data1_2017 = data1_2017.groupby(\"release_month\").sum()\n",
    "data1_2017\n",
    "#data1_2017[\"release_month\"].unique()\n",
    "#data1_2017.set_index(\"release_month\")\n",
    "#data1_2017.groupby(\"release_month\").sum()"
   ]
  },
  {
   "cell_type": "code",
   "execution_count": null,
   "id": "c7061cdb",
   "metadata": {},
   "outputs": [],
   "source": [
    "height = data1_2017['revenue']\n",
    "x = range(12)\n",
    "labels = data1_2017.index\n",
    "\n",
    "fig, ax = plt.subplots(figsize=(13, 6))\n",
    "\n",
    "ax.bar(x, height, tick_label=labels, color = \"green\")\n",
    "\n",
    "ax.set_title(\"Revenue by Month (2017)\")\n",
    "ax.set_ylabel(\"Revenue ($)\")\n",
    "ax.set_xlabel(\"Month\");"
   ]
  },
  {
   "cell_type": "code",
   "execution_count": null,
   "id": "623f40bf",
   "metadata": {},
   "outputs": [],
   "source": [
    "for x in data1[\"release_month\"]:\n",
    "    if x == \"Dec\":\n",
    "        data1[\"release_month_new\"] == \"12 Dec\""
   ]
  },
  {
   "cell_type": "code",
   "execution_count": null,
   "id": "0a1f6e42",
   "metadata": {},
   "outputs": [],
   "source": [
    "for x in data1[\"release_month_new\"]:\n",
    "    if x == \"Jan\":\n",
    "        data1[\"release_month_new\"][x] == \"01 Jan\"\n",
    "    elif x == \"Feb\":\n",
    "        return \"02 Feb\"\n",
    "    elif x == \"Mar\":\n",
    "        return \"03 Mar\"\n",
    "    elif x == \"Apr\":\n",
    "        return \"04 Apr\"\n",
    "    elif x == \"May\":\n",
    "        return \"05 May\"\n",
    "    elif x == \"Jun\":\n",
    "        return \"06 Jun\"\n",
    "    elif x == \"Jul\":\n",
    "        return \"07 Jul\"\n",
    "    elif x == \"Aug\":\n",
    "        return \"08 Aug\"\n",
    "    elif x == \"Sep\":\n",
    "        return \"09 Sep\"\n",
    "    elif x == \"Oct\":\n",
    "        return \"10 Oct\"\n",
    "    elif x == \"Nov\":\n",
    "        return \"11 Nov\"\n",
    "    elif x == \"Dec\":\n",
    "        return \"12 Dec\""
   ]
  }
 ],
 "metadata": {
  "kernelspec": {
   "display_name": "Python 3",
   "language": "python",
   "name": "python3"
  },
  "language_info": {
   "codemirror_mode": {
    "name": "ipython",
    "version": 3
   },
   "file_extension": ".py",
   "mimetype": "text/x-python",
   "name": "python",
   "nbconvert_exporter": "python",
   "pygments_lexer": "ipython3",
   "version": "3.8.8"
  }
 },
 "nbformat": 4,
 "nbformat_minor": 5
}
