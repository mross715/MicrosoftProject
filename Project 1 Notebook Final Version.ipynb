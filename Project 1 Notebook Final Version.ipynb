{
 "cells": [
  {
   "cell_type": "markdown",
   "source": [
    "## Microsoft Industry Project\n",
    "\n",
    "Microsoft has been a leader in the tech industry for many years due to its prodcut development and technological advancements. With their revenue and profits soaring throughout the years, they have decided to venture into different industries in order to diversify their investments. They have hired 3 data scientists to explore and analyze the movie industry data and set recommendations for their first movie.\n",
    "\n",
    "### Metric: \n",
    "**Return on Investment(ROI)**\n",
    "\n",
    "### Questions to be answered\n",
    "\n",
    "1- What are the top 3 genres with the highest ROIs?\n",
    "\n",
    "2- Do release date months affect the ROI of the 3 genres?\n",
    "\n",
    "3- What were the production costs for the top 3 genres with the highest ROIs?"
   ],
   "metadata": {}
  },
  {
   "cell_type": "markdown",
   "source": [
    "## Importing the libraries"
   ],
   "metadata": {}
  },
  {
   "cell_type": "code",
   "execution_count": 114,
   "source": [
    "# import python libraries\r\n",
    "import seaborn as sns\r\n",
    "from matplotlib import pyplot as plt\r\n",
    "import numpy as np\r\n",
    "import pandas as pd"
   ],
   "outputs": [],
   "metadata": {}
  },
  {
   "cell_type": "markdown",
   "source": [
    "## Reading the data"
   ],
   "metadata": {}
  },
  {
   "cell_type": "code",
   "execution_count": 115,
   "source": [
    "# open the first data file\r\n",
    "title_basics = pd.read_csv('Data/imdb.title.basics.csv.gz')\r\n",
    "title_basics.head()\r\n",
    "title_basics['start_year'].min()"
   ],
   "outputs": [
    {
     "output_type": "execute_result",
     "data": {
      "text/plain": [
       "2010"
      ]
     },
     "metadata": {},
     "execution_count": 115
    }
   ],
   "metadata": {}
  },
  {
   "cell_type": "code",
   "execution_count": 116,
   "source": [
    "# open the second data file\r\n",
    "title_ratings = pd.read_csv('Data/imdb.title.ratings.csv.gz')\r\n",
    "title_ratings.head()"
   ],
   "outputs": [
    {
     "output_type": "execute_result",
     "data": {
      "text/plain": [
       "       tconst  averagerating  numvotes\n",
       "0  tt10356526            8.3        31\n",
       "1  tt10384606            8.9       559\n",
       "2   tt1042974            6.4        20\n",
       "3   tt1043726            4.2     50352\n",
       "4   tt1060240            6.5        21"
      ],
      "text/html": [
       "<div>\n",
       "<style scoped>\n",
       "    .dataframe tbody tr th:only-of-type {\n",
       "        vertical-align: middle;\n",
       "    }\n",
       "\n",
       "    .dataframe tbody tr th {\n",
       "        vertical-align: top;\n",
       "    }\n",
       "\n",
       "    .dataframe thead th {\n",
       "        text-align: right;\n",
       "    }\n",
       "</style>\n",
       "<table border=\"1\" class=\"dataframe\">\n",
       "  <thead>\n",
       "    <tr style=\"text-align: right;\">\n",
       "      <th></th>\n",
       "      <th>tconst</th>\n",
       "      <th>averagerating</th>\n",
       "      <th>numvotes</th>\n",
       "    </tr>\n",
       "  </thead>\n",
       "  <tbody>\n",
       "    <tr>\n",
       "      <th>0</th>\n",
       "      <td>tt10356526</td>\n",
       "      <td>8.3</td>\n",
       "      <td>31</td>\n",
       "    </tr>\n",
       "    <tr>\n",
       "      <th>1</th>\n",
       "      <td>tt10384606</td>\n",
       "      <td>8.9</td>\n",
       "      <td>559</td>\n",
       "    </tr>\n",
       "    <tr>\n",
       "      <th>2</th>\n",
       "      <td>tt1042974</td>\n",
       "      <td>6.4</td>\n",
       "      <td>20</td>\n",
       "    </tr>\n",
       "    <tr>\n",
       "      <th>3</th>\n",
       "      <td>tt1043726</td>\n",
       "      <td>4.2</td>\n",
       "      <td>50352</td>\n",
       "    </tr>\n",
       "    <tr>\n",
       "      <th>4</th>\n",
       "      <td>tt1060240</td>\n",
       "      <td>6.5</td>\n",
       "      <td>21</td>\n",
       "    </tr>\n",
       "  </tbody>\n",
       "</table>\n",
       "</div>"
      ]
     },
     "metadata": {},
     "execution_count": 116
    }
   ],
   "metadata": {}
  },
  {
   "cell_type": "code",
   "execution_count": 117,
   "source": [
    "# open the third data file\r\n",
    "movie_budgets = pd.read_csv('Data/tn.movie_budgets.csv.gz')\r\n",
    "movie_budgets.head()"
   ],
   "outputs": [
    {
     "output_type": "execute_result",
     "data": {
      "text/plain": [
       "   id  release_date                                        movie  \\\n",
       "0   1  Dec 18, 2009                                       Avatar   \n",
       "1   2  May 20, 2011  Pirates of the Caribbean: On Stranger Tides   \n",
       "2   3   Jun 7, 2019                                 Dark Phoenix   \n",
       "3   4   May 1, 2015                      Avengers: Age of Ultron   \n",
       "4   5  Dec 15, 2017            Star Wars Ep. VIII: The Last Jedi   \n",
       "\n",
       "  production_budget domestic_gross worldwide_gross  \n",
       "0      $425,000,000   $760,507,625  $2,776,345,279  \n",
       "1      $410,600,000   $241,063,875  $1,045,663,875  \n",
       "2      $350,000,000    $42,762,350    $149,762,350  \n",
       "3      $330,600,000   $459,005,868  $1,403,013,963  \n",
       "4      $317,000,000   $620,181,382  $1,316,721,747  "
      ],
      "text/html": [
       "<div>\n",
       "<style scoped>\n",
       "    .dataframe tbody tr th:only-of-type {\n",
       "        vertical-align: middle;\n",
       "    }\n",
       "\n",
       "    .dataframe tbody tr th {\n",
       "        vertical-align: top;\n",
       "    }\n",
       "\n",
       "    .dataframe thead th {\n",
       "        text-align: right;\n",
       "    }\n",
       "</style>\n",
       "<table border=\"1\" class=\"dataframe\">\n",
       "  <thead>\n",
       "    <tr style=\"text-align: right;\">\n",
       "      <th></th>\n",
       "      <th>id</th>\n",
       "      <th>release_date</th>\n",
       "      <th>movie</th>\n",
       "      <th>production_budget</th>\n",
       "      <th>domestic_gross</th>\n",
       "      <th>worldwide_gross</th>\n",
       "    </tr>\n",
       "  </thead>\n",
       "  <tbody>\n",
       "    <tr>\n",
       "      <th>0</th>\n",
       "      <td>1</td>\n",
       "      <td>Dec 18, 2009</td>\n",
       "      <td>Avatar</td>\n",
       "      <td>$425,000,000</td>\n",
       "      <td>$760,507,625</td>\n",
       "      <td>$2,776,345,279</td>\n",
       "    </tr>\n",
       "    <tr>\n",
       "      <th>1</th>\n",
       "      <td>2</td>\n",
       "      <td>May 20, 2011</td>\n",
       "      <td>Pirates of the Caribbean: On Stranger Tides</td>\n",
       "      <td>$410,600,000</td>\n",
       "      <td>$241,063,875</td>\n",
       "      <td>$1,045,663,875</td>\n",
       "    </tr>\n",
       "    <tr>\n",
       "      <th>2</th>\n",
       "      <td>3</td>\n",
       "      <td>Jun 7, 2019</td>\n",
       "      <td>Dark Phoenix</td>\n",
       "      <td>$350,000,000</td>\n",
       "      <td>$42,762,350</td>\n",
       "      <td>$149,762,350</td>\n",
       "    </tr>\n",
       "    <tr>\n",
       "      <th>3</th>\n",
       "      <td>4</td>\n",
       "      <td>May 1, 2015</td>\n",
       "      <td>Avengers: Age of Ultron</td>\n",
       "      <td>$330,600,000</td>\n",
       "      <td>$459,005,868</td>\n",
       "      <td>$1,403,013,963</td>\n",
       "    </tr>\n",
       "    <tr>\n",
       "      <th>4</th>\n",
       "      <td>5</td>\n",
       "      <td>Dec 15, 2017</td>\n",
       "      <td>Star Wars Ep. VIII: The Last Jedi</td>\n",
       "      <td>$317,000,000</td>\n",
       "      <td>$620,181,382</td>\n",
       "      <td>$1,316,721,747</td>\n",
       "    </tr>\n",
       "  </tbody>\n",
       "</table>\n",
       "</div>"
      ]
     },
     "metadata": {},
     "execution_count": 117
    }
   ],
   "metadata": {}
  },
  {
   "cell_type": "markdown",
   "source": [
    "## Data Preperation\n",
    "Before performing any analysis, the data has to be cleaned and merged for a proper dataset"
   ],
   "metadata": {}
  },
  {
   "cell_type": "markdown",
   "source": [
    "***Steps to preare data for title_basics***\n",
    "1. Rename and drop columns\n",
    "2. Calculate percentage of nulls in genre and drop null values"
   ],
   "metadata": {}
  },
  {
   "cell_type": "code",
   "execution_count": 118,
   "source": [
    "title_basics.head()"
   ],
   "outputs": [
    {
     "output_type": "execute_result",
     "data": {
      "text/plain": [
       "      tconst                    primary_title              original_title  \\\n",
       "0  tt0063540                        Sunghursh                   Sunghursh   \n",
       "1  tt0066787  One Day Before the Rainy Season             Ashad Ka Ek Din   \n",
       "2  tt0069049       The Other Side of the Wind  The Other Side of the Wind   \n",
       "3  tt0069204                  Sabse Bada Sukh             Sabse Bada Sukh   \n",
       "4  tt0100275         The Wandering Soap Opera       La Telenovela Errante   \n",
       "\n",
       "   start_year  runtime_minutes                genres  \n",
       "0        2013            175.0    Action,Crime,Drama  \n",
       "1        2019            114.0       Biography,Drama  \n",
       "2        2018            122.0                 Drama  \n",
       "3        2018              NaN          Comedy,Drama  \n",
       "4        2017             80.0  Comedy,Drama,Fantasy  "
      ],
      "text/html": [
       "<div>\n",
       "<style scoped>\n",
       "    .dataframe tbody tr th:only-of-type {\n",
       "        vertical-align: middle;\n",
       "    }\n",
       "\n",
       "    .dataframe tbody tr th {\n",
       "        vertical-align: top;\n",
       "    }\n",
       "\n",
       "    .dataframe thead th {\n",
       "        text-align: right;\n",
       "    }\n",
       "</style>\n",
       "<table border=\"1\" class=\"dataframe\">\n",
       "  <thead>\n",
       "    <tr style=\"text-align: right;\">\n",
       "      <th></th>\n",
       "      <th>tconst</th>\n",
       "      <th>primary_title</th>\n",
       "      <th>original_title</th>\n",
       "      <th>start_year</th>\n",
       "      <th>runtime_minutes</th>\n",
       "      <th>genres</th>\n",
       "    </tr>\n",
       "  </thead>\n",
       "  <tbody>\n",
       "    <tr>\n",
       "      <th>0</th>\n",
       "      <td>tt0063540</td>\n",
       "      <td>Sunghursh</td>\n",
       "      <td>Sunghursh</td>\n",
       "      <td>2013</td>\n",
       "      <td>175.0</td>\n",
       "      <td>Action,Crime,Drama</td>\n",
       "    </tr>\n",
       "    <tr>\n",
       "      <th>1</th>\n",
       "      <td>tt0066787</td>\n",
       "      <td>One Day Before the Rainy Season</td>\n",
       "      <td>Ashad Ka Ek Din</td>\n",
       "      <td>2019</td>\n",
       "      <td>114.0</td>\n",
       "      <td>Biography,Drama</td>\n",
       "    </tr>\n",
       "    <tr>\n",
       "      <th>2</th>\n",
       "      <td>tt0069049</td>\n",
       "      <td>The Other Side of the Wind</td>\n",
       "      <td>The Other Side of the Wind</td>\n",
       "      <td>2018</td>\n",
       "      <td>122.0</td>\n",
       "      <td>Drama</td>\n",
       "    </tr>\n",
       "    <tr>\n",
       "      <th>3</th>\n",
       "      <td>tt0069204</td>\n",
       "      <td>Sabse Bada Sukh</td>\n",
       "      <td>Sabse Bada Sukh</td>\n",
       "      <td>2018</td>\n",
       "      <td>NaN</td>\n",
       "      <td>Comedy,Drama</td>\n",
       "    </tr>\n",
       "    <tr>\n",
       "      <th>4</th>\n",
       "      <td>tt0100275</td>\n",
       "      <td>The Wandering Soap Opera</td>\n",
       "      <td>La Telenovela Errante</td>\n",
       "      <td>2017</td>\n",
       "      <td>80.0</td>\n",
       "      <td>Comedy,Drama,Fantasy</td>\n",
       "    </tr>\n",
       "  </tbody>\n",
       "</table>\n",
       "</div>"
      ]
     },
     "metadata": {},
     "execution_count": 118
    }
   ],
   "metadata": {}
  },
  {
   "cell_type": "code",
   "execution_count": 119,
   "source": [
    "#1\n",
    "title_basics.rename(columns = {'primary_title':'movie'}, inplace = True)"
   ],
   "outputs": [],
   "metadata": {}
  },
  {
   "cell_type": "code",
   "execution_count": 120,
   "source": [
    "#1\n",
    "title_basics.drop(columns = [\"original_title\",\"runtime_minutes\"], inplace=True)"
   ],
   "outputs": [],
   "metadata": {}
  },
  {
   "cell_type": "code",
   "execution_count": 121,
   "source": [
    "title_basics['genres'].isna().sum()/146144*100"
   ],
   "outputs": [
    {
     "output_type": "execute_result",
     "data": {
      "text/plain": [
       "3.7004598204510617"
      ]
     },
     "metadata": {},
     "execution_count": 121
    }
   ],
   "metadata": {}
  },
  {
   "cell_type": "code",
   "execution_count": 122,
   "source": [
    "#2\n",
    "title_basics.dropna(subset= ['genres'], inplace = True)"
   ],
   "outputs": [],
   "metadata": {}
  },
  {
   "cell_type": "code",
   "execution_count": 123,
   "source": [
    "title_basics.head()"
   ],
   "outputs": [
    {
     "output_type": "execute_result",
     "data": {
      "text/plain": [
       "      tconst                            movie  start_year  \\\n",
       "0  tt0063540                        Sunghursh        2013   \n",
       "1  tt0066787  One Day Before the Rainy Season        2019   \n",
       "2  tt0069049       The Other Side of the Wind        2018   \n",
       "3  tt0069204                  Sabse Bada Sukh        2018   \n",
       "4  tt0100275         The Wandering Soap Opera        2017   \n",
       "\n",
       "                 genres  \n",
       "0    Action,Crime,Drama  \n",
       "1       Biography,Drama  \n",
       "2                 Drama  \n",
       "3          Comedy,Drama  \n",
       "4  Comedy,Drama,Fantasy  "
      ],
      "text/html": [
       "<div>\n",
       "<style scoped>\n",
       "    .dataframe tbody tr th:only-of-type {\n",
       "        vertical-align: middle;\n",
       "    }\n",
       "\n",
       "    .dataframe tbody tr th {\n",
       "        vertical-align: top;\n",
       "    }\n",
       "\n",
       "    .dataframe thead th {\n",
       "        text-align: right;\n",
       "    }\n",
       "</style>\n",
       "<table border=\"1\" class=\"dataframe\">\n",
       "  <thead>\n",
       "    <tr style=\"text-align: right;\">\n",
       "      <th></th>\n",
       "      <th>tconst</th>\n",
       "      <th>movie</th>\n",
       "      <th>start_year</th>\n",
       "      <th>genres</th>\n",
       "    </tr>\n",
       "  </thead>\n",
       "  <tbody>\n",
       "    <tr>\n",
       "      <th>0</th>\n",
       "      <td>tt0063540</td>\n",
       "      <td>Sunghursh</td>\n",
       "      <td>2013</td>\n",
       "      <td>Action,Crime,Drama</td>\n",
       "    </tr>\n",
       "    <tr>\n",
       "      <th>1</th>\n",
       "      <td>tt0066787</td>\n",
       "      <td>One Day Before the Rainy Season</td>\n",
       "      <td>2019</td>\n",
       "      <td>Biography,Drama</td>\n",
       "    </tr>\n",
       "    <tr>\n",
       "      <th>2</th>\n",
       "      <td>tt0069049</td>\n",
       "      <td>The Other Side of the Wind</td>\n",
       "      <td>2018</td>\n",
       "      <td>Drama</td>\n",
       "    </tr>\n",
       "    <tr>\n",
       "      <th>3</th>\n",
       "      <td>tt0069204</td>\n",
       "      <td>Sabse Bada Sukh</td>\n",
       "      <td>2018</td>\n",
       "      <td>Comedy,Drama</td>\n",
       "    </tr>\n",
       "    <tr>\n",
       "      <th>4</th>\n",
       "      <td>tt0100275</td>\n",
       "      <td>The Wandering Soap Opera</td>\n",
       "      <td>2017</td>\n",
       "      <td>Comedy,Drama,Fantasy</td>\n",
       "    </tr>\n",
       "  </tbody>\n",
       "</table>\n",
       "</div>"
      ]
     },
     "metadata": {},
     "execution_count": 123
    }
   ],
   "metadata": {}
  },
  {
   "cell_type": "markdown",
   "source": [
    "***"
   ],
   "metadata": {}
  },
  {
   "cell_type": "markdown",
   "source": [
    "***Steps to prepare data for movie_budgets***\n",
    "1. Add release_year and release_month columns\n",
    "2. Change production_budget, domestic_gross, and worldwide_budget to integers\n",
    "3. Drop id column and drop rows where worldwide_gross or production_budget == 0\n",
    "4. Add profit column & Calculate:\n",
    "    1. profit in millions\n",
    "    2. production budget in millions\n",
    "5. Add ROI column(calculates return on investment) and round to 2 decimal places\n",
    "6. Add movie year column"
   ],
   "metadata": {}
  },
  {
   "cell_type": "code",
   "execution_count": 124,
   "source": [
    "#1\n",
    "movie_budgets[\"release_year\"]= [x[7:] for x in movie_budgets[\"release_date\"]]\n",
    "movie_budgets[\"release_month\"]= [x[:4] for x in movie_budgets[\"release_date\"]]\n",
    "\n",
    "#for the purpose of graphing, edited each month with numeric values in the beginning \n",
    "movie_budgets[\"release_month\"] = movie_budgets[\"release_month\"].str.replace(\"Jan\", \"01 Jan\")\n",
    "movie_budgets[\"release_month\"] = movie_budgets[\"release_month\"].str.replace(\"Feb\", \"02 Feb\")\n",
    "movie_budgets[\"release_month\"] = movie_budgets[\"release_month\"].str.replace(\"Mar\", \"03 Mar\")\n",
    "movie_budgets[\"release_month\"] = movie_budgets[\"release_month\"].str.replace(\"Apr\", \"04 Apr\")\n",
    "movie_budgets[\"release_month\"] = movie_budgets[\"release_month\"].str.replace(\"May\", \"05 May\")\n",
    "movie_budgets[\"release_month\"] = movie_budgets[\"release_month\"].str.replace(\"Jun\", \"06 Jun\")\n",
    "movie_budgets[\"release_month\"] = movie_budgets[\"release_month\"].str.replace(\"Jul\", \"07 Jul\")\n",
    "movie_budgets[\"release_month\"] = movie_budgets[\"release_month\"].str.replace(\"Aug\", \"08 Aug\")\n",
    "movie_budgets[\"release_month\"] = movie_budgets[\"release_month\"].str.replace(\"Sep\", \"09 Sep\")\n",
    "movie_budgets[\"release_month\"] = movie_budgets[\"release_month\"].str.replace(\"Oct\", \"10 Oct\")\n",
    "movie_budgets[\"release_month\"] = movie_budgets[\"release_month\"].str.replace(\"Nov\", \"11 Nov\")\n",
    "movie_budgets[\"release_month\"] = movie_budgets[\"release_month\"].str.replace(\"Dec\", \"12 Dec\")"
   ],
   "outputs": [],
   "metadata": {}
  },
  {
   "cell_type": "code",
   "execution_count": 125,
   "source": [
    "#2\n",
    "movie_budgets['production_budget'] = movie_budgets['production_budget'].replace('[\\$,]', '', regex=True).astype(float)\n",
    "movie_budgets['domestic_gross'] = movie_budgets['domestic_gross'].replace('[\\$,]', '', regex=True).astype(float)\n",
    "movie_budgets['worldwide_gross'] = movie_budgets['worldwide_gross'].replace('[\\$,]', '', regex=True).astype(float)"
   ],
   "outputs": [],
   "metadata": {}
  },
  {
   "cell_type": "code",
   "execution_count": 126,
   "source": [
    "#3\n",
    "movie_budgets.drop(columns = [\"id\"], inplace=True)\n",
    "# drop rows where worldwide_gross or production_budget is 0\n",
    "movie_budgets = movie_budgets[movie_budgets.worldwide_gross != 0]\n",
    "movie_budgets = movie_budgets[movie_budgets.production_budget != 0]"
   ],
   "outputs": [],
   "metadata": {}
  },
  {
   "cell_type": "code",
   "execution_count": 127,
   "source": [
    "#4\n",
    "movie_budgets['profit'] = movie_budgets['worldwide_gross'] - movie_budgets['production_budget']\n",
    "# calculate profit in millions\n",
    "movie_budgets['profit_million']=(movie_budgets['profit']/1000000)\n",
    "# calculate production budget in millions\n",
    "movie_budgets['production_budget_million']=(movie_budgets['production_budget']/1000000)"
   ],
   "outputs": [],
   "metadata": {}
  },
  {
   "cell_type": "code",
   "execution_count": 128,
   "source": [
    "#5\r\n",
    "movie_budgets['ROI'] = (movie_budgets['profit'] / movie_budgets['production_budget']) * 100\r\n",
    "movie_budgets = movie_budgets.round({'ROI': 2})"
   ],
   "outputs": [],
   "metadata": {}
  },
  {
   "cell_type": "code",
   "execution_count": 129,
   "source": [
    "#6\r\n",
    "movie_budgets['year'] = pd.DatetimeIndex(movie_budgets['release_date']).year"
   ],
   "outputs": [],
   "metadata": {}
  },
  {
   "cell_type": "code",
   "execution_count": 130,
   "source": [
    "movie_budgets.head()"
   ],
   "outputs": [
    {
     "output_type": "execute_result",
     "data": {
      "text/plain": [
       "   release_date                                        movie  \\\n",
       "0  Dec 18, 2009                                       Avatar   \n",
       "1  May 20, 2011  Pirates of the Caribbean: On Stranger Tides   \n",
       "2   Jun 7, 2019                                 Dark Phoenix   \n",
       "3   May 1, 2015                      Avengers: Age of Ultron   \n",
       "4  Dec 15, 2017            Star Wars Ep. VIII: The Last Jedi   \n",
       "\n",
       "   production_budget  domestic_gross  worldwide_gross release_year  \\\n",
       "0        425000000.0     760507625.0     2.776345e+09         2009   \n",
       "1        410600000.0     241063875.0     1.045664e+09         2011   \n",
       "2        350000000.0      42762350.0     1.497624e+08         2019   \n",
       "3        330600000.0     459005868.0     1.403014e+09         2015   \n",
       "4        317000000.0     620181382.0     1.316722e+09         2017   \n",
       "\n",
       "  release_month        profit  profit_million  production_budget_million  \\\n",
       "0       12 Dec   2.351345e+09     2351.345279                      425.0   \n",
       "1       05 May   6.350639e+08      635.063875                      410.6   \n",
       "2       06 Jun  -2.002376e+08     -200.237650                      350.0   \n",
       "3       05 May   1.072414e+09     1072.413963                      330.6   \n",
       "4       12 Dec   9.997217e+08      999.721747                      317.0   \n",
       "\n",
       "      ROI  year  \n",
       "0  553.26  2009  \n",
       "1  154.67  2011  \n",
       "2  -57.21  2019  \n",
       "3  324.38  2015  \n",
       "4  315.37  2017  "
      ],
      "text/html": [
       "<div>\n",
       "<style scoped>\n",
       "    .dataframe tbody tr th:only-of-type {\n",
       "        vertical-align: middle;\n",
       "    }\n",
       "\n",
       "    .dataframe tbody tr th {\n",
       "        vertical-align: top;\n",
       "    }\n",
       "\n",
       "    .dataframe thead th {\n",
       "        text-align: right;\n",
       "    }\n",
       "</style>\n",
       "<table border=\"1\" class=\"dataframe\">\n",
       "  <thead>\n",
       "    <tr style=\"text-align: right;\">\n",
       "      <th></th>\n",
       "      <th>release_date</th>\n",
       "      <th>movie</th>\n",
       "      <th>production_budget</th>\n",
       "      <th>domestic_gross</th>\n",
       "      <th>worldwide_gross</th>\n",
       "      <th>release_year</th>\n",
       "      <th>release_month</th>\n",
       "      <th>profit</th>\n",
       "      <th>profit_million</th>\n",
       "      <th>production_budget_million</th>\n",
       "      <th>ROI</th>\n",
       "      <th>year</th>\n",
       "    </tr>\n",
       "  </thead>\n",
       "  <tbody>\n",
       "    <tr>\n",
       "      <th>0</th>\n",
       "      <td>Dec 18, 2009</td>\n",
       "      <td>Avatar</td>\n",
       "      <td>425000000.0</td>\n",
       "      <td>760507625.0</td>\n",
       "      <td>2.776345e+09</td>\n",
       "      <td>2009</td>\n",
       "      <td>12 Dec</td>\n",
       "      <td>2.351345e+09</td>\n",
       "      <td>2351.345279</td>\n",
       "      <td>425.0</td>\n",
       "      <td>553.26</td>\n",
       "      <td>2009</td>\n",
       "    </tr>\n",
       "    <tr>\n",
       "      <th>1</th>\n",
       "      <td>May 20, 2011</td>\n",
       "      <td>Pirates of the Caribbean: On Stranger Tides</td>\n",
       "      <td>410600000.0</td>\n",
       "      <td>241063875.0</td>\n",
       "      <td>1.045664e+09</td>\n",
       "      <td>2011</td>\n",
       "      <td>05 May</td>\n",
       "      <td>6.350639e+08</td>\n",
       "      <td>635.063875</td>\n",
       "      <td>410.6</td>\n",
       "      <td>154.67</td>\n",
       "      <td>2011</td>\n",
       "    </tr>\n",
       "    <tr>\n",
       "      <th>2</th>\n",
       "      <td>Jun 7, 2019</td>\n",
       "      <td>Dark Phoenix</td>\n",
       "      <td>350000000.0</td>\n",
       "      <td>42762350.0</td>\n",
       "      <td>1.497624e+08</td>\n",
       "      <td>2019</td>\n",
       "      <td>06 Jun</td>\n",
       "      <td>-2.002376e+08</td>\n",
       "      <td>-200.237650</td>\n",
       "      <td>350.0</td>\n",
       "      <td>-57.21</td>\n",
       "      <td>2019</td>\n",
       "    </tr>\n",
       "    <tr>\n",
       "      <th>3</th>\n",
       "      <td>May 1, 2015</td>\n",
       "      <td>Avengers: Age of Ultron</td>\n",
       "      <td>330600000.0</td>\n",
       "      <td>459005868.0</td>\n",
       "      <td>1.403014e+09</td>\n",
       "      <td>2015</td>\n",
       "      <td>05 May</td>\n",
       "      <td>1.072414e+09</td>\n",
       "      <td>1072.413963</td>\n",
       "      <td>330.6</td>\n",
       "      <td>324.38</td>\n",
       "      <td>2015</td>\n",
       "    </tr>\n",
       "    <tr>\n",
       "      <th>4</th>\n",
       "      <td>Dec 15, 2017</td>\n",
       "      <td>Star Wars Ep. VIII: The Last Jedi</td>\n",
       "      <td>317000000.0</td>\n",
       "      <td>620181382.0</td>\n",
       "      <td>1.316722e+09</td>\n",
       "      <td>2017</td>\n",
       "      <td>12 Dec</td>\n",
       "      <td>9.997217e+08</td>\n",
       "      <td>999.721747</td>\n",
       "      <td>317.0</td>\n",
       "      <td>315.37</td>\n",
       "      <td>2017</td>\n",
       "    </tr>\n",
       "  </tbody>\n",
       "</table>\n",
       "</div>"
      ]
     },
     "metadata": {},
     "execution_count": 130
    }
   ],
   "metadata": {}
  },
  {
   "cell_type": "markdown",
   "source": [
    "***"
   ],
   "metadata": {}
  },
  {
   "cell_type": "markdown",
   "source": [
    "## Merging Data Tables\n",
    "Merge the two tables in order to get a proper dataframe "
   ],
   "metadata": {}
  },
  {
   "cell_type": "markdown",
   "source": [
    "***Steps to merge data for new dataframe: mdf***\n",
    "1. Merge title_basics and title_ratings into: imdb_data\n",
    "2. Merge imdb_data and movie_budgets into: mdf"
   ],
   "metadata": {}
  },
  {
   "cell_type": "code",
   "execution_count": 131,
   "source": [
    "#1\r\n",
    "imdb_data = pd.merge(title_basics, title_ratings, how = 'inner', on = 'tconst')"
   ],
   "outputs": [],
   "metadata": {}
  },
  {
   "cell_type": "code",
   "execution_count": 132,
   "source": [
    "#2\r\n",
    "mdf = pd.merge(imdb_data, movie_budgets, how = 'inner', on = 'movie')"
   ],
   "outputs": [],
   "metadata": {}
  },
  {
   "cell_type": "code",
   "execution_count": 133,
   "source": [
    "mdf.shape"
   ],
   "outputs": [
    {
     "output_type": "execute_result",
     "data": {
      "text/plain": [
       "(2592, 17)"
      ]
     },
     "metadata": {},
     "execution_count": 133
    }
   ],
   "metadata": {}
  },
  {
   "cell_type": "markdown",
   "source": [
    "***"
   ],
   "metadata": {}
  },
  {
   "cell_type": "markdown",
   "source": [
    "## Preparing mdf dataframe\n",
    "The dataframe ***mdf*** needs to be cleaned, sorted and filtered in order to keep the proper values"
   ],
   "metadata": {}
  },
  {
   "cell_type": "markdown",
   "source": [
    "***Steps to prepare dataframe***\n",
    "1. Move the movies with the most votes on imdb_data up to top\n",
    "2. Create a column same_year that is 0 if the movies have the same start year and same year from the release date column\n",
    "3. Change mdf to include movies only if same_year == 0\n",
    "4. Drop:\n",
    "    1. duplicate titles\n",
    "    2. tconst"
   ],
   "metadata": {}
  },
  {
   "cell_type": "code",
   "execution_count": 134,
   "source": [
    "#1\r\n",
    "mdf=mdf.sort_values(by='numvotes', ascending = False)"
   ],
   "outputs": [],
   "metadata": {}
  },
  {
   "cell_type": "code",
   "execution_count": 135,
   "source": [
    "#2\r\n",
    "mdf['same_year']= mdf['start_year']-mdf['year']"
   ],
   "outputs": [],
   "metadata": {}
  },
  {
   "cell_type": "code",
   "execution_count": 136,
   "source": [
    "#3\r\n",
    "mdf = mdf.loc[mdf['same_year']== 0]"
   ],
   "outputs": [],
   "metadata": {}
  },
  {
   "cell_type": "code",
   "execution_count": 137,
   "source": [
    "#4\r\n",
    "mdf = mdf.drop_duplicates(subset='movie')\r\n",
    "mdf.drop(columns = [\"tconst\"], inplace=True)"
   ],
   "outputs": [],
   "metadata": {}
  },
  {
   "cell_type": "code",
   "execution_count": 138,
   "source": [
    "mdf.shape"
   ],
   "outputs": [
    {
     "output_type": "execute_result",
     "data": {
      "text/plain": [
       "(1357, 17)"
      ]
     },
     "metadata": {},
     "execution_count": 138
    }
   ],
   "metadata": {}
  },
  {
   "cell_type": "markdown",
   "source": [
    "***"
   ],
   "metadata": {}
  },
  {
   "cell_type": "markdown",
   "source": [
    "## Checking for data rows\n",
    "The IMDB data contains movies only from 2010 on. The movie budgets table has movies ranging back to 1915, so we figured that when we merge the two tables we will be limited in the number of movies that are shared between the two tables. \n",
    "\n",
    "To make sure our merge of IMDB data with the movie budgets provided us with a good number of data, before merging we looked at the mean ROI from the movie budgets table for the years after 2010.  Then we compared it to the mean ROI after merging the two tables."
   ],
   "metadata": {}
  },
  {
   "cell_type": "markdown",
   "source": [
    "***Steps to check for number of data rows***\n",
    "1. Create movie_budgets_filtered, filtering the values from movie_budgets['year'] >= 10\n",
    "2. Find the ROI mean of movie_budgets_filtered\n",
    "3. Find the ROI mean of mdf"
   ],
   "metadata": {}
  },
  {
   "cell_type": "code",
   "execution_count": 139,
   "source": [
    "#1\n",
    "movie_budgets_filtered = movie_budgets[movie_budgets['year'] >= 2010]"
   ],
   "outputs": [],
   "metadata": {}
  },
  {
   "cell_type": "code",
   "execution_count": 140,
   "source": [
    "#2\n",
    "movie_budgets_filtered['ROI'].mean()"
   ],
   "outputs": [
    {
     "output_type": "execute_result",
     "data": {
      "text/plain": [
       "266.4769458896981"
      ]
     },
     "metadata": {},
     "execution_count": 140
    }
   ],
   "metadata": {}
  },
  {
   "cell_type": "code",
   "execution_count": 141,
   "source": [
    "#3\n",
    "mdf['ROI'].mean()"
   ],
   "outputs": [
    {
     "output_type": "execute_result",
     "data": {
      "text/plain": [
       "298.7207295504783"
      ]
     },
     "metadata": {},
     "execution_count": 141
    }
   ],
   "metadata": {}
  },
  {
   "cell_type": "markdown",
   "source": [
    "The mean ROI for the data before merging is slightly lower than the data after merging, however they are close enough to continue working with the reduced amount of data."
   ],
   "metadata": {}
  },
  {
   "cell_type": "markdown",
   "source": [
    "## Finding how to subset mdf['genre']\n",
    "We then explored how to proceed with the gernes. First we investigated whether a subset of the  combined genres would represent enough of the movie data to look at the combined genres as individual categories."
   ],
   "metadata": {}
  },
  {
   "cell_type": "code",
   "execution_count": 142,
   "source": [
    "mdf['genres'].value_counts()"
   ],
   "outputs": [
    {
     "output_type": "execute_result",
     "data": {
      "text/plain": [
       "Adventure,Animation,Comedy      67\n",
       "Action,Adventure,Sci-Fi         51\n",
       "Comedy,Drama,Romance            49\n",
       "Comedy                          48\n",
       "Comedy,Drama                    42\n",
       "                                ..\n",
       "Drama,Music,Musical              1\n",
       "Adventure,Comedy,Romance         1\n",
       "Action,Comedy,Sport              1\n",
       "Adventure,Drama,History          1\n",
       "Action,Biography,Documentary     1\n",
       "Name: genres, Length: 214, dtype: int64"
      ]
     },
     "metadata": {},
     "execution_count": 142
    }
   ],
   "metadata": {}
  },
  {
   "cell_type": "markdown",
   "source": [
    "There are 214 unique genre combinations. We look at the top 20 genres (about 10% of the total genres) to see if that represented enough of the data set to proceed with the combined genres."
   ],
   "metadata": {}
  },
  {
   "cell_type": "code",
   "execution_count": 143,
   "source": [
    "mdf_combined_genres = mdf[mdf['genres'].map(mdf['genres'].value_counts() >= 17)] "
   ],
   "outputs": [],
   "metadata": {}
  },
  {
   "cell_type": "code",
   "execution_count": 144,
   "source": [
    "mdf_combined_genres['genres'].value_counts()"
   ],
   "outputs": [
    {
     "output_type": "execute_result",
     "data": {
      "text/plain": [
       "Adventure,Animation,Comedy    67\n",
       "Action,Adventure,Sci-Fi       51\n",
       "Comedy,Drama,Romance          49\n",
       "Comedy                        48\n",
       "Comedy,Drama                  42\n",
       "Drama                         40\n",
       "Comedy,Romance                40\n",
       "Action,Crime,Drama            38\n",
       "Drama,Romance                 32\n",
       "Action,Adventure,Fantasy      31\n",
       "Action,Comedy,Crime           29\n",
       "Horror,Mystery,Thriller       29\n",
       "Action,Adventure,Drama        26\n",
       "Drama,Thriller                21\n",
       "Crime,Drama,Thriller          21\n",
       "Action,Crime,Thriller         21\n",
       "Biography,Drama,History       20\n",
       "Action,Adventure,Comedy       20\n",
       "Horror,Thriller               20\n",
       "Biography,Comedy,Drama        17\n",
       "Name: genres, dtype: int64"
      ]
     },
     "metadata": {},
     "execution_count": 144
    }
   ],
   "metadata": {}
  },
  {
   "cell_type": "code",
   "execution_count": 145,
   "source": [
    "mdf_combined_genres['genres'].value_counts().sum()"
   ],
   "outputs": [
    {
     "output_type": "execute_result",
     "data": {
      "text/plain": [
       "662"
      ]
     },
     "metadata": {},
     "execution_count": 145
    }
   ],
   "metadata": {}
  },
  {
   "cell_type": "code",
   "execution_count": 146,
   "source": [
    "662/1357"
   ],
   "outputs": [
    {
     "output_type": "execute_result",
     "data": {
      "text/plain": [
       "0.48784082535003687"
      ]
     },
     "metadata": {},
     "execution_count": 146
    }
   ],
   "metadata": {}
  },
  {
   "cell_type": "markdown",
   "source": [
    "The top 20 combined genres, which is about 10% of the combined genres, represent less than 50% of the movies in the data. For that reason, it will be more helpful to look at the movies separated into single genres."
   ],
   "metadata": {}
  },
  {
   "cell_type": "markdown",
   "source": [
    "## Seperating mdf['genre'] \n",
    "Each genre is seperated into its own value in order to compare the averages of the ROI. This will allow us to view the genres with the highest average ROI."
   ],
   "metadata": {}
  },
  {
   "cell_type": "markdown",
   "source": [
    "***Steps to seperating genres***\n",
    "1. Seperate genres column values into lists\n",
    "2. Create a new dataframe mdf2 to filter each genre within a movie\n",
    "3. Remove 'The Gallows' movie and 'The Devil Inside'(both are outliers) and set the new dataframe to no_gallows\n",
    "4. Filter no_gallows to only include positive ROIs, creating a new dataframe: no_gallows_pos\n",
    "5. Create sorted_genres2 dataframe which is grouped by the unique genres"
   ],
   "metadata": {}
  },
  {
   "cell_type": "code",
   "execution_count": 147,
   "source": [
    "#1\r\n",
    "mdf[\"genres\"] = mdf[\"genres\"].apply(lambda x: x.split(\",\") if type(x) == str else x)"
   ],
   "outputs": [],
   "metadata": {}
  },
  {
   "cell_type": "code",
   "execution_count": 148,
   "source": [
    "mdf.shape"
   ],
   "outputs": [
    {
     "output_type": "execute_result",
     "data": {
      "text/plain": [
       "(1357, 17)"
      ]
     },
     "metadata": {},
     "execution_count": 148
    }
   ],
   "metadata": {}
  },
  {
   "cell_type": "code",
   "execution_count": 149,
   "source": [
    "mdf.head()"
   ],
   "outputs": [
    {
     "output_type": "execute_result",
     "data": {
      "text/plain": [
       "                      movie  start_year                       genres  \\\n",
       "510               Inception        2010  [Action, Adventure, Sci-Fi]   \n",
       "477   The Dark Knight Rises        2012           [Action, Thriller]   \n",
       "96             Interstellar        2014   [Adventure, Drama, Sci-Fi]   \n",
       "1296       Django Unchained        2012             [Drama, Western]   \n",
       "110            The Avengers        2012  [Action, Adventure, Sci-Fi]   \n",
       "\n",
       "      averagerating  numvotes  release_date  production_budget  \\\n",
       "510             8.8   1841066  Jul 16, 2010        160000000.0   \n",
       "477             8.4   1387769  Jul 20, 2012        275000000.0   \n",
       "96              8.6   1299334   Nov 5, 2014        165000000.0   \n",
       "1296            8.4   1211405  Dec 25, 2012        100000000.0   \n",
       "110             8.1   1183655   May 4, 2012        225000000.0   \n",
       "\n",
       "      domestic_gross  worldwide_gross release_year release_month  \\\n",
       "510      292576195.0     8.355246e+08         2010       07 Jul    \n",
       "477      448139099.0     1.084439e+09         2012       07 Jul    \n",
       "96       188017894.0     6.663794e+08         2014       11 Nov    \n",
       "1296     162805434.0     4.499483e+08         2012       12 Dec    \n",
       "110      623279547.0     1.517936e+09         2012       05 May    \n",
       "\n",
       "            profit  profit_million  production_budget_million     ROI  year  \\\n",
       "510   6.755246e+08      675.524642                      160.0  422.20  2010   \n",
       "477   8.094391e+08      809.439099                      275.0  294.34  2012   \n",
       "96    5.013794e+08      501.379375                      165.0  303.87  2014   \n",
       "1296  3.499483e+08      349.948323                      100.0  349.95  2012   \n",
       "110   1.292936e+09     1292.935897                      225.0  574.64  2012   \n",
       "\n",
       "      same_year  \n",
       "510           0  \n",
       "477           0  \n",
       "96            0  \n",
       "1296          0  \n",
       "110           0  "
      ],
      "text/html": [
       "<div>\n",
       "<style scoped>\n",
       "    .dataframe tbody tr th:only-of-type {\n",
       "        vertical-align: middle;\n",
       "    }\n",
       "\n",
       "    .dataframe tbody tr th {\n",
       "        vertical-align: top;\n",
       "    }\n",
       "\n",
       "    .dataframe thead th {\n",
       "        text-align: right;\n",
       "    }\n",
       "</style>\n",
       "<table border=\"1\" class=\"dataframe\">\n",
       "  <thead>\n",
       "    <tr style=\"text-align: right;\">\n",
       "      <th></th>\n",
       "      <th>movie</th>\n",
       "      <th>start_year</th>\n",
       "      <th>genres</th>\n",
       "      <th>averagerating</th>\n",
       "      <th>numvotes</th>\n",
       "      <th>release_date</th>\n",
       "      <th>production_budget</th>\n",
       "      <th>domestic_gross</th>\n",
       "      <th>worldwide_gross</th>\n",
       "      <th>release_year</th>\n",
       "      <th>release_month</th>\n",
       "      <th>profit</th>\n",
       "      <th>profit_million</th>\n",
       "      <th>production_budget_million</th>\n",
       "      <th>ROI</th>\n",
       "      <th>year</th>\n",
       "      <th>same_year</th>\n",
       "    </tr>\n",
       "  </thead>\n",
       "  <tbody>\n",
       "    <tr>\n",
       "      <th>510</th>\n",
       "      <td>Inception</td>\n",
       "      <td>2010</td>\n",
       "      <td>[Action, Adventure, Sci-Fi]</td>\n",
       "      <td>8.8</td>\n",
       "      <td>1841066</td>\n",
       "      <td>Jul 16, 2010</td>\n",
       "      <td>160000000.0</td>\n",
       "      <td>292576195.0</td>\n",
       "      <td>8.355246e+08</td>\n",
       "      <td>2010</td>\n",
       "      <td>07 Jul</td>\n",
       "      <td>6.755246e+08</td>\n",
       "      <td>675.524642</td>\n",
       "      <td>160.0</td>\n",
       "      <td>422.20</td>\n",
       "      <td>2010</td>\n",
       "      <td>0</td>\n",
       "    </tr>\n",
       "    <tr>\n",
       "      <th>477</th>\n",
       "      <td>The Dark Knight Rises</td>\n",
       "      <td>2012</td>\n",
       "      <td>[Action, Thriller]</td>\n",
       "      <td>8.4</td>\n",
       "      <td>1387769</td>\n",
       "      <td>Jul 20, 2012</td>\n",
       "      <td>275000000.0</td>\n",
       "      <td>448139099.0</td>\n",
       "      <td>1.084439e+09</td>\n",
       "      <td>2012</td>\n",
       "      <td>07 Jul</td>\n",
       "      <td>8.094391e+08</td>\n",
       "      <td>809.439099</td>\n",
       "      <td>275.0</td>\n",
       "      <td>294.34</td>\n",
       "      <td>2012</td>\n",
       "      <td>0</td>\n",
       "    </tr>\n",
       "    <tr>\n",
       "      <th>96</th>\n",
       "      <td>Interstellar</td>\n",
       "      <td>2014</td>\n",
       "      <td>[Adventure, Drama, Sci-Fi]</td>\n",
       "      <td>8.6</td>\n",
       "      <td>1299334</td>\n",
       "      <td>Nov 5, 2014</td>\n",
       "      <td>165000000.0</td>\n",
       "      <td>188017894.0</td>\n",
       "      <td>6.663794e+08</td>\n",
       "      <td>2014</td>\n",
       "      <td>11 Nov</td>\n",
       "      <td>5.013794e+08</td>\n",
       "      <td>501.379375</td>\n",
       "      <td>165.0</td>\n",
       "      <td>303.87</td>\n",
       "      <td>2014</td>\n",
       "      <td>0</td>\n",
       "    </tr>\n",
       "    <tr>\n",
       "      <th>1296</th>\n",
       "      <td>Django Unchained</td>\n",
       "      <td>2012</td>\n",
       "      <td>[Drama, Western]</td>\n",
       "      <td>8.4</td>\n",
       "      <td>1211405</td>\n",
       "      <td>Dec 25, 2012</td>\n",
       "      <td>100000000.0</td>\n",
       "      <td>162805434.0</td>\n",
       "      <td>4.499483e+08</td>\n",
       "      <td>2012</td>\n",
       "      <td>12 Dec</td>\n",
       "      <td>3.499483e+08</td>\n",
       "      <td>349.948323</td>\n",
       "      <td>100.0</td>\n",
       "      <td>349.95</td>\n",
       "      <td>2012</td>\n",
       "      <td>0</td>\n",
       "    </tr>\n",
       "    <tr>\n",
       "      <th>110</th>\n",
       "      <td>The Avengers</td>\n",
       "      <td>2012</td>\n",
       "      <td>[Action, Adventure, Sci-Fi]</td>\n",
       "      <td>8.1</td>\n",
       "      <td>1183655</td>\n",
       "      <td>May 4, 2012</td>\n",
       "      <td>225000000.0</td>\n",
       "      <td>623279547.0</td>\n",
       "      <td>1.517936e+09</td>\n",
       "      <td>2012</td>\n",
       "      <td>05 May</td>\n",
       "      <td>1.292936e+09</td>\n",
       "      <td>1292.935897</td>\n",
       "      <td>225.0</td>\n",
       "      <td>574.64</td>\n",
       "      <td>2012</td>\n",
       "      <td>0</td>\n",
       "    </tr>\n",
       "  </tbody>\n",
       "</table>\n",
       "</div>"
      ]
     },
     "metadata": {},
     "execution_count": 149
    }
   ],
   "metadata": {}
  },
  {
   "cell_type": "code",
   "execution_count": 150,
   "source": [
    "#2\r\n",
    "mdf2 = mdf.explode('genres')"
   ],
   "outputs": [],
   "metadata": {}
  },
  {
   "cell_type": "code",
   "execution_count": 151,
   "source": [
    "mdf2.shape"
   ],
   "outputs": [
    {
     "output_type": "execute_result",
     "data": {
      "text/plain": [
       "(3530, 17)"
      ]
     },
     "metadata": {},
     "execution_count": 151
    }
   ],
   "metadata": {}
  },
  {
   "cell_type": "code",
   "execution_count": 152,
   "source": [
    "mdf2['genres'].unique()"
   ],
   "outputs": [
    {
     "output_type": "execute_result",
     "data": {
      "text/plain": [
       "array(['Action', 'Adventure', 'Sci-Fi', 'Thriller', 'Drama', 'Western',\n",
       "       'Biography', 'Crime', 'Mystery', 'Comedy', 'Family', 'Fantasy',\n",
       "       'Animation', 'Romance', 'Music', 'History', 'Horror', 'Sport',\n",
       "       'War', 'Musical', 'Documentary'], dtype=object)"
      ]
     },
     "metadata": {},
     "execution_count": 152
    }
   ],
   "metadata": {}
  },
  {
   "cell_type": "code",
   "execution_count": 153,
   "source": [
    "len(mdf2['genres'].unique())"
   ],
   "outputs": [
    {
     "output_type": "execute_result",
     "data": {
      "text/plain": [
       "21"
      ]
     },
     "metadata": {},
     "execution_count": 153
    }
   ],
   "metadata": {}
  },
  {
   "cell_type": "code",
   "execution_count": 154,
   "source": [
    "#3\r\n",
    "no_gallows = mdf2.drop(index = 1722).sort_values(by=\"ROI\",ascending = False)\r\n",
    "no_gallows = no_gallows.drop(index = 782).sort_values(by=\"ROI\",ascending = False)"
   ],
   "outputs": [],
   "metadata": {}
  },
  {
   "cell_type": "code",
   "execution_count": 155,
   "source": [
    "no_gallows.shape"
   ],
   "outputs": [
    {
     "output_type": "execute_result",
     "data": {
      "text/plain": [
       "(3526, 17)"
      ]
     },
     "metadata": {},
     "execution_count": 155
    }
   ],
   "metadata": {}
  },
  {
   "cell_type": "code",
   "execution_count": 156,
   "source": [
    "#4\r\n",
    "no_gallows_pos = no_gallows[no_gallows[\"ROI\"] > 0]"
   ],
   "outputs": [],
   "metadata": {}
  },
  {
   "cell_type": "code",
   "execution_count": 157,
   "source": [
    "no_gallows_pos"
   ],
   "outputs": [
    {
     "output_type": "execute_result",
     "data": {
      "text/plain": [
       "                      movie  start_year     genres  averagerating  numvotes  \\\n",
       "755   Paranormal Activity 2        2010     Horror            5.7     93122   \n",
       "2402                Get Out        2017   Thriller            7.7    400474   \n",
       "2402                Get Out        2017     Horror            7.7    400474   \n",
       "2402                Get Out        2017    Mystery            7.7    400474   \n",
       "2393              Moonlight        2016      Drama            7.4    227964   \n",
       "...                     ...         ...        ...            ...       ...   \n",
       "994                  Stoker        2013      Drama            6.8     97393   \n",
       "994                  Stoker        2013   Thriller            6.8     97393   \n",
       "148                    Hugo        2011      Drama            7.5    284869   \n",
       "148                    Hugo        2011  Adventure            7.5    284869   \n",
       "148                    Hugo        2011     Family            7.5    284869   \n",
       "\n",
       "      release_date  production_budget  domestic_gross  worldwide_gross  \\\n",
       "755   Oct 20, 2010          3000000.0      84752907.0      177512032.0   \n",
       "2402  Feb 24, 2017          5000000.0     176040665.0      255367951.0   \n",
       "2402  Feb 24, 2017          5000000.0     176040665.0      255367951.0   \n",
       "2402  Feb 24, 2017          5000000.0     176040665.0      255367951.0   \n",
       "2393  Oct 21, 2016          1500000.0      27854931.0       65245512.0   \n",
       "...            ...                ...             ...              ...   \n",
       "994    Mar 1, 2013         12000000.0       1703125.0       12034913.0   \n",
       "994    Mar 1, 2013         12000000.0       1703125.0       12034913.0   \n",
       "148   Nov 23, 2011        180000000.0      73864507.0      180047784.0   \n",
       "148   Nov 23, 2011        180000000.0      73864507.0      180047784.0   \n",
       "148   Nov 23, 2011        180000000.0      73864507.0      180047784.0   \n",
       "\n",
       "     release_year release_month       profit  profit_million  \\\n",
       "755          2010       10 Oct   174512032.0      174.512032   \n",
       "2402         2017       02 Feb   250367951.0      250.367951   \n",
       "2402         2017       02 Feb   250367951.0      250.367951   \n",
       "2402         2017       02 Feb   250367951.0      250.367951   \n",
       "2393         2016       10 Oct    63745512.0       63.745512   \n",
       "...           ...           ...          ...             ...   \n",
       "994          2013       03 Mar       34913.0        0.034913   \n",
       "994          2013       03 Mar       34913.0        0.034913   \n",
       "148          2011       11 Nov       47784.0        0.047784   \n",
       "148          2011       11 Nov       47784.0        0.047784   \n",
       "148          2011       11 Nov       47784.0        0.047784   \n",
       "\n",
       "      production_budget_million      ROI  year  same_year  \n",
       "755                         3.0  5817.07  2010          0  \n",
       "2402                        5.0  5007.36  2017          0  \n",
       "2402                        5.0  5007.36  2017          0  \n",
       "2402                        5.0  5007.36  2017          0  \n",
       "2393                        1.5  4249.70  2016          0  \n",
       "...                         ...      ...   ...        ...  \n",
       "994                        12.0     0.29  2013          0  \n",
       "994                        12.0     0.29  2013          0  \n",
       "148                       180.0     0.03  2011          0  \n",
       "148                       180.0     0.03  2011          0  \n",
       "148                       180.0     0.03  2011          0  \n",
       "\n",
       "[2689 rows x 17 columns]"
      ],
      "text/html": [
       "<div>\n",
       "<style scoped>\n",
       "    .dataframe tbody tr th:only-of-type {\n",
       "        vertical-align: middle;\n",
       "    }\n",
       "\n",
       "    .dataframe tbody tr th {\n",
       "        vertical-align: top;\n",
       "    }\n",
       "\n",
       "    .dataframe thead th {\n",
       "        text-align: right;\n",
       "    }\n",
       "</style>\n",
       "<table border=\"1\" class=\"dataframe\">\n",
       "  <thead>\n",
       "    <tr style=\"text-align: right;\">\n",
       "      <th></th>\n",
       "      <th>movie</th>\n",
       "      <th>start_year</th>\n",
       "      <th>genres</th>\n",
       "      <th>averagerating</th>\n",
       "      <th>numvotes</th>\n",
       "      <th>release_date</th>\n",
       "      <th>production_budget</th>\n",
       "      <th>domestic_gross</th>\n",
       "      <th>worldwide_gross</th>\n",
       "      <th>release_year</th>\n",
       "      <th>release_month</th>\n",
       "      <th>profit</th>\n",
       "      <th>profit_million</th>\n",
       "      <th>production_budget_million</th>\n",
       "      <th>ROI</th>\n",
       "      <th>year</th>\n",
       "      <th>same_year</th>\n",
       "    </tr>\n",
       "  </thead>\n",
       "  <tbody>\n",
       "    <tr>\n",
       "      <th>755</th>\n",
       "      <td>Paranormal Activity 2</td>\n",
       "      <td>2010</td>\n",
       "      <td>Horror</td>\n",
       "      <td>5.7</td>\n",
       "      <td>93122</td>\n",
       "      <td>Oct 20, 2010</td>\n",
       "      <td>3000000.0</td>\n",
       "      <td>84752907.0</td>\n",
       "      <td>177512032.0</td>\n",
       "      <td>2010</td>\n",
       "      <td>10 Oct</td>\n",
       "      <td>174512032.0</td>\n",
       "      <td>174.512032</td>\n",
       "      <td>3.0</td>\n",
       "      <td>5817.07</td>\n",
       "      <td>2010</td>\n",
       "      <td>0</td>\n",
       "    </tr>\n",
       "    <tr>\n",
       "      <th>2402</th>\n",
       "      <td>Get Out</td>\n",
       "      <td>2017</td>\n",
       "      <td>Thriller</td>\n",
       "      <td>7.7</td>\n",
       "      <td>400474</td>\n",
       "      <td>Feb 24, 2017</td>\n",
       "      <td>5000000.0</td>\n",
       "      <td>176040665.0</td>\n",
       "      <td>255367951.0</td>\n",
       "      <td>2017</td>\n",
       "      <td>02 Feb</td>\n",
       "      <td>250367951.0</td>\n",
       "      <td>250.367951</td>\n",
       "      <td>5.0</td>\n",
       "      <td>5007.36</td>\n",
       "      <td>2017</td>\n",
       "      <td>0</td>\n",
       "    </tr>\n",
       "    <tr>\n",
       "      <th>2402</th>\n",
       "      <td>Get Out</td>\n",
       "      <td>2017</td>\n",
       "      <td>Horror</td>\n",
       "      <td>7.7</td>\n",
       "      <td>400474</td>\n",
       "      <td>Feb 24, 2017</td>\n",
       "      <td>5000000.0</td>\n",
       "      <td>176040665.0</td>\n",
       "      <td>255367951.0</td>\n",
       "      <td>2017</td>\n",
       "      <td>02 Feb</td>\n",
       "      <td>250367951.0</td>\n",
       "      <td>250.367951</td>\n",
       "      <td>5.0</td>\n",
       "      <td>5007.36</td>\n",
       "      <td>2017</td>\n",
       "      <td>0</td>\n",
       "    </tr>\n",
       "    <tr>\n",
       "      <th>2402</th>\n",
       "      <td>Get Out</td>\n",
       "      <td>2017</td>\n",
       "      <td>Mystery</td>\n",
       "      <td>7.7</td>\n",
       "      <td>400474</td>\n",
       "      <td>Feb 24, 2017</td>\n",
       "      <td>5000000.0</td>\n",
       "      <td>176040665.0</td>\n",
       "      <td>255367951.0</td>\n",
       "      <td>2017</td>\n",
       "      <td>02 Feb</td>\n",
       "      <td>250367951.0</td>\n",
       "      <td>250.367951</td>\n",
       "      <td>5.0</td>\n",
       "      <td>5007.36</td>\n",
       "      <td>2017</td>\n",
       "      <td>0</td>\n",
       "    </tr>\n",
       "    <tr>\n",
       "      <th>2393</th>\n",
       "      <td>Moonlight</td>\n",
       "      <td>2016</td>\n",
       "      <td>Drama</td>\n",
       "      <td>7.4</td>\n",
       "      <td>227964</td>\n",
       "      <td>Oct 21, 2016</td>\n",
       "      <td>1500000.0</td>\n",
       "      <td>27854931.0</td>\n",
       "      <td>65245512.0</td>\n",
       "      <td>2016</td>\n",
       "      <td>10 Oct</td>\n",
       "      <td>63745512.0</td>\n",
       "      <td>63.745512</td>\n",
       "      <td>1.5</td>\n",
       "      <td>4249.70</td>\n",
       "      <td>2016</td>\n",
       "      <td>0</td>\n",
       "    </tr>\n",
       "    <tr>\n",
       "      <th>...</th>\n",
       "      <td>...</td>\n",
       "      <td>...</td>\n",
       "      <td>...</td>\n",
       "      <td>...</td>\n",
       "      <td>...</td>\n",
       "      <td>...</td>\n",
       "      <td>...</td>\n",
       "      <td>...</td>\n",
       "      <td>...</td>\n",
       "      <td>...</td>\n",
       "      <td>...</td>\n",
       "      <td>...</td>\n",
       "      <td>...</td>\n",
       "      <td>...</td>\n",
       "      <td>...</td>\n",
       "      <td>...</td>\n",
       "      <td>...</td>\n",
       "    </tr>\n",
       "    <tr>\n",
       "      <th>994</th>\n",
       "      <td>Stoker</td>\n",
       "      <td>2013</td>\n",
       "      <td>Drama</td>\n",
       "      <td>6.8</td>\n",
       "      <td>97393</td>\n",
       "      <td>Mar 1, 2013</td>\n",
       "      <td>12000000.0</td>\n",
       "      <td>1703125.0</td>\n",
       "      <td>12034913.0</td>\n",
       "      <td>2013</td>\n",
       "      <td>03 Mar</td>\n",
       "      <td>34913.0</td>\n",
       "      <td>0.034913</td>\n",
       "      <td>12.0</td>\n",
       "      <td>0.29</td>\n",
       "      <td>2013</td>\n",
       "      <td>0</td>\n",
       "    </tr>\n",
       "    <tr>\n",
       "      <th>994</th>\n",
       "      <td>Stoker</td>\n",
       "      <td>2013</td>\n",
       "      <td>Thriller</td>\n",
       "      <td>6.8</td>\n",
       "      <td>97393</td>\n",
       "      <td>Mar 1, 2013</td>\n",
       "      <td>12000000.0</td>\n",
       "      <td>1703125.0</td>\n",
       "      <td>12034913.0</td>\n",
       "      <td>2013</td>\n",
       "      <td>03 Mar</td>\n",
       "      <td>34913.0</td>\n",
       "      <td>0.034913</td>\n",
       "      <td>12.0</td>\n",
       "      <td>0.29</td>\n",
       "      <td>2013</td>\n",
       "      <td>0</td>\n",
       "    </tr>\n",
       "    <tr>\n",
       "      <th>148</th>\n",
       "      <td>Hugo</td>\n",
       "      <td>2011</td>\n",
       "      <td>Drama</td>\n",
       "      <td>7.5</td>\n",
       "      <td>284869</td>\n",
       "      <td>Nov 23, 2011</td>\n",
       "      <td>180000000.0</td>\n",
       "      <td>73864507.0</td>\n",
       "      <td>180047784.0</td>\n",
       "      <td>2011</td>\n",
       "      <td>11 Nov</td>\n",
       "      <td>47784.0</td>\n",
       "      <td>0.047784</td>\n",
       "      <td>180.0</td>\n",
       "      <td>0.03</td>\n",
       "      <td>2011</td>\n",
       "      <td>0</td>\n",
       "    </tr>\n",
       "    <tr>\n",
       "      <th>148</th>\n",
       "      <td>Hugo</td>\n",
       "      <td>2011</td>\n",
       "      <td>Adventure</td>\n",
       "      <td>7.5</td>\n",
       "      <td>284869</td>\n",
       "      <td>Nov 23, 2011</td>\n",
       "      <td>180000000.0</td>\n",
       "      <td>73864507.0</td>\n",
       "      <td>180047784.0</td>\n",
       "      <td>2011</td>\n",
       "      <td>11 Nov</td>\n",
       "      <td>47784.0</td>\n",
       "      <td>0.047784</td>\n",
       "      <td>180.0</td>\n",
       "      <td>0.03</td>\n",
       "      <td>2011</td>\n",
       "      <td>0</td>\n",
       "    </tr>\n",
       "    <tr>\n",
       "      <th>148</th>\n",
       "      <td>Hugo</td>\n",
       "      <td>2011</td>\n",
       "      <td>Family</td>\n",
       "      <td>7.5</td>\n",
       "      <td>284869</td>\n",
       "      <td>Nov 23, 2011</td>\n",
       "      <td>180000000.0</td>\n",
       "      <td>73864507.0</td>\n",
       "      <td>180047784.0</td>\n",
       "      <td>2011</td>\n",
       "      <td>11 Nov</td>\n",
       "      <td>47784.0</td>\n",
       "      <td>0.047784</td>\n",
       "      <td>180.0</td>\n",
       "      <td>0.03</td>\n",
       "      <td>2011</td>\n",
       "      <td>0</td>\n",
       "    </tr>\n",
       "  </tbody>\n",
       "</table>\n",
       "<p>2689 rows × 17 columns</p>\n",
       "</div>"
      ]
     },
     "metadata": {},
     "execution_count": 157
    }
   ],
   "metadata": {}
  },
  {
   "cell_type": "code",
   "execution_count": 158,
   "source": [
    "fig, ax = plt.subplots(figsize=(8,5))\r\n",
    "ax = sns.histplot(data=no_gallows_pos, x='ROI')\r\n",
    "ax.set_title(\"Distribution of Positive ROI\")\r\n",
    "fig.savefig('images/histogram_posROI');"
   ],
   "outputs": [
    {
     "output_type": "display_data",
     "data": {
      "text/plain": [
       "<Figure size 576x360 with 1 Axes>"
      ],
      "image/png": "[encoded data removed]"
     },
     "metadata": {
      "needs_background": "light"
     }
    }
   ],
   "metadata": {}
  },
  {
   "cell_type": "markdown",
   "source": [
    "This distribution is right skewed"
   ],
   "metadata": {}
  },
  {
   "cell_type": "code",
   "execution_count": 159,
   "source": [
    "#5\r\n",
    "sorted_genres2 = no_gallows_pos.groupby([\"genres\"], as_index=False).mean().sort_values(by = \"ROI\", ascending=False)\r\n",
    "\r\n",
    "top3genres_v2 = list(sorted_genres2['genres'].values[0:3])\r\n",
    "top3genres_v2"
   ],
   "outputs": [
    {
     "output_type": "execute_result",
     "data": {
      "text/plain": [
       "['Horror', 'Mystery', 'Thriller']"
      ]
     },
     "metadata": {},
     "execution_count": 159
    }
   ],
   "metadata": {}
  },
  {
   "cell_type": "code",
   "execution_count": 160,
   "source": [
    "sorted_genres2"
   ],
   "outputs": [
    {
     "output_type": "execute_result",
     "data": {
      "text/plain": [
       "         genres   start_year  averagerating       numvotes  production_budget  \\\n",
       "11       Horror  2014.453704       5.810185   92162.203704       2.159792e+07   \n",
       "14      Mystery  2014.177778       6.287778  162969.644444       2.911125e+07   \n",
       "18     Thriller  2013.884393       6.282081  165496.289017       4.010788e+07   \n",
       "13      Musical  2014.250000       7.075000  135745.000000       7.682500e+07   \n",
       "3     Biography  2014.852273       7.222727  153770.738636       2.821330e+07   \n",
       "6   Documentary  2012.705882       6.347059   14655.294118       1.409853e+07   \n",
       "7         Drama  2013.870690       6.764224  138254.855603       3.105727e+07   \n",
       "15      Romance  2012.985507       6.403623   96936.500000       2.633163e+07   \n",
       "12        Music  2013.750000       6.413889   87163.638889       2.066389e+07   \n",
       "16       Sci-Fi  2014.333333       6.745098  341202.176471       1.145252e+08   \n",
       "2     Animation  2014.120879       6.656044  137237.208791       1.043242e+08   \n",
       "4        Comedy  2013.634021       6.347423  114035.131443       4.800335e+07   \n",
       "9       Fantasy  2014.064516       6.293548  183468.279570       9.817957e+07   \n",
       "20      Western  2012.500000       7.100000  420780.750000       5.775000e+07   \n",
       "10      History  2015.280000       7.116000  138790.280000       3.536000e+07   \n",
       "1     Adventure  2014.118243       6.581757  227785.641892       1.161027e+08   \n",
       "0        Action  2014.064615       6.524615  228221.215385       9.506677e+07   \n",
       "8        Family  2013.253521       6.276056   99567.535211       8.152676e+07   \n",
       "5         Crime  2013.945578       6.584354  158885.693878       3.883585e+07   \n",
       "19          War  2012.857143       6.971429  164866.571429       4.478571e+07   \n",
       "17        Sport  2014.136364       6.836364   84407.545455       2.937273e+07   \n",
       "\n",
       "    domestic_gross  worldwide_gross        profit  profit_million  \\\n",
       "11    4.771430e+07     1.051221e+08  8.352416e+07       83.524158   \n",
       "14    5.305549e+07     1.226729e+08  9.356169e+07       93.561693   \n",
       "18    6.362149e+07     1.668024e+08  1.266945e+08      126.694500   \n",
       "13    1.804056e+08     4.468113e+08  3.699863e+08      369.986349   \n",
       "3     5.641716e+07     1.171555e+08  8.894218e+07       88.942179   \n",
       "6     2.127135e+07     4.544084e+07  3.134231e+07       31.342312   \n",
       "7     4.866020e+07     1.077761e+08  7.671886e+07       76.718863   \n",
       "15    4.333942e+07     8.983322e+07  6.350159e+07       63.501590   \n",
       "12    4.554701e+07     1.000802e+08  7.941636e+07       79.416357   \n",
       "16    1.621483e+08     4.458693e+08  3.313440e+08      331.344011   \n",
       "2     1.509055e+08     4.173378e+08  3.130136e+08      313.013608   \n",
       "4     7.570143e+07     1.739468e+08  1.259434e+08      125.943412   \n",
       "9     1.029447e+08     3.014014e+08  2.032219e+08      203.221871   \n",
       "20    1.083476e+08     2.182993e+08  1.605493e+08      160.549340   \n",
       "10    6.045688e+07     1.257842e+08  9.042419e+07       90.424188   \n",
       "1     1.444533e+08     4.088777e+08  2.927750e+08      292.775010   \n",
       "0     1.160460e+08     3.211932e+08  2.261265e+08      226.126467   \n",
       "8     1.024123e+08     2.537515e+08  1.722247e+08      172.224711   \n",
       "5     5.426634e+07     1.215408e+08  8.270492e+07       82.704918   \n",
       "19    5.487902e+07     1.336654e+08  8.887973e+07       88.879733   \n",
       "17    4.739693e+07     7.491614e+07  4.554342e+07       45.543416   \n",
       "\n",
       "    production_budget_million         ROI         year  same_year  \n",
       "11                  21.597917  892.908148  2014.453704        0.0  \n",
       "14                  29.111252  781.217333  2014.177778        0.0  \n",
       "18                  40.107877  582.025029  2013.884393        0.0  \n",
       "13                  76.825000  406.085000  2014.250000        0.0  \n",
       "3                   28.213295  392.459091  2014.852273        0.0  \n",
       "6                   14.098529  381.481765  2012.705882        0.0  \n",
       "7                   31.057269  368.058772  2013.870690        0.0  \n",
       "15                  26.331630  364.430145  2012.985507        0.0  \n",
       "12                  20.663889  362.126667  2013.750000        0.0  \n",
       "16                 114.525245  361.363529  2014.333333        0.0  \n",
       "2                  104.324176  304.375275  2014.120879        0.0  \n",
       "4                   48.003351  296.717345  2013.634021        0.0  \n",
       "9                   98.179570  291.778495  2014.064516        0.0  \n",
       "20                  57.750000  273.025000  2012.500000        0.0  \n",
       "10                  35.360000  272.992800  2015.280000        0.0  \n",
       "1                  116.102703  255.968581  2014.118243        0.0  \n",
       "0                   95.066769  242.670215  2014.064615        0.0  \n",
       "8                   81.526761  224.896056  2013.253521        0.0  \n",
       "5                   38.835850  212.289456  2013.945578        0.0  \n",
       "19                  44.785714  203.567143  2012.857143        0.0  \n",
       "17                  29.372727  200.230000  2014.136364        0.0  "
      ],
      "text/html": [
       "<div>\n",
       "<style scoped>\n",
       "    .dataframe tbody tr th:only-of-type {\n",
       "        vertical-align: middle;\n",
       "    }\n",
       "\n",
       "    .dataframe tbody tr th {\n",
       "        vertical-align: top;\n",
       "    }\n",
       "\n",
       "    .dataframe thead th {\n",
       "        text-align: right;\n",
       "    }\n",
       "</style>\n",
       "<table border=\"1\" class=\"dataframe\">\n",
       "  <thead>\n",
       "    <tr style=\"text-align: right;\">\n",
       "      <th></th>\n",
       "      <th>genres</th>\n",
       "      <th>start_year</th>\n",
       "      <th>averagerating</th>\n",
       "      <th>numvotes</th>\n",
       "      <th>production_budget</th>\n",
       "      <th>domestic_gross</th>\n",
       "      <th>worldwide_gross</th>\n",
       "      <th>profit</th>\n",
       "      <th>profit_million</th>\n",
       "      <th>production_budget_million</th>\n",
       "      <th>ROI</th>\n",
       "      <th>year</th>\n",
       "      <th>same_year</th>\n",
       "    </tr>\n",
       "  </thead>\n",
       "  <tbody>\n",
       "    <tr>\n",
       "      <th>11</th>\n",
       "      <td>Horror</td>\n",
       "      <td>2014.453704</td>\n",
       "      <td>5.810185</td>\n",
       "      <td>92162.203704</td>\n",
       "      <td>2.159792e+07</td>\n",
       "      <td>4.771430e+07</td>\n",
       "      <td>1.051221e+08</td>\n",
       "      <td>8.352416e+07</td>\n",
       "      <td>83.524158</td>\n",
       "      <td>21.597917</td>\n",
       "      <td>892.908148</td>\n",
       "      <td>2014.453704</td>\n",
       "      <td>0.0</td>\n",
       "    </tr>\n",
       "    <tr>\n",
       "      <th>14</th>\n",
       "      <td>Mystery</td>\n",
       "      <td>2014.177778</td>\n",
       "      <td>6.287778</td>\n",
       "      <td>162969.644444</td>\n",
       "      <td>2.911125e+07</td>\n",
       "      <td>5.305549e+07</td>\n",
       "      <td>1.226729e+08</td>\n",
       "      <td>9.356169e+07</td>\n",
       "      <td>93.561693</td>\n",
       "      <td>29.111252</td>\n",
       "      <td>781.217333</td>\n",
       "      <td>2014.177778</td>\n",
       "      <td>0.0</td>\n",
       "    </tr>\n",
       "    <tr>\n",
       "      <th>18</th>\n",
       "      <td>Thriller</td>\n",
       "      <td>2013.884393</td>\n",
       "      <td>6.282081</td>\n",
       "      <td>165496.289017</td>\n",
       "      <td>4.010788e+07</td>\n",
       "      <td>6.362149e+07</td>\n",
       "      <td>1.668024e+08</td>\n",
       "      <td>1.266945e+08</td>\n",
       "      <td>126.694500</td>\n",
       "      <td>40.107877</td>\n",
       "      <td>582.025029</td>\n",
       "      <td>2013.884393</td>\n",
       "      <td>0.0</td>\n",
       "    </tr>\n",
       "    <tr>\n",
       "      <th>13</th>\n",
       "      <td>Musical</td>\n",
       "      <td>2014.250000</td>\n",
       "      <td>7.075000</td>\n",
       "      <td>135745.000000</td>\n",
       "      <td>7.682500e+07</td>\n",
       "      <td>1.804056e+08</td>\n",
       "      <td>4.468113e+08</td>\n",
       "      <td>3.699863e+08</td>\n",
       "      <td>369.986349</td>\n",
       "      <td>76.825000</td>\n",
       "      <td>406.085000</td>\n",
       "      <td>2014.250000</td>\n",
       "      <td>0.0</td>\n",
       "    </tr>\n",
       "    <tr>\n",
       "      <th>3</th>\n",
       "      <td>Biography</td>\n",
       "      <td>2014.852273</td>\n",
       "      <td>7.222727</td>\n",
       "      <td>153770.738636</td>\n",
       "      <td>2.821330e+07</td>\n",
       "      <td>5.641716e+07</td>\n",
       "      <td>1.171555e+08</td>\n",
       "      <td>8.894218e+07</td>\n",
       "      <td>88.942179</td>\n",
       "      <td>28.213295</td>\n",
       "      <td>392.459091</td>\n",
       "      <td>2014.852273</td>\n",
       "      <td>0.0</td>\n",
       "    </tr>\n",
       "    <tr>\n",
       "      <th>6</th>\n",
       "      <td>Documentary</td>\n",
       "      <td>2012.705882</td>\n",
       "      <td>6.347059</td>\n",
       "      <td>14655.294118</td>\n",
       "      <td>1.409853e+07</td>\n",
       "      <td>2.127135e+07</td>\n",
       "      <td>4.544084e+07</td>\n",
       "      <td>3.134231e+07</td>\n",
       "      <td>31.342312</td>\n",
       "      <td>14.098529</td>\n",
       "      <td>381.481765</td>\n",
       "      <td>2012.705882</td>\n",
       "      <td>0.0</td>\n",
       "    </tr>\n",
       "    <tr>\n",
       "      <th>7</th>\n",
       "      <td>Drama</td>\n",
       "      <td>2013.870690</td>\n",
       "      <td>6.764224</td>\n",
       "      <td>138254.855603</td>\n",
       "      <td>3.105727e+07</td>\n",
       "      <td>4.866020e+07</td>\n",
       "      <td>1.077761e+08</td>\n",
       "      <td>7.671886e+07</td>\n",
       "      <td>76.718863</td>\n",
       "      <td>31.057269</td>\n",
       "      <td>368.058772</td>\n",
       "      <td>2013.870690</td>\n",
       "      <td>0.0</td>\n",
       "    </tr>\n",
       "    <tr>\n",
       "      <th>15</th>\n",
       "      <td>Romance</td>\n",
       "      <td>2012.985507</td>\n",
       "      <td>6.403623</td>\n",
       "      <td>96936.500000</td>\n",
       "      <td>2.633163e+07</td>\n",
       "      <td>4.333942e+07</td>\n",
       "      <td>8.983322e+07</td>\n",
       "      <td>6.350159e+07</td>\n",
       "      <td>63.501590</td>\n",
       "      <td>26.331630</td>\n",
       "      <td>364.430145</td>\n",
       "      <td>2012.985507</td>\n",
       "      <td>0.0</td>\n",
       "    </tr>\n",
       "    <tr>\n",
       "      <th>12</th>\n",
       "      <td>Music</td>\n",
       "      <td>2013.750000</td>\n",
       "      <td>6.413889</td>\n",
       "      <td>87163.638889</td>\n",
       "      <td>2.066389e+07</td>\n",
       "      <td>4.554701e+07</td>\n",
       "      <td>1.000802e+08</td>\n",
       "      <td>7.941636e+07</td>\n",
       "      <td>79.416357</td>\n",
       "      <td>20.663889</td>\n",
       "      <td>362.126667</td>\n",
       "      <td>2013.750000</td>\n",
       "      <td>0.0</td>\n",
       "    </tr>\n",
       "    <tr>\n",
       "      <th>16</th>\n",
       "      <td>Sci-Fi</td>\n",
       "      <td>2014.333333</td>\n",
       "      <td>6.745098</td>\n",
       "      <td>341202.176471</td>\n",
       "      <td>1.145252e+08</td>\n",
       "      <td>1.621483e+08</td>\n",
       "      <td>4.458693e+08</td>\n",
       "      <td>3.313440e+08</td>\n",
       "      <td>331.344011</td>\n",
       "      <td>114.525245</td>\n",
       "      <td>361.363529</td>\n",
       "      <td>2014.333333</td>\n",
       "      <td>0.0</td>\n",
       "    </tr>\n",
       "    <tr>\n",
       "      <th>2</th>\n",
       "      <td>Animation</td>\n",
       "      <td>2014.120879</td>\n",
       "      <td>6.656044</td>\n",
       "      <td>137237.208791</td>\n",
       "      <td>1.043242e+08</td>\n",
       "      <td>1.509055e+08</td>\n",
       "      <td>4.173378e+08</td>\n",
       "      <td>3.130136e+08</td>\n",
       "      <td>313.013608</td>\n",
       "      <td>104.324176</td>\n",
       "      <td>304.375275</td>\n",
       "      <td>2014.120879</td>\n",
       "      <td>0.0</td>\n",
       "    </tr>\n",
       "    <tr>\n",
       "      <th>4</th>\n",
       "      <td>Comedy</td>\n",
       "      <td>2013.634021</td>\n",
       "      <td>6.347423</td>\n",
       "      <td>114035.131443</td>\n",
       "      <td>4.800335e+07</td>\n",
       "      <td>7.570143e+07</td>\n",
       "      <td>1.739468e+08</td>\n",
       "      <td>1.259434e+08</td>\n",
       "      <td>125.943412</td>\n",
       "      <td>48.003351</td>\n",
       "      <td>296.717345</td>\n",
       "      <td>2013.634021</td>\n",
       "      <td>0.0</td>\n",
       "    </tr>\n",
       "    <tr>\n",
       "      <th>9</th>\n",
       "      <td>Fantasy</td>\n",
       "      <td>2014.064516</td>\n",
       "      <td>6.293548</td>\n",
       "      <td>183468.279570</td>\n",
       "      <td>9.817957e+07</td>\n",
       "      <td>1.029447e+08</td>\n",
       "      <td>3.014014e+08</td>\n",
       "      <td>2.032219e+08</td>\n",
       "      <td>203.221871</td>\n",
       "      <td>98.179570</td>\n",
       "      <td>291.778495</td>\n",
       "      <td>2014.064516</td>\n",
       "      <td>0.0</td>\n",
       "    </tr>\n",
       "    <tr>\n",
       "      <th>20</th>\n",
       "      <td>Western</td>\n",
       "      <td>2012.500000</td>\n",
       "      <td>7.100000</td>\n",
       "      <td>420780.750000</td>\n",
       "      <td>5.775000e+07</td>\n",
       "      <td>1.083476e+08</td>\n",
       "      <td>2.182993e+08</td>\n",
       "      <td>1.605493e+08</td>\n",
       "      <td>160.549340</td>\n",
       "      <td>57.750000</td>\n",
       "      <td>273.025000</td>\n",
       "      <td>2012.500000</td>\n",
       "      <td>0.0</td>\n",
       "    </tr>\n",
       "    <tr>\n",
       "      <th>10</th>\n",
       "      <td>History</td>\n",
       "      <td>2015.280000</td>\n",
       "      <td>7.116000</td>\n",
       "      <td>138790.280000</td>\n",
       "      <td>3.536000e+07</td>\n",
       "      <td>6.045688e+07</td>\n",
       "      <td>1.257842e+08</td>\n",
       "      <td>9.042419e+07</td>\n",
       "      <td>90.424188</td>\n",
       "      <td>35.360000</td>\n",
       "      <td>272.992800</td>\n",
       "      <td>2015.280000</td>\n",
       "      <td>0.0</td>\n",
       "    </tr>\n",
       "    <tr>\n",
       "      <th>1</th>\n",
       "      <td>Adventure</td>\n",
       "      <td>2014.118243</td>\n",
       "      <td>6.581757</td>\n",
       "      <td>227785.641892</td>\n",
       "      <td>1.161027e+08</td>\n",
       "      <td>1.444533e+08</td>\n",
       "      <td>4.088777e+08</td>\n",
       "      <td>2.927750e+08</td>\n",
       "      <td>292.775010</td>\n",
       "      <td>116.102703</td>\n",
       "      <td>255.968581</td>\n",
       "      <td>2014.118243</td>\n",
       "      <td>0.0</td>\n",
       "    </tr>\n",
       "    <tr>\n",
       "      <th>0</th>\n",
       "      <td>Action</td>\n",
       "      <td>2014.064615</td>\n",
       "      <td>6.524615</td>\n",
       "      <td>228221.215385</td>\n",
       "      <td>9.506677e+07</td>\n",
       "      <td>1.160460e+08</td>\n",
       "      <td>3.211932e+08</td>\n",
       "      <td>2.261265e+08</td>\n",
       "      <td>226.126467</td>\n",
       "      <td>95.066769</td>\n",
       "      <td>242.670215</td>\n",
       "      <td>2014.064615</td>\n",
       "      <td>0.0</td>\n",
       "    </tr>\n",
       "    <tr>\n",
       "      <th>8</th>\n",
       "      <td>Family</td>\n",
       "      <td>2013.253521</td>\n",
       "      <td>6.276056</td>\n",
       "      <td>99567.535211</td>\n",
       "      <td>8.152676e+07</td>\n",
       "      <td>1.024123e+08</td>\n",
       "      <td>2.537515e+08</td>\n",
       "      <td>1.722247e+08</td>\n",
       "      <td>172.224711</td>\n",
       "      <td>81.526761</td>\n",
       "      <td>224.896056</td>\n",
       "      <td>2013.253521</td>\n",
       "      <td>0.0</td>\n",
       "    </tr>\n",
       "    <tr>\n",
       "      <th>5</th>\n",
       "      <td>Crime</td>\n",
       "      <td>2013.945578</td>\n",
       "      <td>6.584354</td>\n",
       "      <td>158885.693878</td>\n",
       "      <td>3.883585e+07</td>\n",
       "      <td>5.426634e+07</td>\n",
       "      <td>1.215408e+08</td>\n",
       "      <td>8.270492e+07</td>\n",
       "      <td>82.704918</td>\n",
       "      <td>38.835850</td>\n",
       "      <td>212.289456</td>\n",
       "      <td>2013.945578</td>\n",
       "      <td>0.0</td>\n",
       "    </tr>\n",
       "    <tr>\n",
       "      <th>19</th>\n",
       "      <td>War</td>\n",
       "      <td>2012.857143</td>\n",
       "      <td>6.971429</td>\n",
       "      <td>164866.571429</td>\n",
       "      <td>4.478571e+07</td>\n",
       "      <td>5.487902e+07</td>\n",
       "      <td>1.336654e+08</td>\n",
       "      <td>8.887973e+07</td>\n",
       "      <td>88.879733</td>\n",
       "      <td>44.785714</td>\n",
       "      <td>203.567143</td>\n",
       "      <td>2012.857143</td>\n",
       "      <td>0.0</td>\n",
       "    </tr>\n",
       "    <tr>\n",
       "      <th>17</th>\n",
       "      <td>Sport</td>\n",
       "      <td>2014.136364</td>\n",
       "      <td>6.836364</td>\n",
       "      <td>84407.545455</td>\n",
       "      <td>2.937273e+07</td>\n",
       "      <td>4.739693e+07</td>\n",
       "      <td>7.491614e+07</td>\n",
       "      <td>4.554342e+07</td>\n",
       "      <td>45.543416</td>\n",
       "      <td>29.372727</td>\n",
       "      <td>200.230000</td>\n",
       "      <td>2014.136364</td>\n",
       "      <td>0.0</td>\n",
       "    </tr>\n",
       "  </tbody>\n",
       "</table>\n",
       "</div>"
      ]
     },
     "metadata": {},
     "execution_count": 160
    }
   ],
   "metadata": {}
  },
  {
   "cell_type": "markdown",
   "source": [
    "## Question 1\n",
    "In order for our recommendations to be filtered to best suit Microsoft we needed to figure out which genres can have the greatest average ROI. After seperating by each genre we were able to group each one and give the result of the mean ROI for each genre. "
   ],
   "metadata": {}
  },
  {
   "cell_type": "code",
   "execution_count": 161,
   "source": [
    "nsort = no_gallows_pos.groupby([\"genres\"], as_index=False).mean().sort_values(by = \"ROI\", ascending=True)"
   ],
   "outputs": [],
   "metadata": {}
  },
  {
   "cell_type": "code",
   "execution_count": 162,
   "source": [
    "fig, ax = plt.subplots(figsize=(25, 15))\r\n",
    "x = nsort['genres']\r\n",
    "y = nsort['ROI']\r\n",
    "y = y.round()\r\n",
    "ax.barh(x, y)\r\n",
    "ax.set_title('Average ROI of Genres')\r\n",
    "ax.set_xlabel('Return on Investment (%)')\r\n",
    "ax.set_ylabel('Genres')\r\n",
    "\r\n",
    "for i, v in enumerate(y):\r\n",
    "    ax.text(v, i, \" \"+str(v), color='blue', va='center', fontweight='bold', fontsize= 15)\r\n",
    "for item in ([ax.title, ax.xaxis.label, ax.yaxis.label] +\r\n",
    "             ax.get_xticklabels() + ax.get_yticklabels()):\r\n",
    "    item.set_fontsize(20)\r\n"
   ],
   "outputs": [
    {
     "output_type": "display_data",
     "data": {
      "text/plain": [
       "<Figure size 1800x1080 with 1 Axes>"
      ],
      "image/png": "[encoded data removed]"
     },
     "metadata": {
      "needs_background": "light"
     }
    }
   ],
   "metadata": {}
  },
  {
   "cell_type": "markdown",
   "source": [
    "The top three genres are: Horror, Mystery, Thriller"
   ],
   "metadata": {}
  },
  {
   "cell_type": "markdown",
   "source": [
    "## Question 2\n",
    "After filtering for the highest average ROI by genre we were able to filter out the top 3 genres. It will allow Microsoft to gain a better understanding of when to release their movie. "
   ],
   "metadata": {}
  },
  {
   "cell_type": "code",
   "execution_count": 163,
   "source": [
    "top3genres_v2\r\n",
    "mdf2_top_three = no_gallows_pos.loc[no_gallows_pos['genres'].isin(top3genres_v2)] \r\n",
    "mean_ROI_by_month = mdf2_top_three.groupby(\"release_month\").mean()\r\n",
    "mdf2_top_three\r\n",
    "#mean_ROI_by_month"
   ],
   "outputs": [
    {
     "output_type": "execute_result",
     "data": {
      "text/plain": [
       "                                      movie  start_year    genres  \\\n",
       "755                   Paranormal Activity 2        2010    Horror   \n",
       "2402                                Get Out        2017  Thriller   \n",
       "2402                                Get Out        2017    Horror   \n",
       "2402                                Get Out        2017   Mystery   \n",
       "1446                      Chernobyl Diaries        2012  Thriller   \n",
       "...                                     ...         ...       ...   \n",
       "989                            Take Shelter        2011  Thriller   \n",
       "989                            Take Shelter        2011    Horror   \n",
       "1075  Scouts Guide to the Zombie Apocalypse        2015    Horror   \n",
       "1046                             Alex Cross        2012   Mystery   \n",
       "994                                  Stoker        2013  Thriller   \n",
       "\n",
       "      averagerating  numvotes  release_date  production_budget  \\\n",
       "755             5.7     93122  Oct 20, 2010          3000000.0   \n",
       "2402            7.7    400474  Feb 24, 2017          5000000.0   \n",
       "2402            7.7    400474  Feb 24, 2017          5000000.0   \n",
       "2402            7.7    400474  Feb 24, 2017          5000000.0   \n",
       "1446            5.0     60304  May 25, 2012          1000000.0   \n",
       "...             ...       ...           ...                ...   \n",
       "989             7.4     83200  Sep 30, 2011          4750000.0   \n",
       "989             7.4     83200  Sep 30, 2011          4750000.0   \n",
       "1075            6.3     40479  Oct 30, 2015         15000000.0   \n",
       "1046            5.1     30951  Oct 19, 2012         35000000.0   \n",
       "994             6.8     97393   Mar 1, 2013         12000000.0   \n",
       "\n",
       "      domestic_gross  worldwide_gross release_year release_month       profit  \\\n",
       "755       84752907.0      177512032.0         2010       10 Oct   174512032.0   \n",
       "2402     176040665.0      255367951.0         2017       02 Feb   250367951.0   \n",
       "2402     176040665.0      255367951.0         2017       02 Feb   250367951.0   \n",
       "2402     176040665.0      255367951.0         2017       02 Feb   250367951.0   \n",
       "1446      18119640.0       42411721.0         2012       05 May    41411721.0   \n",
       "...              ...              ...          ...           ...          ...   \n",
       "989        1728953.0        4972016.0         2011       09 Sep      222016.0   \n",
       "989        1728953.0        4972016.0         2011       09 Sep      222016.0   \n",
       "1075       3703046.0       15554855.0         2015       10 Oct      554855.0   \n",
       "1046      25888412.0       35426759.0         2012       10 Oct      426759.0   \n",
       "994        1703125.0       12034913.0         2013       03 Mar       34913.0   \n",
       "\n",
       "      profit_million  production_budget_million      ROI  year  same_year  \n",
       "755       174.512032                       3.00  5817.07  2010          0  \n",
       "2402      250.367951                       5.00  5007.36  2017          0  \n",
       "2402      250.367951                       5.00  5007.36  2017          0  \n",
       "2402      250.367951                       5.00  5007.36  2017          0  \n",
       "1446       41.411721                       1.00  4141.17  2012          0  \n",
       "...              ...                        ...      ...   ...        ...  \n",
       "989         0.222016                       4.75     4.67  2011          0  \n",
       "989         0.222016                       4.75     4.67  2011          0  \n",
       "1075        0.554855                      15.00     3.70  2015          0  \n",
       "1046        0.426759                      35.00     1.22  2012          0  \n",
       "994         0.034913                      12.00     0.29  2013          0  \n",
       "\n",
       "[371 rows x 17 columns]"
      ],
      "text/html": [
       "<div>\n",
       "<style scoped>\n",
       "    .dataframe tbody tr th:only-of-type {\n",
       "        vertical-align: middle;\n",
       "    }\n",
       "\n",
       "    .dataframe tbody tr th {\n",
       "        vertical-align: top;\n",
       "    }\n",
       "\n",
       "    .dataframe thead th {\n",
       "        text-align: right;\n",
       "    }\n",
       "</style>\n",
       "<table border=\"1\" class=\"dataframe\">\n",
       "  <thead>\n",
       "    <tr style=\"text-align: right;\">\n",
       "      <th></th>\n",
       "      <th>movie</th>\n",
       "      <th>start_year</th>\n",
       "      <th>genres</th>\n",
       "      <th>averagerating</th>\n",
       "      <th>numvotes</th>\n",
       "      <th>release_date</th>\n",
       "      <th>production_budget</th>\n",
       "      <th>domestic_gross</th>\n",
       "      <th>worldwide_gross</th>\n",
       "      <th>release_year</th>\n",
       "      <th>release_month</th>\n",
       "      <th>profit</th>\n",
       "      <th>profit_million</th>\n",
       "      <th>production_budget_million</th>\n",
       "      <th>ROI</th>\n",
       "      <th>year</th>\n",
       "      <th>same_year</th>\n",
       "    </tr>\n",
       "  </thead>\n",
       "  <tbody>\n",
       "    <tr>\n",
       "      <th>755</th>\n",
       "      <td>Paranormal Activity 2</td>\n",
       "      <td>2010</td>\n",
       "      <td>Horror</td>\n",
       "      <td>5.7</td>\n",
       "      <td>93122</td>\n",
       "      <td>Oct 20, 2010</td>\n",
       "      <td>3000000.0</td>\n",
       "      <td>84752907.0</td>\n",
       "      <td>177512032.0</td>\n",
       "      <td>2010</td>\n",
       "      <td>10 Oct</td>\n",
       "      <td>174512032.0</td>\n",
       "      <td>174.512032</td>\n",
       "      <td>3.00</td>\n",
       "      <td>5817.07</td>\n",
       "      <td>2010</td>\n",
       "      <td>0</td>\n",
       "    </tr>\n",
       "    <tr>\n",
       "      <th>2402</th>\n",
       "      <td>Get Out</td>\n",
       "      <td>2017</td>\n",
       "      <td>Thriller</td>\n",
       "      <td>7.7</td>\n",
       "      <td>400474</td>\n",
       "      <td>Feb 24, 2017</td>\n",
       "      <td>5000000.0</td>\n",
       "      <td>176040665.0</td>\n",
       "      <td>255367951.0</td>\n",
       "      <td>2017</td>\n",
       "      <td>02 Feb</td>\n",
       "      <td>250367951.0</td>\n",
       "      <td>250.367951</td>\n",
       "      <td>5.00</td>\n",
       "      <td>5007.36</td>\n",
       "      <td>2017</td>\n",
       "      <td>0</td>\n",
       "    </tr>\n",
       "    <tr>\n",
       "      <th>2402</th>\n",
       "      <td>Get Out</td>\n",
       "      <td>2017</td>\n",
       "      <td>Horror</td>\n",
       "      <td>7.7</td>\n",
       "      <td>400474</td>\n",
       "      <td>Feb 24, 2017</td>\n",
       "      <td>5000000.0</td>\n",
       "      <td>176040665.0</td>\n",
       "      <td>255367951.0</td>\n",
       "      <td>2017</td>\n",
       "      <td>02 Feb</td>\n",
       "      <td>250367951.0</td>\n",
       "      <td>250.367951</td>\n",
       "      <td>5.00</td>\n",
       "      <td>5007.36</td>\n",
       "      <td>2017</td>\n",
       "      <td>0</td>\n",
       "    </tr>\n",
       "    <tr>\n",
       "      <th>2402</th>\n",
       "      <td>Get Out</td>\n",
       "      <td>2017</td>\n",
       "      <td>Mystery</td>\n",
       "      <td>7.7</td>\n",
       "      <td>400474</td>\n",
       "      <td>Feb 24, 2017</td>\n",
       "      <td>5000000.0</td>\n",
       "      <td>176040665.0</td>\n",
       "      <td>255367951.0</td>\n",
       "      <td>2017</td>\n",
       "      <td>02 Feb</td>\n",
       "      <td>250367951.0</td>\n",
       "      <td>250.367951</td>\n",
       "      <td>5.00</td>\n",
       "      <td>5007.36</td>\n",
       "      <td>2017</td>\n",
       "      <td>0</td>\n",
       "    </tr>\n",
       "    <tr>\n",
       "      <th>1446</th>\n",
       "      <td>Chernobyl Diaries</td>\n",
       "      <td>2012</td>\n",
       "      <td>Thriller</td>\n",
       "      <td>5.0</td>\n",
       "      <td>60304</td>\n",
       "      <td>May 25, 2012</td>\n",
       "      <td>1000000.0</td>\n",
       "      <td>18119640.0</td>\n",
       "      <td>42411721.0</td>\n",
       "      <td>2012</td>\n",
       "      <td>05 May</td>\n",
       "      <td>41411721.0</td>\n",
       "      <td>41.411721</td>\n",
       "      <td>1.00</td>\n",
       "      <td>4141.17</td>\n",
       "      <td>2012</td>\n",
       "      <td>0</td>\n",
       "    </tr>\n",
       "    <tr>\n",
       "      <th>...</th>\n",
       "      <td>...</td>\n",
       "      <td>...</td>\n",
       "      <td>...</td>\n",
       "      <td>...</td>\n",
       "      <td>...</td>\n",
       "      <td>...</td>\n",
       "      <td>...</td>\n",
       "      <td>...</td>\n",
       "      <td>...</td>\n",
       "      <td>...</td>\n",
       "      <td>...</td>\n",
       "      <td>...</td>\n",
       "      <td>...</td>\n",
       "      <td>...</td>\n",
       "      <td>...</td>\n",
       "      <td>...</td>\n",
       "      <td>...</td>\n",
       "    </tr>\n",
       "    <tr>\n",
       "      <th>989</th>\n",
       "      <td>Take Shelter</td>\n",
       "      <td>2011</td>\n",
       "      <td>Thriller</td>\n",
       "      <td>7.4</td>\n",
       "      <td>83200</td>\n",
       "      <td>Sep 30, 2011</td>\n",
       "      <td>4750000.0</td>\n",
       "      <td>1728953.0</td>\n",
       "      <td>4972016.0</td>\n",
       "      <td>2011</td>\n",
       "      <td>09 Sep</td>\n",
       "      <td>222016.0</td>\n",
       "      <td>0.222016</td>\n",
       "      <td>4.75</td>\n",
       "      <td>4.67</td>\n",
       "      <td>2011</td>\n",
       "      <td>0</td>\n",
       "    </tr>\n",
       "    <tr>\n",
       "      <th>989</th>\n",
       "      <td>Take Shelter</td>\n",
       "      <td>2011</td>\n",
       "      <td>Horror</td>\n",
       "      <td>7.4</td>\n",
       "      <td>83200</td>\n",
       "      <td>Sep 30, 2011</td>\n",
       "      <td>4750000.0</td>\n",
       "      <td>1728953.0</td>\n",
       "      <td>4972016.0</td>\n",
       "      <td>2011</td>\n",
       "      <td>09 Sep</td>\n",
       "      <td>222016.0</td>\n",
       "      <td>0.222016</td>\n",
       "      <td>4.75</td>\n",
       "      <td>4.67</td>\n",
       "      <td>2011</td>\n",
       "      <td>0</td>\n",
       "    </tr>\n",
       "    <tr>\n",
       "      <th>1075</th>\n",
       "      <td>Scouts Guide to the Zombie Apocalypse</td>\n",
       "      <td>2015</td>\n",
       "      <td>Horror</td>\n",
       "      <td>6.3</td>\n",
       "      <td>40479</td>\n",
       "      <td>Oct 30, 2015</td>\n",
       "      <td>15000000.0</td>\n",
       "      <td>3703046.0</td>\n",
       "      <td>15554855.0</td>\n",
       "      <td>2015</td>\n",
       "      <td>10 Oct</td>\n",
       "      <td>554855.0</td>\n",
       "      <td>0.554855</td>\n",
       "      <td>15.00</td>\n",
       "      <td>3.70</td>\n",
       "      <td>2015</td>\n",
       "      <td>0</td>\n",
       "    </tr>\n",
       "    <tr>\n",
       "      <th>1046</th>\n",
       "      <td>Alex Cross</td>\n",
       "      <td>2012</td>\n",
       "      <td>Mystery</td>\n",
       "      <td>5.1</td>\n",
       "      <td>30951</td>\n",
       "      <td>Oct 19, 2012</td>\n",
       "      <td>35000000.0</td>\n",
       "      <td>25888412.0</td>\n",
       "      <td>35426759.0</td>\n",
       "      <td>2012</td>\n",
       "      <td>10 Oct</td>\n",
       "      <td>426759.0</td>\n",
       "      <td>0.426759</td>\n",
       "      <td>35.00</td>\n",
       "      <td>1.22</td>\n",
       "      <td>2012</td>\n",
       "      <td>0</td>\n",
       "    </tr>\n",
       "    <tr>\n",
       "      <th>994</th>\n",
       "      <td>Stoker</td>\n",
       "      <td>2013</td>\n",
       "      <td>Thriller</td>\n",
       "      <td>6.8</td>\n",
       "      <td>97393</td>\n",
       "      <td>Mar 1, 2013</td>\n",
       "      <td>12000000.0</td>\n",
       "      <td>1703125.0</td>\n",
       "      <td>12034913.0</td>\n",
       "      <td>2013</td>\n",
       "      <td>03 Mar</td>\n",
       "      <td>34913.0</td>\n",
       "      <td>0.034913</td>\n",
       "      <td>12.00</td>\n",
       "      <td>0.29</td>\n",
       "      <td>2013</td>\n",
       "      <td>0</td>\n",
       "    </tr>\n",
       "  </tbody>\n",
       "</table>\n",
       "<p>371 rows × 17 columns</p>\n",
       "</div>"
      ]
     },
     "metadata": {},
     "execution_count": 163
    }
   ],
   "metadata": {}
  },
  {
   "cell_type": "markdown",
   "source": [
    "### Mean ROI by Month for the Top 3 Genres (2010-2020)"
   ],
   "metadata": {}
  },
  {
   "cell_type": "code",
   "execution_count": 164,
   "source": [
    "height = mean_ROI_by_month['ROI']\r\n",
    "x = range(12)\r\n",
    "labels = [\"Jan\", \"Feb\",\"Mar\",\"Apr\",\"May\",\"Jun\",\"Jul\",\"Aug\",\"Sep\",\"Oct\",\"Nov\",\"Dec\",]\r\n",
    "\r\n",
    "fig, ax = plt.subplots(figsize=(10, 5))\r\n",
    "\r\n",
    "ax.bar(x, height, tick_label=labels, color = \"green\")\r\n",
    "\r\n",
    "ax.set_title(\"Mean ROI by Month for the Top 3 Genres (2010-2020)\")\r\n",
    "ax.set_ylabel(\"Mean Return on Investment (%)\")\r\n",
    "ax.set_xlabel(\"Month\")"
   ],
   "outputs": [
    {
     "output_type": "execute_result",
     "data": {
      "text/plain": [
       "Text(0.5, 0, 'Month')"
      ]
     },
     "metadata": {},
     "execution_count": 164
    },
    {
     "output_type": "display_data",
     "data": {
      "text/plain": [
       "<Figure size 720x360 with 1 Axes>"
      ],
      "image/png": "[encoded data removed]"
     },
     "metadata": {
      "needs_background": "light"
     }
    }
   ],
   "metadata": {}
  },
  {
   "cell_type": "markdown",
   "source": [
    "Graph shows mean positive ROI for the top three genres for each month of the year from 2010 to 2020"
   ],
   "metadata": {}
  },
  {
   "cell_type": "markdown",
   "source": [
    "## Question 3"
   ],
   "metadata": {}
  },
  {
   "cell_type": "markdown",
   "source": [
    "### ROI vs. Production Budget\n",
    "After having the top three genres and having a general idea for when to release a movie, Microsoft would also need to know how much to spend for each genre. We will be comparing how much to spend in relation to ROI. "
   ],
   "metadata": {}
  },
  {
   "cell_type": "markdown",
   "source": [
    "Looks at top 3 genres with only positive ROI"
   ],
   "metadata": {}
  },
  {
   "cell_type": "code",
   "execution_count": 165,
   "source": [
    "boolean_series = no_gallows_pos.genres.isin(top3genres_v2)\r\n",
    "pos_top3_df = no_gallows_pos[boolean_series]\r\n",
    "pos_top3_df"
   ],
   "outputs": [
    {
     "output_type": "execute_result",
     "data": {
      "text/plain": [
       "                                      movie  start_year    genres  \\\n",
       "755                   Paranormal Activity 2        2010    Horror   \n",
       "2402                                Get Out        2017  Thriller   \n",
       "2402                                Get Out        2017    Horror   \n",
       "2402                                Get Out        2017   Mystery   \n",
       "1446                      Chernobyl Diaries        2012  Thriller   \n",
       "...                                     ...         ...       ...   \n",
       "989                            Take Shelter        2011  Thriller   \n",
       "989                            Take Shelter        2011    Horror   \n",
       "1075  Scouts Guide to the Zombie Apocalypse        2015    Horror   \n",
       "1046                             Alex Cross        2012   Mystery   \n",
       "994                                  Stoker        2013  Thriller   \n",
       "\n",
       "      averagerating  numvotes  release_date  production_budget  \\\n",
       "755             5.7     93122  Oct 20, 2010          3000000.0   \n",
       "2402            7.7    400474  Feb 24, 2017          5000000.0   \n",
       "2402            7.7    400474  Feb 24, 2017          5000000.0   \n",
       "2402            7.7    400474  Feb 24, 2017          5000000.0   \n",
       "1446            5.0     60304  May 25, 2012          1000000.0   \n",
       "...             ...       ...           ...                ...   \n",
       "989             7.4     83200  Sep 30, 2011          4750000.0   \n",
       "989             7.4     83200  Sep 30, 2011          4750000.0   \n",
       "1075            6.3     40479  Oct 30, 2015         15000000.0   \n",
       "1046            5.1     30951  Oct 19, 2012         35000000.0   \n",
       "994             6.8     97393   Mar 1, 2013         12000000.0   \n",
       "\n",
       "      domestic_gross  worldwide_gross release_year release_month       profit  \\\n",
       "755       84752907.0      177512032.0         2010       10 Oct   174512032.0   \n",
       "2402     176040665.0      255367951.0         2017       02 Feb   250367951.0   \n",
       "2402     176040665.0      255367951.0         2017       02 Feb   250367951.0   \n",
       "2402     176040665.0      255367951.0         2017       02 Feb   250367951.0   \n",
       "1446      18119640.0       42411721.0         2012       05 May    41411721.0   \n",
       "...              ...              ...          ...           ...          ...   \n",
       "989        1728953.0        4972016.0         2011       09 Sep      222016.0   \n",
       "989        1728953.0        4972016.0         2011       09 Sep      222016.0   \n",
       "1075       3703046.0       15554855.0         2015       10 Oct      554855.0   \n",
       "1046      25888412.0       35426759.0         2012       10 Oct      426759.0   \n",
       "994        1703125.0       12034913.0         2013       03 Mar       34913.0   \n",
       "\n",
       "      profit_million  production_budget_million      ROI  year  same_year  \n",
       "755       174.512032                       3.00  5817.07  2010          0  \n",
       "2402      250.367951                       5.00  5007.36  2017          0  \n",
       "2402      250.367951                       5.00  5007.36  2017          0  \n",
       "2402      250.367951                       5.00  5007.36  2017          0  \n",
       "1446       41.411721                       1.00  4141.17  2012          0  \n",
       "...              ...                        ...      ...   ...        ...  \n",
       "989         0.222016                       4.75     4.67  2011          0  \n",
       "989         0.222016                       4.75     4.67  2011          0  \n",
       "1075        0.554855                      15.00     3.70  2015          0  \n",
       "1046        0.426759                      35.00     1.22  2012          0  \n",
       "994         0.034913                      12.00     0.29  2013          0  \n",
       "\n",
       "[371 rows x 17 columns]"
      ],
      "text/html": [
       "<div>\n",
       "<style scoped>\n",
       "    .dataframe tbody tr th:only-of-type {\n",
       "        vertical-align: middle;\n",
       "    }\n",
       "\n",
       "    .dataframe tbody tr th {\n",
       "        vertical-align: top;\n",
       "    }\n",
       "\n",
       "    .dataframe thead th {\n",
       "        text-align: right;\n",
       "    }\n",
       "</style>\n",
       "<table border=\"1\" class=\"dataframe\">\n",
       "  <thead>\n",
       "    <tr style=\"text-align: right;\">\n",
       "      <th></th>\n",
       "      <th>movie</th>\n",
       "      <th>start_year</th>\n",
       "      <th>genres</th>\n",
       "      <th>averagerating</th>\n",
       "      <th>numvotes</th>\n",
       "      <th>release_date</th>\n",
       "      <th>production_budget</th>\n",
       "      <th>domestic_gross</th>\n",
       "      <th>worldwide_gross</th>\n",
       "      <th>release_year</th>\n",
       "      <th>release_month</th>\n",
       "      <th>profit</th>\n",
       "      <th>profit_million</th>\n",
       "      <th>production_budget_million</th>\n",
       "      <th>ROI</th>\n",
       "      <th>year</th>\n",
       "      <th>same_year</th>\n",
       "    </tr>\n",
       "  </thead>\n",
       "  <tbody>\n",
       "    <tr>\n",
       "      <th>755</th>\n",
       "      <td>Paranormal Activity 2</td>\n",
       "      <td>2010</td>\n",
       "      <td>Horror</td>\n",
       "      <td>5.7</td>\n",
       "      <td>93122</td>\n",
       "      <td>Oct 20, 2010</td>\n",
       "      <td>3000000.0</td>\n",
       "      <td>84752907.0</td>\n",
       "      <td>177512032.0</td>\n",
       "      <td>2010</td>\n",
       "      <td>10 Oct</td>\n",
       "      <td>174512032.0</td>\n",
       "      <td>174.512032</td>\n",
       "      <td>3.00</td>\n",
       "      <td>5817.07</td>\n",
       "      <td>2010</td>\n",
       "      <td>0</td>\n",
       "    </tr>\n",
       "    <tr>\n",
       "      <th>2402</th>\n",
       "      <td>Get Out</td>\n",
       "      <td>2017</td>\n",
       "      <td>Thriller</td>\n",
       "      <td>7.7</td>\n",
       "      <td>400474</td>\n",
       "      <td>Feb 24, 2017</td>\n",
       "      <td>5000000.0</td>\n",
       "      <td>176040665.0</td>\n",
       "      <td>255367951.0</td>\n",
       "      <td>2017</td>\n",
       "      <td>02 Feb</td>\n",
       "      <td>250367951.0</td>\n",
       "      <td>250.367951</td>\n",
       "      <td>5.00</td>\n",
       "      <td>5007.36</td>\n",
       "      <td>2017</td>\n",
       "      <td>0</td>\n",
       "    </tr>\n",
       "    <tr>\n",
       "      <th>2402</th>\n",
       "      <td>Get Out</td>\n",
       "      <td>2017</td>\n",
       "      <td>Horror</td>\n",
       "      <td>7.7</td>\n",
       "      <td>400474</td>\n",
       "      <td>Feb 24, 2017</td>\n",
       "      <td>5000000.0</td>\n",
       "      <td>176040665.0</td>\n",
       "      <td>255367951.0</td>\n",
       "      <td>2017</td>\n",
       "      <td>02 Feb</td>\n",
       "      <td>250367951.0</td>\n",
       "      <td>250.367951</td>\n",
       "      <td>5.00</td>\n",
       "      <td>5007.36</td>\n",
       "      <td>2017</td>\n",
       "      <td>0</td>\n",
       "    </tr>\n",
       "    <tr>\n",
       "      <th>2402</th>\n",
       "      <td>Get Out</td>\n",
       "      <td>2017</td>\n",
       "      <td>Mystery</td>\n",
       "      <td>7.7</td>\n",
       "      <td>400474</td>\n",
       "      <td>Feb 24, 2017</td>\n",
       "      <td>5000000.0</td>\n",
       "      <td>176040665.0</td>\n",
       "      <td>255367951.0</td>\n",
       "      <td>2017</td>\n",
       "      <td>02 Feb</td>\n",
       "      <td>250367951.0</td>\n",
       "      <td>250.367951</td>\n",
       "      <td>5.00</td>\n",
       "      <td>5007.36</td>\n",
       "      <td>2017</td>\n",
       "      <td>0</td>\n",
       "    </tr>\n",
       "    <tr>\n",
       "      <th>1446</th>\n",
       "      <td>Chernobyl Diaries</td>\n",
       "      <td>2012</td>\n",
       "      <td>Thriller</td>\n",
       "      <td>5.0</td>\n",
       "      <td>60304</td>\n",
       "      <td>May 25, 2012</td>\n",
       "      <td>1000000.0</td>\n",
       "      <td>18119640.0</td>\n",
       "      <td>42411721.0</td>\n",
       "      <td>2012</td>\n",
       "      <td>05 May</td>\n",
       "      <td>41411721.0</td>\n",
       "      <td>41.411721</td>\n",
       "      <td>1.00</td>\n",
       "      <td>4141.17</td>\n",
       "      <td>2012</td>\n",
       "      <td>0</td>\n",
       "    </tr>\n",
       "    <tr>\n",
       "      <th>...</th>\n",
       "      <td>...</td>\n",
       "      <td>...</td>\n",
       "      <td>...</td>\n",
       "      <td>...</td>\n",
       "      <td>...</td>\n",
       "      <td>...</td>\n",
       "      <td>...</td>\n",
       "      <td>...</td>\n",
       "      <td>...</td>\n",
       "      <td>...</td>\n",
       "      <td>...</td>\n",
       "      <td>...</td>\n",
       "      <td>...</td>\n",
       "      <td>...</td>\n",
       "      <td>...</td>\n",
       "      <td>...</td>\n",
       "      <td>...</td>\n",
       "    </tr>\n",
       "    <tr>\n",
       "      <th>989</th>\n",
       "      <td>Take Shelter</td>\n",
       "      <td>2011</td>\n",
       "      <td>Thriller</td>\n",
       "      <td>7.4</td>\n",
       "      <td>83200</td>\n",
       "      <td>Sep 30, 2011</td>\n",
       "      <td>4750000.0</td>\n",
       "      <td>1728953.0</td>\n",
       "      <td>4972016.0</td>\n",
       "      <td>2011</td>\n",
       "      <td>09 Sep</td>\n",
       "      <td>222016.0</td>\n",
       "      <td>0.222016</td>\n",
       "      <td>4.75</td>\n",
       "      <td>4.67</td>\n",
       "      <td>2011</td>\n",
       "      <td>0</td>\n",
       "    </tr>\n",
       "    <tr>\n",
       "      <th>989</th>\n",
       "      <td>Take Shelter</td>\n",
       "      <td>2011</td>\n",
       "      <td>Horror</td>\n",
       "      <td>7.4</td>\n",
       "      <td>83200</td>\n",
       "      <td>Sep 30, 2011</td>\n",
       "      <td>4750000.0</td>\n",
       "      <td>1728953.0</td>\n",
       "      <td>4972016.0</td>\n",
       "      <td>2011</td>\n",
       "      <td>09 Sep</td>\n",
       "      <td>222016.0</td>\n",
       "      <td>0.222016</td>\n",
       "      <td>4.75</td>\n",
       "      <td>4.67</td>\n",
       "      <td>2011</td>\n",
       "      <td>0</td>\n",
       "    </tr>\n",
       "    <tr>\n",
       "      <th>1075</th>\n",
       "      <td>Scouts Guide to the Zombie Apocalypse</td>\n",
       "      <td>2015</td>\n",
       "      <td>Horror</td>\n",
       "      <td>6.3</td>\n",
       "      <td>40479</td>\n",
       "      <td>Oct 30, 2015</td>\n",
       "      <td>15000000.0</td>\n",
       "      <td>3703046.0</td>\n",
       "      <td>15554855.0</td>\n",
       "      <td>2015</td>\n",
       "      <td>10 Oct</td>\n",
       "      <td>554855.0</td>\n",
       "      <td>0.554855</td>\n",
       "      <td>15.00</td>\n",
       "      <td>3.70</td>\n",
       "      <td>2015</td>\n",
       "      <td>0</td>\n",
       "    </tr>\n",
       "    <tr>\n",
       "      <th>1046</th>\n",
       "      <td>Alex Cross</td>\n",
       "      <td>2012</td>\n",
       "      <td>Mystery</td>\n",
       "      <td>5.1</td>\n",
       "      <td>30951</td>\n",
       "      <td>Oct 19, 2012</td>\n",
       "      <td>35000000.0</td>\n",
       "      <td>25888412.0</td>\n",
       "      <td>35426759.0</td>\n",
       "      <td>2012</td>\n",
       "      <td>10 Oct</td>\n",
       "      <td>426759.0</td>\n",
       "      <td>0.426759</td>\n",
       "      <td>35.00</td>\n",
       "      <td>1.22</td>\n",
       "      <td>2012</td>\n",
       "      <td>0</td>\n",
       "    </tr>\n",
       "    <tr>\n",
       "      <th>994</th>\n",
       "      <td>Stoker</td>\n",
       "      <td>2013</td>\n",
       "      <td>Thriller</td>\n",
       "      <td>6.8</td>\n",
       "      <td>97393</td>\n",
       "      <td>Mar 1, 2013</td>\n",
       "      <td>12000000.0</td>\n",
       "      <td>1703125.0</td>\n",
       "      <td>12034913.0</td>\n",
       "      <td>2013</td>\n",
       "      <td>03 Mar</td>\n",
       "      <td>34913.0</td>\n",
       "      <td>0.034913</td>\n",
       "      <td>12.00</td>\n",
       "      <td>0.29</td>\n",
       "      <td>2013</td>\n",
       "      <td>0</td>\n",
       "    </tr>\n",
       "  </tbody>\n",
       "</table>\n",
       "<p>371 rows × 17 columns</p>\n",
       "</div>"
      ]
     },
     "metadata": {},
     "execution_count": 165
    }
   ],
   "metadata": {}
  },
  {
   "cell_type": "code",
   "execution_count": 166,
   "source": [
    "fig, ax = plt.subplots(figsize=(10,6))\r\n",
    "\r\n",
    "ax = sns.scatterplot(x='production_budget_million', y='ROI', data=pos_top3_df, \r\n",
    "                     hue='genres', palette = 'bright')\r\n",
    "ax.set_title('ROI vs. Production Budget for Top 3 Genres')\r\n",
    "ax.set_xlabel('Production Budget (in Millions)')\r\n",
    "ax.set_ylabel('Return on Investment (%)')"
   ],
   "outputs": [
    {
     "output_type": "execute_result",
     "data": {
      "text/plain": [
       "Text(0, 0.5, 'Return on Investment (%)')"
      ]
     },
     "metadata": {},
     "execution_count": 166
    },
    {
     "output_type": "display_data",
     "data": {
      "text/plain": [
       "<Figure size 720x432 with 1 Axes>"
      ],
      "image/png": "[encoded data removed]"
     },
     "metadata": {
      "needs_background": "light"
     }
    }
   ],
   "metadata": {}
  },
  {
   "cell_type": "code",
   "execution_count": 167,
   "source": [
    "from scipy import stats\r\n",
    "corr1 = stats.pearsonr(pos_top3_df['production_budget_million'], pos_top3_df['ROI'])\r\n",
    "corr2 = stats.spearmanr(pos_top3_df['production_budget_million'], pos_top3_df['ROI'])\r\n",
    "print(corr1)\r\n",
    "print(corr2)"
   ],
   "outputs": [
    {
     "output_type": "stream",
     "name": "stdout",
     "text": [
      "(-0.30181296540007024, 2.9813761975968496e-09)\n",
      "SpearmanrResult(correlation=-0.5319820959945208, pvalue=1.7062771810420243e-28)\n"
     ]
    }
   ],
   "metadata": {}
  },
  {
   "cell_type": "code",
   "execution_count": 168,
   "source": [
    "fig,ax = plt.subplots(figsize=(10,2))\r\n",
    "ax= sns.boxplot(data = pos_top3_df, x = 'production_budget_million')\r\n",
    "ax.set_xlabel('Production Budget (in Millions)')"
   ],
   "outputs": [
    {
     "output_type": "execute_result",
     "data": {
      "text/plain": [
       "Text(0.5, 0, 'Production Budget (in Millions)')"
      ]
     },
     "metadata": {},
     "execution_count": 168
    },
    {
     "output_type": "display_data",
     "data": {
      "text/plain": [
       "<Figure size 720x144 with 1 Axes>"
      ],
      "image/png": "[encoded data removed]"
     },
     "metadata": {
      "needs_background": "light"
     }
    }
   ],
   "metadata": {}
  },
  {
   "cell_type": "markdown",
   "source": [
    "The IQR of this box plot indicates a production range of 6 million to 40 million dollars"
   ],
   "metadata": {}
  },
  {
   "cell_type": "code",
   "execution_count": 169,
   "source": [
    "pos_top3_df['production_budget_million'].describe()"
   ],
   "outputs": [
    {
     "output_type": "execute_result",
     "data": {
      "text/plain": [
       "count    371.000000\n",
       "mean      32.051888\n",
       "std       41.383037\n",
       "min        0.025000\n",
       "25%        6.000000\n",
       "50%       17.000000\n",
       "75%       40.000000\n",
       "max      300.000000\n",
       "Name: production_budget_million, dtype: float64"
      ]
     },
     "metadata": {},
     "execution_count": 169
    }
   ],
   "metadata": {}
  },
  {
   "cell_type": "markdown",
   "source": [
    "***"
   ],
   "metadata": {}
  },
  {
   "cell_type": "markdown",
   "source": [
    "## Evaluation"
   ],
   "metadata": {}
  },
  {
   "cell_type": "markdown",
   "source": [
    "***Q1: Which genre should Microsoft produce a movie from?***\n",
    "\n",
    "**Data Interpretation:**\n",
    "\n",
    "By looking at movies from 2010 on, grouping them by genre indicators, and calculating the mean return on investment, we found these results as represented by the bar chart.\n",
    "The top three genres that generated the greatest average ROI in descending order are horror, mystery, and thriller. \n",
    "\n",
    "1. The top three genres with the highest average ROIs:\n",
    "    1. Horror\n",
    "    2. Mystery\n",
    "    3. Thriller\n",
    "    \n",
    "**Recommendation:** We recommend Microsoft to consider making a movie from these three genres or a movie with a combination of these genres as it will yield the highest ROIs. "
   ],
   "metadata": {}
  },
  {
   "cell_type": "markdown",
   "source": [
    "***Q2: What time of the year should Mircrosoft release the movie?***\r\n",
    "\r\n",
    "**Data Interpretation:**\r\n",
    "\r\n",
    "When examining release month with respect to the top three genres as a whole, October, January, and May had the greatest mean ROI compared to other months of the year.\r\n",
    "\r\n",
    "**Recommendation:** Microsoft should consider on releasing a movie in the beginning of the year, May or October. The bar graph is evident of this as the month which produces the highest average ROI is October. "
   ],
   "metadata": {}
  },
  {
   "cell_type": "markdown",
   "source": [
    "***Q3: How much should the production cost be?***\n",
    "\n",
    "**Data Interpretation:**\n",
    "\n",
    "When looking at the relationship between the production budget and return on investment for the top three genres, it produces a weak negative correlation with a Spearman’s  correlation( ρ) of -0.53 and a Pearson’s correlation (r) of -0.30. This indicates that a higher production budget will not produce a greater return on investment. \n",
    "\n",
    "To gain a better understanding of the distribution of the production budgets, the box plot indicates that the middle 50% of the production budgets range from 6 million to 40 million dollars.\n",
    "\n",
    "**Recommendation:** We recommend Microsoft to have a budget between 6 million and 40 million dollars for the production of a top three genre movie. "
   ],
   "metadata": {}
  }
 ],
 "metadata": {
  "interpreter": {
   "hash": "fa1ffea8375f1a7678a677898fedbf0220e6d55ec242dfe6a3eb2d0aac3741bb"
  },
  "kernelspec": {
   "name": "python3",
   "display_name": "Python 3.8.10 64-bit ('base': conda)"
  },
  "language_info": {
   "codemirror_mode": {
    "name": "ipython",
    "version": 3
   },
   "file_extension": ".py",
   "mimetype": "text/x-python",
   "name": "python",
   "nbconvert_exporter": "python",
   "pygments_lexer": "ipython3",
   "version": "3.8.10"
  }
 },
 "nbformat": 4,
 "nbformat_minor": 5
}