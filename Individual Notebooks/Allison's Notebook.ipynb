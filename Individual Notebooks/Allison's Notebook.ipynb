{
 "cells": [
  {
   "cell_type": "code",
   "execution_count": 1,
   "id": "b1173132",
   "metadata": {},
   "outputs": [],
   "source": [
    "import seaborn as sns\n",
    "from matplotlib import pyplot as plt\n",
    "import numpy as np\n",
    "import pandas as pd\n",
    "%matplotlib inline"
   ]
  },
  {
   "cell_type": "code",
   "execution_count": 2,
   "id": "cfceefd2",
   "metadata": {},
   "outputs": [],
   "source": [
    "title_basics = pd.read_csv('./Data/imdb.title.basics.csv.gz')\n",
    "title_ratings = pd.read_csv(\"./Data/imdb.title.ratings.csv.gz\")\n",
    "movie_budgets = pd.read_csv('./Data/tn.movie_budgets.csv.gz')"
   ]
  },
  {
   "cell_type": "code",
   "execution_count": 6,
   "id": "1734e657",
   "metadata": {},
   "outputs": [],
   "source": [
    "title_basics.rename(columns = {'primary_title':'movie'}, inplace = True)\n",
    "title_basics.drop(columns = [\"original_title\",\"runtime_minutes\"], inplace=True)"
   ]
  },
  {
   "cell_type": "code",
   "execution_count": 7,
   "id": "3d3acdfe",
   "metadata": {},
   "outputs": [
    {
     "data": {
      "text/plain": [
       "3.7004598204510617"
      ]
     },
     "execution_count": 7,
     "metadata": {},
     "output_type": "execute_result"
    }
   ],
   "source": [
    "title_basics['genres'].isna().sum()/146144*100"
   ]
  },
  {
   "cell_type": "code",
   "execution_count": 8,
   "id": "fe702f35",
   "metadata": {},
   "outputs": [],
   "source": [
    "title_basics.dropna(subset= ['genres'], inplace = True)"
   ]
  },
  {
   "cell_type": "code",
   "execution_count": 9,
   "id": "234fe100",
   "metadata": {},
   "outputs": [],
   "source": [
    "#movie_budgets['release_date'] = pd.to_datetime(movie_budgets['release_date'])"
   ]
  },
  {
   "cell_type": "code",
   "execution_count": 10,
   "id": "4e202408",
   "metadata": {},
   "outputs": [],
   "source": [
    "movie_budgets[\"release_year\"]= [x[7:] for x in movie_budgets[\"release_date\"]]\n",
    "movie_budgets[\"release_month\"]= [x[:4] for x in movie_budgets[\"release_date\"]]\n",
    "\n",
    "#for the purpose of graphing, edited each month with numeric values in the beginning \n",
    "movie_budgets[\"release_month\"] = movie_budgets[\"release_month\"].str.replace(\"Jan\", \"01 Jan\")\n",
    "movie_budgets[\"release_month\"] = movie_budgets[\"release_month\"].str.replace(\"Feb\", \"02 Feb\")\n",
    "movie_budgets[\"release_month\"] = movie_budgets[\"release_month\"].str.replace(\"Mar\", \"03 Mar\")\n",
    "movie_budgets[\"release_month\"] = movie_budgets[\"release_month\"].str.replace(\"Apr\", \"04 Apr\")\n",
    "movie_budgets[\"release_month\"] = movie_budgets[\"release_month\"].str.replace(\"May\", \"05 May\")\n",
    "movie_budgets[\"release_month\"] = movie_budgets[\"release_month\"].str.replace(\"Jun\", \"06 Jun\")\n",
    "movie_budgets[\"release_month\"] = movie_budgets[\"release_month\"].str.replace(\"Jul\", \"07 Jul\")\n",
    "movie_budgets[\"release_month\"] = movie_budgets[\"release_month\"].str.replace(\"Aug\", \"08 Aug\")\n",
    "movie_budgets[\"release_month\"] = movie_budgets[\"release_month\"].str.replace(\"Sep\", \"09 Sep\")\n",
    "movie_budgets[\"release_month\"] = movie_budgets[\"release_month\"].str.replace(\"Oct\", \"10 Oct\")\n",
    "movie_budgets[\"release_month\"] = movie_budgets[\"release_month\"].str.replace(\"Nov\", \"11 Nov\")\n",
    "movie_budgets[\"release_month\"] = movie_budgets[\"release_month\"].str.replace(\"Dec\", \"12 Dec\")"
   ]
  },
  {
   "cell_type": "code",
   "execution_count": 11,
   "id": "c07b8e94",
   "metadata": {},
   "outputs": [],
   "source": [
    "# change production_budget, domestic_gross, and worldwide_budget to integers\n",
    "movie_budgets['production_budget'] = movie_budgets['production_budget'].replace('[\\$,]', '', regex=True).astype(float)\n",
    "movie_budgets['domestic_gross'] = movie_budgets['domestic_gross'].replace('[\\$,]', '', regex=True).astype(float)\n",
    "movie_budgets['worldwide_gross'] = movie_budgets['worldwide_gross'].replace('[\\$,]', '', regex=True).astype(float)"
   ]
  },
  {
   "cell_type": "code",
   "execution_count": 12,
   "id": "d5656e1c",
   "metadata": {},
   "outputs": [],
   "source": [
    "movie_budgets.drop(columns = [\"id\"], inplace=True)\n",
    "# drop rows where worldwide_gross or production_budget is 0\n",
    "movie_budgets = movie_budgets[movie_budgets.worldwide_gross != 0]\n",
    "movie_budgets = movie_budgets[movie_budgets.production_budget != 0]"
   ]
  },
  {
   "cell_type": "code",
   "execution_count": 13,
   "id": "7ce239ab",
   "metadata": {},
   "outputs": [],
   "source": [
    "movie_budgets['profit'] = movie_budgets['worldwide_gross'] - movie_budgets['production_budget']\n",
    "movie_budgets['profit_million']=(movie_budgets['profit']/1000000)\n",
    "movie_budgets['production_budget_million']=(movie_budgets['production_budget']/1000000)\n",
    "movie_budgets['ROI'] = (movie_budgets['profit'] / movie_budgets['production_budget']) * 100\n",
    "movie_budgets = movie_budgets.round({'ROI': 2})\n",
    "movie_budgets['year'] = pd.DatetimeIndex(movie_budgets['release_date']).year"
   ]
  },
  {
   "cell_type": "code",
   "execution_count": 14,
   "id": "c327302b",
   "metadata": {},
   "outputs": [
    {
     "data": {
      "text/html": [
       "<div>\n",
       "<style scoped>\n",
       "    .dataframe tbody tr th:only-of-type {\n",
       "        vertical-align: middle;\n",
       "    }\n",
       "\n",
       "    .dataframe tbody tr th {\n",
       "        vertical-align: top;\n",
       "    }\n",
       "\n",
       "    .dataframe thead th {\n",
       "        text-align: right;\n",
       "    }\n",
       "</style>\n",
       "<table border=\"1\" class=\"dataframe\">\n",
       "  <thead>\n",
       "    <tr style=\"text-align: right;\">\n",
       "      <th></th>\n",
       "      <th>release_date</th>\n",
       "      <th>movie</th>\n",
       "      <th>production_budget</th>\n",
       "      <th>domestic_gross</th>\n",
       "      <th>worldwide_gross</th>\n",
       "      <th>release_year</th>\n",
       "      <th>release_month</th>\n",
       "      <th>profit</th>\n",
       "      <th>profit_million</th>\n",
       "      <th>production_budget_million</th>\n",
       "      <th>ROI</th>\n",
       "      <th>year</th>\n",
       "    </tr>\n",
       "  </thead>\n",
       "  <tbody>\n",
       "    <tr>\n",
       "      <th>2224</th>\n",
       "      <td>Dec 10, 2014</td>\n",
       "      <td>The Gambler</td>\n",
       "      <td>25000000.0</td>\n",
       "      <td>33680992.0</td>\n",
       "      <td>38718031.0</td>\n",
       "      <td>2014</td>\n",
       "      <td>12 Dec</td>\n",
       "      <td>13718031.0</td>\n",
       "      <td>13.718031</td>\n",
       "      <td>25.0</td>\n",
       "      <td>54.87</td>\n",
       "      <td>2014</td>\n",
       "    </tr>\n",
       "    <tr>\n",
       "      <th>4749</th>\n",
       "      <td>Aug 4, 1999</td>\n",
       "      <td>The Gambler</td>\n",
       "      <td>3000000.0</td>\n",
       "      <td>51773.0</td>\n",
       "      <td>101773.0</td>\n",
       "      <td>1999</td>\n",
       "      <td>08 Aug</td>\n",
       "      <td>-2898227.0</td>\n",
       "      <td>-2.898227</td>\n",
       "      <td>3.0</td>\n",
       "      <td>-96.61</td>\n",
       "      <td>1999</td>\n",
       "    </tr>\n",
       "  </tbody>\n",
       "</table>\n",
       "</div>"
      ],
      "text/plain": [
       "      release_date        movie  production_budget  domestic_gross  \\\n",
       "2224  Dec 10, 2014  The Gambler         25000000.0      33680992.0   \n",
       "4749   Aug 4, 1999  The Gambler          3000000.0         51773.0   \n",
       "\n",
       "      worldwide_gross release_year release_month      profit  profit_million  \\\n",
       "2224       38718031.0         2014       12 Dec   13718031.0       13.718031   \n",
       "4749         101773.0         1999       08 Aug   -2898227.0       -2.898227   \n",
       "\n",
       "      production_budget_million    ROI  year  \n",
       "2224                       25.0  54.87  2014  \n",
       "4749                        3.0 -96.61  1999  "
      ]
     },
     "execution_count": 14,
     "metadata": {},
     "output_type": "execute_result"
    }
   ],
   "source": [
    "movie_budgets.loc[movie_budgets['movie']== 'The Gambler']"
   ]
  },
  {
   "cell_type": "markdown",
   "id": "b0e135cd",
   "metadata": {},
   "source": [
    "# Merge Data Tables "
   ]
  },
  {
   "cell_type": "code",
   "execution_count": 15,
   "id": "6c09275c",
   "metadata": {},
   "outputs": [
    {
     "data": {
      "text/html": [
       "<div>\n",
       "<style scoped>\n",
       "    .dataframe tbody tr th:only-of-type {\n",
       "        vertical-align: middle;\n",
       "    }\n",
       "\n",
       "    .dataframe tbody tr th {\n",
       "        vertical-align: top;\n",
       "    }\n",
       "\n",
       "    .dataframe thead th {\n",
       "        text-align: right;\n",
       "    }\n",
       "</style>\n",
       "<table border=\"1\" class=\"dataframe\">\n",
       "  <thead>\n",
       "    <tr style=\"text-align: right;\">\n",
       "      <th></th>\n",
       "      <th>tconst</th>\n",
       "      <th>movie</th>\n",
       "      <th>start_year</th>\n",
       "      <th>genres</th>\n",
       "      <th>averagerating</th>\n",
       "      <th>numvotes</th>\n",
       "    </tr>\n",
       "  </thead>\n",
       "  <tbody>\n",
       "    <tr>\n",
       "      <th>0</th>\n",
       "      <td>tt0063540</td>\n",
       "      <td>Sunghursh</td>\n",
       "      <td>2013</td>\n",
       "      <td>Action,Crime,Drama</td>\n",
       "      <td>7.0</td>\n",
       "      <td>77</td>\n",
       "    </tr>\n",
       "    <tr>\n",
       "      <th>1</th>\n",
       "      <td>tt0066787</td>\n",
       "      <td>One Day Before the Rainy Season</td>\n",
       "      <td>2019</td>\n",
       "      <td>Biography,Drama</td>\n",
       "      <td>7.2</td>\n",
       "      <td>43</td>\n",
       "    </tr>\n",
       "    <tr>\n",
       "      <th>2</th>\n",
       "      <td>tt0069049</td>\n",
       "      <td>The Other Side of the Wind</td>\n",
       "      <td>2018</td>\n",
       "      <td>Drama</td>\n",
       "      <td>6.9</td>\n",
       "      <td>4517</td>\n",
       "    </tr>\n",
       "    <tr>\n",
       "      <th>3</th>\n",
       "      <td>tt0069204</td>\n",
       "      <td>Sabse Bada Sukh</td>\n",
       "      <td>2018</td>\n",
       "      <td>Comedy,Drama</td>\n",
       "      <td>6.1</td>\n",
       "      <td>13</td>\n",
       "    </tr>\n",
       "    <tr>\n",
       "      <th>4</th>\n",
       "      <td>tt0100275</td>\n",
       "      <td>The Wandering Soap Opera</td>\n",
       "      <td>2017</td>\n",
       "      <td>Comedy,Drama,Fantasy</td>\n",
       "      <td>6.5</td>\n",
       "      <td>119</td>\n",
       "    </tr>\n",
       "    <tr>\n",
       "      <th>...</th>\n",
       "      <td>...</td>\n",
       "      <td>...</td>\n",
       "      <td>...</td>\n",
       "      <td>...</td>\n",
       "      <td>...</td>\n",
       "      <td>...</td>\n",
       "    </tr>\n",
       "    <tr>\n",
       "      <th>73047</th>\n",
       "      <td>tt9913056</td>\n",
       "      <td>Swarm Season</td>\n",
       "      <td>2019</td>\n",
       "      <td>Documentary</td>\n",
       "      <td>6.2</td>\n",
       "      <td>5</td>\n",
       "    </tr>\n",
       "    <tr>\n",
       "      <th>73048</th>\n",
       "      <td>tt9913084</td>\n",
       "      <td>Diabolik sono io</td>\n",
       "      <td>2019</td>\n",
       "      <td>Documentary</td>\n",
       "      <td>6.2</td>\n",
       "      <td>6</td>\n",
       "    </tr>\n",
       "    <tr>\n",
       "      <th>73049</th>\n",
       "      <td>tt9914286</td>\n",
       "      <td>Sokagin Çocuklari</td>\n",
       "      <td>2019</td>\n",
       "      <td>Drama,Family</td>\n",
       "      <td>8.7</td>\n",
       "      <td>136</td>\n",
       "    </tr>\n",
       "    <tr>\n",
       "      <th>73050</th>\n",
       "      <td>tt9914642</td>\n",
       "      <td>Albatross</td>\n",
       "      <td>2017</td>\n",
       "      <td>Documentary</td>\n",
       "      <td>8.5</td>\n",
       "      <td>8</td>\n",
       "    </tr>\n",
       "    <tr>\n",
       "      <th>73051</th>\n",
       "      <td>tt9916160</td>\n",
       "      <td>Drømmeland</td>\n",
       "      <td>2019</td>\n",
       "      <td>Documentary</td>\n",
       "      <td>6.5</td>\n",
       "      <td>11</td>\n",
       "    </tr>\n",
       "  </tbody>\n",
       "</table>\n",
       "<p>73052 rows × 6 columns</p>\n",
       "</div>"
      ],
      "text/plain": [
       "          tconst                            movie  start_year  \\\n",
       "0      tt0063540                        Sunghursh        2013   \n",
       "1      tt0066787  One Day Before the Rainy Season        2019   \n",
       "2      tt0069049       The Other Side of the Wind        2018   \n",
       "3      tt0069204                  Sabse Bada Sukh        2018   \n",
       "4      tt0100275         The Wandering Soap Opera        2017   \n",
       "...          ...                              ...         ...   \n",
       "73047  tt9913056                     Swarm Season        2019   \n",
       "73048  tt9913084                 Diabolik sono io        2019   \n",
       "73049  tt9914286                Sokagin Çocuklari        2019   \n",
       "73050  tt9914642                        Albatross        2017   \n",
       "73051  tt9916160                       Drømmeland        2019   \n",
       "\n",
       "                     genres  averagerating  numvotes  \n",
       "0        Action,Crime,Drama            7.0        77  \n",
       "1           Biography,Drama            7.2        43  \n",
       "2                     Drama            6.9      4517  \n",
       "3              Comedy,Drama            6.1        13  \n",
       "4      Comedy,Drama,Fantasy            6.5       119  \n",
       "...                     ...            ...       ...  \n",
       "73047           Documentary            6.2         5  \n",
       "73048           Documentary            6.2         6  \n",
       "73049          Drama,Family            8.7       136  \n",
       "73050           Documentary            8.5         8  \n",
       "73051           Documentary            6.5        11  \n",
       "\n",
       "[73052 rows x 6 columns]"
      ]
     },
     "execution_count": 15,
     "metadata": {},
     "output_type": "execute_result"
    }
   ],
   "source": [
    "imdb_data = pd.merge(title_basics, title_ratings, how = 'inner', on = 'tconst')\n",
    "imdb_data\n",
    "#imdb_data.loc[imdb_data['movie']== 'The Gambler']"
   ]
  },
  {
   "cell_type": "code",
   "execution_count": 16,
   "id": "54526850",
   "metadata": {},
   "outputs": [
    {
     "data": {
      "text/html": [
       "<div>\n",
       "<style scoped>\n",
       "    .dataframe tbody tr th:only-of-type {\n",
       "        vertical-align: middle;\n",
       "    }\n",
       "\n",
       "    .dataframe tbody tr th {\n",
       "        vertical-align: top;\n",
       "    }\n",
       "\n",
       "    .dataframe thead th {\n",
       "        text-align: right;\n",
       "    }\n",
       "</style>\n",
       "<table border=\"1\" class=\"dataframe\">\n",
       "  <thead>\n",
       "    <tr style=\"text-align: right;\">\n",
       "      <th></th>\n",
       "      <th>tconst</th>\n",
       "      <th>movie</th>\n",
       "      <th>start_year</th>\n",
       "      <th>genres</th>\n",
       "      <th>averagerating</th>\n",
       "      <th>numvotes</th>\n",
       "      <th>release_date</th>\n",
       "      <th>production_budget</th>\n",
       "      <th>domestic_gross</th>\n",
       "      <th>worldwide_gross</th>\n",
       "      <th>release_year</th>\n",
       "      <th>release_month</th>\n",
       "      <th>profit</th>\n",
       "      <th>profit_million</th>\n",
       "      <th>production_budget_million</th>\n",
       "      <th>ROI</th>\n",
       "      <th>year</th>\n",
       "    </tr>\n",
       "  </thead>\n",
       "  <tbody>\n",
       "    <tr>\n",
       "      <th>0</th>\n",
       "      <td>tt0249516</td>\n",
       "      <td>Foodfight!</td>\n",
       "      <td>2012</td>\n",
       "      <td>Action,Animation,Comedy</td>\n",
       "      <td>1.9</td>\n",
       "      <td>8248</td>\n",
       "      <td>Dec 31, 2012</td>\n",
       "      <td>45000000.0</td>\n",
       "      <td>0.0</td>\n",
       "      <td>73706.0</td>\n",
       "      <td>2012</td>\n",
       "      <td>12 Dec</td>\n",
       "      <td>-44926294.0</td>\n",
       "      <td>-44.926294</td>\n",
       "      <td>45.000</td>\n",
       "      <td>-99.84</td>\n",
       "      <td>2012</td>\n",
       "    </tr>\n",
       "    <tr>\n",
       "      <th>1</th>\n",
       "      <td>tt0337692</td>\n",
       "      <td>On the Road</td>\n",
       "      <td>2012</td>\n",
       "      <td>Adventure,Drama,Romance</td>\n",
       "      <td>6.1</td>\n",
       "      <td>37886</td>\n",
       "      <td>Mar 22, 2013</td>\n",
       "      <td>25000000.0</td>\n",
       "      <td>720828.0</td>\n",
       "      <td>9313302.0</td>\n",
       "      <td>2013</td>\n",
       "      <td>03 Mar</td>\n",
       "      <td>-15686698.0</td>\n",
       "      <td>-15.686698</td>\n",
       "      <td>25.000</td>\n",
       "      <td>-62.75</td>\n",
       "      <td>2013</td>\n",
       "    </tr>\n",
       "    <tr>\n",
       "      <th>2</th>\n",
       "      <td>tt4339118</td>\n",
       "      <td>On the Road</td>\n",
       "      <td>2014</td>\n",
       "      <td>Drama</td>\n",
       "      <td>6.0</td>\n",
       "      <td>6</td>\n",
       "      <td>Mar 22, 2013</td>\n",
       "      <td>25000000.0</td>\n",
       "      <td>720828.0</td>\n",
       "      <td>9313302.0</td>\n",
       "      <td>2013</td>\n",
       "      <td>03 Mar</td>\n",
       "      <td>-15686698.0</td>\n",
       "      <td>-15.686698</td>\n",
       "      <td>25.000</td>\n",
       "      <td>-62.75</td>\n",
       "      <td>2013</td>\n",
       "    </tr>\n",
       "    <tr>\n",
       "      <th>3</th>\n",
       "      <td>tt5647250</td>\n",
       "      <td>On the Road</td>\n",
       "      <td>2016</td>\n",
       "      <td>Drama</td>\n",
       "      <td>5.7</td>\n",
       "      <td>127</td>\n",
       "      <td>Mar 22, 2013</td>\n",
       "      <td>25000000.0</td>\n",
       "      <td>720828.0</td>\n",
       "      <td>9313302.0</td>\n",
       "      <td>2013</td>\n",
       "      <td>03 Mar</td>\n",
       "      <td>-15686698.0</td>\n",
       "      <td>-15.686698</td>\n",
       "      <td>25.000</td>\n",
       "      <td>-62.75</td>\n",
       "      <td>2013</td>\n",
       "    </tr>\n",
       "    <tr>\n",
       "      <th>4</th>\n",
       "      <td>tt0359950</td>\n",
       "      <td>The Secret Life of Walter Mitty</td>\n",
       "      <td>2013</td>\n",
       "      <td>Adventure,Comedy,Drama</td>\n",
       "      <td>7.3</td>\n",
       "      <td>275300</td>\n",
       "      <td>Dec 25, 2013</td>\n",
       "      <td>91000000.0</td>\n",
       "      <td>58236838.0</td>\n",
       "      <td>187861183.0</td>\n",
       "      <td>2013</td>\n",
       "      <td>12 Dec</td>\n",
       "      <td>96861183.0</td>\n",
       "      <td>96.861183</td>\n",
       "      <td>91.000</td>\n",
       "      <td>106.44</td>\n",
       "      <td>2013</td>\n",
       "    </tr>\n",
       "    <tr>\n",
       "      <th>...</th>\n",
       "      <td>...</td>\n",
       "      <td>...</td>\n",
       "      <td>...</td>\n",
       "      <td>...</td>\n",
       "      <td>...</td>\n",
       "      <td>...</td>\n",
       "      <td>...</td>\n",
       "      <td>...</td>\n",
       "      <td>...</td>\n",
       "      <td>...</td>\n",
       "      <td>...</td>\n",
       "      <td>...</td>\n",
       "      <td>...</td>\n",
       "      <td>...</td>\n",
       "      <td>...</td>\n",
       "      <td>...</td>\n",
       "      <td>...</td>\n",
       "    </tr>\n",
       "    <tr>\n",
       "      <th>2587</th>\n",
       "      <td>tt8680254</td>\n",
       "      <td>Richard III</td>\n",
       "      <td>2016</td>\n",
       "      <td>Drama</td>\n",
       "      <td>9.1</td>\n",
       "      <td>28</td>\n",
       "      <td>Dec 29, 1995</td>\n",
       "      <td>9200000.0</td>\n",
       "      <td>2684904.0</td>\n",
       "      <td>4199334.0</td>\n",
       "      <td>1995</td>\n",
       "      <td>12 Dec</td>\n",
       "      <td>-5000666.0</td>\n",
       "      <td>-5.000666</td>\n",
       "      <td>9.200</td>\n",
       "      <td>-54.36</td>\n",
       "      <td>1995</td>\n",
       "    </tr>\n",
       "    <tr>\n",
       "      <th>2588</th>\n",
       "      <td>tt8824064</td>\n",
       "      <td>Heroes</td>\n",
       "      <td>2019</td>\n",
       "      <td>Documentary</td>\n",
       "      <td>7.3</td>\n",
       "      <td>7</td>\n",
       "      <td>Oct 24, 2008</td>\n",
       "      <td>400000.0</td>\n",
       "      <td>655538.0</td>\n",
       "      <td>655538.0</td>\n",
       "      <td>2008</td>\n",
       "      <td>10 Oct</td>\n",
       "      <td>255538.0</td>\n",
       "      <td>0.255538</td>\n",
       "      <td>0.400</td>\n",
       "      <td>63.88</td>\n",
       "      <td>2008</td>\n",
       "    </tr>\n",
       "    <tr>\n",
       "      <th>2589</th>\n",
       "      <td>tt8976772</td>\n",
       "      <td>Push</td>\n",
       "      <td>2019</td>\n",
       "      <td>Documentary</td>\n",
       "      <td>7.3</td>\n",
       "      <td>33</td>\n",
       "      <td>Feb 6, 2009</td>\n",
       "      <td>38000000.0</td>\n",
       "      <td>31811527.0</td>\n",
       "      <td>49678401.0</td>\n",
       "      <td>2009</td>\n",
       "      <td>02 Feb</td>\n",
       "      <td>11678401.0</td>\n",
       "      <td>11.678401</td>\n",
       "      <td>38.000</td>\n",
       "      <td>30.73</td>\n",
       "      <td>2009</td>\n",
       "    </tr>\n",
       "    <tr>\n",
       "      <th>2590</th>\n",
       "      <td>tt9024106</td>\n",
       "      <td>Unplanned</td>\n",
       "      <td>2019</td>\n",
       "      <td>Biography,Drama</td>\n",
       "      <td>6.3</td>\n",
       "      <td>5945</td>\n",
       "      <td>Mar 29, 2019</td>\n",
       "      <td>6000000.0</td>\n",
       "      <td>18107621.0</td>\n",
       "      <td>18107621.0</td>\n",
       "      <td>2019</td>\n",
       "      <td>03 Mar</td>\n",
       "      <td>12107621.0</td>\n",
       "      <td>12.107621</td>\n",
       "      <td>6.000</td>\n",
       "      <td>201.79</td>\n",
       "      <td>2019</td>\n",
       "    </tr>\n",
       "    <tr>\n",
       "      <th>2591</th>\n",
       "      <td>tt9248762</td>\n",
       "      <td>The Terrorist</td>\n",
       "      <td>2018</td>\n",
       "      <td>Thriller</td>\n",
       "      <td>6.0</td>\n",
       "      <td>6</td>\n",
       "      <td>Jan 14, 2000</td>\n",
       "      <td>25000.0</td>\n",
       "      <td>195043.0</td>\n",
       "      <td>195043.0</td>\n",
       "      <td>2000</td>\n",
       "      <td>01 Jan</td>\n",
       "      <td>170043.0</td>\n",
       "      <td>0.170043</td>\n",
       "      <td>0.025</td>\n",
       "      <td>680.17</td>\n",
       "      <td>2000</td>\n",
       "    </tr>\n",
       "  </tbody>\n",
       "</table>\n",
       "<p>2592 rows × 17 columns</p>\n",
       "</div>"
      ],
      "text/plain": [
       "         tconst                            movie  start_year  \\\n",
       "0     tt0249516                       Foodfight!        2012   \n",
       "1     tt0337692                      On the Road        2012   \n",
       "2     tt4339118                      On the Road        2014   \n",
       "3     tt5647250                      On the Road        2016   \n",
       "4     tt0359950  The Secret Life of Walter Mitty        2013   \n",
       "...         ...                              ...         ...   \n",
       "2587  tt8680254                      Richard III        2016   \n",
       "2588  tt8824064                           Heroes        2019   \n",
       "2589  tt8976772                             Push        2019   \n",
       "2590  tt9024106                        Unplanned        2019   \n",
       "2591  tt9248762                    The Terrorist        2018   \n",
       "\n",
       "                       genres  averagerating  numvotes  release_date  \\\n",
       "0     Action,Animation,Comedy            1.9      8248  Dec 31, 2012   \n",
       "1     Adventure,Drama,Romance            6.1     37886  Mar 22, 2013   \n",
       "2                       Drama            6.0         6  Mar 22, 2013   \n",
       "3                       Drama            5.7       127  Mar 22, 2013   \n",
       "4      Adventure,Comedy,Drama            7.3    275300  Dec 25, 2013   \n",
       "...                       ...            ...       ...           ...   \n",
       "2587                    Drama            9.1        28  Dec 29, 1995   \n",
       "2588              Documentary            7.3         7  Oct 24, 2008   \n",
       "2589              Documentary            7.3        33   Feb 6, 2009   \n",
       "2590          Biography,Drama            6.3      5945  Mar 29, 2019   \n",
       "2591                 Thriller            6.0         6  Jan 14, 2000   \n",
       "\n",
       "      production_budget  domestic_gross  worldwide_gross release_year  \\\n",
       "0            45000000.0             0.0          73706.0         2012   \n",
       "1            25000000.0        720828.0        9313302.0         2013   \n",
       "2            25000000.0        720828.0        9313302.0         2013   \n",
       "3            25000000.0        720828.0        9313302.0         2013   \n",
       "4            91000000.0      58236838.0      187861183.0         2013   \n",
       "...                 ...             ...              ...          ...   \n",
       "2587          9200000.0       2684904.0        4199334.0         1995   \n",
       "2588           400000.0        655538.0         655538.0         2008   \n",
       "2589         38000000.0      31811527.0       49678401.0         2009   \n",
       "2590          6000000.0      18107621.0       18107621.0         2019   \n",
       "2591            25000.0        195043.0         195043.0         2000   \n",
       "\n",
       "     release_month      profit  profit_million  production_budget_million  \\\n",
       "0          12 Dec  -44926294.0      -44.926294                     45.000   \n",
       "1          03 Mar  -15686698.0      -15.686698                     25.000   \n",
       "2          03 Mar  -15686698.0      -15.686698                     25.000   \n",
       "3          03 Mar  -15686698.0      -15.686698                     25.000   \n",
       "4          12 Dec   96861183.0       96.861183                     91.000   \n",
       "...            ...         ...             ...                        ...   \n",
       "2587       12 Dec   -5000666.0       -5.000666                      9.200   \n",
       "2588       10 Oct     255538.0        0.255538                      0.400   \n",
       "2589       02 Feb   11678401.0       11.678401                     38.000   \n",
       "2590       03 Mar   12107621.0       12.107621                      6.000   \n",
       "2591       01 Jan     170043.0        0.170043                      0.025   \n",
       "\n",
       "         ROI  year  \n",
       "0     -99.84  2012  \n",
       "1     -62.75  2013  \n",
       "2     -62.75  2013  \n",
       "3     -62.75  2013  \n",
       "4     106.44  2013  \n",
       "...      ...   ...  \n",
       "2587  -54.36  1995  \n",
       "2588   63.88  2008  \n",
       "2589   30.73  2009  \n",
       "2590  201.79  2019  \n",
       "2591  680.17  2000  \n",
       "\n",
       "[2592 rows x 17 columns]"
      ]
     },
     "execution_count": 16,
     "metadata": {},
     "output_type": "execute_result"
    }
   ],
   "source": [
    "mdf = pd.merge(imdb_data, movie_budgets, how = 'inner', on = 'movie')\n",
    "mdf\n",
    "#mdf.loc[mdf['movie']== 'The Gambler']"
   ]
  },
  {
   "cell_type": "code",
   "execution_count": 17,
   "id": "a564db87",
   "metadata": {},
   "outputs": [],
   "source": [
    "mdf=mdf.sort_values(by='numvotes', ascending = False)\n",
    "#mdf.loc[mdf['movie']== 'The Gambler']"
   ]
  },
  {
   "cell_type": "code",
   "execution_count": 18,
   "id": "f942193a",
   "metadata": {},
   "outputs": [],
   "source": [
    "mdf['same_year']= mdf['start_year']-mdf['year']\n",
    "mdf = mdf.loc[mdf['same_year']== 0]\n",
    "#mdf.loc[mdf['movie']== 'The Gambler']"
   ]
  },
  {
   "cell_type": "code",
   "execution_count": 19,
   "id": "dd44cdc2",
   "metadata": {},
   "outputs": [],
   "source": [
    "mdf = mdf.drop_duplicates(subset='movie')\n",
    "mdf.drop(columns = [\"tconst\"], inplace=True)"
   ]
  },
  {
   "cell_type": "code",
   "execution_count": 20,
   "id": "1e796adb",
   "metadata": {},
   "outputs": [],
   "source": [
    "mdf[\"genres\"] = mdf[\"genres\"].apply(lambda x: x.split(\",\") if type(x) == str else x)"
   ]
  },
  {
   "cell_type": "code",
   "execution_count": 21,
   "id": "8539d099",
   "metadata": {},
   "outputs": [],
   "source": [
    "# filter for movies released after 1990 \n",
    "mdf = mdf.loc[mdf['year'] >= 2010]"
   ]
  },
  {
   "cell_type": "code",
   "execution_count": 42,
   "id": "64b3b808",
   "metadata": {},
   "outputs": [
    {
     "data": {
      "text/html": [
       "<div>\n",
       "<style scoped>\n",
       "    .dataframe tbody tr th:only-of-type {\n",
       "        vertical-align: middle;\n",
       "    }\n",
       "\n",
       "    .dataframe tbody tr th {\n",
       "        vertical-align: top;\n",
       "    }\n",
       "\n",
       "    .dataframe thead th {\n",
       "        text-align: right;\n",
       "    }\n",
       "</style>\n",
       "<table border=\"1\" class=\"dataframe\">\n",
       "  <thead>\n",
       "    <tr style=\"text-align: right;\">\n",
       "      <th></th>\n",
       "      <th>movie</th>\n",
       "      <th>start_year</th>\n",
       "      <th>genres</th>\n",
       "      <th>averagerating</th>\n",
       "      <th>numvotes</th>\n",
       "      <th>release_date</th>\n",
       "      <th>production_budget</th>\n",
       "      <th>domestic_gross</th>\n",
       "      <th>worldwide_gross</th>\n",
       "      <th>release_year</th>\n",
       "      <th>release_month</th>\n",
       "      <th>profit</th>\n",
       "      <th>profit_million</th>\n",
       "      <th>production_budget_million</th>\n",
       "      <th>ROI</th>\n",
       "      <th>year</th>\n",
       "      <th>same_year</th>\n",
       "    </tr>\n",
       "  </thead>\n",
       "  <tbody>\n",
       "    <tr>\n",
       "      <th>782</th>\n",
       "      <td>The Devil Inside</td>\n",
       "      <td>2012</td>\n",
       "      <td>Horror</td>\n",
       "      <td>4.2</td>\n",
       "      <td>33522</td>\n",
       "      <td>Jan 6, 2012</td>\n",
       "      <td>1000000.0</td>\n",
       "      <td>53262945.0</td>\n",
       "      <td>101759490.0</td>\n",
       "      <td>2012</td>\n",
       "      <td>01 Jan</td>\n",
       "      <td>100759490.0</td>\n",
       "      <td>100.75949</td>\n",
       "      <td>1.0</td>\n",
       "      <td>10075.95</td>\n",
       "      <td>2012</td>\n",
       "      <td>0</td>\n",
       "    </tr>\n",
       "  </tbody>\n",
       "</table>\n",
       "</div>"
      ],
      "text/plain": [
       "                movie  start_year  genres  averagerating  numvotes  \\\n",
       "782  The Devil Inside        2012  Horror            4.2     33522   \n",
       "\n",
       "    release_date  production_budget  domestic_gross  worldwide_gross  \\\n",
       "782  Jan 6, 2012          1000000.0      53262945.0      101759490.0   \n",
       "\n",
       "    release_year release_month       profit  profit_million  \\\n",
       "782         2012       01 Jan   100759490.0       100.75949   \n",
       "\n",
       "     production_budget_million       ROI  year  same_year  \n",
       "782                        1.0  10075.95  2012          0  "
      ]
     },
     "execution_count": 42,
     "metadata": {},
     "output_type": "execute_result"
    }
   ],
   "source": [
    "mdf2.loc[mdf2[\"movie\"] == \"The Devil Inside\"]"
   ]
  },
  {
   "cell_type": "code",
   "execution_count": 67,
   "id": "b8251ec0",
   "metadata": {},
   "outputs": [],
   "source": [
    "mdf2 = mdf.explode('genres')\n",
    "mdf2_no_gallow = mdf2.drop(index = 1722).sort_values(by=\"ROI\",ascending = False)"
   ]
  },
  {
   "cell_type": "code",
   "execution_count": 68,
   "id": "262f59fc",
   "metadata": {},
   "outputs": [],
   "source": [
    "mdf2_no_gallow_no_devil_inside = mdf2_no_gallow.drop(index = 782).sort_values(by=\"ROI\",ascending = False)"
   ]
  },
  {
   "cell_type": "code",
   "execution_count": 69,
   "id": "d7db649e",
   "metadata": {},
   "outputs": [],
   "source": [
    "mdf2_no_gallow_no_devil_inside_positive = mdf2_no_gallow[mdf2_no_gallow[\"ROI\"]>0]"
   ]
  },
  {
   "cell_type": "code",
   "execution_count": 114,
   "id": "0b1b691f",
   "metadata": {},
   "outputs": [
    {
     "data": {
      "text/plain": [
       "(2690, 17)"
      ]
     },
     "execution_count": 114,
     "metadata": {},
     "output_type": "execute_result"
    }
   ],
   "source": [
    "mdf2_no_gallow_no_devil_inside_positive.shape"
   ]
  },
  {
   "cell_type": "code",
   "execution_count": 71,
   "id": "57c235bb",
   "metadata": {},
   "outputs": [
    {
     "data": {
      "text/plain": [
       "363.06231970260126"
      ]
     },
     "execution_count": 71,
     "metadata": {},
     "output_type": "execute_result"
    }
   ],
   "source": [
    "mdf2_no_gallow_no_devil_inside_positive[\"ROI\"].mean()"
   ]
  },
  {
   "cell_type": "code",
   "execution_count": 73,
   "id": "25820268",
   "metadata": {},
   "outputs": [],
   "source": [
    "top_three_list = [\"Horror\", \"Mystery\", \"Thriller\"]\n",
    "mdf2_top_three = mdf2_no_gallow_no_devil_inside_positive.loc[mdf2_no_gallow_no_devil_inside_positive['genres'].isin(top_three_list)] \n",
    "mean_ROI_by_month = mdf2_top_three.groupby(\"release_month\").mean()"
   ]
  },
  {
   "cell_type": "code",
   "execution_count": null,
   "id": "7c4c1b81",
   "metadata": {},
   "outputs": [],
   "source": [
    "mdf2['ROI'].sort_values( ascending = False)\n",
    "mdf2.drop(index =1722)"
   ]
  },
  {
   "cell_type": "code",
   "execution_count": null,
   "id": "d5cbbfcc",
   "metadata": {},
   "outputs": [],
   "source": [
    "sorted_genres = mdf2.groupby([\"genres\"], as_index=False).mean().sort_values(by = \"ROI\", ascending=False)\n",
    "\n",
    "top5genres = list(sorted_genres['genres'].values[0:5])\n",
    "top5genres"
   ]
  },
  {
   "cell_type": "code",
   "execution_count": null,
   "id": "8bd1d8a7",
   "metadata": {},
   "outputs": [],
   "source": [
    "sorted_genres.shape"
   ]
  },
  {
   "cell_type": "code",
   "execution_count": 82,
   "id": "10e0a41c",
   "metadata": {},
   "outputs": [
    {
     "data": {
      "image/png": "[encoded data removed]",
      "text/plain": [
       "<Figure size 720x360 with 1 Axes>"
      ]
     },
     "metadata": {},
     "output_type": "display_data"
    }
   ],
   "source": [
    "height = mean_ROI_by_month['ROI']\n",
    "x = range(12)\n",
    "labels = [\"Jan\", \"Feb\",\"Mar\",\"Apr\",\"May\",\"Jun\",\"Jul\",\"Aug\",\"Sep\",\"Oct\",\"Nov\",\"Dec\",]\n",
    "\n",
    "fig, ax = plt.subplots(figsize=(10, 5))\n",
    "\n",
    "ax.bar(x, height, tick_label=labels, color = \"green\")\n",
    "\n",
    "ax.set_title(\"Mean ROI by Month for the Top 3 Genres (2010-2020)\")\n",
    "ax.set_ylabel(\"Mean Return on Investment (%)\")\n",
    "ax.set_xlabel(\"Month\")\n",
    "plt.savefig('Mean ROI by Month for the Top 3 Genres.png');"
   ]
  },
  {
   "cell_type": "code",
   "execution_count": 102,
   "id": "ec278a5e",
   "metadata": {},
   "outputs": [],
   "source": [
    "mdf2_Horror = mdf2[mdf2[\"genres\"]== \"Horror\"]\n",
    "mdf2_Mystery = mdf2[mdf2[\"genres\"]== \"Mystery\"]\n",
    "mdf2_Thriller = mdf2[mdf2[\"genres\"]== \"Thriller\"]"
   ]
  },
  {
   "cell_type": "code",
   "execution_count": 103,
   "id": "b6b70255",
   "metadata": {
    "scrolled": true
   },
   "outputs": [
    {
     "data": {
      "text/html": [
       "<div>\n",
       "<style scoped>\n",
       "    .dataframe tbody tr th:only-of-type {\n",
       "        vertical-align: middle;\n",
       "    }\n",
       "\n",
       "    .dataframe tbody tr th {\n",
       "        vertical-align: top;\n",
       "    }\n",
       "\n",
       "    .dataframe thead th {\n",
       "        text-align: right;\n",
       "    }\n",
       "</style>\n",
       "<table border=\"1\" class=\"dataframe\">\n",
       "  <thead>\n",
       "    <tr style=\"text-align: right;\">\n",
       "      <th></th>\n",
       "      <th>start_year</th>\n",
       "      <th>averagerating</th>\n",
       "      <th>numvotes</th>\n",
       "      <th>production_budget</th>\n",
       "      <th>domestic_gross</th>\n",
       "      <th>worldwide_gross</th>\n",
       "      <th>profit</th>\n",
       "      <th>profit_million</th>\n",
       "      <th>production_budget_million</th>\n",
       "      <th>ROI</th>\n",
       "      <th>year</th>\n",
       "      <th>same_year</th>\n",
       "    </tr>\n",
       "    <tr>\n",
       "      <th>genres</th>\n",
       "      <th></th>\n",
       "      <th></th>\n",
       "      <th></th>\n",
       "      <th></th>\n",
       "      <th></th>\n",
       "      <th></th>\n",
       "      <th></th>\n",
       "      <th></th>\n",
       "      <th></th>\n",
       "      <th></th>\n",
       "      <th></th>\n",
       "      <th></th>\n",
       "    </tr>\n",
       "  </thead>\n",
       "  <tbody>\n",
       "    <tr>\n",
       "      <th>Thriller</th>\n",
       "      <td>2013.758621</td>\n",
       "      <td>6.12069</td>\n",
       "      <td>132757.047414</td>\n",
       "      <td>3.553324e+07</td>\n",
       "      <td>4.913053e+07</td>\n",
       "      <td>1.275816e+08</td>\n",
       "      <td>9.204832e+07</td>\n",
       "      <td>92.048323</td>\n",
       "      <td>35.533244</td>\n",
       "      <td>597.271983</td>\n",
       "      <td>2013.758621</td>\n",
       "      <td>0.0</td>\n",
       "    </tr>\n",
       "  </tbody>\n",
       "</table>\n",
       "</div>"
      ],
      "text/plain": [
       "           start_year  averagerating       numvotes  production_budget  \\\n",
       "genres                                                                   \n",
       "Thriller  2013.758621        6.12069  132757.047414       3.553324e+07   \n",
       "\n",
       "          domestic_gross  worldwide_gross        profit  profit_million  \\\n",
       "genres                                                                    \n",
       "Thriller    4.913053e+07     1.275816e+08  9.204832e+07       92.048323   \n",
       "\n",
       "          production_budget_million         ROI         year  same_year  \n",
       "genres                                                                   \n",
       "Thriller                  35.533244  597.271983  2013.758621        0.0  "
      ]
     },
     "execution_count": 103,
     "metadata": {},
     "output_type": "execute_result"
    }
   ],
   "source": [
    "mdf2_Horror.groupby(\"genres\").mean()\n",
    "mdf2_Mystery.groupby(\"genres\").mean()\n",
    "mdf2_Thriller.groupby(\"genres\").mean()"
   ]
  },
  {
   "cell_type": "code",
   "execution_count": 104,
   "id": "1827b4d8",
   "metadata": {},
   "outputs": [
    {
     "data": {
      "image/png": "[encoded data removed]",
      "text/plain": [
       "<Figure size 720x432 with 1 Axes>"
      ]
     },
     "metadata": {},
     "output_type": "display_data"
    }
   ],
   "source": [
    "mdf2_Horror_Grouped = mdf2_Horror.groupby([\"release_month\"], as_index=False).mean()\n",
    "mdf2_Horror_Grouped = mdf2_Horror_Grouped.set_index(\"release_month\")\n",
    "\n",
    "height = mdf2_Horror_Grouped['ROI']\n",
    "x = range(12)\n",
    "labels = mdf2_Horror_Grouped.index\n",
    "\n",
    "fig, ax = plt.subplots(figsize=(10, 6))\n",
    "\n",
    "ax.bar(x, height, tick_label=labels, color = \"green\")\n",
    "\n",
    "ax.set_title(\"Mean ROI By Month for Horror Movies (2010-2020)\")\n",
    "ax.set_ylabel(\"Mean Return on Investment (%)\")\n",
    "ax.set_xlabel(\"Month\");"
   ]
  },
  {
   "cell_type": "code",
   "execution_count": 105,
   "id": "bbaf8ff2",
   "metadata": {},
   "outputs": [
    {
     "name": "stderr",
     "output_type": "stream",
     "text": [
      "<ipython-input-105-e58f04b45267>:1: SettingWithCopyWarning: \n",
      "A value is trying to be set on a copy of a slice from a DataFrame.\n",
      "Try using .loc[row_indexer,col_indexer] = value instead\n",
      "\n",
      "See the caveats in the documentation: https://pandas.pydata.org/pandas-docs/stable/user_guide/indexing.html#returning-a-view-versus-a-copy\n",
      "  mdf2_Horror['converted'] = pd.to_datetime(pd.Series(mdf2_Horror[\"release_date\"]))\n",
      "<ipython-input-105-e58f04b45267>:2: SettingWithCopyWarning: \n",
      "A value is trying to be set on a copy of a slice from a DataFrame.\n",
      "Try using .loc[row_indexer,col_indexer] = value instead\n",
      "\n",
      "See the caveats in the documentation: https://pandas.pydata.org/pandas-docs/stable/user_guide/indexing.html#returning-a-view-versus-a-copy\n",
      "  mdf2_Horror[\"day of the week\"] = mdf2_Horror[\"converted\"].dt.day_name()\n"
     ]
    },
    {
     "data": {
      "image/png": "[encoded data removed]",
      "text/plain": [
       "<Figure size 936x432 with 1 Axes>"
      ]
     },
     "metadata": {},
     "output_type": "display_data"
    }
   ],
   "source": [
    "mdf2_Horror['converted'] = pd.to_datetime(pd.Series(mdf2_Horror[\"release_date\"]))\n",
    "mdf2_Horror[\"day of the week\"] = mdf2_Horror[\"converted\"].dt.day_name()\n",
    "mdf2_Horror_WeekName = mdf2_Horror.groupby(\"day of the week\").sum()\n",
    "mdf2_Horror_WeekName = mdf2_Horror_WeekName.sort_values(\"ROI\", ascending=False)\n",
    "\n",
    "height = mdf2_Horror_WeekName['ROI']\n",
    "x = range(6)\n",
    "labels = mdf2_Horror_WeekName.index\n",
    "\n",
    "fig, ax = plt.subplots(figsize=(13, 6))\n",
    "\n",
    "ax.bar(x, height, tick_label=labels, color = \"green\")\n",
    "\n",
    "ax.set_title(\"Mean ROI by Day of the Week Release Date for Horror Movies (2010-2020)\")\n",
    "ax.set_ylabel(\"Mean ROI (%)\")\n",
    "ax.set_xlabel(\"Day of the Week\");\n"
   ]
  },
  {
   "cell_type": "code",
   "execution_count": 106,
   "id": "68259ccb",
   "metadata": {},
   "outputs": [
    {
     "data": {
      "image/png": "[encoded data removed]",
      "text/plain": [
       "<Figure size 720x432 with 1 Axes>"
      ]
     },
     "metadata": {},
     "output_type": "display_data"
    }
   ],
   "source": [
    "mdf2_Mystery_Grouped = mdf2_Mystery.groupby([\"release_month\"], as_index=False).mean()\n",
    "mdf2_Mystery_Grouped = mdf2_Mystery_Grouped.set_index(\"release_month\")\n",
    "\n",
    "height = mdf2_Mystery_Grouped['ROI']\n",
    "x = range(12)\n",
    "labels = mdf2_Mystery_Grouped.index\n",
    "\n",
    "fig, ax = plt.subplots(figsize=(10, 6))\n",
    "\n",
    "ax.bar(x, height, tick_label=labels, color = \"green\")\n",
    "\n",
    "ax.set_title(\"Mean ROI By Month for Mystery Movies (2010-2020)\")\n",
    "ax.set_ylabel(\"Mean Return on Investment (%)\")\n",
    "ax.set_xlabel(\"Month\");"
   ]
  },
  {
   "cell_type": "code",
   "execution_count": 107,
   "id": "98f07dd4",
   "metadata": {},
   "outputs": [
    {
     "name": "stderr",
     "output_type": "stream",
     "text": [
      "<ipython-input-107-056b21c98626>:1: SettingWithCopyWarning: \n",
      "A value is trying to be set on a copy of a slice from a DataFrame.\n",
      "Try using .loc[row_indexer,col_indexer] = value instead\n",
      "\n",
      "See the caveats in the documentation: https://pandas.pydata.org/pandas-docs/stable/user_guide/indexing.html#returning-a-view-versus-a-copy\n",
      "  mdf2_Mystery['converted'] = pd.to_datetime(pd.Series(mdf2_Mystery[\"release_date\"]))\n",
      "<ipython-input-107-056b21c98626>:2: SettingWithCopyWarning: \n",
      "A value is trying to be set on a copy of a slice from a DataFrame.\n",
      "Try using .loc[row_indexer,col_indexer] = value instead\n",
      "\n",
      "See the caveats in the documentation: https://pandas.pydata.org/pandas-docs/stable/user_guide/indexing.html#returning-a-view-versus-a-copy\n",
      "  mdf2_Mystery[\"day of the week\"] = mdf2_Mystery[\"converted\"].dt.day_name()\n"
     ]
    },
    {
     "data": {
      "image/png": "[encoded data removed]",
      "text/plain": [
       "<Figure size 936x432 with 1 Axes>"
      ]
     },
     "metadata": {},
     "output_type": "display_data"
    }
   ],
   "source": [
    "mdf2_Mystery['converted'] = pd.to_datetime(pd.Series(mdf2_Mystery[\"release_date\"]))\n",
    "mdf2_Mystery[\"day of the week\"] = mdf2_Mystery[\"converted\"].dt.day_name()\n",
    "mdf2_Mystery_WeekName = mdf2_Mystery.groupby(\"day of the week\").sum()\n",
    "mdf2_Mystery_WeekName = mdf2_Mystery_WeekName.sort_values(\"ROI\", ascending=False)\n",
    "\n",
    "height = mdf2_Mystery_WeekName['ROI']\n",
    "x = range(5)\n",
    "labels = mdf2_Mystery_WeekName.index\n",
    "\n",
    "fig, ax = plt.subplots(figsize=(13, 6))\n",
    "\n",
    "ax.bar(x, height, tick_label=labels, color = \"green\")\n",
    "\n",
    "ax.set_title(\"Mean ROI by Day of the Week Release Date for Mystery Movies (2010-2020)\")\n",
    "ax.set_ylabel(\"Mean ROI (%)\")\n",
    "ax.set_xlabel(\"Day of the Week\");"
   ]
  },
  {
   "cell_type": "code",
   "execution_count": 108,
   "id": "11592c29",
   "metadata": {},
   "outputs": [
    {
     "data": {
      "image/png": "[encoded data removed]",
      "text/plain": [
       "<Figure size 720x432 with 1 Axes>"
      ]
     },
     "metadata": {},
     "output_type": "display_data"
    }
   ],
   "source": [
    "mdf2_Thriller_Grouped = mdf2_Thriller.groupby([\"release_month\"], as_index=False).mean()\n",
    "mdf2_Thriller_Grouped = mdf2_Thriller_Grouped.set_index(\"release_month\")\n",
    "\n",
    "height = mdf2_Thriller_Grouped['ROI']\n",
    "x = range(12)\n",
    "labels = mdf2_Thriller_Grouped.index\n",
    "\n",
    "fig, ax = plt.subplots(figsize=(10, 6))\n",
    "\n",
    "ax.bar(x, height, tick_label=labels, color = \"green\")\n",
    "\n",
    "ax.set_title(\"Mean ROI By Month for Thriller Movies (2010-2020)\")\n",
    "ax.set_ylabel(\"Mean Return on Investment (%)\")\n",
    "ax.set_xlabel(\"Month\");"
   ]
  },
  {
   "cell_type": "code",
   "execution_count": 109,
   "id": "89e9c7c9",
   "metadata": {},
   "outputs": [
    {
     "name": "stderr",
     "output_type": "stream",
     "text": [
      "<ipython-input-109-3cbaab2053c2>:1: SettingWithCopyWarning: \n",
      "A value is trying to be set on a copy of a slice from a DataFrame.\n",
      "Try using .loc[row_indexer,col_indexer] = value instead\n",
      "\n",
      "See the caveats in the documentation: https://pandas.pydata.org/pandas-docs/stable/user_guide/indexing.html#returning-a-view-versus-a-copy\n",
      "  mdf2_Thriller['converted'] = pd.to_datetime(pd.Series(mdf2_Thriller[\"release_date\"]))\n",
      "<ipython-input-109-3cbaab2053c2>:2: SettingWithCopyWarning: \n",
      "A value is trying to be set on a copy of a slice from a DataFrame.\n",
      "Try using .loc[row_indexer,col_indexer] = value instead\n",
      "\n",
      "See the caveats in the documentation: https://pandas.pydata.org/pandas-docs/stable/user_guide/indexing.html#returning-a-view-versus-a-copy\n",
      "  mdf2_Thriller[\"day of the week\"] = mdf2_Thriller[\"converted\"].dt.day_name()\n"
     ]
    },
    {
     "data": {
      "image/png": "[encoded data removed]",
      "text/plain": [
       "<Figure size 936x432 with 1 Axes>"
      ]
     },
     "metadata": {},
     "output_type": "display_data"
    }
   ],
   "source": [
    "mdf2_Thriller['converted'] = pd.to_datetime(pd.Series(mdf2_Thriller[\"release_date\"]))\n",
    "mdf2_Thriller[\"day of the week\"] = mdf2_Thriller[\"converted\"].dt.day_name()\n",
    "mdf2_Thriller_WeekName = mdf2_Thriller.groupby(\"day of the week\").sum()\n",
    "mdf2_Thriller_WeekName = mdf2_Thriller_WeekName.sort_values(\"ROI\", ascending=False)\n",
    "\n",
    "height = mdf2_Thriller_WeekName['ROI']\n",
    "x = range(4)\n",
    "labels = mdf2_Thriller_WeekName.index\n",
    "\n",
    "fig, ax = plt.subplots(figsize=(13, 6))\n",
    "\n",
    "ax.bar(x, height, tick_label=labels, color = \"green\")\n",
    "\n",
    "ax.set_title(\"Mean ROI by Day of the Week Release Date for Thriller Movies (2010-2020)\")\n",
    "ax.set_ylabel(\"Mean ROI (%)\")\n",
    "ax.set_xlabel(\"Day of the Week\");"
   ]
  }
 ],
 "metadata": {
  "kernelspec": {
   "display_name": "Python 3",
   "language": "python",
   "name": "python3"
  },
  "language_info": {
   "codemirror_mode": {
    "name": "ipython",
    "version": 3
   },
   "file_extension": ".py",
   "mimetype": "text/x-python",
   "name": "python",
   "nbconvert_exporter": "python",
   "pygments_lexer": "ipython3",
   "version": "3.8.8"
  }
 },
 "nbformat": 4,
 "nbformat_minor": 5
}
